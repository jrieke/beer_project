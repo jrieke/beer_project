{
 "cells": [
  {
   "cell_type": "code",
   "execution_count": 2,
   "metadata": {},
   "outputs": [],
   "source": [
    "import numpy as np\n",
    "import pandas as pd\n",
    "\n",
    "import matplotlib.pyplot as plt\n",
    "import seaborn as sns\n",
    "%matplotlib inline "
   ]
  },
  {
   "cell_type": "code",
   "execution_count": 831,
   "metadata": {},
   "outputs": [],
   "source": [
    "df = pd.read_csv('cpickles/clean_beer.csv')"
   ]
  },
  {
   "cell_type": "code",
   "execution_count": 832,
   "metadata": {},
   "outputs": [],
   "source": [
    "df = df.drop(columns=['Unnamed: 0'])"
   ]
  },
  {
   "cell_type": "code",
   "execution_count": 7,
   "metadata": {},
   "outputs": [],
   "source": [
    "from sklearn.neighbors import KNeighborsClassifier\n",
    "from sklearn.linear_model import LogisticRegression"
   ]
  },
  {
   "cell_type": "code",
   "execution_count": 833,
   "metadata": {
    "collapsed": true,
    "jupyter": {
     "outputs_hidden": true
    }
   },
   "outputs": [
    {
     "name": "stdout",
     "output_type": "stream",
     "text": [
      "<class 'pandas.core.frame.DataFrame'>\n",
      "RangeIndex: 24972 entries, 0 to 24971\n",
      "Data columns (total 133 columns):\n",
      " #   Column           Dtype  \n",
      "---  ------           -----  \n",
      " 0   title            object \n",
      " 1   bstyle           object \n",
      " 2   og               float64\n",
      " 3   fg               float64\n",
      " 4   abv              float64\n",
      " 5   ibu              float64\n",
      " 6   srm              float64\n",
      " 7   Mash pH          float64\n",
      " 8   hops             object \n",
      " 9   others           object \n",
      " 10  water            object \n",
      " 11  notes            object \n",
      " 12  IBU (rager)      float64\n",
      " 13  SRM (daniels)    float64\n",
      " 14  SRM (ebcmorey)   float64\n",
      " 15  SRM (mosher)     float64\n",
      " 16  ABV (alternate)  object \n",
      " 17  yeast            object \n",
      " 18  co2              object \n",
      " 19  chal             int64  \n",
      " 20  citra            int64  \n",
      " 21  warrior          int64  \n",
      " 22  casc             int64  \n",
      " 23  saaz             int64  \n",
      " 24  azacca           int64  \n",
      " 25  colum            int64  \n",
      " 26  mag              int64  \n",
      " 27  perle            int64  \n",
      " 28  simcoe           int64  \n",
      " 29  amar             int64  \n",
      " 30  cashmere         int64  \n",
      " 31  comet            int64  \n",
      " 32  galaxy           int64  \n",
      " 33  apollo           int64  \n",
      " 34  willam           int64  \n",
      " 35  goldings         int64  \n",
      " 36  heller           int64  \n",
      " 37  fug              int64  \n",
      " 38  nugg             int64  \n",
      " 39  hopshot          int64  \n",
      " 40  tett             int64  \n",
      " 41  mosaic           int64  \n",
      " 42  brewerg          int64  \n",
      " 43  northb           int64  \n",
      " 44  cent             int64  \n",
      " 45  chinook          int64  \n",
      " 46  crystal          int64  \n",
      " 47  magnum           int64  \n",
      " 48  ctz              int64  \n",
      " 49  styr             int64  \n",
      " 50  idaho            int64  \n",
      " 51  nelson           int64  \n",
      " 52  exper            int64  \n",
      " 53  hall             int64  \n",
      " 54  noble            int64  \n",
      " 55  dryh             int64  \n",
      " 56  lact             int64  \n",
      " 57  hopcmp           float64\n",
      " 58  clone            int64  \n",
      " 59  juicy            int64  \n",
      " 60  dank             int64  \n",
      " 61  wedding          int64  \n",
      " 62  whisk            int64  \n",
      " 63  trop             int64  \n",
      " 64  award            int64  \n",
      " 65  best             int64  \n",
      " 66  smoke            int64  \n",
      " 67  roast            int64  \n",
      " 68  thick            int64  \n",
      " 69  pine             int64  \n",
      " 70  sticky           int64  \n",
      " 71  foam             int64  \n",
      " 72  hoppy            int64  \n",
      " 73  choco            int64  \n",
      " 74  coffee           int64  \n",
      " 75  straw            int64  \n",
      " 76  bisc             int64  \n",
      " 77  dark             int64  \n",
      " 78  heavy            int64  \n",
      " 79  stfruit          int64  \n",
      " 80  hazy             int64  \n",
      " 81  pheno            int64  \n",
      " 82  ester            int64  \n",
      " 83  banana           int64  \n",
      " 84  bitter           int64  \n",
      " 85  clove            int64  \n",
      " 86  sour             int64  \n",
      " 87  wylon            int64  \n",
      " 88  kveik            int64  \n",
      " 89  omega            int64  \n",
      " 90  us5              int64  \n",
      " 91  us4              int64  \n",
      " 92  chico            int64  \n",
      " 93  yeast_dark       int64  \n",
      " 94  wy1056           int64  \n",
      " 95  wy1272           int64  \n",
      " 96  wlp080           int64  \n",
      " 97  wlp80            int64  \n",
      " 98  vermont          int64  \n",
      " 99  ylager           int64  \n",
      " 100 ykolsch          int64  \n",
      " 101 ipa              int64  \n",
      " 102 saison           int64  \n",
      " 103 lager            int64  \n",
      " 104 stout            int64  \n",
      " 105 kolsch           int64  \n",
      " 106 wit              int64  \n",
      " 107 puree            int64  \n",
      " 108 lovehop          int64  \n",
      " 109 strong           int64  \n",
      " 110 dry              int64  \n",
      " 111 sweet            int64  \n",
      " 112 bugu             float64\n",
      " 113 simsty           object \n",
      " 114 threesty         object \n",
      " 115 foursty          object \n",
      " 116 malt             int64  \n",
      " 117 agg              int64  \n",
      " 118 balance          int64  \n",
      " 119 complex          int64  \n",
      " 120 crisp            int64  \n",
      " 121 smooth           int64  \n",
      " 122 diac             int64  \n",
      " 123 apple            int64  \n",
      " 124 floral           int64  \n",
      " 125 fruity           int64  \n",
      " 126 robust           int64  \n",
      " 127 wood             int64  \n",
      " 128 vanilla          int64  \n",
      " 129 cherry           int64  \n",
      " 130 funk             int64  \n",
      " 131 grapef           int64  \n",
      " 132 solvent          int64  \n",
      "dtypes: float64(12), int64(109), object(12)\n",
      "memory usage: 25.3+ MB\n"
     ]
    }
   ],
   "source": [
    "df.info(verbose = True)"
   ]
  },
  {
   "cell_type": "code",
   "execution_count": 6,
   "metadata": {},
   "outputs": [],
   "source": [
    "from sklearn.model_selection import train_test_split, cross_val_score, GridSearchCV\n",
    "from sklearn.metrics import accuracy_score, confusion_matrix, classification_report\n",
    "from sklearn.datasets import make_classification\n",
    "from sklearn.naive_bayes import GaussianNB, BernoulliNB, MultinomialNB\n",
    "from sklearn.svm import LinearSVC, SVC\n",
    "from sklearn.ensemble import RandomForestClassifier\n",
    "from sklearn.metrics import precision_score, recall_score, precision_recall_curve,f1_score, fbeta_score\n",
    "\n",
    "\n",
    "from mlxtend.plotting import plot_decision_regions\n",
    "\n",
    "from imblearn.over_sampling import RandomOverSampler"
   ]
  },
  {
   "cell_type": "code",
   "execution_count": 409,
   "metadata": {
    "collapsed": true,
    "jupyter": {
     "outputs_hidden": true
    }
   },
   "outputs": [
    {
     "ename": "KeyError",
     "evalue": "\"['gy054'] not in index\"",
     "output_type": "error",
     "traceback": [
      "\u001b[0;31m---------------------------------------------------------------------------\u001b[0m",
      "\u001b[0;31mKeyError\u001b[0m                                  Traceback (most recent call last)",
      "\u001b[0;32m<ipython-input-409-4af3135ce1b9>\u001b[0m in \u001b[0;36m<module>\u001b[0;34m\u001b[0m\n\u001b[0;32m----> 1\u001b[0;31m \u001b[0my_df\u001b[0m \u001b[0;34m=\u001b[0m \u001b[0mdf\u001b[0m\u001b[0;34m[\u001b[0m\u001b[0;34m[\u001b[0m\u001b[0;34m'ipa'\u001b[0m\u001b[0;34m,\u001b[0m \u001b[0;34m'wylon'\u001b[0m\u001b[0;34m,\u001b[0m\u001b[0;34m'kveik'\u001b[0m\u001b[0;34m,\u001b[0m\u001b[0;34m'omega'\u001b[0m\u001b[0;34m,\u001b[0m\u001b[0;34m'us5'\u001b[0m\u001b[0;34m,\u001b[0m\u001b[0;34m'us4'\u001b[0m\u001b[0;34m,\u001b[0m\u001b[0;34m'chico'\u001b[0m\u001b[0;34m,\u001b[0m\u001b[0;34m'yeast_dark'\u001b[0m\u001b[0;34m,\u001b[0m\u001b[0;34m'wy1056'\u001b[0m\u001b[0;34m,\u001b[0m\u001b[0;34m'wy1272'\u001b[0m\u001b[0;34m,\u001b[0m\u001b[0;34m'wlp080'\u001b[0m\u001b[0;34m,\u001b[0m\u001b[0;34m'wlp80'\u001b[0m\u001b[0;34m,\u001b[0m\u001b[0;34m'gy054'\u001b[0m\u001b[0;34m,\u001b[0m\u001b[0;34m'vermont'\u001b[0m\u001b[0;34m,\u001b[0m\u001b[0;34m'ylager'\u001b[0m\u001b[0;34m,\u001b[0m\u001b[0;34m'ykolsch'\u001b[0m\u001b[0;34m]\u001b[0m\u001b[0;34m]\u001b[0m\u001b[0;34m.\u001b[0m\u001b[0mdropna\u001b[0m\u001b[0;34m(\u001b[0m\u001b[0;34m)\u001b[0m\u001b[0;34m\u001b[0m\u001b[0;34m\u001b[0m\u001b[0m\n\u001b[0m",
      "\u001b[0;32m/opt/anaconda3/envs/metis/lib/python3.8/site-packages/pandas/core/frame.py\u001b[0m in \u001b[0;36m__getitem__\u001b[0;34m(self, key)\u001b[0m\n\u001b[1;32m   2906\u001b[0m             \u001b[0;32mif\u001b[0m \u001b[0mis_iterator\u001b[0m\u001b[0;34m(\u001b[0m\u001b[0mkey\u001b[0m\u001b[0;34m)\u001b[0m\u001b[0;34m:\u001b[0m\u001b[0;34m\u001b[0m\u001b[0;34m\u001b[0m\u001b[0m\n\u001b[1;32m   2907\u001b[0m                 \u001b[0mkey\u001b[0m \u001b[0;34m=\u001b[0m \u001b[0mlist\u001b[0m\u001b[0;34m(\u001b[0m\u001b[0mkey\u001b[0m\u001b[0;34m)\u001b[0m\u001b[0;34m\u001b[0m\u001b[0;34m\u001b[0m\u001b[0m\n\u001b[0;32m-> 2908\u001b[0;31m             \u001b[0mindexer\u001b[0m \u001b[0;34m=\u001b[0m \u001b[0mself\u001b[0m\u001b[0;34m.\u001b[0m\u001b[0mloc\u001b[0m\u001b[0;34m.\u001b[0m\u001b[0m_get_listlike_indexer\u001b[0m\u001b[0;34m(\u001b[0m\u001b[0mkey\u001b[0m\u001b[0;34m,\u001b[0m \u001b[0maxis\u001b[0m\u001b[0;34m=\u001b[0m\u001b[0;36m1\u001b[0m\u001b[0;34m,\u001b[0m \u001b[0mraise_missing\u001b[0m\u001b[0;34m=\u001b[0m\u001b[0;32mTrue\u001b[0m\u001b[0;34m)\u001b[0m\u001b[0;34m[\u001b[0m\u001b[0;36m1\u001b[0m\u001b[0;34m]\u001b[0m\u001b[0;34m\u001b[0m\u001b[0;34m\u001b[0m\u001b[0m\n\u001b[0m\u001b[1;32m   2909\u001b[0m \u001b[0;34m\u001b[0m\u001b[0m\n\u001b[1;32m   2910\u001b[0m         \u001b[0;31m# take() does not accept boolean indexers\u001b[0m\u001b[0;34m\u001b[0m\u001b[0;34m\u001b[0m\u001b[0;34m\u001b[0m\u001b[0m\n",
      "\u001b[0;32m/opt/anaconda3/envs/metis/lib/python3.8/site-packages/pandas/core/indexing.py\u001b[0m in \u001b[0;36m_get_listlike_indexer\u001b[0;34m(self, key, axis, raise_missing)\u001b[0m\n\u001b[1;32m   1252\u001b[0m             \u001b[0mkeyarr\u001b[0m\u001b[0;34m,\u001b[0m \u001b[0mindexer\u001b[0m\u001b[0;34m,\u001b[0m \u001b[0mnew_indexer\u001b[0m \u001b[0;34m=\u001b[0m \u001b[0max\u001b[0m\u001b[0;34m.\u001b[0m\u001b[0m_reindex_non_unique\u001b[0m\u001b[0;34m(\u001b[0m\u001b[0mkeyarr\u001b[0m\u001b[0;34m)\u001b[0m\u001b[0;34m\u001b[0m\u001b[0;34m\u001b[0m\u001b[0m\n\u001b[1;32m   1253\u001b[0m \u001b[0;34m\u001b[0m\u001b[0m\n\u001b[0;32m-> 1254\u001b[0;31m         \u001b[0mself\u001b[0m\u001b[0;34m.\u001b[0m\u001b[0m_validate_read_indexer\u001b[0m\u001b[0;34m(\u001b[0m\u001b[0mkeyarr\u001b[0m\u001b[0;34m,\u001b[0m \u001b[0mindexer\u001b[0m\u001b[0;34m,\u001b[0m \u001b[0maxis\u001b[0m\u001b[0;34m,\u001b[0m \u001b[0mraise_missing\u001b[0m\u001b[0;34m=\u001b[0m\u001b[0mraise_missing\u001b[0m\u001b[0;34m)\u001b[0m\u001b[0;34m\u001b[0m\u001b[0;34m\u001b[0m\u001b[0m\n\u001b[0m\u001b[1;32m   1255\u001b[0m         \u001b[0;32mreturn\u001b[0m \u001b[0mkeyarr\u001b[0m\u001b[0;34m,\u001b[0m \u001b[0mindexer\u001b[0m\u001b[0;34m\u001b[0m\u001b[0;34m\u001b[0m\u001b[0m\n\u001b[1;32m   1256\u001b[0m \u001b[0;34m\u001b[0m\u001b[0m\n",
      "\u001b[0;32m/opt/anaconda3/envs/metis/lib/python3.8/site-packages/pandas/core/indexing.py\u001b[0m in \u001b[0;36m_validate_read_indexer\u001b[0;34m(self, key, indexer, axis, raise_missing)\u001b[0m\n\u001b[1;32m   1302\u001b[0m             \u001b[0;32mif\u001b[0m \u001b[0mraise_missing\u001b[0m\u001b[0;34m:\u001b[0m\u001b[0;34m\u001b[0m\u001b[0;34m\u001b[0m\u001b[0m\n\u001b[1;32m   1303\u001b[0m                 \u001b[0mnot_found\u001b[0m \u001b[0;34m=\u001b[0m \u001b[0mlist\u001b[0m\u001b[0;34m(\u001b[0m\u001b[0mset\u001b[0m\u001b[0;34m(\u001b[0m\u001b[0mkey\u001b[0m\u001b[0;34m)\u001b[0m \u001b[0;34m-\u001b[0m \u001b[0mset\u001b[0m\u001b[0;34m(\u001b[0m\u001b[0max\u001b[0m\u001b[0;34m)\u001b[0m\u001b[0;34m)\u001b[0m\u001b[0;34m\u001b[0m\u001b[0;34m\u001b[0m\u001b[0m\n\u001b[0;32m-> 1304\u001b[0;31m                 \u001b[0;32mraise\u001b[0m \u001b[0mKeyError\u001b[0m\u001b[0;34m(\u001b[0m\u001b[0;34mf\"{not_found} not in index\"\u001b[0m\u001b[0;34m)\u001b[0m\u001b[0;34m\u001b[0m\u001b[0;34m\u001b[0m\u001b[0m\n\u001b[0m\u001b[1;32m   1305\u001b[0m \u001b[0;34m\u001b[0m\u001b[0m\n\u001b[1;32m   1306\u001b[0m             \u001b[0;31m# we skip the warning on Categorical\u001b[0m\u001b[0;34m\u001b[0m\u001b[0;34m\u001b[0m\u001b[0;34m\u001b[0m\u001b[0m\n",
      "\u001b[0;31mKeyError\u001b[0m: \"['gy054'] not in index\""
     ]
    }
   ],
   "source": [
    "y_df = df[['ipa', 'wylon','kveik','omega','us5','us4','chico','yeast_dark','wy1056','wy1272','wlp080','wlp80','gy054','vermont','ylager','ykolsch']].dropna()"
   ]
  },
  {
   "cell_type": "code",
   "execution_count": 278,
   "metadata": {},
   "outputs": [],
   "source": [
    "X = y_df.drop(columns =['ipa'])\n",
    "y= y_df['ipa']"
   ]
  },
  {
   "cell_type": "code",
   "execution_count": 279,
   "metadata": {},
   "outputs": [],
   "source": [
    "X_train, x_test, y_train, y_test = train_test_split(X, y, test_size=0.2)\n",
    "X_train, x_val, y_train, y_val = train_test_split(X_train, y_train, test_size=0.25)"
   ]
  },
  {
   "cell_type": "code",
   "execution_count": 280,
   "metadata": {},
   "outputs": [],
   "source": [
    "ros = RandomOverSampler(random_state=0)\n",
    "X_resampled, y_resampled = ros.fit_sample(X_train,y_train)\n",
    "X_pre = preprocessing.scale(X)\n",
    "X_train_pre = preprocessing.scale(X_resampled)\n",
    "#x_test_pre = preprocessing.scale(x_test_resampled)"
   ]
  },
  {
   "cell_type": "code",
   "execution_count": 300,
   "metadata": {},
   "outputs": [],
   "source": [
    "from sklearn import preprocessing"
   ]
  },
  {
   "cell_type": "code",
   "execution_count": 282,
   "metadata": {},
   "outputs": [],
   "source": [
    "X_pre = preprocessing.scale(X)\n",
    "X_train_pre = preprocessing.scale(X_train)\n",
    "x_test_pre = preprocessing.scale(x_test)"
   ]
  },
  {
   "cell_type": "code",
   "execution_count": 283,
   "metadata": {},
   "outputs": [
    {
     "data": {
      "text/plain": [
       "KNeighborsClassifier(n_neighbors=23)"
      ]
     },
     "execution_count": 283,
     "metadata": {},
     "output_type": "execute_result"
    }
   ],
   "source": [
    "knn = KNeighborsClassifier(n_neighbors = 23)\n",
    "knn.fit(X_train_pre, y_train)"
   ]
  },
  {
   "cell_type": "code",
   "execution_count": 284,
   "metadata": {},
   "outputs": [
    {
     "data": {
      "text/plain": [
       "0.7676674648492663"
      ]
     },
     "execution_count": 284,
     "metadata": {},
     "output_type": "execute_result"
    }
   ],
   "source": [
    "knn.score(X_train_pre, y_train)"
   ]
  },
  {
   "cell_type": "code",
   "execution_count": 285,
   "metadata": {},
   "outputs": [
    {
     "data": {
      "text/plain": [
       "0.7721495671394364"
      ]
     },
     "execution_count": 285,
     "metadata": {},
     "output_type": "execute_result"
    }
   ],
   "source": [
    "knn.score(x_test_pre,y_test)"
   ]
  },
  {
   "cell_type": "code",
   "execution_count": 286,
   "metadata": {},
   "outputs": [
    {
     "data": {
      "text/plain": [
       "array([0, 0, 0, ..., 0, 0, 0])"
      ]
     },
     "execution_count": 286,
     "metadata": {},
     "output_type": "execute_result"
    }
   ],
   "source": [
    "knn.predict(x_test_pre)"
   ]
  },
  {
   "cell_type": "code",
   "execution_count": 287,
   "metadata": {},
   "outputs": [],
   "source": [
    "k_range = list(range(1, 61))\n",
    "param_grid = dict(n_neighbors=k_range)"
   ]
  },
  {
   "cell_type": "code",
   "execution_count": 292,
   "metadata": {},
   "outputs": [],
   "source": [
    "# instantiate the grid\n",
    "grid = GridSearchCV(knn, param_grid, cv=5, scoring='accuracy')"
   ]
  },
  {
   "cell_type": "code",
   "execution_count": 293,
   "metadata": {},
   "outputs": [
    {
     "data": {
      "text/plain": [
       "GridSearchCV(cv=5, estimator=KNeighborsClassifier(n_neighbors=23),\n",
       "             param_grid={'n_neighbors': [1, 2, 3, 4, 5, 6, 7, 8, 9, 10, 11, 12,\n",
       "                                         13, 14, 15, 16, 17, 18, 19, 20, 21, 22,\n",
       "                                         23, 24, 25, 26, 27, 28, 29, 30, ...]},\n",
       "             scoring='accuracy')"
      ]
     },
     "execution_count": 293,
     "metadata": {},
     "output_type": "execute_result"
    }
   ],
   "source": [
    "# fit the grid with data\n",
    "grid.fit(X_train_pre, y_train)"
   ]
  },
  {
   "cell_type": "code",
   "execution_count": 289,
   "metadata": {},
   "outputs": [
    {
     "ename": "AttributeError",
     "evalue": "'GridSearchCV' object has no attribute 'cv_results_'",
     "output_type": "error",
     "traceback": [
      "\u001b[0;31m---------------------------------------------------------------------------\u001b[0m",
      "\u001b[0;31mAttributeError\u001b[0m                            Traceback (most recent call last)",
      "\u001b[0;32m<ipython-input-289-562ae85c6dc8>\u001b[0m in \u001b[0;36m<module>\u001b[0;34m\u001b[0m\n\u001b[1;32m      1\u001b[0m \u001b[0;31m# view the complete results (list of named tuples)\u001b[0m\u001b[0;34m\u001b[0m\u001b[0;34m\u001b[0m\u001b[0;34m\u001b[0m\u001b[0m\n\u001b[0;32m----> 2\u001b[0;31m \u001b[0mgrid\u001b[0m\u001b[0;34m.\u001b[0m\u001b[0mcv_results_\u001b[0m\u001b[0;34m\u001b[0m\u001b[0;34m\u001b[0m\u001b[0m\n\u001b[0m",
      "\u001b[0;31mAttributeError\u001b[0m: 'GridSearchCV' object has no attribute 'cv_results_'"
     ]
    }
   ],
   "source": [
    "# view the complete results (list of named tuples)\n",
    "grid.cv_results_"
   ]
  },
  {
   "cell_type": "code",
   "execution_count": 290,
   "metadata": {
    "collapsed": true,
    "jupyter": {
     "outputs_hidden": true
    }
   },
   "outputs": [
    {
     "ename": "AttributeError",
     "evalue": "'GridSearchCV' object has no attribute 'cv_results_'",
     "output_type": "error",
     "traceback": [
      "\u001b[0;31m---------------------------------------------------------------------------\u001b[0m",
      "\u001b[0;31mAttributeError\u001b[0m                            Traceback (most recent call last)",
      "\u001b[0;32m<ipython-input-290-6b133c571a35>\u001b[0m in \u001b[0;36m<module>\u001b[0;34m\u001b[0m\n\u001b[1;32m      8\u001b[0m     \u001b[0mprint\u001b[0m\u001b[0;34m(\u001b[0m\u001b[0;34m\"mean_test_score\"\u001b[0m\u001b[0;34m,\u001b[0m \u001b[0mmodel_grid\u001b[0m\u001b[0;34m.\u001b[0m\u001b[0mcv_results_\u001b[0m\u001b[0;34m[\u001b[0m\u001b[0;34m'mean_test_score'\u001b[0m\u001b[0;34m]\u001b[0m\u001b[0;34m)\u001b[0m\u001b[0;34m\u001b[0m\u001b[0;34m\u001b[0m\u001b[0m\n\u001b[1;32m      9\u001b[0m \u001b[0;34m\u001b[0m\u001b[0m\n\u001b[0;32m---> 10\u001b[0;31m \u001b[0mexamine_first_tuple\u001b[0m\u001b[0;34m(\u001b[0m\u001b[0mgrid\u001b[0m\u001b[0;34m)\u001b[0m\u001b[0;34m\u001b[0m\u001b[0;34m\u001b[0m\u001b[0m\n\u001b[0m",
      "\u001b[0;32m<ipython-input-290-6b133c571a35>\u001b[0m in \u001b[0;36mexamine_first_tuple\u001b[0;34m(model_grid)\u001b[0m\n\u001b[1;32m      4\u001b[0m \u001b[0;31m# examine the first tuple\u001b[0m\u001b[0;34m\u001b[0m\u001b[0;34m\u001b[0m\u001b[0;34m\u001b[0m\u001b[0m\n\u001b[1;32m      5\u001b[0m \u001b[0;32mdef\u001b[0m \u001b[0mexamine_first_tuple\u001b[0m\u001b[0;34m(\u001b[0m\u001b[0mmodel_grid\u001b[0m\u001b[0;34m)\u001b[0m\u001b[0;34m:\u001b[0m\u001b[0;34m\u001b[0m\u001b[0;34m\u001b[0m\u001b[0m\n\u001b[0;32m----> 6\u001b[0;31m     \u001b[0mprint\u001b[0m\u001b[0;34m(\u001b[0m\u001b[0;34m\"std_test_score\"\u001b[0m\u001b[0;34m,\u001b[0m \u001b[0mmodel_grid\u001b[0m\u001b[0;34m.\u001b[0m\u001b[0mcv_results_\u001b[0m\u001b[0;34m[\u001b[0m\u001b[0;34m'std_test_score'\u001b[0m\u001b[0;34m]\u001b[0m\u001b[0;34m)\u001b[0m\u001b[0;34m\u001b[0m\u001b[0;34m\u001b[0m\u001b[0m\n\u001b[0m\u001b[1;32m      7\u001b[0m     \u001b[0mprint\u001b[0m\u001b[0;34m(\u001b[0m\u001b[0;34m\"rank_test_score\"\u001b[0m\u001b[0;34m,\u001b[0m \u001b[0mmodel_grid\u001b[0m\u001b[0;34m.\u001b[0m\u001b[0mcv_results_\u001b[0m\u001b[0;34m[\u001b[0m\u001b[0;34m'rank_test_score'\u001b[0m\u001b[0;34m]\u001b[0m\u001b[0;34m)\u001b[0m\u001b[0;34m\u001b[0m\u001b[0;34m\u001b[0m\u001b[0m\n\u001b[1;32m      8\u001b[0m     \u001b[0mprint\u001b[0m\u001b[0;34m(\u001b[0m\u001b[0;34m\"mean_test_score\"\u001b[0m\u001b[0;34m,\u001b[0m \u001b[0mmodel_grid\u001b[0m\u001b[0;34m.\u001b[0m\u001b[0mcv_results_\u001b[0m\u001b[0;34m[\u001b[0m\u001b[0;34m'mean_test_score'\u001b[0m\u001b[0;34m]\u001b[0m\u001b[0;34m)\u001b[0m\u001b[0;34m\u001b[0m\u001b[0;34m\u001b[0m\u001b[0m\n",
      "\u001b[0;31mAttributeError\u001b[0m: 'GridSearchCV' object has no attribute 'cv_results_'"
     ]
    }
   ],
   "source": [
    "import warnings\n",
    "warnings.filterwarnings(\"ignore\", category=DeprecationWarning)\n",
    "\n",
    "# examine the first tuple\n",
    "def examine_first_tuple(model_grid):\n",
    "    print(\"std_test_score\", model_grid.cv_results_['std_test_score'])\n",
    "    print(\"rank_test_score\", model_grid.cv_results_['rank_test_score'])\n",
    "    print(\"mean_test_score\", model_grid.cv_results_['mean_test_score'])\n",
    "    \n",
    "examine_first_tuple(grid)"
   ]
  },
  {
   "cell_type": "code",
   "execution_count": 291,
   "metadata": {
    "collapsed": true,
    "jupyter": {
     "outputs_hidden": true
    }
   },
   "outputs": [
    {
     "ename": "AttributeError",
     "evalue": "'GridSearchCV' object has no attribute 'best_score_'",
     "output_type": "error",
     "traceback": [
      "\u001b[0;31m---------------------------------------------------------------------------\u001b[0m",
      "\u001b[0;31mAttributeError\u001b[0m                            Traceback (most recent call last)",
      "\u001b[0;32m<ipython-input-291-3ba4bb78f926>\u001b[0m in \u001b[0;36m<module>\u001b[0;34m\u001b[0m\n\u001b[0;32m----> 1\u001b[0;31m \u001b[0mgrid\u001b[0m\u001b[0;34m.\u001b[0m\u001b[0mbest_score_\u001b[0m\u001b[0;34m,\u001b[0m \u001b[0mgrid\u001b[0m\u001b[0;34m.\u001b[0m\u001b[0mbest_params_\u001b[0m\u001b[0;34m\u001b[0m\u001b[0;34m\u001b[0m\u001b[0m\n\u001b[0m",
      "\u001b[0;31mAttributeError\u001b[0m: 'GridSearchCV' object has no attribute 'best_score_'"
     ]
    }
   ],
   "source": [
    "grid.best_score_, grid.best_params_"
   ]
  },
  {
   "cell_type": "code",
   "execution_count": null,
   "metadata": {},
   "outputs": [],
   "source": [
    "# examine the best model\n",
    "def get_best_model(model_grid):\n",
    "    best_k = model_grid.cv_results_['rank_test_score'][0]\n",
    "    print (best_k, model_grid.cv_results_['mean_test_score'][best_k], model_grid.cv_results_['std_test_score'][best_ka])\n",
    "\n",
    "get_best_model(grid)"
   ]
  },
  {
   "cell_type": "code",
   "execution_count": 49,
   "metadata": {},
   "outputs": [
    {
     "data": {
      "text/plain": [
       "KNeighborsClassifier(n_neighbors=15)"
      ]
     },
     "execution_count": 49,
     "metadata": {},
     "output_type": "execute_result"
    }
   ],
   "source": [
    "knn = KNeighborsClassifier(n_neighbors = 15)\n",
    "knn.fit(X_train_pre, y_train)"
   ]
  },
  {
   "cell_type": "code",
   "execution_count": 50,
   "metadata": {},
   "outputs": [
    {
     "data": {
      "text/plain": [
       "0.7671762755571928"
      ]
     },
     "execution_count": 50,
     "metadata": {},
     "output_type": "execute_result"
    }
   ],
   "source": [
    "knn.score(X_train_pre, y_train)"
   ]
  },
  {
   "cell_type": "code",
   "execution_count": 51,
   "metadata": {},
   "outputs": [
    {
     "data": {
      "text/plain": [
       "0.767544667526248"
      ]
     },
     "execution_count": 51,
     "metadata": {},
     "output_type": "execute_result"
    }
   ],
   "source": [
    "knn.score(x_test_pre,y_test)"
   ]
  },
  {
   "cell_type": "code",
   "execution_count": 23,
   "metadata": {},
   "outputs": [
    {
     "data": {
      "text/plain": [
       "array([0, 0, 0, ..., 0, 0, 0])"
      ]
     },
     "execution_count": 23,
     "metadata": {},
     "output_type": "execute_result"
    }
   ],
   "source": [
    "knn.predict(x_test_pre)"
   ]
  },
  {
   "cell_type": "code",
   "execution_count": 44,
   "metadata": {},
   "outputs": [],
   "source": [
    "from sklearn.metrics import roc_curve, roc_auc_score"
   ]
  },
  {
   "cell_type": "code",
   "execution_count": 52,
   "metadata": {},
   "outputs": [],
   "source": [
    "fpr, tpr, thresholds = roc_curve(y_test, knn.predict_proba(x_test_pre)[:,1])"
   ]
  },
  {
   "cell_type": "code",
   "execution_count": 53,
   "metadata": {},
   "outputs": [
    {
     "name": "stdout",
     "output_type": "stream",
     "text": [
      "KNN ROC AUC score =  0.5072376777545388\n"
     ]
    },
    {
     "data": {
      "image/png": "[encoded data removed]",
      "text/plain": [
       "<Figure size 432x288 with 1 Axes>"
      ]
     },
     "metadata": {
      "needs_background": "light"
     },
     "output_type": "display_data"
    }
   ],
   "source": [
    "\n",
    "plt.plot(fpr, tpr,lw=2)\n",
    "\n",
    "plt.plot([0,1],[0,1],c='violet',ls='--')\n",
    "plt.xlim([-0.05,1.05])\n",
    "plt.ylim([-0.05,1.05])\n",
    "plt.xlabel('False positive rate')\n",
    "plt.ylabel('True positive rate')\n",
    "plt.title('ROC Score', fontweight=\"bold\", fontsize=20);\n",
    "plt.legend(['KNN'])\n",
    "print(\"KNN ROC AUC score = \", roc_auc_score(y_test, knn.predict_proba(x_test_pre)[:,1]))"
   ]
  },
  {
   "cell_type": "markdown",
   "metadata": {},
   "source": [
    "#### Naive Bayes"
   ]
  },
  {
   "cell_type": "code",
   "execution_count": 54,
   "metadata": {},
   "outputs": [
    {
     "data": {
      "text/plain": [
       "0.7690182354024683"
      ]
     },
     "execution_count": 54,
     "metadata": {},
     "output_type": "execute_result"
    }
   ],
   "source": [
    "bnb = BernoulliNB()\n",
    "bnb.fit(X_train_pre, y_train)\n",
    "bnb.score(x_test_pre, y_test)"
   ]
  },
  {
   "cell_type": "code",
   "execution_count": 55,
   "metadata": {},
   "outputs": [],
   "source": [
    "fprbnb, tprbnb, thresholdsbnb = roc_curve(y_test, bnb.predict_proba(x_test_pre)[:,1])"
   ]
  },
  {
   "cell_type": "code",
   "execution_count": 56,
   "metadata": {},
   "outputs": [
    {
     "name": "stdout",
     "output_type": "stream",
     "text": [
      "BNB ROC AUC score =  0.5308136836375097\n"
     ]
    },
    {
     "data": {
      "image/png": "[encoded data removed]",
      "text/plain": [
       "<Figure size 432x288 with 1 Axes>"
      ]
     },
     "metadata": {
      "needs_background": "light"
     },
     "output_type": "display_data"
    }
   ],
   "source": [
    "\n",
    "plt.plot(fprbnb, tprbnb,lw=2)\n",
    "\n",
    "plt.plot([0,1],[0,1],c='violet',ls='--')\n",
    "plt.xlim([-0.05,1.05])\n",
    "plt.ylim([-0.05,1.05])\n",
    "plt.xlabel('False positive rate')\n",
    "plt.ylabel('True positive rate')\n",
    "plt.title('ROC Score', fontweight=\"bold\", fontsize=20);\n",
    "plt.legend(['BNB'])\n",
    "print(\"BNB ROC AUC score = \", roc_auc_score(y_test, bnb.predict_proba(x_test_pre)[:,1]))"
   ]
  },
  {
   "cell_type": "markdown",
   "metadata": {},
   "source": [
    "### Hops"
   ]
  },
  {
   "cell_type": "code",
   "execution_count": 57,
   "metadata": {
    "collapsed": true,
    "jupyter": {
     "outputs_hidden": true
    }
   },
   "outputs": [
    {
     "data": {
      "text/plain": [
       "['title',\n",
       " 'bstyle',\n",
       " 'og',\n",
       " 'fg',\n",
       " 'abv',\n",
       " 'ibu',\n",
       " 'srm',\n",
       " 'Mash pH',\n",
       " 'hops',\n",
       " 'others',\n",
       " 'water',\n",
       " 'notes',\n",
       " 'IBU (rager)',\n",
       " 'SRM (daniels)',\n",
       " 'SRM (ebcmorey)',\n",
       " 'SRM (mosher)',\n",
       " 'ABV (alternate)',\n",
       " 'yeast',\n",
       " 'co2',\n",
       " 'chal',\n",
       " 'citra',\n",
       " 'warrior',\n",
       " 'casc',\n",
       " 'saaz',\n",
       " 'azacca',\n",
       " 'colum',\n",
       " 'mag',\n",
       " 'perle',\n",
       " 'simcoe',\n",
       " 'amar',\n",
       " 'cashmere',\n",
       " 'comet',\n",
       " 'galaxy',\n",
       " 'apollo',\n",
       " 'willam',\n",
       " 'goldings',\n",
       " 'heller',\n",
       " 'fug',\n",
       " 'nugg',\n",
       " 'hopshot',\n",
       " 'tett',\n",
       " 'mosaic',\n",
       " 'brewerg',\n",
       " 'northb',\n",
       " 'cent',\n",
       " 'chinook',\n",
       " 'crystal',\n",
       " 'magnum',\n",
       " 'ctz',\n",
       " 'styr',\n",
       " 'idaho',\n",
       " 'nelson',\n",
       " 'exper',\n",
       " 'hall',\n",
       " 'noble',\n",
       " 'dryh',\n",
       " 'lact',\n",
       " 'clone',\n",
       " 'juicy',\n",
       " 'dank',\n",
       " 'wedding',\n",
       " 'whisk',\n",
       " 'trop',\n",
       " 'award',\n",
       " 'best',\n",
       " 'smoke',\n",
       " 'roast',\n",
       " 'thick',\n",
       " 'pine',\n",
       " 'sticky',\n",
       " 'foam',\n",
       " 'hoppy',\n",
       " 'choco',\n",
       " 'coffee',\n",
       " 'straw',\n",
       " 'bisc',\n",
       " 'dark',\n",
       " 'heavy',\n",
       " 'stfruit',\n",
       " 'hazy',\n",
       " 'pheno',\n",
       " 'ester',\n",
       " 'banana',\n",
       " 'bitter',\n",
       " 'clove',\n",
       " 'sour',\n",
       " 'wylon',\n",
       " 'kveik',\n",
       " 'omega',\n",
       " 'us5',\n",
       " 'us4',\n",
       " 'chico',\n",
       " 'yeast_dark',\n",
       " 'wy1056',\n",
       " 'wy1272',\n",
       " 'wlp080',\n",
       " 'wlp80',\n",
       " 'gy054',\n",
       " 'vermont',\n",
       " 'ylager',\n",
       " 'ykolsch',\n",
       " 'ipa',\n",
       " 'saison',\n",
       " 'lager',\n",
       " 'stout',\n",
       " 'kolsch',\n",
       " 'wit',\n",
       " 'puree',\n",
       " 'lovehop',\n",
       " 'strong',\n",
       " 'dry',\n",
       " 'sweet',\n",
       " 'simsty',\n",
       " 'threesty']"
      ]
     },
     "execution_count": 57,
     "metadata": {},
     "output_type": "execute_result"
    }
   ],
   "source": [
    "list(df.columns)"
   ]
  },
  {
   "cell_type": "code",
   "execution_count": 804,
   "metadata": {},
   "outputs": [],
   "source": [
    "hops = df[['ipa','chal','citra',\n",
    " 'warrior',\n",
    " 'casc',\n",
    " 'saaz',\n",
    "\n",
    " 'azacca',\n",
    " 'colum',\n",
    " 'mag',\n",
    " 'perle',\n",
    " 'simcoe',\n",
    " 'amar',\n",
    " 'cashmere',\n",
    " 'comet',\n",
    " 'galaxy',\n",
    " 'apollo',\n",
    " 'willam',\n",
    " 'goldings',\n",
    " 'heller',\n",
    " 'fug',\n",
    " 'nugg',\n",
    " 'hopshot',\n",
    " 'tett',\n",
    " 'mosaic',\n",
    " 'brewerg',\n",
    " 'northb',\n",
    " 'cent',\n",
    " 'chinook',\n",
    " 'crystal',\n",
    " 'ctz','styr','idaho','nelson','exper','hall','noble','dryh', 'wylon', 'us5', 'us4', 'chico', 'vermont']].dropna()"
   ]
  },
  {
   "cell_type": "code",
   "execution_count": 805,
   "metadata": {},
   "outputs": [
    {
     "data": {
      "text/plain": [
       "0.7208991814231157"
      ]
     },
     "execution_count": 805,
     "metadata": {},
     "output_type": "execute_result"
    }
   ],
   "source": [
    "df.bugu.mean()"
   ]
  },
  {
   "cell_type": "code",
   "execution_count": 806,
   "metadata": {},
   "outputs": [],
   "source": [
    "X = hops.drop(columns =['ipa'])\n",
    "y= hops['ipa']"
   ]
  },
  {
   "cell_type": "code",
   "execution_count": 807,
   "metadata": {},
   "outputs": [],
   "source": [
    "X_train, x_test, y_train, y_test = train_test_split(X, y, test_size=0.2)\n",
    "X_train, x_val, y_train, y_val = train_test_split(X_train, y_train, test_size=0.25)"
   ]
  },
  {
   "cell_type": "code",
   "execution_count": 808,
   "metadata": {},
   "outputs": [],
   "source": [
    "X_pre = preprocessing.scale(X)\n",
    "X_train_pre = preprocessing.scale(X_train)\n",
    "x_test_pre = preprocessing.scale(x_test)"
   ]
  },
  {
   "cell_type": "code",
   "execution_count": 809,
   "metadata": {},
   "outputs": [
    {
     "data": {
      "text/plain": [
       "KNeighborsClassifier(n_neighbors=30)"
      ]
     },
     "execution_count": 809,
     "metadata": {},
     "output_type": "execute_result"
    }
   ],
   "source": [
    "knn = KNeighborsClassifier(n_neighbors = 30)\n",
    "knn.fit(X_train_pre, y_train)"
   ]
  },
  {
   "cell_type": "code",
   "execution_count": 810,
   "metadata": {},
   "outputs": [
    {
     "data": {
      "text/plain": [
       "0.7999599519423308"
      ]
     },
     "execution_count": 810,
     "metadata": {},
     "output_type": "execute_result"
    }
   ],
   "source": [
    "knn.score(X_train_pre, y_train)"
   ]
  },
  {
   "cell_type": "code",
   "execution_count": 811,
   "metadata": {},
   "outputs": [
    {
     "data": {
      "text/plain": [
       "0.7855855855855856"
      ]
     },
     "execution_count": 811,
     "metadata": {},
     "output_type": "execute_result"
    }
   ],
   "source": [
    "knn.score(x_test_pre,y_test)"
   ]
  },
  {
   "cell_type": "code",
   "execution_count": 799,
   "metadata": {},
   "outputs": [
    {
     "data": {
      "text/plain": [
       "array([0, 0, 0, ..., 0, 0, 0])"
      ]
     },
     "execution_count": 799,
     "metadata": {},
     "output_type": "execute_result"
    }
   ],
   "source": [
    "knn.predict(x_test_pre)"
   ]
  },
  {
   "cell_type": "code",
   "execution_count": 800,
   "metadata": {},
   "outputs": [
    {
     "name": "stdout",
     "output_type": "stream",
     "text": [
      "KNN ROC AUC score =  0.8203688758689018\n"
     ]
    },
    {
     "data": {
      "image/png": "[encoded data removed]",
      "text/plain": [
       "<Figure size 432x288 with 1 Axes>"
      ]
     },
     "metadata": {
      "needs_background": "light"
     },
     "output_type": "display_data"
    }
   ],
   "source": [
    "\n",
    "plt.plot(fpr, tpr,lw=2)\n",
    "\n",
    "plt.plot([0,1],[0,1],c='violet',ls='--')\n",
    "plt.xlim([-0.05,1.05])\n",
    "plt.ylim([-0.05,1.05])\n",
    "plt.xlabel('False positive rate')\n",
    "plt.ylabel('True positive rate')\n",
    "plt.title('ROC Score', fontweight=\"bold\", fontsize=20);\n",
    "plt.legend(['KNN'])\n",
    "print(\"KNN ROC AUC score = \", roc_auc_score(y_test, knn.predict_proba(x_test_pre)[:,1]))"
   ]
  },
  {
   "cell_type": "code",
   "execution_count": 812,
   "metadata": {},
   "outputs": [],
   "source": [
    "with open('web_app/knnh.pickle', 'wb') as to_write:\n",
    "    pickle.dump(knn, to_write)"
   ]
  },
  {
   "cell_type": "markdown",
   "metadata": {},
   "source": [
    "#### Naive Bayes"
   ]
  },
  {
   "cell_type": "code",
   "execution_count": 813,
   "metadata": {},
   "outputs": [
    {
     "data": {
      "text/plain": [
       "0.7883883883883884"
      ]
     },
     "execution_count": 813,
     "metadata": {},
     "output_type": "execute_result"
    }
   ],
   "source": [
    "bnbh = BernoulliNB()\n",
    "bnbh.fit(X_train_pre, y_train)\n",
    "bnbh.score(x_test_pre, y_test)"
   ]
  },
  {
   "cell_type": "code",
   "execution_count": 814,
   "metadata": {},
   "outputs": [
    {
     "ename": "ValueError",
     "evalue": "Expected input with 46 features, got 41 instead",
     "output_type": "error",
     "traceback": [
      "\u001b[0;31m---------------------------------------------------------------------------\u001b[0m",
      "\u001b[0;31mValueError\u001b[0m                                Traceback (most recent call last)",
      "\u001b[0;32m<ipython-input-814-69a7b6777eed>\u001b[0m in \u001b[0;36m<module>\u001b[0;34m\u001b[0m\n\u001b[0;32m----> 1\u001b[0;31m \u001b[0mfprbnb\u001b[0m\u001b[0;34m,\u001b[0m \u001b[0mtprbnb\u001b[0m\u001b[0;34m,\u001b[0m \u001b[0mthresholdsbnb\u001b[0m \u001b[0;34m=\u001b[0m \u001b[0mroc_curve\u001b[0m\u001b[0;34m(\u001b[0m\u001b[0my_test\u001b[0m\u001b[0;34m,\u001b[0m \u001b[0mbnb\u001b[0m\u001b[0;34m.\u001b[0m\u001b[0mpredict_proba\u001b[0m\u001b[0;34m(\u001b[0m\u001b[0mx_test_pre\u001b[0m\u001b[0;34m)\u001b[0m\u001b[0;34m[\u001b[0m\u001b[0;34m:\u001b[0m\u001b[0;34m,\u001b[0m\u001b[0;36m1\u001b[0m\u001b[0;34m]\u001b[0m\u001b[0;34m)\u001b[0m\u001b[0;34m\u001b[0m\u001b[0;34m\u001b[0m\u001b[0m\n\u001b[0m",
      "\u001b[0;32m/opt/anaconda3/envs/metis/lib/python3.8/site-packages/sklearn/naive_bayes.py\u001b[0m in \u001b[0;36mpredict_proba\u001b[0;34m(self, X)\u001b[0m\n\u001b[1;32m    116\u001b[0m             \u001b[0morder\u001b[0m\u001b[0;34m,\u001b[0m \u001b[0;32mas\u001b[0m \u001b[0mthey\u001b[0m \u001b[0mappear\u001b[0m \u001b[0;32min\u001b[0m \u001b[0mthe\u001b[0m \u001b[0mattribute\u001b[0m \u001b[0;34m:\u001b[0m\u001b[0mterm\u001b[0m\u001b[0;34m:\u001b[0m\u001b[0;31m`\u001b[0m\u001b[0mclasses_\u001b[0m\u001b[0;31m`\u001b[0m\u001b[0;34m.\u001b[0m\u001b[0;34m\u001b[0m\u001b[0;34m\u001b[0m\u001b[0m\n\u001b[1;32m    117\u001b[0m         \"\"\"\n\u001b[0;32m--> 118\u001b[0;31m         \u001b[0;32mreturn\u001b[0m \u001b[0mnp\u001b[0m\u001b[0;34m.\u001b[0m\u001b[0mexp\u001b[0m\u001b[0;34m(\u001b[0m\u001b[0mself\u001b[0m\u001b[0;34m.\u001b[0m\u001b[0mpredict_log_proba\u001b[0m\u001b[0;34m(\u001b[0m\u001b[0mX\u001b[0m\u001b[0;34m)\u001b[0m\u001b[0;34m)\u001b[0m\u001b[0;34m\u001b[0m\u001b[0;34m\u001b[0m\u001b[0m\n\u001b[0m\u001b[1;32m    119\u001b[0m \u001b[0;34m\u001b[0m\u001b[0m\n\u001b[1;32m    120\u001b[0m \u001b[0;34m\u001b[0m\u001b[0m\n",
      "\u001b[0;32m/opt/anaconda3/envs/metis/lib/python3.8/site-packages/sklearn/naive_bayes.py\u001b[0m in \u001b[0;36mpredict_log_proba\u001b[0;34m(self, X)\u001b[0m\n\u001b[1;32m     96\u001b[0m         \u001b[0mcheck_is_fitted\u001b[0m\u001b[0;34m(\u001b[0m\u001b[0mself\u001b[0m\u001b[0;34m)\u001b[0m\u001b[0;34m\u001b[0m\u001b[0;34m\u001b[0m\u001b[0m\n\u001b[1;32m     97\u001b[0m         \u001b[0mX\u001b[0m \u001b[0;34m=\u001b[0m \u001b[0mself\u001b[0m\u001b[0;34m.\u001b[0m\u001b[0m_check_X\u001b[0m\u001b[0;34m(\u001b[0m\u001b[0mX\u001b[0m\u001b[0;34m)\u001b[0m\u001b[0;34m\u001b[0m\u001b[0;34m\u001b[0m\u001b[0m\n\u001b[0;32m---> 98\u001b[0;31m         \u001b[0mjll\u001b[0m \u001b[0;34m=\u001b[0m \u001b[0mself\u001b[0m\u001b[0;34m.\u001b[0m\u001b[0m_joint_log_likelihood\u001b[0m\u001b[0;34m(\u001b[0m\u001b[0mX\u001b[0m\u001b[0;34m)\u001b[0m\u001b[0;34m\u001b[0m\u001b[0;34m\u001b[0m\u001b[0m\n\u001b[0m\u001b[1;32m     99\u001b[0m         \u001b[0;31m# normalize by P(x) = P(f_1, ..., f_n)\u001b[0m\u001b[0;34m\u001b[0m\u001b[0;34m\u001b[0m\u001b[0;34m\u001b[0m\u001b[0m\n\u001b[1;32m    100\u001b[0m         \u001b[0mlog_prob_x\u001b[0m \u001b[0;34m=\u001b[0m \u001b[0mlogsumexp\u001b[0m\u001b[0;34m(\u001b[0m\u001b[0mjll\u001b[0m\u001b[0;34m,\u001b[0m \u001b[0maxis\u001b[0m\u001b[0;34m=\u001b[0m\u001b[0;36m1\u001b[0m\u001b[0;34m)\u001b[0m\u001b[0;34m\u001b[0m\u001b[0;34m\u001b[0m\u001b[0m\n",
      "\u001b[0;32m/opt/anaconda3/envs/metis/lib/python3.8/site-packages/sklearn/naive_bayes.py\u001b[0m in \u001b[0;36m_joint_log_likelihood\u001b[0;34m(self, X)\u001b[0m\n\u001b[1;32m   1009\u001b[0m \u001b[0;34m\u001b[0m\u001b[0m\n\u001b[1;32m   1010\u001b[0m         \u001b[0;32mif\u001b[0m \u001b[0mn_features_X\u001b[0m \u001b[0;34m!=\u001b[0m \u001b[0mn_features\u001b[0m\u001b[0;34m:\u001b[0m\u001b[0;34m\u001b[0m\u001b[0;34m\u001b[0m\u001b[0m\n\u001b[0;32m-> 1011\u001b[0;31m             raise ValueError(\"Expected input with %d features, got %d instead\"\n\u001b[0m\u001b[1;32m   1012\u001b[0m                              % (n_features, n_features_X))\n\u001b[1;32m   1013\u001b[0m \u001b[0;34m\u001b[0m\u001b[0m\n",
      "\u001b[0;31mValueError\u001b[0m: Expected input with 46 features, got 41 instead"
     ]
    }
   ],
   "source": [
    "fprbnb, tprbnb, thresholdsbnb = roc_curve(y_test, bnb.predict_proba(x_test_pre)[:,1])"
   ]
  },
  {
   "cell_type": "code",
   "execution_count": 815,
   "metadata": {},
   "outputs": [
    {
     "ename": "ValueError",
     "evalue": "Expected input with 46 features, got 41 instead",
     "output_type": "error",
     "traceback": [
      "\u001b[0;31m---------------------------------------------------------------------------\u001b[0m",
      "\u001b[0;31mValueError\u001b[0m                                Traceback (most recent call last)",
      "\u001b[0;32m<ipython-input-815-d0f9f32d3075>\u001b[0m in \u001b[0;36m<module>\u001b[0;34m\u001b[0m\n\u001b[1;32m      8\u001b[0m \u001b[0mplt\u001b[0m\u001b[0;34m.\u001b[0m\u001b[0mtitle\u001b[0m\u001b[0;34m(\u001b[0m\u001b[0;34m'ROC Score'\u001b[0m\u001b[0;34m,\u001b[0m \u001b[0mfontweight\u001b[0m\u001b[0;34m=\u001b[0m\u001b[0;34m\"bold\"\u001b[0m\u001b[0;34m,\u001b[0m \u001b[0mfontsize\u001b[0m\u001b[0;34m=\u001b[0m\u001b[0;36m20\u001b[0m\u001b[0;34m)\u001b[0m\u001b[0;34m;\u001b[0m\u001b[0;34m\u001b[0m\u001b[0;34m\u001b[0m\u001b[0m\n\u001b[1;32m      9\u001b[0m \u001b[0mplt\u001b[0m\u001b[0;34m.\u001b[0m\u001b[0mlegend\u001b[0m\u001b[0;34m(\u001b[0m\u001b[0;34m[\u001b[0m\u001b[0;34m'BNB'\u001b[0m\u001b[0;34m]\u001b[0m\u001b[0;34m)\u001b[0m\u001b[0;34m\u001b[0m\u001b[0;34m\u001b[0m\u001b[0m\n\u001b[0;32m---> 10\u001b[0;31m \u001b[0mprint\u001b[0m\u001b[0;34m(\u001b[0m\u001b[0;34m\"BNB ROC AUC score = \"\u001b[0m\u001b[0;34m,\u001b[0m \u001b[0mroc_auc_score\u001b[0m\u001b[0;34m(\u001b[0m\u001b[0my_test\u001b[0m\u001b[0;34m,\u001b[0m \u001b[0mbnb\u001b[0m\u001b[0;34m.\u001b[0m\u001b[0mpredict_proba\u001b[0m\u001b[0;34m(\u001b[0m\u001b[0mx_test_pre\u001b[0m\u001b[0;34m)\u001b[0m\u001b[0;34m[\u001b[0m\u001b[0;34m:\u001b[0m\u001b[0;34m,\u001b[0m\u001b[0;36m1\u001b[0m\u001b[0;34m]\u001b[0m\u001b[0;34m)\u001b[0m\u001b[0;34m)\u001b[0m\u001b[0;34m\u001b[0m\u001b[0;34m\u001b[0m\u001b[0m\n\u001b[0m",
      "\u001b[0;32m/opt/anaconda3/envs/metis/lib/python3.8/site-packages/sklearn/naive_bayes.py\u001b[0m in \u001b[0;36mpredict_proba\u001b[0;34m(self, X)\u001b[0m\n\u001b[1;32m    116\u001b[0m             \u001b[0morder\u001b[0m\u001b[0;34m,\u001b[0m \u001b[0;32mas\u001b[0m \u001b[0mthey\u001b[0m \u001b[0mappear\u001b[0m \u001b[0;32min\u001b[0m \u001b[0mthe\u001b[0m \u001b[0mattribute\u001b[0m \u001b[0;34m:\u001b[0m\u001b[0mterm\u001b[0m\u001b[0;34m:\u001b[0m\u001b[0;31m`\u001b[0m\u001b[0mclasses_\u001b[0m\u001b[0;31m`\u001b[0m\u001b[0;34m.\u001b[0m\u001b[0;34m\u001b[0m\u001b[0;34m\u001b[0m\u001b[0m\n\u001b[1;32m    117\u001b[0m         \"\"\"\n\u001b[0;32m--> 118\u001b[0;31m         \u001b[0;32mreturn\u001b[0m \u001b[0mnp\u001b[0m\u001b[0;34m.\u001b[0m\u001b[0mexp\u001b[0m\u001b[0;34m(\u001b[0m\u001b[0mself\u001b[0m\u001b[0;34m.\u001b[0m\u001b[0mpredict_log_proba\u001b[0m\u001b[0;34m(\u001b[0m\u001b[0mX\u001b[0m\u001b[0;34m)\u001b[0m\u001b[0;34m)\u001b[0m\u001b[0;34m\u001b[0m\u001b[0;34m\u001b[0m\u001b[0m\n\u001b[0m\u001b[1;32m    119\u001b[0m \u001b[0;34m\u001b[0m\u001b[0m\n\u001b[1;32m    120\u001b[0m \u001b[0;34m\u001b[0m\u001b[0m\n",
      "\u001b[0;32m/opt/anaconda3/envs/metis/lib/python3.8/site-packages/sklearn/naive_bayes.py\u001b[0m in \u001b[0;36mpredict_log_proba\u001b[0;34m(self, X)\u001b[0m\n\u001b[1;32m     96\u001b[0m         \u001b[0mcheck_is_fitted\u001b[0m\u001b[0;34m(\u001b[0m\u001b[0mself\u001b[0m\u001b[0;34m)\u001b[0m\u001b[0;34m\u001b[0m\u001b[0;34m\u001b[0m\u001b[0m\n\u001b[1;32m     97\u001b[0m         \u001b[0mX\u001b[0m \u001b[0;34m=\u001b[0m \u001b[0mself\u001b[0m\u001b[0;34m.\u001b[0m\u001b[0m_check_X\u001b[0m\u001b[0;34m(\u001b[0m\u001b[0mX\u001b[0m\u001b[0;34m)\u001b[0m\u001b[0;34m\u001b[0m\u001b[0;34m\u001b[0m\u001b[0m\n\u001b[0;32m---> 98\u001b[0;31m         \u001b[0mjll\u001b[0m \u001b[0;34m=\u001b[0m \u001b[0mself\u001b[0m\u001b[0;34m.\u001b[0m\u001b[0m_joint_log_likelihood\u001b[0m\u001b[0;34m(\u001b[0m\u001b[0mX\u001b[0m\u001b[0;34m)\u001b[0m\u001b[0;34m\u001b[0m\u001b[0;34m\u001b[0m\u001b[0m\n\u001b[0m\u001b[1;32m     99\u001b[0m         \u001b[0;31m# normalize by P(x) = P(f_1, ..., f_n)\u001b[0m\u001b[0;34m\u001b[0m\u001b[0;34m\u001b[0m\u001b[0;34m\u001b[0m\u001b[0m\n\u001b[1;32m    100\u001b[0m         \u001b[0mlog_prob_x\u001b[0m \u001b[0;34m=\u001b[0m \u001b[0mlogsumexp\u001b[0m\u001b[0;34m(\u001b[0m\u001b[0mjll\u001b[0m\u001b[0;34m,\u001b[0m \u001b[0maxis\u001b[0m\u001b[0;34m=\u001b[0m\u001b[0;36m1\u001b[0m\u001b[0;34m)\u001b[0m\u001b[0;34m\u001b[0m\u001b[0;34m\u001b[0m\u001b[0m\n",
      "\u001b[0;32m/opt/anaconda3/envs/metis/lib/python3.8/site-packages/sklearn/naive_bayes.py\u001b[0m in \u001b[0;36m_joint_log_likelihood\u001b[0;34m(self, X)\u001b[0m\n\u001b[1;32m   1009\u001b[0m \u001b[0;34m\u001b[0m\u001b[0m\n\u001b[1;32m   1010\u001b[0m         \u001b[0;32mif\u001b[0m \u001b[0mn_features_X\u001b[0m \u001b[0;34m!=\u001b[0m \u001b[0mn_features\u001b[0m\u001b[0;34m:\u001b[0m\u001b[0;34m\u001b[0m\u001b[0;34m\u001b[0m\u001b[0m\n\u001b[0;32m-> 1011\u001b[0;31m             raise ValueError(\"Expected input with %d features, got %d instead\"\n\u001b[0m\u001b[1;32m   1012\u001b[0m                              % (n_features, n_features_X))\n\u001b[1;32m   1013\u001b[0m \u001b[0;34m\u001b[0m\u001b[0m\n",
      "\u001b[0;31mValueError\u001b[0m: Expected input with 46 features, got 41 instead"
     ]
    },
    {
     "data": {
      "image/png": "[encoded data removed]",
      "text/plain": [
       "<Figure size 432x288 with 1 Axes>"
      ]
     },
     "metadata": {
      "needs_background": "light"
     },
     "output_type": "display_data"
    }
   ],
   "source": [
    "\n",
    "plt.plot(fprbnb, tprbnb,lw=2)\n",
    "\n",
    "plt.plot([0,1],[0,1],c='violet',ls='--')\n",
    "plt.xlim([-0.05,1.05])\n",
    "plt.ylim([-0.05,1.05])\n",
    "plt.xlabel('False positive rate')\n",
    "plt.ylabel('True positive rate')\n",
    "plt.title('ROC Score', fontweight=\"bold\", fontsize=20);\n",
    "plt.legend(['BNB'])\n",
    "print(\"BNB ROC AUC score = \", roc_auc_score(y_test, bnb.predict_proba(x_test_pre)[:,1]))"
   ]
  },
  {
   "cell_type": "code",
   "execution_count": 816,
   "metadata": {},
   "outputs": [],
   "source": [
    "with open('web_app/bngbh.pickle', 'wb') as to_write:\n",
    "    pickle.dump(bnbh, to_write)"
   ]
  },
  {
   "cell_type": "code",
   "execution_count": 817,
   "metadata": {},
   "outputs": [],
   "source": [
    "from sklearn.ensemble import RandomForestClassifier\n",
    "from sklearn.tree import DecisionTreeClassifier"
   ]
  },
  {
   "cell_type": "code",
   "execution_count": 818,
   "metadata": {},
   "outputs": [
    {
     "data": {
      "text/plain": [
       "RandomForestClassifier()"
      ]
     },
     "execution_count": 818,
     "metadata": {},
     "output_type": "execute_result"
    }
   ],
   "source": [
    "forest = RandomForestClassifier()\n",
    "forest.fit(X_train_pre, y_train)"
   ]
  },
  {
   "cell_type": "code",
   "execution_count": 819,
   "metadata": {},
   "outputs": [
    {
     "data": {
      "text/plain": [
       "0.8460152182619143"
      ]
     },
     "execution_count": 819,
     "metadata": {},
     "output_type": "execute_result"
    }
   ],
   "source": [
    "forest.score(X_train_pre, y_train)"
   ]
  },
  {
   "cell_type": "code",
   "execution_count": 820,
   "metadata": {},
   "outputs": [
    {
     "data": {
      "text/plain": [
       "0.7821821821821822"
      ]
     },
     "execution_count": 820,
     "metadata": {},
     "output_type": "execute_result"
    }
   ],
   "source": [
    "forest.score(x_test_pre, y_test)"
   ]
  },
  {
   "cell_type": "code",
   "execution_count": 821,
   "metadata": {},
   "outputs": [],
   "source": [
    "with open('web_app/foresth.pickle', 'wb') as to_write:\n",
    "    pickle.dump(forest, to_write)"
   ]
  },
  {
   "cell_type": "code",
   "execution_count": 822,
   "metadata": {},
   "outputs": [],
   "source": [
    "from sklearn.svm import SVC"
   ]
  },
  {
   "cell_type": "code",
   "execution_count": 823,
   "metadata": {},
   "outputs": [
    {
     "data": {
      "text/plain": [
       "SVC(probability=True)"
      ]
     },
     "execution_count": 823,
     "metadata": {},
     "output_type": "execute_result"
    }
   ],
   "source": [
    "svc = SVC(probability = True)\n",
    "svc.fit(X_train_pre, y_train)"
   ]
  },
  {
   "cell_type": "code",
   "execution_count": 824,
   "metadata": {},
   "outputs": [
    {
     "data": {
      "text/plain": [
       "0.795995995995996"
      ]
     },
     "execution_count": 824,
     "metadata": {},
     "output_type": "execute_result"
    }
   ],
   "source": [
    "svc.score(x_test_pre, y_test)"
   ]
  },
  {
   "cell_type": "code",
   "execution_count": 825,
   "metadata": {},
   "outputs": [],
   "source": [
    "with open('web_app/svch.pickle', 'wb') as to_write:\n",
    "    pickle.dump(svc, to_write)"
   ]
  },
  {
   "cell_type": "code",
   "execution_count": 826,
   "metadata": {},
   "outputs": [
    {
     "data": {
      "text/plain": [
       "0.7964891202776665"
      ]
     },
     "execution_count": 826,
     "metadata": {},
     "output_type": "execute_result"
    }
   ],
   "source": [
    "logith = LogisticRegression()\n",
    "logith.fit(X_train_pre,y_train)\n",
    "logith.score(X_train_pre,y_train)"
   ]
  },
  {
   "cell_type": "code",
   "execution_count": 827,
   "metadata": {},
   "outputs": [
    {
     "data": {
      "text/plain": [
       "(0.7933933933933934,\n",
       " array([[-0.00668492,  0.18563875,  0.07698282,  0.03086803, -0.18426905,\n",
       "          0.06680304,  0.1519236 ,  0.04635977, -0.08714037,  0.17102689,\n",
       "          0.08439475,  0.02737368,  0.03659551,  0.09059987,  0.03907532,\n",
       "         -0.02393347, -0.07636112,  0.03155504, -0.09620349,  0.06458944,\n",
       "         -0.00322434, -0.10605241,  0.0196128 , -0.0017998 , -0.03299172,\n",
       "          0.12026747,  0.08418346, -0.00190188,  0.01490764, -0.02972287,\n",
       "         -0.0012219 ,  0.04268018,  0.03012307,  0.        , -0.05529874,\n",
       "          0.61392254,  0.04724673,  0.04723347,  0.0139961 , -0.00406359,\n",
       "          0.03822783]]))"
      ]
     },
     "execution_count": 827,
     "metadata": {},
     "output_type": "execute_result"
    }
   ],
   "source": [
    "logith.score(x_test_pre,y_test), logith.coef_"
   ]
  },
  {
   "cell_type": "code",
   "execution_count": 828,
   "metadata": {},
   "outputs": [],
   "source": [
    "with open('web_app/logith.pickle', 'wb') as to_write:\n",
    "    pickle.dump(logith, to_write)"
   ]
  },
  {
   "cell_type": "code",
   "execution_count": 829,
   "metadata": {},
   "outputs": [
    {
     "data": {
      "text/plain": [
       "0.7935935935935936"
      ]
     },
     "execution_count": 829,
     "metadata": {},
     "output_type": "execute_result"
    }
   ],
   "source": [
    "xgbh = xgb.XGBClassifier()\n",
    "xgbh.fit(X_train, y_train)\n",
    "xgbh.score(x_test, y_test)"
   ]
  },
  {
   "cell_type": "code",
   "execution_count": 830,
   "metadata": {},
   "outputs": [],
   "source": [
    "with open('web_app/xgbh.pickle', 'wb') as to_write:\n",
    "    pickle.dump(xgbh, to_write)"
   ]
  },
  {
   "cell_type": "code",
   "execution_count": null,
   "metadata": {},
   "outputs": [],
   "source": []
  },
  {
   "cell_type": "code",
   "execution_count": 399,
   "metadata": {},
   "outputs": [],
   "source": [
    "fpr, tpr, thresholds = roc_curve(y_test, knn.predict_proba(x_test_pre)[:,1])\n",
    "fprlog, tprlog, thresholdslog = roc_curve(y_test, logit.predict_proba(x_test_pre)[:,1])\n",
    "fprnb, tprnb, thresholdsnb = roc_curve(y_test, bnb.predict_proba(x_test_pre)[:,1])\n",
    "fprrf, tprrf, thresholdsrf = roc_curve(y_test, forest.predict_proba(x_test_pre)[:,1])\n",
    "\n",
    "fprsvc, tprsvc, thresholdssvc = roc_curve(y_test, svc.predict_proba(x_test_pre)[:,1])"
   ]
  },
  {
   "cell_type": "code",
   "execution_count": 400,
   "metadata": {},
   "outputs": [
    {
     "name": "stdout",
     "output_type": "stream",
     "text": [
      "KNN ROC AUC score =  0.8751513175364334\n",
      "Logit ROC AUC score =  0.898512374287901\n",
      "Naive Bayes ROC AUC score =  0.8968837234211097\n",
      "Random Forest ROC AUC score =  0.9339308586245137\n",
      "SVC ROC AUC score =  0.9260569076664575\n"
     ]
    },
    {
     "data": {
      "image/png": "[encoded data removed]",
      "text/plain": [
       "<Figure size 1080x720 with 1 Axes>"
      ]
     },
     "metadata": {
      "needs_background": "light"
     },
     "output_type": "display_data"
    }
   ],
   "source": [
    "plt.figure(figsize = (15,10))\n",
    "plt.plot(fpr, tpr,lw=2)\n",
    "plt.plot(fprlog, tprlog,lw=2)\n",
    "plt.plot(fprnb, tprnb,lw=2)\n",
    "plt.plot(fprrf, tprrf,lw=2)\n",
    "\n",
    "plt.plot(fprsvc, tprsvc,lw=2)\n",
    "plt.plot([0,1],[0,1],c='violet',ls='--')\n",
    "plt.xlim([-0.05,1.05])\n",
    "plt.ylim([-0.05,1.05])\n",
    "plt.xlabel('False positive rate')\n",
    "plt.ylabel('True positive rate')\n",
    "plt.title('ROC Scores', fontweight=\"bold\", fontsize=20);\n",
    "plt.legend(['KNN','Logit', 'Bernoulli NB', 'Random Forest','SVC'])\n",
    "print(\"KNN ROC AUC score = \", roc_auc_score(y_test, knn.predict_proba(x_test_pre)[:,1]))\n",
    "print(\"Logit ROC AUC score = \", roc_auc_score(y_test, logit.predict_proba(x_test_pre)[:,1]))\n",
    "print(\"Naive Bayes ROC AUC score = \", roc_auc_score(y_test, bnb.predict_proba(x_test_pre)[:,1]))\n",
    "print(\"Random Forest ROC AUC score = \", roc_auc_score(y_test, forest.predict_proba(x_test_pre)[:,1]))\n",
    "print(\"SVC ROC AUC score = \", roc_auc_score(y_test, svc.predict_proba(x_test_pre)[:,1]))"
   ]
  },
  {
   "cell_type": "markdown",
   "metadata": {},
   "source": [
    "### Hops OverSample"
   ]
  },
  {
   "cell_type": "code",
   "execution_count": 57,
   "metadata": {
    "collapsed": true,
    "jupyter": {
     "outputs_hidden": true
    }
   },
   "outputs": [
    {
     "data": {
      "text/plain": [
       "['title',\n",
       " 'bstyle',\n",
       " 'og',\n",
       " 'fg',\n",
       " 'abv',\n",
       " 'ibu',\n",
       " 'srm',\n",
       " 'Mash pH',\n",
       " 'hops',\n",
       " 'others',\n",
       " 'water',\n",
       " 'notes',\n",
       " 'IBU (rager)',\n",
       " 'SRM (daniels)',\n",
       " 'SRM (ebcmorey)',\n",
       " 'SRM (mosher)',\n",
       " 'ABV (alternate)',\n",
       " 'yeast',\n",
       " 'co2',\n",
       " 'chal',\n",
       " 'citra',\n",
       " 'warrior',\n",
       " 'casc',\n",
       " 'saaz',\n",
       " 'azacca',\n",
       " 'colum',\n",
       " 'mag',\n",
       " 'perle',\n",
       " 'simcoe',\n",
       " 'amar',\n",
       " 'cashmere',\n",
       " 'comet',\n",
       " 'galaxy',\n",
       " 'apollo',\n",
       " 'willam',\n",
       " 'goldings',\n",
       " 'heller',\n",
       " 'fug',\n",
       " 'nugg',\n",
       " 'hopshot',\n",
       " 'tett',\n",
       " 'mosaic',\n",
       " 'brewerg',\n",
       " 'northb',\n",
       " 'cent',\n",
       " 'chinook',\n",
       " 'crystal',\n",
       " 'magnum',\n",
       " 'ctz',\n",
       " 'styr',\n",
       " 'idaho',\n",
       " 'nelson',\n",
       " 'exper',\n",
       " 'hall',\n",
       " 'noble',\n",
       " 'dryh',\n",
       " 'lact',\n",
       " 'clone',\n",
       " 'juicy',\n",
       " 'dank',\n",
       " 'wedding',\n",
       " 'whisk',\n",
       " 'trop',\n",
       " 'award',\n",
       " 'best',\n",
       " 'smoke',\n",
       " 'roast',\n",
       " 'thick',\n",
       " 'pine',\n",
       " 'sticky',\n",
       " 'foam',\n",
       " 'hoppy',\n",
       " 'choco',\n",
       " 'coffee',\n",
       " 'straw',\n",
       " 'bisc',\n",
       " 'dark',\n",
       " 'heavy',\n",
       " 'stfruit',\n",
       " 'hazy',\n",
       " 'pheno',\n",
       " 'ester',\n",
       " 'banana',\n",
       " 'bitter',\n",
       " 'clove',\n",
       " 'sour',\n",
       " 'wylon',\n",
       " 'kveik',\n",
       " 'omega',\n",
       " 'us5',\n",
       " 'us4',\n",
       " 'chico',\n",
       " 'yeast_dark',\n",
       " 'wy1056',\n",
       " 'wy1272',\n",
       " 'wlp080',\n",
       " 'wlp80',\n",
       " 'gy054',\n",
       " 'vermont',\n",
       " 'ylager',\n",
       " 'ykolsch',\n",
       " 'ipa',\n",
       " 'saison',\n",
       " 'lager',\n",
       " 'stout',\n",
       " 'kolsch',\n",
       " 'wit',\n",
       " 'puree',\n",
       " 'lovehop',\n",
       " 'strong',\n",
       " 'dry',\n",
       " 'sweet',\n",
       " 'simsty',\n",
       " 'threesty']"
      ]
     },
     "execution_count": 57,
     "metadata": {},
     "output_type": "execute_result"
    }
   ],
   "source": [
    "list(df.columns)"
   ]
  },
  {
   "cell_type": "code",
   "execution_count": 904,
   "metadata": {},
   "outputs": [],
   "source": [
    "ohops = df[['ipa','chal','citra',\n",
    " 'warrior',\n",
    " 'casc',\n",
    " 'saaz',\n",
    "\n",
    " 'azacca',\n",
    " 'colum',\n",
    " 'mag',\n",
    " 'perle',\n",
    " 'simcoe',\n",
    " 'amar',\n",
    " 'cashmere',\n",
    " 'comet',\n",
    " 'galaxy',\n",
    " 'apollo',\n",
    " 'willam',\n",
    " 'goldings',\n",
    " 'heller',\n",
    " 'fug',\n",
    " 'nugg',\n",
    " 'hopshot',\n",
    " 'tett',\n",
    " 'mosaic',\n",
    " 'brewerg',\n",
    " 'northb',\n",
    " 'cent',\n",
    " 'chinook',\n",
    " 'crystal',\n",
    " 'ctz','styr','idaho','nelson','exper','hall','noble','dryh', 'wylon', 'us5', 'us4', 'chico', 'vermont']].dropna()"
   ]
  },
  {
   "cell_type": "code",
   "execution_count": 805,
   "metadata": {},
   "outputs": [
    {
     "data": {
      "text/plain": [
       "0.7208991814231157"
      ]
     },
     "execution_count": 805,
     "metadata": {},
     "output_type": "execute_result"
    }
   ],
   "source": [
    "df.bugu.mean()"
   ]
  },
  {
   "cell_type": "code",
   "execution_count": 906,
   "metadata": {},
   "outputs": [],
   "source": [
    "Xo = ohops.drop(columns =['ipa'])\n",
    "yo= ohops['ipa']"
   ]
  },
  {
   "cell_type": "code",
   "execution_count": 908,
   "metadata": {},
   "outputs": [],
   "source": [
    "Xo_train, xo_test, yo_train, yo_test = train_test_split(Xo, yo, test_size=0.2)\n",
    "Xo_train, xo_val, yo_train, yo_val = train_test_split(Xo_train, yo_train, test_size=0.25)"
   ]
  },
  {
   "cell_type": "code",
   "execution_count": 935,
   "metadata": {},
   "outputs": [],
   "source": [
    "from imblearn.over_sampling import SMOTE, ADASYN"
   ]
  },
  {
   "cell_type": "code",
   "execution_count": 936,
   "metadata": {},
   "outputs": [],
   "source": [
    "ros = ADASYN()\n",
    "Xo_resampled, yo_resampled = ros.fit_sample(Xo_train,yo_train)\n",
    "#X_pre = preprocessing.scale(X)\n",
    "Xo_train_pre = preprocessing.scale(Xo_resampled)\n",
    "#x_test_pre = preprocessing.scale(x_test_resampled)"
   ]
  },
  {
   "cell_type": "code",
   "execution_count": 937,
   "metadata": {},
   "outputs": [],
   "source": [
    "x_test_pre = preprocessing.scale(x_test)"
   ]
  },
  {
   "cell_type": "code",
   "execution_count": 938,
   "metadata": {},
   "outputs": [
    {
     "data": {
      "text/plain": [
       "KNeighborsClassifier(n_neighbors=30)"
      ]
     },
     "execution_count": 938,
     "metadata": {},
     "output_type": "execute_result"
    }
   ],
   "source": [
    "knn = KNeighborsClassifier(n_neighbors = 30)\n",
    "knn.fit(Xo_train_pre, yo_resampled)"
   ]
  },
  {
   "cell_type": "code",
   "execution_count": 939,
   "metadata": {},
   "outputs": [
    {
     "data": {
      "text/plain": [
       "0.6438800674944837"
      ]
     },
     "execution_count": 939,
     "metadata": {},
     "output_type": "execute_result"
    }
   ],
   "source": [
    "knn.score(Xo_train_pre, yo_resampled)"
   ]
  },
  {
   "cell_type": "code",
   "execution_count": 940,
   "metadata": {},
   "outputs": [
    {
     "data": {
      "text/plain": [
       "0.7793793793793794"
      ]
     },
     "execution_count": 940,
     "metadata": {},
     "output_type": "execute_result"
    }
   ],
   "source": [
    "knn.score(x_test_pre,y_test)"
   ]
  },
  {
   "cell_type": "code",
   "execution_count": 799,
   "metadata": {},
   "outputs": [
    {
     "data": {
      "text/plain": [
       "array([0, 0, 0, ..., 0, 0, 0])"
      ]
     },
     "execution_count": 799,
     "metadata": {},
     "output_type": "execute_result"
    }
   ],
   "source": [
    "knn.predict(x_test_pre)"
   ]
  },
  {
   "cell_type": "markdown",
   "metadata": {},
   "source": [
    "Need to beat .82, doesn't"
   ]
  },
  {
   "cell_type": "code",
   "execution_count": 941,
   "metadata": {},
   "outputs": [
    {
     "name": "stdout",
     "output_type": "stream",
     "text": [
      "KNN ROC AUC score =  0.7848085013881652\n"
     ]
    },
    {
     "data": {
      "image/png": "[encoded data removed]",
      "text/plain": [
       "<Figure size 432x288 with 1 Axes>"
      ]
     },
     "metadata": {
      "needs_background": "light"
     },
     "output_type": "display_data"
    }
   ],
   "source": [
    "\n",
    "plt.plot(fpr, tpr,lw=2)\n",
    "\n",
    "plt.plot([0,1],[0,1],c='violet',ls='--')\n",
    "plt.xlim([-0.05,1.05])\n",
    "plt.ylim([-0.05,1.05])\n",
    "plt.xlabel('False positive rate')\n",
    "plt.ylabel('True positive rate')\n",
    "plt.title('ROC Score', fontweight=\"bold\", fontsize=20);\n",
    "plt.legend(['KNN'])\n",
    "print(\"KNN ROC AUC score = \", roc_auc_score(y_test, knn.predict_proba(x_test_pre)[:,1]))"
   ]
  },
  {
   "cell_type": "code",
   "execution_count": 812,
   "metadata": {},
   "outputs": [],
   "source": [
    "with open('web_app/knnh.pickle', 'wb') as to_write:\n",
    "    pickle.dump(knn, to_write)"
   ]
  },
  {
   "cell_type": "markdown",
   "metadata": {},
   "source": [
    "#### Naive Bayes"
   ]
  },
  {
   "cell_type": "code",
   "execution_count": 918,
   "metadata": {},
   "outputs": [
    {
     "data": {
      "text/plain": [
       "0.7561561561561562"
      ]
     },
     "execution_count": 918,
     "metadata": {},
     "output_type": "execute_result"
    }
   ],
   "source": [
    "bnbh = BernoulliNB()\n",
    "bnbh.fit(Xo_train_pre, yo_resampled)\n",
    "bnbh.score(x_test_pre, y_test)"
   ]
  },
  {
   "cell_type": "code",
   "execution_count": 814,
   "metadata": {},
   "outputs": [
    {
     "ename": "ValueError",
     "evalue": "Expected input with 46 features, got 41 instead",
     "output_type": "error",
     "traceback": [
      "\u001b[0;31m---------------------------------------------------------------------------\u001b[0m",
      "\u001b[0;31mValueError\u001b[0m                                Traceback (most recent call last)",
      "\u001b[0;32m<ipython-input-814-69a7b6777eed>\u001b[0m in \u001b[0;36m<module>\u001b[0;34m\u001b[0m\n\u001b[0;32m----> 1\u001b[0;31m \u001b[0mfprbnb\u001b[0m\u001b[0;34m,\u001b[0m \u001b[0mtprbnb\u001b[0m\u001b[0;34m,\u001b[0m \u001b[0mthresholdsbnb\u001b[0m \u001b[0;34m=\u001b[0m \u001b[0mroc_curve\u001b[0m\u001b[0;34m(\u001b[0m\u001b[0my_test\u001b[0m\u001b[0;34m,\u001b[0m \u001b[0mbnb\u001b[0m\u001b[0;34m.\u001b[0m\u001b[0mpredict_proba\u001b[0m\u001b[0;34m(\u001b[0m\u001b[0mx_test_pre\u001b[0m\u001b[0;34m)\u001b[0m\u001b[0;34m[\u001b[0m\u001b[0;34m:\u001b[0m\u001b[0;34m,\u001b[0m\u001b[0;36m1\u001b[0m\u001b[0;34m]\u001b[0m\u001b[0;34m)\u001b[0m\u001b[0;34m\u001b[0m\u001b[0;34m\u001b[0m\u001b[0m\n\u001b[0m",
      "\u001b[0;32m/opt/anaconda3/envs/metis/lib/python3.8/site-packages/sklearn/naive_bayes.py\u001b[0m in \u001b[0;36mpredict_proba\u001b[0;34m(self, X)\u001b[0m\n\u001b[1;32m    116\u001b[0m             \u001b[0morder\u001b[0m\u001b[0;34m,\u001b[0m \u001b[0;32mas\u001b[0m \u001b[0mthey\u001b[0m \u001b[0mappear\u001b[0m \u001b[0;32min\u001b[0m \u001b[0mthe\u001b[0m \u001b[0mattribute\u001b[0m \u001b[0;34m:\u001b[0m\u001b[0mterm\u001b[0m\u001b[0;34m:\u001b[0m\u001b[0;31m`\u001b[0m\u001b[0mclasses_\u001b[0m\u001b[0;31m`\u001b[0m\u001b[0;34m.\u001b[0m\u001b[0;34m\u001b[0m\u001b[0;34m\u001b[0m\u001b[0m\n\u001b[1;32m    117\u001b[0m         \"\"\"\n\u001b[0;32m--> 118\u001b[0;31m         \u001b[0;32mreturn\u001b[0m \u001b[0mnp\u001b[0m\u001b[0;34m.\u001b[0m\u001b[0mexp\u001b[0m\u001b[0;34m(\u001b[0m\u001b[0mself\u001b[0m\u001b[0;34m.\u001b[0m\u001b[0mpredict_log_proba\u001b[0m\u001b[0;34m(\u001b[0m\u001b[0mX\u001b[0m\u001b[0;34m)\u001b[0m\u001b[0;34m)\u001b[0m\u001b[0;34m\u001b[0m\u001b[0;34m\u001b[0m\u001b[0m\n\u001b[0m\u001b[1;32m    119\u001b[0m \u001b[0;34m\u001b[0m\u001b[0m\n\u001b[1;32m    120\u001b[0m \u001b[0;34m\u001b[0m\u001b[0m\n",
      "\u001b[0;32m/opt/anaconda3/envs/metis/lib/python3.8/site-packages/sklearn/naive_bayes.py\u001b[0m in \u001b[0;36mpredict_log_proba\u001b[0;34m(self, X)\u001b[0m\n\u001b[1;32m     96\u001b[0m         \u001b[0mcheck_is_fitted\u001b[0m\u001b[0;34m(\u001b[0m\u001b[0mself\u001b[0m\u001b[0;34m)\u001b[0m\u001b[0;34m\u001b[0m\u001b[0;34m\u001b[0m\u001b[0m\n\u001b[1;32m     97\u001b[0m         \u001b[0mX\u001b[0m \u001b[0;34m=\u001b[0m \u001b[0mself\u001b[0m\u001b[0;34m.\u001b[0m\u001b[0m_check_X\u001b[0m\u001b[0;34m(\u001b[0m\u001b[0mX\u001b[0m\u001b[0;34m)\u001b[0m\u001b[0;34m\u001b[0m\u001b[0;34m\u001b[0m\u001b[0m\n\u001b[0;32m---> 98\u001b[0;31m         \u001b[0mjll\u001b[0m \u001b[0;34m=\u001b[0m \u001b[0mself\u001b[0m\u001b[0;34m.\u001b[0m\u001b[0m_joint_log_likelihood\u001b[0m\u001b[0;34m(\u001b[0m\u001b[0mX\u001b[0m\u001b[0;34m)\u001b[0m\u001b[0;34m\u001b[0m\u001b[0;34m\u001b[0m\u001b[0m\n\u001b[0m\u001b[1;32m     99\u001b[0m         \u001b[0;31m# normalize by P(x) = P(f_1, ..., f_n)\u001b[0m\u001b[0;34m\u001b[0m\u001b[0;34m\u001b[0m\u001b[0;34m\u001b[0m\u001b[0m\n\u001b[1;32m    100\u001b[0m         \u001b[0mlog_prob_x\u001b[0m \u001b[0;34m=\u001b[0m \u001b[0mlogsumexp\u001b[0m\u001b[0;34m(\u001b[0m\u001b[0mjll\u001b[0m\u001b[0;34m,\u001b[0m \u001b[0maxis\u001b[0m\u001b[0;34m=\u001b[0m\u001b[0;36m1\u001b[0m\u001b[0;34m)\u001b[0m\u001b[0;34m\u001b[0m\u001b[0;34m\u001b[0m\u001b[0m\n",
      "\u001b[0;32m/opt/anaconda3/envs/metis/lib/python3.8/site-packages/sklearn/naive_bayes.py\u001b[0m in \u001b[0;36m_joint_log_likelihood\u001b[0;34m(self, X)\u001b[0m\n\u001b[1;32m   1009\u001b[0m \u001b[0;34m\u001b[0m\u001b[0m\n\u001b[1;32m   1010\u001b[0m         \u001b[0;32mif\u001b[0m \u001b[0mn_features_X\u001b[0m \u001b[0;34m!=\u001b[0m \u001b[0mn_features\u001b[0m\u001b[0;34m:\u001b[0m\u001b[0;34m\u001b[0m\u001b[0;34m\u001b[0m\u001b[0m\n\u001b[0;32m-> 1011\u001b[0;31m             raise ValueError(\"Expected input with %d features, got %d instead\"\n\u001b[0m\u001b[1;32m   1012\u001b[0m                              % (n_features, n_features_X))\n\u001b[1;32m   1013\u001b[0m \u001b[0;34m\u001b[0m\u001b[0m\n",
      "\u001b[0;31mValueError\u001b[0m: Expected input with 46 features, got 41 instead"
     ]
    }
   ],
   "source": [
    "fprbnb, tprbnb, thresholdsbnb = roc_curve(y_test, bnb.predict_proba(x_test_pre)[:,1])"
   ]
  },
  {
   "cell_type": "code",
   "execution_count": 815,
   "metadata": {},
   "outputs": [
    {
     "ename": "ValueError",
     "evalue": "Expected input with 46 features, got 41 instead",
     "output_type": "error",
     "traceback": [
      "\u001b[0;31m---------------------------------------------------------------------------\u001b[0m",
      "\u001b[0;31mValueError\u001b[0m                                Traceback (most recent call last)",
      "\u001b[0;32m<ipython-input-815-d0f9f32d3075>\u001b[0m in \u001b[0;36m<module>\u001b[0;34m\u001b[0m\n\u001b[1;32m      8\u001b[0m \u001b[0mplt\u001b[0m\u001b[0;34m.\u001b[0m\u001b[0mtitle\u001b[0m\u001b[0;34m(\u001b[0m\u001b[0;34m'ROC Score'\u001b[0m\u001b[0;34m,\u001b[0m \u001b[0mfontweight\u001b[0m\u001b[0;34m=\u001b[0m\u001b[0;34m\"bold\"\u001b[0m\u001b[0;34m,\u001b[0m \u001b[0mfontsize\u001b[0m\u001b[0;34m=\u001b[0m\u001b[0;36m20\u001b[0m\u001b[0;34m)\u001b[0m\u001b[0;34m;\u001b[0m\u001b[0;34m\u001b[0m\u001b[0;34m\u001b[0m\u001b[0m\n\u001b[1;32m      9\u001b[0m \u001b[0mplt\u001b[0m\u001b[0;34m.\u001b[0m\u001b[0mlegend\u001b[0m\u001b[0;34m(\u001b[0m\u001b[0;34m[\u001b[0m\u001b[0;34m'BNB'\u001b[0m\u001b[0;34m]\u001b[0m\u001b[0;34m)\u001b[0m\u001b[0;34m\u001b[0m\u001b[0;34m\u001b[0m\u001b[0m\n\u001b[0;32m---> 10\u001b[0;31m \u001b[0mprint\u001b[0m\u001b[0;34m(\u001b[0m\u001b[0;34m\"BNB ROC AUC score = \"\u001b[0m\u001b[0;34m,\u001b[0m \u001b[0mroc_auc_score\u001b[0m\u001b[0;34m(\u001b[0m\u001b[0my_test\u001b[0m\u001b[0;34m,\u001b[0m \u001b[0mbnb\u001b[0m\u001b[0;34m.\u001b[0m\u001b[0mpredict_proba\u001b[0m\u001b[0;34m(\u001b[0m\u001b[0mx_test_pre\u001b[0m\u001b[0;34m)\u001b[0m\u001b[0;34m[\u001b[0m\u001b[0;34m:\u001b[0m\u001b[0;34m,\u001b[0m\u001b[0;36m1\u001b[0m\u001b[0;34m]\u001b[0m\u001b[0;34m)\u001b[0m\u001b[0;34m)\u001b[0m\u001b[0;34m\u001b[0m\u001b[0;34m\u001b[0m\u001b[0m\n\u001b[0m",
      "\u001b[0;32m/opt/anaconda3/envs/metis/lib/python3.8/site-packages/sklearn/naive_bayes.py\u001b[0m in \u001b[0;36mpredict_proba\u001b[0;34m(self, X)\u001b[0m\n\u001b[1;32m    116\u001b[0m             \u001b[0morder\u001b[0m\u001b[0;34m,\u001b[0m \u001b[0;32mas\u001b[0m \u001b[0mthey\u001b[0m \u001b[0mappear\u001b[0m \u001b[0;32min\u001b[0m \u001b[0mthe\u001b[0m \u001b[0mattribute\u001b[0m \u001b[0;34m:\u001b[0m\u001b[0mterm\u001b[0m\u001b[0;34m:\u001b[0m\u001b[0;31m`\u001b[0m\u001b[0mclasses_\u001b[0m\u001b[0;31m`\u001b[0m\u001b[0;34m.\u001b[0m\u001b[0;34m\u001b[0m\u001b[0;34m\u001b[0m\u001b[0m\n\u001b[1;32m    117\u001b[0m         \"\"\"\n\u001b[0;32m--> 118\u001b[0;31m         \u001b[0;32mreturn\u001b[0m \u001b[0mnp\u001b[0m\u001b[0;34m.\u001b[0m\u001b[0mexp\u001b[0m\u001b[0;34m(\u001b[0m\u001b[0mself\u001b[0m\u001b[0;34m.\u001b[0m\u001b[0mpredict_log_proba\u001b[0m\u001b[0;34m(\u001b[0m\u001b[0mX\u001b[0m\u001b[0;34m)\u001b[0m\u001b[0;34m)\u001b[0m\u001b[0;34m\u001b[0m\u001b[0;34m\u001b[0m\u001b[0m\n\u001b[0m\u001b[1;32m    119\u001b[0m \u001b[0;34m\u001b[0m\u001b[0m\n\u001b[1;32m    120\u001b[0m \u001b[0;34m\u001b[0m\u001b[0m\n",
      "\u001b[0;32m/opt/anaconda3/envs/metis/lib/python3.8/site-packages/sklearn/naive_bayes.py\u001b[0m in \u001b[0;36mpredict_log_proba\u001b[0;34m(self, X)\u001b[0m\n\u001b[1;32m     96\u001b[0m         \u001b[0mcheck_is_fitted\u001b[0m\u001b[0;34m(\u001b[0m\u001b[0mself\u001b[0m\u001b[0;34m)\u001b[0m\u001b[0;34m\u001b[0m\u001b[0;34m\u001b[0m\u001b[0m\n\u001b[1;32m     97\u001b[0m         \u001b[0mX\u001b[0m \u001b[0;34m=\u001b[0m \u001b[0mself\u001b[0m\u001b[0;34m.\u001b[0m\u001b[0m_check_X\u001b[0m\u001b[0;34m(\u001b[0m\u001b[0mX\u001b[0m\u001b[0;34m)\u001b[0m\u001b[0;34m\u001b[0m\u001b[0;34m\u001b[0m\u001b[0m\n\u001b[0;32m---> 98\u001b[0;31m         \u001b[0mjll\u001b[0m \u001b[0;34m=\u001b[0m \u001b[0mself\u001b[0m\u001b[0;34m.\u001b[0m\u001b[0m_joint_log_likelihood\u001b[0m\u001b[0;34m(\u001b[0m\u001b[0mX\u001b[0m\u001b[0;34m)\u001b[0m\u001b[0;34m\u001b[0m\u001b[0;34m\u001b[0m\u001b[0m\n\u001b[0m\u001b[1;32m     99\u001b[0m         \u001b[0;31m# normalize by P(x) = P(f_1, ..., f_n)\u001b[0m\u001b[0;34m\u001b[0m\u001b[0;34m\u001b[0m\u001b[0;34m\u001b[0m\u001b[0m\n\u001b[1;32m    100\u001b[0m         \u001b[0mlog_prob_x\u001b[0m \u001b[0;34m=\u001b[0m \u001b[0mlogsumexp\u001b[0m\u001b[0;34m(\u001b[0m\u001b[0mjll\u001b[0m\u001b[0;34m,\u001b[0m \u001b[0maxis\u001b[0m\u001b[0;34m=\u001b[0m\u001b[0;36m1\u001b[0m\u001b[0;34m)\u001b[0m\u001b[0;34m\u001b[0m\u001b[0;34m\u001b[0m\u001b[0m\n",
      "\u001b[0;32m/opt/anaconda3/envs/metis/lib/python3.8/site-packages/sklearn/naive_bayes.py\u001b[0m in \u001b[0;36m_joint_log_likelihood\u001b[0;34m(self, X)\u001b[0m\n\u001b[1;32m   1009\u001b[0m \u001b[0;34m\u001b[0m\u001b[0m\n\u001b[1;32m   1010\u001b[0m         \u001b[0;32mif\u001b[0m \u001b[0mn_features_X\u001b[0m \u001b[0;34m!=\u001b[0m \u001b[0mn_features\u001b[0m\u001b[0;34m:\u001b[0m\u001b[0;34m\u001b[0m\u001b[0;34m\u001b[0m\u001b[0m\n\u001b[0;32m-> 1011\u001b[0;31m             raise ValueError(\"Expected input with %d features, got %d instead\"\n\u001b[0m\u001b[1;32m   1012\u001b[0m                              % (n_features, n_features_X))\n\u001b[1;32m   1013\u001b[0m \u001b[0;34m\u001b[0m\u001b[0m\n",
      "\u001b[0;31mValueError\u001b[0m: Expected input with 46 features, got 41 instead"
     ]
    },
    {
     "data": {
      "image/png": "[encoded data removed]",
      "text/plain": [
       "<Figure size 432x288 with 1 Axes>"
      ]
     },
     "metadata": {
      "needs_background": "light"
     },
     "output_type": "display_data"
    }
   ],
   "source": [
    "\n",
    "plt.plot(fprbnb, tprbnb,lw=2)\n",
    "\n",
    "plt.plot([0,1],[0,1],c='violet',ls='--')\n",
    "plt.xlim([-0.05,1.05])\n",
    "plt.ylim([-0.05,1.05])\n",
    "plt.xlabel('False positive rate')\n",
    "plt.ylabel('True positive rate')\n",
    "plt.title('ROC Score', fontweight=\"bold\", fontsize=20);\n",
    "plt.legend(['BNB'])\n",
    "print(\"BNB ROC AUC score = \", roc_auc_score(y_test, bnb.predict_proba(x_test_pre)[:,1]))"
   ]
  },
  {
   "cell_type": "code",
   "execution_count": 816,
   "metadata": {},
   "outputs": [],
   "source": [
    "with open('web_app/bngbh.pickle', 'wb') as to_write:\n",
    "    pickle.dump(bnbh, to_write)"
   ]
  },
  {
   "cell_type": "code",
   "execution_count": 817,
   "metadata": {},
   "outputs": [],
   "source": [
    "from sklearn.ensemble import RandomForestClassifier\n",
    "from sklearn.tree import DecisionTreeClassifier"
   ]
  },
  {
   "cell_type": "code",
   "execution_count": 919,
   "metadata": {},
   "outputs": [
    {
     "data": {
      "text/plain": [
       "RandomForestClassifier()"
      ]
     },
     "execution_count": 919,
     "metadata": {},
     "output_type": "execute_result"
    }
   ],
   "source": [
    "forest = RandomForestClassifier()\n",
    "forest.fit(Xo_train_pre, yo_resampled)"
   ]
  },
  {
   "cell_type": "code",
   "execution_count": 920,
   "metadata": {},
   "outputs": [
    {
     "data": {
      "text/plain": [
       "0.7818048324656254"
      ]
     },
     "execution_count": 920,
     "metadata": {},
     "output_type": "execute_result"
    }
   ],
   "source": [
    "forest.score(X_train_pre, y_train)"
   ]
  },
  {
   "cell_type": "code",
   "execution_count": 921,
   "metadata": {},
   "outputs": [
    {
     "data": {
      "text/plain": [
       "0.7847847847847848"
      ]
     },
     "execution_count": 921,
     "metadata": {},
     "output_type": "execute_result"
    }
   ],
   "source": [
    "forest.score(x_test_pre, y_test)"
   ]
  },
  {
   "cell_type": "code",
   "execution_count": 821,
   "metadata": {},
   "outputs": [],
   "source": [
    "with open('web_app/foresth.pickle', 'wb') as to_write:\n",
    "    pickle.dump(forest, to_write)"
   ]
  },
  {
   "cell_type": "code",
   "execution_count": 822,
   "metadata": {},
   "outputs": [],
   "source": [
    "from sklearn.svm import SVC"
   ]
  },
  {
   "cell_type": "code",
   "execution_count": 922,
   "metadata": {},
   "outputs": [
    {
     "data": {
      "text/plain": [
       "SVC(probability=True)"
      ]
     },
     "execution_count": 922,
     "metadata": {},
     "output_type": "execute_result"
    }
   ],
   "source": [
    "svc = SVC(probability = True)\n",
    "svc.fit(Xo_train_pre, yo_resampled)"
   ]
  },
  {
   "cell_type": "code",
   "execution_count": 923,
   "metadata": {},
   "outputs": [
    {
     "data": {
      "text/plain": [
       "0.7485485485485486"
      ]
     },
     "execution_count": 923,
     "metadata": {},
     "output_type": "execute_result"
    }
   ],
   "source": [
    "svc.score(x_test_pre, y_test)"
   ]
  },
  {
   "cell_type": "code",
   "execution_count": 825,
   "metadata": {},
   "outputs": [],
   "source": [
    "with open('web_app/svch.pickle', 'wb') as to_write:\n",
    "    pickle.dump(svc, to_write)"
   ]
  },
  {
   "cell_type": "code",
   "execution_count": 924,
   "metadata": {},
   "outputs": [
    {
     "data": {
      "text/plain": [
       "0.7363363363363363"
      ]
     },
     "execution_count": 924,
     "metadata": {},
     "output_type": "execute_result"
    }
   ],
   "source": [
    "logith = LogisticRegression()\n",
    "logith.fit(Xo_train_pre,yo_resampled)\n",
    "logith.score(x_test_pre,y_test)"
   ]
  },
  {
   "cell_type": "code",
   "execution_count": 827,
   "metadata": {},
   "outputs": [
    {
     "data": {
      "text/plain": [
       "(0.7933933933933934,\n",
       " array([[-0.00668492,  0.18563875,  0.07698282,  0.03086803, -0.18426905,\n",
       "          0.06680304,  0.1519236 ,  0.04635977, -0.08714037,  0.17102689,\n",
       "          0.08439475,  0.02737368,  0.03659551,  0.09059987,  0.03907532,\n",
       "         -0.02393347, -0.07636112,  0.03155504, -0.09620349,  0.06458944,\n",
       "         -0.00322434, -0.10605241,  0.0196128 , -0.0017998 , -0.03299172,\n",
       "          0.12026747,  0.08418346, -0.00190188,  0.01490764, -0.02972287,\n",
       "         -0.0012219 ,  0.04268018,  0.03012307,  0.        , -0.05529874,\n",
       "          0.61392254,  0.04724673,  0.04723347,  0.0139961 , -0.00406359,\n",
       "          0.03822783]]))"
      ]
     },
     "execution_count": 827,
     "metadata": {},
     "output_type": "execute_result"
    }
   ],
   "source": [
    "logith.score(x_test_pre,y_test), logith.coef_"
   ]
  },
  {
   "cell_type": "code",
   "execution_count": 828,
   "metadata": {},
   "outputs": [],
   "source": [
    "with open('web_app/logith.pickle', 'wb') as to_write:\n",
    "    pickle.dump(logith, to_write)"
   ]
  },
  {
   "cell_type": "code",
   "execution_count": 925,
   "metadata": {},
   "outputs": [
    {
     "data": {
      "text/plain": [
       "0.7685685685685686"
      ]
     },
     "execution_count": 925,
     "metadata": {},
     "output_type": "execute_result"
    }
   ],
   "source": [
    "xgbh = xgb.XGBClassifier()\n",
    "xgbh.fit(Xo_train_pre, yo_resampled)\n",
    "xgbh.score(x_test_pre, y_test)"
   ]
  },
  {
   "cell_type": "code",
   "execution_count": 830,
   "metadata": {},
   "outputs": [],
   "source": [
    "with open('web_app/xgbh.pickle', 'wb') as to_write:\n",
    "    pickle.dump(xgbh, to_write)"
   ]
  },
  {
   "cell_type": "code",
   "execution_count": null,
   "metadata": {},
   "outputs": [],
   "source": []
  },
  {
   "cell_type": "code",
   "execution_count": 926,
   "metadata": {},
   "outputs": [
    {
     "ename": "NameError",
     "evalue": "name 'logit' is not defined",
     "output_type": "error",
     "traceback": [
      "\u001b[0;31m---------------------------------------------------------------------------\u001b[0m",
      "\u001b[0;31mNameError\u001b[0m                                 Traceback (most recent call last)",
      "\u001b[0;32m<ipython-input-926-5c9ea6a6e2e5>\u001b[0m in \u001b[0;36m<module>\u001b[0;34m\u001b[0m\n\u001b[1;32m      1\u001b[0m \u001b[0mfpr\u001b[0m\u001b[0;34m,\u001b[0m \u001b[0mtpr\u001b[0m\u001b[0;34m,\u001b[0m \u001b[0mthresholds\u001b[0m \u001b[0;34m=\u001b[0m \u001b[0mroc_curve\u001b[0m\u001b[0;34m(\u001b[0m\u001b[0my_test\u001b[0m\u001b[0;34m,\u001b[0m \u001b[0mknn\u001b[0m\u001b[0;34m.\u001b[0m\u001b[0mpredict_proba\u001b[0m\u001b[0;34m(\u001b[0m\u001b[0mx_test_pre\u001b[0m\u001b[0;34m)\u001b[0m\u001b[0;34m[\u001b[0m\u001b[0;34m:\u001b[0m\u001b[0;34m,\u001b[0m\u001b[0;36m1\u001b[0m\u001b[0;34m]\u001b[0m\u001b[0;34m)\u001b[0m\u001b[0;34m\u001b[0m\u001b[0;34m\u001b[0m\u001b[0m\n\u001b[0;32m----> 2\u001b[0;31m \u001b[0mfprlog\u001b[0m\u001b[0;34m,\u001b[0m \u001b[0mtprlog\u001b[0m\u001b[0;34m,\u001b[0m \u001b[0mthresholdslog\u001b[0m \u001b[0;34m=\u001b[0m \u001b[0mroc_curve\u001b[0m\u001b[0;34m(\u001b[0m\u001b[0my_test\u001b[0m\u001b[0;34m,\u001b[0m \u001b[0mlogit\u001b[0m\u001b[0;34m.\u001b[0m\u001b[0mpredict_proba\u001b[0m\u001b[0;34m(\u001b[0m\u001b[0mx_test_pre\u001b[0m\u001b[0;34m)\u001b[0m\u001b[0;34m[\u001b[0m\u001b[0;34m:\u001b[0m\u001b[0;34m,\u001b[0m\u001b[0;36m1\u001b[0m\u001b[0;34m]\u001b[0m\u001b[0;34m)\u001b[0m\u001b[0;34m\u001b[0m\u001b[0;34m\u001b[0m\u001b[0m\n\u001b[0m\u001b[1;32m      3\u001b[0m \u001b[0mfprnb\u001b[0m\u001b[0;34m,\u001b[0m \u001b[0mtprnb\u001b[0m\u001b[0;34m,\u001b[0m \u001b[0mthresholdsnb\u001b[0m \u001b[0;34m=\u001b[0m \u001b[0mroc_curve\u001b[0m\u001b[0;34m(\u001b[0m\u001b[0my_test\u001b[0m\u001b[0;34m,\u001b[0m \u001b[0mbnb\u001b[0m\u001b[0;34m.\u001b[0m\u001b[0mpredict_proba\u001b[0m\u001b[0;34m(\u001b[0m\u001b[0mx_test_pre\u001b[0m\u001b[0;34m)\u001b[0m\u001b[0;34m[\u001b[0m\u001b[0;34m:\u001b[0m\u001b[0;34m,\u001b[0m\u001b[0;36m1\u001b[0m\u001b[0;34m]\u001b[0m\u001b[0;34m)\u001b[0m\u001b[0;34m\u001b[0m\u001b[0;34m\u001b[0m\u001b[0m\n\u001b[1;32m      4\u001b[0m \u001b[0mfprrf\u001b[0m\u001b[0;34m,\u001b[0m \u001b[0mtprrf\u001b[0m\u001b[0;34m,\u001b[0m \u001b[0mthresholdsrf\u001b[0m \u001b[0;34m=\u001b[0m \u001b[0mroc_curve\u001b[0m\u001b[0;34m(\u001b[0m\u001b[0my_test\u001b[0m\u001b[0;34m,\u001b[0m \u001b[0mforest\u001b[0m\u001b[0;34m.\u001b[0m\u001b[0mpredict_proba\u001b[0m\u001b[0;34m(\u001b[0m\u001b[0mx_test_pre\u001b[0m\u001b[0;34m)\u001b[0m\u001b[0;34m[\u001b[0m\u001b[0;34m:\u001b[0m\u001b[0;34m,\u001b[0m\u001b[0;36m1\u001b[0m\u001b[0;34m]\u001b[0m\u001b[0;34m)\u001b[0m\u001b[0;34m\u001b[0m\u001b[0;34m\u001b[0m\u001b[0m\n\u001b[1;32m      5\u001b[0m \u001b[0;34m\u001b[0m\u001b[0m\n",
      "\u001b[0;31mNameError\u001b[0m: name 'logit' is not defined"
     ]
    }
   ],
   "source": [
    "fpr, tpr, thresholds = roc_curve(y_test, knn.predict_proba(x_test_pre)[:,1])\n",
    "fprlog, tprlog, thresholdslog = roc_curve(y_test, logith.predict_proba(x_test_pre)[:,1])\n",
    "fprnb, tprnb, thresholdsnb = roc_curve(y_test, bnb.predict_proba(x_test_pre)[:,1])\n",
    "fprrf, tprrf, thresholdsrf = roc_curve(y_test, forest.predict_proba(x_test_pre)[:,1])\n",
    "\n",
    "fprsvc, tprsvc, thresholdssvc = roc_curve(y_test, svc.predict_proba(x_test_pre)[:,1])"
   ]
  },
  {
   "cell_type": "code",
   "execution_count": null,
   "metadata": {},
   "outputs": [],
   "source": [
    "plt.figure(figsize = (15,10))\n",
    "plt.plot(fpr, tpr,lw=2)\n",
    "plt.plot(fprlog, tprlog,lw=2)\n",
    "plt.plot(fprnb, tprnb,lw=2)\n",
    "plt.plot(fprrf, tprrf,lw=2)\n",
    "\n",
    "plt.plot(fprsvc, tprsvc,lw=2)\n",
    "plt.plot([0,1],[0,1],c='violet',ls='--')\n",
    "plt.xlim([-0.05,1.05])\n",
    "plt.ylim([-0.05,1.05])\n",
    "plt.xlabel('False positive rate')\n",
    "plt.ylabel('True positive rate')\n",
    "plt.title('ROC Scores', fontweight=\"bold\", fontsize=20);\n",
    "plt.legend(['KNN','Logit', 'Bernoulli NB', 'Random Forest','SVC'])\n",
    "print(\"KNN ROC AUC score = \", roc_auc_score(y_test, knn.predict_proba(x_test_pre)[:,1]))\n",
    "print(\"Logit ROC AUC score = \", roc_auc_score(y_test, logit.predict_proba(x_test_pre)[:,1]))\n",
    "print(\"Naive Bayes ROC AUC score = \", roc_auc_score(y_test, bnb.predict_proba(x_test_pre)[:,1]))\n",
    "print(\"Random Forest ROC AUC score = \", roc_auc_score(y_test, forest.predict_proba(x_test_pre)[:,1]))\n",
    "print(\"SVC ROC AUC score = \", roc_auc_score(y_test, svc.predict_proba(x_test_pre)[:,1]))"
   ]
  },
  {
   "cell_type": "code",
   "execution_count": 151,
   "metadata": {},
   "outputs": [],
   "source": [
    "import word_search"
   ]
  },
  {
   "cell_type": "code",
   "execution_count": 834,
   "metadata": {},
   "outputs": [
    {
     "data": {
      "text/plain": [
       "['title',\n",
       " 'bstyle',\n",
       " 'og',\n",
       " 'fg',\n",
       " 'abv',\n",
       " 'ibu',\n",
       " 'srm',\n",
       " 'Mash pH',\n",
       " 'hops',\n",
       " 'others',\n",
       " 'water',\n",
       " 'notes',\n",
       " 'IBU (rager)',\n",
       " 'SRM (daniels)',\n",
       " 'SRM (ebcmorey)',\n",
       " 'SRM (mosher)',\n",
       " 'ABV (alternate)',\n",
       " 'yeast',\n",
       " 'co2',\n",
       " 'chal',\n",
       " 'citra',\n",
       " 'warrior',\n",
       " 'casc',\n",
       " 'saaz',\n",
       " 'azacca',\n",
       " 'colum',\n",
       " 'mag',\n",
       " 'perle',\n",
       " 'simcoe',\n",
       " 'amar',\n",
       " 'cashmere',\n",
       " 'comet',\n",
       " 'galaxy',\n",
       " 'apollo',\n",
       " 'willam',\n",
       " 'goldings',\n",
       " 'heller',\n",
       " 'fug',\n",
       " 'nugg',\n",
       " 'hopshot',\n",
       " 'tett',\n",
       " 'mosaic',\n",
       " 'brewerg',\n",
       " 'northb',\n",
       " 'cent',\n",
       " 'chinook',\n",
       " 'crystal',\n",
       " 'magnum',\n",
       " 'ctz',\n",
       " 'styr',\n",
       " 'idaho',\n",
       " 'nelson',\n",
       " 'exper',\n",
       " 'hall',\n",
       " 'noble',\n",
       " 'dryh',\n",
       " 'lact',\n",
       " 'hopcmp',\n",
       " 'clone',\n",
       " 'juicy',\n",
       " 'dank',\n",
       " 'wedding',\n",
       " 'whisk',\n",
       " 'trop',\n",
       " 'award',\n",
       " 'best',\n",
       " 'smoke',\n",
       " 'roast',\n",
       " 'thick',\n",
       " 'pine',\n",
       " 'sticky',\n",
       " 'foam',\n",
       " 'hoppy',\n",
       " 'choco',\n",
       " 'coffee',\n",
       " 'straw',\n",
       " 'bisc',\n",
       " 'dark',\n",
       " 'heavy',\n",
       " 'stfruit',\n",
       " 'hazy',\n",
       " 'pheno',\n",
       " 'ester',\n",
       " 'banana',\n",
       " 'bitter',\n",
       " 'clove',\n",
       " 'sour',\n",
       " 'wylon',\n",
       " 'kveik',\n",
       " 'omega',\n",
       " 'us5',\n",
       " 'us4',\n",
       " 'chico',\n",
       " 'yeast_dark',\n",
       " 'wy1056',\n",
       " 'wy1272',\n",
       " 'wlp080',\n",
       " 'wlp80',\n",
       " 'vermont',\n",
       " 'ylager',\n",
       " 'ykolsch',\n",
       " 'ipa',\n",
       " 'saison',\n",
       " 'lager',\n",
       " 'stout',\n",
       " 'kolsch',\n",
       " 'wit',\n",
       " 'puree',\n",
       " 'lovehop',\n",
       " 'strong',\n",
       " 'dry',\n",
       " 'sweet',\n",
       " 'bugu',\n",
       " 'simsty',\n",
       " 'threesty',\n",
       " 'foursty',\n",
       " 'malt',\n",
       " 'agg',\n",
       " 'balance',\n",
       " 'complex',\n",
       " 'crisp',\n",
       " 'smooth',\n",
       " 'diac',\n",
       " 'apple',\n",
       " 'floral',\n",
       " 'fruity',\n",
       " 'robust',\n",
       " 'wood',\n",
       " 'vanilla',\n",
       " 'cherry',\n",
       " 'funk',\n",
       " 'grapef',\n",
       " 'solvent']"
      ]
     },
     "execution_count": 834,
     "metadata": {},
     "output_type": "execute_result"
    }
   ],
   "source": [
    "list(df.columns)"
   ]
  },
  {
   "cell_type": "code",
   "execution_count": 836,
   "metadata": {},
   "outputs": [],
   "source": [
    "no_null_notes = df.dropna(subset = ['notes'])"
   ]
  },
  {
   "cell_type": "code",
   "execution_count": 886,
   "metadata": {},
   "outputs": [],
   "source": [
    "word_df = no_null_notes[['threesty', 'dryh', 'lact', 'clone', 'juicy', 'dank', 'wedding', 'whisk', 'trop',\\\n",
    "              'award', 'best', 'smoke', 'roast', 'thick',\\\n",
    "              'heavy', 'stfruit', 'hazy', 'pheno', 'banana','clove', \\\n",
    "              'bitter','puree','lovehop', \\\n",
    "              'strong', 'dry', 'sweet', 'sour', 'dark', 'pine', \\\n",
    "            'sticky', 'foam', 'hoppy','bisc','ester', 'straw', 'choco','coffee','malt',\\\n",
    " 'agg',\n",
    " 'balance',\n",
    " 'complex',\n",
    " 'crisp',\n",
    " 'smooth',\n",
    " 'diac',\n",
    " 'apple',\n",
    " 'floral',\n",
    " 'fruity',\n",
    " 'robust',\n",
    " 'wood',\n",
    " 'vanilla',\n",
    " 'cherry',\n",
    " 'funk',\n",
    " 'grapef',\n",
    " 'solvent' ]].dropna()"
   ]
  },
  {
   "cell_type": "code",
   "execution_count": 843,
   "metadata": {},
   "outputs": [
    {
     "data": {
      "text/plain": [
       "(24972, 16767)"
      ]
     },
     "execution_count": 843,
     "metadata": {},
     "output_type": "execute_result"
    }
   ],
   "source": [
    "len(df), len(word_df)"
   ]
  },
  {
   "cell_type": "code",
   "execution_count": 887,
   "metadata": {},
   "outputs": [],
   "source": [
    "X3b = word_df.drop(columns =['threesty'])\n",
    "y3b = word_df['threesty']"
   ]
  },
  {
   "cell_type": "code",
   "execution_count": 854,
   "metadata": {},
   "outputs": [
    {
     "data": {
      "text/plain": [
       "Index(['dryh', 'lact', 'clone', 'juicy', 'dank', 'wedding', 'whisk', 'trop',\n",
       "       'award', 'best', 'smoke', 'roast', 'thick', 'heavy', 'stfruit', 'hazy',\n",
       "       'pheno', 'banana', 'clove', 'bitter', 'puree', 'lovehop', 'strong',\n",
       "       'dry', 'sweet', 'sour', 'dark', 'sticky', 'pine', 'sticky', 'foam',\n",
       "       'hoppy', 'bisc', 'ester', 'straw', 'choco', 'coffee', 'malt', 'agg',\n",
       "       'balance', 'complex', 'crisp', 'smooth', 'diac', 'apple', 'floral',\n",
       "       'fruity', 'robust', 'wood', 'vanilla', 'cherry', 'funk', 'grapef',\n",
       "       'solvent'],\n",
       "      dtype='object')"
      ]
     },
     "execution_count": 854,
     "metadata": {},
     "output_type": "execute_result"
    }
   ],
   "source": [
    "X3b.columns"
   ]
  },
  {
   "cell_type": "code",
   "execution_count": 888,
   "metadata": {},
   "outputs": [],
   "source": [
    "X3b_train, x3b_test, y3b_train, y3b_test = train_test_split(X3b, y3b, test_size=0.2)\n",
    "X3b_train, x3b_val, y3b_train, y3b_val = train_test_split(X3b_train, y3b_train, test_size=0.25)"
   ]
  },
  {
   "cell_type": "code",
   "execution_count": 889,
   "metadata": {},
   "outputs": [],
   "source": [
    "X3b_pre = preprocessing.scale(X3b)\n",
    "X3b_train_pre = preprocessing.scale(X3b_train)\n",
    "x3b_test_pre = preprocessing.scale(x3b_test)"
   ]
  },
  {
   "cell_type": "code",
   "execution_count": 52,
   "metadata": {},
   "outputs": [],
   "source": [
    "ros = RandomOverSampler(random_state=0)\n",
    "X_resampled, y_resampled = ros.fit_sample(X3b_train_pre,y3b_train)"
   ]
  },
  {
   "cell_type": "code",
   "execution_count": 890,
   "metadata": {},
   "outputs": [
    {
     "data": {
      "text/plain": [
       "RandomForestClassifier()"
      ]
     },
     "execution_count": 890,
     "metadata": {},
     "output_type": "execute_result"
    }
   ],
   "source": [
    "forest3b = RandomForestClassifier() #, 4:2, 5:2, 8:2, 15:2 , 16: 2, 20:2, 22:2, 23:2\n",
    "forest3b.fit(X3b_train_pre, y3b_train)"
   ]
  },
  {
   "cell_type": "code",
   "execution_count": 891,
   "metadata": {},
   "outputs": [
    {
     "data": {
      "text/plain": [
       "0.7248235411074659"
      ]
     },
     "execution_count": 891,
     "metadata": {},
     "output_type": "execute_result"
    }
   ],
   "source": [
    "forest3b.score(X3b_train_pre, y3b_train)"
   ]
  },
  {
   "cell_type": "code",
   "execution_count": 892,
   "metadata": {},
   "outputs": [
    {
     "data": {
      "text/plain": [
       "0.6332737030411449"
      ]
     },
     "execution_count": 892,
     "metadata": {},
     "output_type": "execute_result"
    }
   ],
   "source": [
    "forest3b.score(x3b_test_pre, y3b_test)"
   ]
  },
  {
   "cell_type": "code",
   "execution_count": 67,
   "metadata": {},
   "outputs": [
    {
     "data": {
      "text/plain": [
       "array(['Strong/Dark Ales'], dtype=object)"
      ]
     },
     "execution_count": 67,
     "metadata": {},
     "output_type": "execute_result"
    }
   ],
   "source": [
    "forest3b.predict(bro_df)"
   ]
  },
  {
   "cell_type": "code",
   "execution_count": 893,
   "metadata": {},
   "outputs": [],
   "source": [
    "with open('web_app/f3.pickle', 'wb') as to_write:\n",
    "    pickle.dump(forest3b, to_write)"
   ]
  },
  {
   "cell_type": "code",
   "execution_count": 119,
   "metadata": {},
   "outputs": [
    {
     "name": "stdout",
     "output_type": "stream",
     "text": [
      "[0.3362931224679302, 0.29885397700135047, 0.3917841227855375, 0.402244950407192, 0.4115505116872223, 0.4534497671283691, 0.4570836434651687, 0.4522929854846178, 0.45895682964852264, 0.4595608896884296, 0.4588451518817627, 0.4580204638521647, 0.46325031700120506, 0.4638004928974759, 0.4680390657010758, 0.4641858039223292, 0.4650108859304803, 0.4676538455943501, 0.46908459386266266, 0.4686448531854076, 0.46787420082965825, 0.46655243309031924, 0.46693792595142797, 0.4680935256595201, 0.46814837959651756, 0.4683135172223178, 0.4689193956247773, 0.4679834238069723, 0.47029568393464566, 0.4705710749432065, 0.47194730264098983, 0.4716169061652188, 0.47304832116646744, 0.47266279799931626, 0.47167185102034387, 0.4726628586114015, 0.4720024596384126, 0.4725527870648961, 0.4726630404476567, 0.47282799623720184, 0.47238752821492574, 0.47178161950642367, 0.47178171042455136, 0.47249741792517563, 0.4717265837331711, 0.47156129457715795, 0.4721121978184499, 0.47348860735248843, 0.4738738880712992, 0.47370868983341374]\n"
     ]
    }
   ],
   "source": [
    "k_options = list(range(1, 51))\n",
    "k_scores = []\n",
    "for k in k_options:\n",
    "    knn_bro = KNeighborsClassifier(n_neighbors=k)\n",
    "    scores = cross_val_score(knn_bro, X, y, cv=10, scoring='accuracy')\n",
    "    k_scores.append(scores.mean())\n",
    "print(k_scores)"
   ]
  },
  {
   "cell_type": "code",
   "execution_count": 120,
   "metadata": {},
   "outputs": [
    {
     "data": {
      "text/plain": [
       "[<matplotlib.lines.Line2D at 0x7faaac51de50>]"
      ]
     },
     "execution_count": 120,
     "metadata": {},
     "output_type": "execute_result"
    },
    {
     "data": {
      "image/png": "[encoded data removed]",
      "text/plain": [
       "<Figure size 432x288 with 1 Axes>"
      ]
     },
     "metadata": {
      "needs_background": "light"
     },
     "output_type": "display_data"
    }
   ],
   "source": [
    "dict_k = (dict(zip(range(50), k_scores)))\n",
    "plt.plot(k_scores)"
   ]
  },
  {
   "cell_type": "code",
   "execution_count": 885,
   "metadata": {},
   "outputs": [
    {
     "data": {
      "text/plain": [
       "Pale Ales and Lagers                   8395\n",
       "Strong/Dark Ales                       6639\n",
       "Other (Sours, Wild, Holiday styles)    1733\n",
       "Name: threesty, dtype: int64"
      ]
     },
     "execution_count": 885,
     "metadata": {},
     "output_type": "execute_result"
    }
   ],
   "source": [
    "y3b.value_counts()"
   ]
  },
  {
   "cell_type": "code",
   "execution_count": 128,
   "metadata": {},
   "outputs": [],
   "source": [
    "max_kv = max(dict_k.values())\n",
    "for key, value in dict_k.items():\n",
    "    if value == max_kv:\n",
    "        best_k = key"
   ]
  },
  {
   "cell_type": "code",
   "execution_count": 894,
   "metadata": {},
   "outputs": [
    {
     "data": {
      "text/plain": [
       "KNeighborsClassifier(n_neighbors=43)"
      ]
     },
     "execution_count": 894,
     "metadata": {},
     "output_type": "execute_result"
    }
   ],
   "source": [
    "knn3b = KNeighborsClassifier(n_neighbors = 43)\n",
    "knn3b.fit(X3b_train_pre, y3b_train)"
   ]
  },
  {
   "cell_type": "code",
   "execution_count": 895,
   "metadata": {},
   "outputs": [
    {
     "data": {
      "text/plain": [
       "0.635450840043742"
      ]
     },
     "execution_count": 895,
     "metadata": {},
     "output_type": "execute_result"
    }
   ],
   "source": [
    "knn3b.score(X3b_train, y3b_train)"
   ]
  },
  {
   "cell_type": "code",
   "execution_count": 896,
   "metadata": {},
   "outputs": [
    {
     "data": {
      "text/plain": [
       "0.6356589147286822"
      ]
     },
     "execution_count": 896,
     "metadata": {},
     "output_type": "execute_result"
    }
   ],
   "source": [
    "knn3b.score(x3b_test,y3b_test)"
   ]
  },
  {
   "cell_type": "code",
   "execution_count": 897,
   "metadata": {},
   "outputs": [],
   "source": [
    "with open('web_app/knn3b.pickle', 'wb') as to_write:\n",
    "    pickle.dump(knn3b, to_write)"
   ]
  },
  {
   "cell_type": "code",
   "execution_count": 898,
   "metadata": {},
   "outputs": [
    {
     "data": {
      "text/plain": [
       "(0.6808827915299731, 0.6392367322599881)"
      ]
     },
     "execution_count": 898,
     "metadata": {},
     "output_type": "execute_result"
    }
   ],
   "source": [
    "svc3b = SVC()\n",
    "svc3b.fit(X3b_train_pre, y3b_train)\n",
    "svc3b.score(X3b_train_pre, y3b_train), svc3b.score(x3b_test_pre, y3b_test)"
   ]
  },
  {
   "cell_type": "code",
   "execution_count": 899,
   "metadata": {},
   "outputs": [],
   "source": [
    "with open('web_app/svc3b.pickle', 'wb') as to_write:\n",
    "    pickle.dump(svc3b, to_write)"
   ]
  },
  {
   "cell_type": "code",
   "execution_count": 367,
   "metadata": {},
   "outputs": [],
   "source": [
    "import xgboost as xgb"
   ]
  },
  {
   "cell_type": "code",
   "execution_count": 900,
   "metadata": {},
   "outputs": [
    {
     "data": {
      "text/plain": [
       "0.6443053070960048"
      ]
     },
     "execution_count": 900,
     "metadata": {},
     "output_type": "execute_result"
    }
   ],
   "source": [
    "xgbm = xgb.XGBClassifier(learning_rate = .02, n_estimators = 100 ,max_depth = 4, min_child_weight = 1, objective='multi:softmax')\n",
    "xgbm.fit(X3b_train_pre, y3b_train)\n",
    "xgbm.score(x3b_test_pre, y3b_test)"
   ]
  },
  {
   "cell_type": "code",
   "execution_count": 901,
   "metadata": {},
   "outputs": [],
   "source": [
    "with open('web_app/xgb3b.pickle', 'wb') as to_write:\n",
    "    pickle.dump(xgbm, to_write)"
   ]
  },
  {
   "cell_type": "code",
   "execution_count": 902,
   "metadata": {},
   "outputs": [
    {
     "data": {
      "text/plain": [
       "(0.6108957152798489, 0.6150864639236733)"
      ]
     },
     "execution_count": 902,
     "metadata": {},
     "output_type": "execute_result"
    }
   ],
   "source": [
    "mnb3b = MultinomialNB()\n",
    "mnb3b.fit(abs(X3b_train_pre), y3b_train)\n",
    "mnb3b.score(abs(X3b_train_pre), y3b_train), mnb3b.score(abs(x3b_test_pre), y3b_test)"
   ]
  },
  {
   "cell_type": "code",
   "execution_count": 903,
   "metadata": {},
   "outputs": [],
   "source": [
    "with open('web_app/mnb3b.pickle', 'wb') as to_write:\n",
    "    pickle.dump(mnb3b, to_write)"
   ]
  },
  {
   "cell_type": "code",
   "execution_count": 370,
   "metadata": {},
   "outputs": [],
   "source": [
    "abv = 6\n",
    "srm = 6\n",
    "ibu = 75\n",
    "bugu = .72\n",
    "hopcmp = 90\n",
    "nums = [abv, srm, ibu]"
   ]
  },
  {
   "cell_type": "code",
   "execution_count": 371,
   "metadata": {},
   "outputs": [],
   "source": [
    "review = \"wow, mango and papaya tropical tastes. Juicy and hazy. A real hoppy beer for hop lovers!\""
   ]
  },
  {
   "cell_type": "code",
   "execution_count": 372,
   "metadata": {},
   "outputs": [],
   "source": [
    "bro = word_search.search_desc(review)\n",
    "    #'This beer is incredibly dank and bitter. Bone dry and delicious. Only for true hop lovers. Hazy stone fruit bomb. Tropical.')"
   ]
  },
  {
   "cell_type": "code",
   "execution_count": 373,
   "metadata": {},
   "outputs": [],
   "source": [
    "w_nums = np.append(bro, nums)\n"
   ]
  },
  {
   "cell_type": "code",
   "execution_count": 374,
   "metadata": {},
   "outputs": [],
   "source": [
    "bro_df = pd.DataFrame(w_nums).T"
   ]
  },
  {
   "cell_type": "code",
   "execution_count": 349,
   "metadata": {},
   "outputs": [
    {
     "data": {
      "text/html": [
       "<div>\n",
       "<style scoped>\n",
       "    .dataframe tbody tr th:only-of-type {\n",
       "        vertical-align: middle;\n",
       "    }\n",
       "\n",
       "    .dataframe tbody tr th {\n",
       "        vertical-align: top;\n",
       "    }\n",
       "\n",
       "    .dataframe thead th {\n",
       "        text-align: right;\n",
       "    }\n",
       "</style>\n",
       "<table border=\"1\" class=\"dataframe\">\n",
       "  <thead>\n",
       "    <tr style=\"text-align: right;\">\n",
       "      <th></th>\n",
       "      <th>0</th>\n",
       "      <th>1</th>\n",
       "      <th>2</th>\n",
       "      <th>3</th>\n",
       "      <th>4</th>\n",
       "      <th>5</th>\n",
       "      <th>6</th>\n",
       "      <th>7</th>\n",
       "      <th>8</th>\n",
       "      <th>9</th>\n",
       "      <th>...</th>\n",
       "      <th>31</th>\n",
       "      <th>32</th>\n",
       "      <th>33</th>\n",
       "      <th>34</th>\n",
       "      <th>35</th>\n",
       "      <th>36</th>\n",
       "      <th>37</th>\n",
       "      <th>38</th>\n",
       "      <th>39</th>\n",
       "      <th>40</th>\n",
       "    </tr>\n",
       "  </thead>\n",
       "  <tbody>\n",
       "    <tr>\n",
       "      <th>0</th>\n",
       "      <td>0.0</td>\n",
       "      <td>0.0</td>\n",
       "      <td>0.0</td>\n",
       "      <td>1.0</td>\n",
       "      <td>0.0</td>\n",
       "      <td>0.0</td>\n",
       "      <td>0.0</td>\n",
       "      <td>2.0</td>\n",
       "      <td>0.0</td>\n",
       "      <td>0.0</td>\n",
       "      <td>...</td>\n",
       "      <td>0.0</td>\n",
       "      <td>0.0</td>\n",
       "      <td>0.0</td>\n",
       "      <td>0.0</td>\n",
       "      <td>0.0</td>\n",
       "      <td>6.0</td>\n",
       "      <td>6.0</td>\n",
       "      <td>75.0</td>\n",
       "      <td>0.72</td>\n",
       "      <td>90.0</td>\n",
       "    </tr>\n",
       "  </tbody>\n",
       "</table>\n",
       "<p>1 rows × 41 columns</p>\n",
       "</div>"
      ],
      "text/plain": [
       "    0    1    2    3    4    5    6    7    8    9   ...   31   32   33   34  \\\n",
       "0  0.0  0.0  0.0  1.0  0.0  0.0  0.0  2.0  0.0  0.0  ...  0.0  0.0  0.0  0.0   \n",
       "\n",
       "    35   36   37    38    39    40  \n",
       "0  0.0  6.0  6.0  75.0  0.72  90.0  \n",
       "\n",
       "[1 rows x 41 columns]"
      ]
     },
     "execution_count": 349,
     "metadata": {},
     "output_type": "execute_result"
    }
   ],
   "source": [
    "bro_df"
   ]
  },
  {
   "cell_type": "code",
   "execution_count": 350,
   "metadata": {},
   "outputs": [
    {
     "data": {
      "text/plain": [
       "array(['Strong/Dark Ales'], dtype=object)"
      ]
     },
     "execution_count": 350,
     "metadata": {},
     "output_type": "execute_result"
    }
   ],
   "source": [
    "svc3b.predict(bro_df)"
   ]
  },
  {
   "cell_type": "code",
   "execution_count": 375,
   "metadata": {},
   "outputs": [
    {
     "data": {
      "text/plain": [
       "('Strong/Dark Ales',\n",
       " 'Pale Ales and Lagers',\n",
       " 'Pale Ales and Lagers',\n",
       " 'Pale Ales and Lagers')"
      ]
     },
     "execution_count": 375,
     "metadata": {},
     "output_type": "execute_result"
    }
   ],
   "source": [
    "(forest3b.predict(bro_df)[0], knn3b.predict(bro_df)[0], svc3b.predict(bro_df)[0], mnb3b.predict(bro_df)[0]) #xgbm.predict(bro_df)[0])"
   ]
  },
  {
   "cell_type": "code",
   "execution_count": 376,
   "metadata": {},
   "outputs": [],
   "source": [
    "forpredtabsvc = pd.DataFrame(svc3b.predict(x3b_test_pre))"
   ]
  },
  {
   "cell_type": "code",
   "execution_count": 377,
   "metadata": {},
   "outputs": [
    {
     "data": {
      "text/plain": [
       "Pale Ales and Lagers                   1792\n",
       "Strong/Dark Ales                       1179\n",
       "Other (Sours, Wild, Holiday styles)      45\n",
       "dtype: int64"
      ]
     },
     "execution_count": 377,
     "metadata": {},
     "output_type": "execute_result"
    }
   ],
   "source": [
    "forpredtabsvc.value_counts()"
   ]
  },
  {
   "cell_type": "code",
   "execution_count": 378,
   "metadata": {},
   "outputs": [],
   "source": [
    "forpredtabmnb = pd.DataFrame(mnb3b.predict(x3b_test_pre))"
   ]
  },
  {
   "cell_type": "code",
   "execution_count": 379,
   "metadata": {},
   "outputs": [
    {
     "data": {
      "text/plain": [
       "Pale Ales and Lagers                   1939\n",
       "Strong/Dark Ales                        910\n",
       "Other (Sours, Wild, Holiday styles)     167\n",
       "dtype: int64"
      ]
     },
     "execution_count": 379,
     "metadata": {},
     "output_type": "execute_result"
    }
   ],
   "source": [
    "forpredtabmnb.value_counts()"
   ]
  },
  {
   "cell_type": "code",
   "execution_count": 380,
   "metadata": {},
   "outputs": [],
   "source": [
    "forpredtabfor = pd.DataFrame(forest3b.predict(x3b_test_pre))"
   ]
  },
  {
   "cell_type": "code",
   "execution_count": 381,
   "metadata": {},
   "outputs": [
    {
     "data": {
      "text/plain": [
       "Pale Ales and Lagers                   1645\n",
       "Strong/Dark Ales                       1267\n",
       "Other (Sours, Wild, Holiday styles)     104\n",
       "dtype: int64"
      ]
     },
     "execution_count": 381,
     "metadata": {},
     "output_type": "execute_result"
    }
   ],
   "source": [
    "forpredtabfor.value_counts()"
   ]
  },
  {
   "cell_type": "code",
   "execution_count": 382,
   "metadata": {},
   "outputs": [],
   "source": [
    "forpredtabknn = pd.DataFrame(knn3b.predict(x3b_test_pre))"
   ]
  },
  {
   "cell_type": "code",
   "execution_count": 383,
   "metadata": {},
   "outputs": [
    {
     "data": {
      "text/plain": [
       "Pale Ales and Lagers                   1855\n",
       "Strong/Dark Ales                       1127\n",
       "Other (Sours, Wild, Holiday styles)      34\n",
       "dtype: int64"
      ]
     },
     "execution_count": 383,
     "metadata": {},
     "output_type": "execute_result"
    }
   ],
   "source": [
    "forpredtabknn.value_counts()"
   ]
  },
  {
   "cell_type": "code",
   "execution_count": 384,
   "metadata": {},
   "outputs": [],
   "source": [
    "forpredtrues = pd.DataFrame(y3b_test)"
   ]
  },
  {
   "cell_type": "code",
   "execution_count": 227,
   "metadata": {},
   "outputs": [
    {
     "data": {
      "text/plain": [
       "('TRUES',\n",
       " threesty                           \n",
       " Pale Ales and Lagers                   1609\n",
       " Strong/Dark Ales                       1151\n",
       " Other (Sours, Wild, Holiday styles)     335\n",
       " dtype: int64)"
      ]
     },
     "execution_count": 227,
     "metadata": {},
     "output_type": "execute_result"
    }
   ],
   "source": [
    "\"TRUES\", forpredtrues.value_counts()"
   ]
  },
  {
   "cell_type": "code",
   "execution_count": 550,
   "metadata": {},
   "outputs": [
    {
     "data": {
      "text/plain": [
       "Pale Ales and Lagers                   13697\n",
       "Strong/Dark Ales                       10577\n",
       "Other (Sours, Wild, Holiday styles)     2722\n",
       "Name: threesty, dtype: int64"
      ]
     },
     "execution_count": 550,
     "metadata": {},
     "output_type": "execute_result"
    }
   ],
   "source": [
    "df.threesty.value_counts()"
   ]
  },
  {
   "cell_type": "code",
   "execution_count": 214,
   "metadata": {},
   "outputs": [],
   "source": [
    "from sklearn.model_selection import train_test_split, cross_val_score, GridSearchCV"
   ]
  },
  {
   "cell_type": "code",
   "execution_count": 215,
   "metadata": {},
   "outputs": [],
   "source": [
    "from sklearn.metrics import precision_score, recall_score, precision_recall_curve,f1_score, f1_score, accuracy_score"
   ]
  },
  {
   "cell_type": "code",
   "execution_count": 216,
   "metadata": {},
   "outputs": [],
   "source": [
    "from sklearn.metrics import confusion_matrix"
   ]
  },
  {
   "cell_type": "code",
   "execution_count": 217,
   "metadata": {
    "collapsed": true,
    "jupyter": {
     "outputs_hidden": true
    }
   },
   "outputs": [
    {
     "ename": "ValueError",
     "evalue": "Target is multiclass but average='binary'. Please choose another average setting, one of [None, 'micro', 'macro', 'weighted'].",
     "output_type": "error",
     "traceback": [
      "\u001b[0;31m---------------------------------------------------------------------------\u001b[0m",
      "\u001b[0;31mValueError\u001b[0m                                Traceback (most recent call last)",
      "\u001b[0;32m<ipython-input-217-46cc6f767330>\u001b[0m in \u001b[0;36m<module>\u001b[0;34m\u001b[0m\n\u001b[1;32m      9\u001b[0m \u001b[0mplt\u001b[0m\u001b[0;34m.\u001b[0m\u001b[0mylabel\u001b[0m\u001b[0;34m(\u001b[0m\u001b[0;34m'Actual'\u001b[0m\u001b[0;34m)\u001b[0m\u001b[0;34m\u001b[0m\u001b[0;34m\u001b[0m\u001b[0m\n\u001b[1;32m     10\u001b[0m \u001b[0mplt\u001b[0m\u001b[0;34m.\u001b[0m\u001b[0mtitle\u001b[0m\u001b[0;34m(\u001b[0m\u001b[0;34m'kNN3b confusion matrix'\u001b[0m\u001b[0;34m)\u001b[0m\u001b[0;34m\u001b[0m\u001b[0;34m\u001b[0m\u001b[0m\n\u001b[0;32m---> 11\u001b[0;31m \u001b[0mprint\u001b[0m\u001b[0;34m(\u001b[0m\u001b[0;34m\"Precision Score: \"\u001b[0m\u001b[0;34m,\u001b[0m \u001b[0mprecision_score\u001b[0m\u001b[0;34m(\u001b[0m\u001b[0my3b_test\u001b[0m\u001b[0;34m,\u001b[0m\u001b[0mknn3b\u001b[0m\u001b[0;34m.\u001b[0m\u001b[0mpredict\u001b[0m\u001b[0;34m(\u001b[0m\u001b[0mx3b_test_pre\u001b[0m\u001b[0;34m)\u001b[0m\u001b[0;34m)\u001b[0m\u001b[0;34m)\u001b[0m\u001b[0;34m\u001b[0m\u001b[0;34m\u001b[0m\u001b[0m\n\u001b[0m\u001b[1;32m     12\u001b[0m \u001b[0mprint\u001b[0m\u001b[0;34m(\u001b[0m\u001b[0;34m\"Recall Score: \"\u001b[0m\u001b[0;34m,\u001b[0m \u001b[0mrecall_score\u001b[0m\u001b[0;34m(\u001b[0m\u001b[0my3b_test\u001b[0m\u001b[0;34m,\u001b[0m\u001b[0mknn3b\u001b[0m\u001b[0;34m.\u001b[0m\u001b[0mpredict\u001b[0m\u001b[0;34m(\u001b[0m\u001b[0mx3b_test_pre\u001b[0m\u001b[0;34m)\u001b[0m\u001b[0;34m)\u001b[0m\u001b[0;34m)\u001b[0m\u001b[0;34m\u001b[0m\u001b[0;34m\u001b[0m\u001b[0m\n\u001b[1;32m     13\u001b[0m \u001b[0mprint\u001b[0m\u001b[0;34m(\u001b[0m\u001b[0;34m\"Accuracy : \"\u001b[0m\u001b[0;34m,\u001b[0m \u001b[0maccuracy_score\u001b[0m\u001b[0;34m(\u001b[0m\u001b[0my3b_test\u001b[0m\u001b[0;34m,\u001b[0m \u001b[0mknn3b\u001b[0m\u001b[0;34m.\u001b[0m\u001b[0mpredict\u001b[0m\u001b[0;34m(\u001b[0m\u001b[0mx3b_test_pre\u001b[0m\u001b[0;34m)\u001b[0m\u001b[0;34m)\u001b[0m\u001b[0;34m)\u001b[0m\u001b[0;34m;\u001b[0m\u001b[0;34m\u001b[0m\u001b[0;34m\u001b[0m\u001b[0m\n",
      "\u001b[0;32m/opt/anaconda3/envs/metis/lib/python3.8/site-packages/sklearn/utils/validation.py\u001b[0m in \u001b[0;36minner_f\u001b[0;34m(*args, **kwargs)\u001b[0m\n\u001b[1;32m     70\u001b[0m                           FutureWarning)\n\u001b[1;32m     71\u001b[0m         \u001b[0mkwargs\u001b[0m\u001b[0;34m.\u001b[0m\u001b[0mupdate\u001b[0m\u001b[0;34m(\u001b[0m\u001b[0;34m{\u001b[0m\u001b[0mk\u001b[0m\u001b[0;34m:\u001b[0m \u001b[0marg\u001b[0m \u001b[0;32mfor\u001b[0m \u001b[0mk\u001b[0m\u001b[0;34m,\u001b[0m \u001b[0marg\u001b[0m \u001b[0;32min\u001b[0m \u001b[0mzip\u001b[0m\u001b[0;34m(\u001b[0m\u001b[0msig\u001b[0m\u001b[0;34m.\u001b[0m\u001b[0mparameters\u001b[0m\u001b[0;34m,\u001b[0m \u001b[0margs\u001b[0m\u001b[0;34m)\u001b[0m\u001b[0;34m}\u001b[0m\u001b[0;34m)\u001b[0m\u001b[0;34m\u001b[0m\u001b[0;34m\u001b[0m\u001b[0m\n\u001b[0;32m---> 72\u001b[0;31m         \u001b[0;32mreturn\u001b[0m \u001b[0mf\u001b[0m\u001b[0;34m(\u001b[0m\u001b[0;34m**\u001b[0m\u001b[0mkwargs\u001b[0m\u001b[0;34m)\u001b[0m\u001b[0;34m\u001b[0m\u001b[0;34m\u001b[0m\u001b[0m\n\u001b[0m\u001b[1;32m     73\u001b[0m     \u001b[0;32mreturn\u001b[0m \u001b[0minner_f\u001b[0m\u001b[0;34m\u001b[0m\u001b[0;34m\u001b[0m\u001b[0m\n\u001b[1;32m     74\u001b[0m \u001b[0;34m\u001b[0m\u001b[0m\n",
      "\u001b[0;32m/opt/anaconda3/envs/metis/lib/python3.8/site-packages/sklearn/metrics/_classification.py\u001b[0m in \u001b[0;36mprecision_score\u001b[0;34m(y_true, y_pred, labels, pos_label, average, sample_weight, zero_division)\u001b[0m\n\u001b[1;32m   1615\u001b[0m \u001b[0;34m\u001b[0m\u001b[0m\n\u001b[1;32m   1616\u001b[0m     \"\"\"\n\u001b[0;32m-> 1617\u001b[0;31m     p, _, _, _ = precision_recall_fscore_support(y_true, y_pred,\n\u001b[0m\u001b[1;32m   1618\u001b[0m                                                  \u001b[0mlabels\u001b[0m\u001b[0;34m=\u001b[0m\u001b[0mlabels\u001b[0m\u001b[0;34m,\u001b[0m\u001b[0;34m\u001b[0m\u001b[0;34m\u001b[0m\u001b[0m\n\u001b[1;32m   1619\u001b[0m                                                  \u001b[0mpos_label\u001b[0m\u001b[0;34m=\u001b[0m\u001b[0mpos_label\u001b[0m\u001b[0;34m,\u001b[0m\u001b[0;34m\u001b[0m\u001b[0;34m\u001b[0m\u001b[0m\n",
      "\u001b[0;32m/opt/anaconda3/envs/metis/lib/python3.8/site-packages/sklearn/utils/validation.py\u001b[0m in \u001b[0;36minner_f\u001b[0;34m(*args, **kwargs)\u001b[0m\n\u001b[1;32m     70\u001b[0m                           FutureWarning)\n\u001b[1;32m     71\u001b[0m         \u001b[0mkwargs\u001b[0m\u001b[0;34m.\u001b[0m\u001b[0mupdate\u001b[0m\u001b[0;34m(\u001b[0m\u001b[0;34m{\u001b[0m\u001b[0mk\u001b[0m\u001b[0;34m:\u001b[0m \u001b[0marg\u001b[0m \u001b[0;32mfor\u001b[0m \u001b[0mk\u001b[0m\u001b[0;34m,\u001b[0m \u001b[0marg\u001b[0m \u001b[0;32min\u001b[0m \u001b[0mzip\u001b[0m\u001b[0;34m(\u001b[0m\u001b[0msig\u001b[0m\u001b[0;34m.\u001b[0m\u001b[0mparameters\u001b[0m\u001b[0;34m,\u001b[0m \u001b[0margs\u001b[0m\u001b[0;34m)\u001b[0m\u001b[0;34m}\u001b[0m\u001b[0;34m)\u001b[0m\u001b[0;34m\u001b[0m\u001b[0;34m\u001b[0m\u001b[0m\n\u001b[0;32m---> 72\u001b[0;31m         \u001b[0;32mreturn\u001b[0m \u001b[0mf\u001b[0m\u001b[0;34m(\u001b[0m\u001b[0;34m**\u001b[0m\u001b[0mkwargs\u001b[0m\u001b[0;34m)\u001b[0m\u001b[0;34m\u001b[0m\u001b[0;34m\u001b[0m\u001b[0m\n\u001b[0m\u001b[1;32m     73\u001b[0m     \u001b[0;32mreturn\u001b[0m \u001b[0minner_f\u001b[0m\u001b[0;34m\u001b[0m\u001b[0;34m\u001b[0m\u001b[0m\n\u001b[1;32m     74\u001b[0m \u001b[0;34m\u001b[0m\u001b[0m\n",
      "\u001b[0;32m/opt/anaconda3/envs/metis/lib/python3.8/site-packages/sklearn/metrics/_classification.py\u001b[0m in \u001b[0;36mprecision_recall_fscore_support\u001b[0;34m(y_true, y_pred, beta, labels, pos_label, average, warn_for, sample_weight, zero_division)\u001b[0m\n\u001b[1;32m   1431\u001b[0m     \u001b[0;32mif\u001b[0m \u001b[0mbeta\u001b[0m \u001b[0;34m<\u001b[0m \u001b[0;36m0\u001b[0m\u001b[0;34m:\u001b[0m\u001b[0;34m\u001b[0m\u001b[0;34m\u001b[0m\u001b[0m\n\u001b[1;32m   1432\u001b[0m         \u001b[0;32mraise\u001b[0m \u001b[0mValueError\u001b[0m\u001b[0;34m(\u001b[0m\u001b[0;34m\"beta should be >=0 in the F-beta score\"\u001b[0m\u001b[0;34m)\u001b[0m\u001b[0;34m\u001b[0m\u001b[0;34m\u001b[0m\u001b[0m\n\u001b[0;32m-> 1433\u001b[0;31m     labels = _check_set_wise_labels(y_true, y_pred, average, labels,\n\u001b[0m\u001b[1;32m   1434\u001b[0m                                     pos_label)\n\u001b[1;32m   1435\u001b[0m \u001b[0;34m\u001b[0m\u001b[0m\n",
      "\u001b[0;32m/opt/anaconda3/envs/metis/lib/python3.8/site-packages/sklearn/metrics/_classification.py\u001b[0m in \u001b[0;36m_check_set_wise_labels\u001b[0;34m(y_true, y_pred, average, labels, pos_label)\u001b[0m\n\u001b[1;32m   1261\u001b[0m             \u001b[0;32mif\u001b[0m \u001b[0my_type\u001b[0m \u001b[0;34m==\u001b[0m \u001b[0;34m'multiclass'\u001b[0m\u001b[0;34m:\u001b[0m\u001b[0;34m\u001b[0m\u001b[0;34m\u001b[0m\u001b[0m\n\u001b[1;32m   1262\u001b[0m                 \u001b[0maverage_options\u001b[0m\u001b[0;34m.\u001b[0m\u001b[0mremove\u001b[0m\u001b[0;34m(\u001b[0m\u001b[0;34m'samples'\u001b[0m\u001b[0;34m)\u001b[0m\u001b[0;34m\u001b[0m\u001b[0;34m\u001b[0m\u001b[0m\n\u001b[0;32m-> 1263\u001b[0;31m             raise ValueError(\"Target is %s but average='binary'. Please \"\n\u001b[0m\u001b[1;32m   1264\u001b[0m                              \u001b[0;34m\"choose another average setting, one of %r.\"\u001b[0m\u001b[0;34m\u001b[0m\u001b[0;34m\u001b[0m\u001b[0m\n\u001b[1;32m   1265\u001b[0m                              % (y_type, average_options))\n",
      "\u001b[0;31mValueError\u001b[0m: Target is multiclass but average='binary'. Please choose another average setting, one of [None, 'micro', 'macro', 'weighted']."
     ]
    },
    {
     "data": {
      "image/png": "[encoded data removed]",
      "text/plain": [
       "<Figure size 900x600 with 2 Axes>"
      ]
     },
     "metadata": {
      "needs_background": "light"
     },
     "output_type": "display_data"
    }
   ],
   "source": [
    "# Print confusion matrix for kNN\n",
    "knn3b_confusion = confusion_matrix(y3b_test, knn3b.predict(x3b_test_pre))\n",
    "plt.figure(dpi=150)\n",
    "sns.heatmap(knn3b_confusion, cmap=plt.cm.GnBu, annot=True, square=True,\n",
    "           xticklabels=['Other', 'Pale', 'Dark'],\n",
    "           yticklabels=['Other', 'Pale', 'Dark'], fmt = 'g')\n",
    "\n",
    "plt.xlabel('Predicted')\n",
    "plt.ylabel('Actual')\n",
    "plt.title('kNN3b confusion matrix')\n",
    "print(\"Precision Score: \", precision_score(y3b_test,knn3b.predict(x3b_test_pre)))\n",
    "print(\"Recall Score: \", recall_score(y3b_test,knn3b.predict(x3b_test_pre)))\n",
    "print(\"Accuracy : \", accuracy_score(y3b_test, knn3b.predict(x3b_test_pre)));"
   ]
  },
  {
   "cell_type": "markdown",
   "metadata": {},
   "source": [
    "# Predicting Quants"
   ]
  },
  {
   "cell_type": "code",
   "execution_count": 386,
   "metadata": {},
   "outputs": [],
   "source": [
    "corr_df = df[['ipa', 'threesty', 'foursty', 'og', 'fg', 'abv', 'srm', 'ibu', 'bugu', 'hopcmp']]"
   ]
  },
  {
   "cell_type": "code",
   "execution_count": 9,
   "metadata": {},
   "outputs": [
    {
     "data": {
      "text/html": [
       "<div>\n",
       "<style scoped>\n",
       "    .dataframe tbody tr th:only-of-type {\n",
       "        vertical-align: middle;\n",
       "    }\n",
       "\n",
       "    .dataframe tbody tr th {\n",
       "        vertical-align: top;\n",
       "    }\n",
       "\n",
       "    .dataframe thead th {\n",
       "        text-align: right;\n",
       "    }\n",
       "</style>\n",
       "<table border=\"1\" class=\"dataframe\">\n",
       "  <thead>\n",
       "    <tr style=\"text-align: right;\">\n",
       "      <th></th>\n",
       "      <th>ipa</th>\n",
       "      <th>og</th>\n",
       "      <th>fg</th>\n",
       "      <th>abv</th>\n",
       "      <th>srm</th>\n",
       "      <th>ibu</th>\n",
       "      <th>bugu</th>\n",
       "      <th>hopcmp</th>\n",
       "    </tr>\n",
       "  </thead>\n",
       "  <tbody>\n",
       "    <tr>\n",
       "      <th>ipa</th>\n",
       "      <td>1.000000</td>\n",
       "      <td>0.037788</td>\n",
       "      <td>0.030705</td>\n",
       "      <td>0.155020</td>\n",
       "      <td>-0.170530</td>\n",
       "      <td>0.514471</td>\n",
       "      <td>0.437217</td>\n",
       "      <td>0.406334</td>\n",
       "    </tr>\n",
       "    <tr>\n",
       "      <th>og</th>\n",
       "      <td>0.037788</td>\n",
       "      <td>1.000000</td>\n",
       "      <td>0.980055</td>\n",
       "      <td>0.180430</td>\n",
       "      <td>0.060313</td>\n",
       "      <td>0.052124</td>\n",
       "      <td>-0.012195</td>\n",
       "      <td>0.024153</td>\n",
       "    </tr>\n",
       "    <tr>\n",
       "      <th>fg</th>\n",
       "      <td>0.030705</td>\n",
       "      <td>0.980055</td>\n",
       "      <td>1.000000</td>\n",
       "      <td>0.159587</td>\n",
       "      <td>0.106518</td>\n",
       "      <td>0.057145</td>\n",
       "      <td>-0.015861</td>\n",
       "      <td>0.015112</td>\n",
       "    </tr>\n",
       "    <tr>\n",
       "      <th>abv</th>\n",
       "      <td>0.155020</td>\n",
       "      <td>0.180430</td>\n",
       "      <td>0.159587</td>\n",
       "      <td>1.000000</td>\n",
       "      <td>0.281197</td>\n",
       "      <td>0.265004</td>\n",
       "      <td>-0.017909</td>\n",
       "      <td>0.112851</td>\n",
       "    </tr>\n",
       "    <tr>\n",
       "      <th>srm</th>\n",
       "      <td>-0.170530</td>\n",
       "      <td>0.060313</td>\n",
       "      <td>0.106518</td>\n",
       "      <td>0.281197</td>\n",
       "      <td>1.000000</td>\n",
       "      <td>0.044608</td>\n",
       "      <td>-0.041714</td>\n",
       "      <td>-0.122126</td>\n",
       "    </tr>\n",
       "    <tr>\n",
       "      <th>ibu</th>\n",
       "      <td>0.514471</td>\n",
       "      <td>0.052124</td>\n",
       "      <td>0.057145</td>\n",
       "      <td>0.265004</td>\n",
       "      <td>0.044608</td>\n",
       "      <td>1.000000</td>\n",
       "      <td>0.859581</td>\n",
       "      <td>0.339367</td>\n",
       "    </tr>\n",
       "    <tr>\n",
       "      <th>bugu</th>\n",
       "      <td>0.437217</td>\n",
       "      <td>-0.012195</td>\n",
       "      <td>-0.015861</td>\n",
       "      <td>-0.017909</td>\n",
       "      <td>-0.041714</td>\n",
       "      <td>0.859581</td>\n",
       "      <td>1.000000</td>\n",
       "      <td>0.287475</td>\n",
       "    </tr>\n",
       "    <tr>\n",
       "      <th>hopcmp</th>\n",
       "      <td>0.406334</td>\n",
       "      <td>0.024153</td>\n",
       "      <td>0.015112</td>\n",
       "      <td>0.112851</td>\n",
       "      <td>-0.122126</td>\n",
       "      <td>0.339367</td>\n",
       "      <td>0.287475</td>\n",
       "      <td>1.000000</td>\n",
       "    </tr>\n",
       "  </tbody>\n",
       "</table>\n",
       "</div>"
      ],
      "text/plain": [
       "             ipa        og        fg       abv       srm       ibu      bugu  \\\n",
       "ipa     1.000000  0.037788  0.030705  0.155020 -0.170530  0.514471  0.437217   \n",
       "og      0.037788  1.000000  0.980055  0.180430  0.060313  0.052124 -0.012195   \n",
       "fg      0.030705  0.980055  1.000000  0.159587  0.106518  0.057145 -0.015861   \n",
       "abv     0.155020  0.180430  0.159587  1.000000  0.281197  0.265004 -0.017909   \n",
       "srm    -0.170530  0.060313  0.106518  0.281197  1.000000  0.044608 -0.041714   \n",
       "ibu     0.514471  0.052124  0.057145  0.265004  0.044608  1.000000  0.859581   \n",
       "bugu    0.437217 -0.012195 -0.015861 -0.017909 -0.041714  0.859581  1.000000   \n",
       "hopcmp  0.406334  0.024153  0.015112  0.112851 -0.122126  0.339367  0.287475   \n",
       "\n",
       "          hopcmp  \n",
       "ipa     0.406334  \n",
       "og      0.024153  \n",
       "fg      0.015112  \n",
       "abv     0.112851  \n",
       "srm    -0.122126  \n",
       "ibu     0.339367  \n",
       "bugu    0.287475  \n",
       "hopcmp  1.000000  "
      ]
     },
     "execution_count": 9,
     "metadata": {},
     "output_type": "execute_result"
    }
   ],
   "source": [
    "corr_df.corr()"
   ]
  },
  {
   "cell_type": "code",
   "execution_count": 387,
   "metadata": {},
   "outputs": [],
   "source": [
    "corr_df = corr_df.dropna()"
   ]
  },
  {
   "cell_type": "code",
   "execution_count": 347,
   "metadata": {},
   "outputs": [],
   "source": [
    "X = corr_df.drop(columns =['ipa', 'threesty', 'foursty'])\n",
    "y= corr_df['ipa']"
   ]
  },
  {
   "cell_type": "code",
   "execution_count": 71,
   "metadata": {},
   "outputs": [],
   "source": [
    "X_train, x_test, y_train, y_test = train_test_split(X, y, test_size=0.2)\n",
    "X_train, x_val, y_train, y_val = train_test_split(X_train, y_train, test_size=0.25)"
   ]
  },
  {
   "cell_type": "code",
   "execution_count": 15,
   "metadata": {},
   "outputs": [],
   "source": [
    "from sklearn import preprocessing"
   ]
  },
  {
   "cell_type": "code",
   "execution_count": 72,
   "metadata": {},
   "outputs": [],
   "source": [
    "X_pre = preprocessing.scale(X)\n",
    "X_train_pre = preprocessing.scale(X_train)\n",
    "x_test_pre = preprocessing.scale(x_test)"
   ]
  },
  {
   "cell_type": "code",
   "execution_count": 164,
   "metadata": {},
   "outputs": [
    {
     "data": {
      "text/plain": [
       "RandomForestClassifier(max_depth=100, n_estimators=800)"
      ]
     },
     "execution_count": 164,
     "metadata": {},
     "output_type": "execute_result"
    }
   ],
   "source": [
    "forestC = RandomForestClassifier(n_estimators = 800, min_samples_split = 2, min_samples_leaf = 1, max_features = 'auto', max_depth =  100, bootstrap = True)\n",
    "forestC.fit(X_train, y_train)"
   ]
  },
  {
   "cell_type": "code",
   "execution_count": 165,
   "metadata": {},
   "outputs": [
    {
     "data": {
      "text/plain": [
       "1.0"
      ]
     },
     "execution_count": 165,
     "metadata": {},
     "output_type": "execute_result"
    }
   ],
   "source": [
    "forestC.score(X_train, y_train)"
   ]
  },
  {
   "cell_type": "code",
   "execution_count": 166,
   "metadata": {},
   "outputs": [
    {
     "data": {
      "text/plain": [
       "0.9088300220750551"
      ]
     },
     "execution_count": 166,
     "metadata": {},
     "output_type": "execute_result"
    }
   ],
   "source": [
    "forestC.score(x_test, y_test)"
   ]
  },
  {
   "cell_type": "markdown",
   "metadata": {},
   "source": [
    "### Let's Random Search CV"
   ]
  },
  {
   "cell_type": "code",
   "execution_count": 155,
   "metadata": {},
   "outputs": [],
   "source": [
    "from sklearn.model_selection import RandomizedSearchCV\n",
    "# Number of trees in random forest\n",
    "n_estimators = [int(x) for x in np.linspace(start = 200, stop = 2000, num = 10)]\n",
    "# Number of features to consider at every split\n",
    "max_features = ['auto', 'sqrt']\n",
    "# Maximum number of levels in tree\n",
    "max_depth = [int(x) for x in np.linspace(10, 110, num = 11)]\n",
    "max_depth.append(None)\n",
    "# Minimum number of samples required to split a node\n",
    "min_samples_split = [2, 5, 10]\n",
    "# Minimum number of samples required at each leaf node\n",
    "min_samples_leaf = [1, 2, 4]\n",
    "# Method of selecting samples for training each tree\n",
    "bootstrap = [True, False]\n",
    "# Create the random grid\n",
    "random_grid = {'n_estimators': n_estimators,\n",
    "               'max_features': max_features,\n",
    "               'max_depth': max_depth,\n",
    "               'min_samples_split': min_samples_split,\n",
    "               'min_samples_leaf': min_samples_leaf,\n",
    "               'bootstrap': bootstrap}"
   ]
  },
  {
   "cell_type": "code",
   "execution_count": 156,
   "metadata": {},
   "outputs": [
    {
     "name": "stdout",
     "output_type": "stream",
     "text": [
      "Fitting 3 folds for each of 100 candidates, totalling 300 fits\n"
     ]
    },
    {
     "name": "stderr",
     "output_type": "stream",
     "text": [
      "[Parallel(n_jobs=-1)]: Using backend LokyBackend with 8 concurrent workers.\n",
      "[Parallel(n_jobs=-1)]: Done  25 tasks      | elapsed:  1.9min\n",
      "[Parallel(n_jobs=-1)]: Done 146 tasks      | elapsed: 10.3min\n",
      "[Parallel(n_jobs=-1)]: Done 300 out of 300 | elapsed: 21.6min finished\n"
     ]
    },
    {
     "data": {
      "text/plain": [
       "RandomizedSearchCV(cv=3, estimator=RandomForestClassifier(), n_iter=100,\n",
       "                   n_jobs=-1,\n",
       "                   param_distributions={'bootstrap': [True, False],\n",
       "                                        'max_depth': [10, 20, 30, 40, 50, 60,\n",
       "                                                      70, 80, 90, 100, 110,\n",
       "                                                      None],\n",
       "                                        'max_features': ['auto', 'sqrt'],\n",
       "                                        'min_samples_leaf': [1, 2, 4],\n",
       "                                        'min_samples_split': [2, 5, 10],\n",
       "                                        'n_estimators': [200, 400, 600, 800,\n",
       "                                                         1000, 1200, 1400, 1600,\n",
       "                                                         1800, 2000]},\n",
       "                   random_state=42, verbose=2)"
      ]
     },
     "execution_count": 156,
     "metadata": {},
     "output_type": "execute_result"
    }
   ],
   "source": [
    "# Use the random grid to search for best hyperparameters\n",
    "# First create the base model to tune\n",
    "# Random search of parameters, using 3 fold cross validation, \n",
    "# search across 100 different combinations, and use all available cores\n",
    "rf_random = RandomizedSearchCV(estimator = forestC, param_distributions = random_grid, n_iter = 100, cv = 3, verbose=2, random_state=42, n_jobs = -1)\n",
    "# Fit the random search model\n",
    "rf_random.fit(X_train_pre, y_train)"
   ]
  },
  {
   "cell_type": "code",
   "execution_count": 157,
   "metadata": {},
   "outputs": [
    {
     "data": {
      "text/plain": [
       "{'n_estimators': 800,\n",
       " 'min_samples_split': 2,\n",
       " 'min_samples_leaf': 1,\n",
       " 'max_features': 'auto',\n",
       " 'max_depth': 100,\n",
       " 'bootstrap': True}"
      ]
     },
     "execution_count": 157,
     "metadata": {},
     "output_type": "execute_result"
    }
   ],
   "source": [
    "rf_random.best_params_"
   ]
  },
  {
   "cell_type": "code",
   "execution_count": 20,
   "metadata": {},
   "outputs": [],
   "source": [
    "from get_stats import get_stats"
   ]
  },
  {
   "cell_type": "code",
   "execution_count": null,
   "metadata": {},
   "outputs": [],
   "source": [
    "0\t1.047\t1.014\t4.27\t10.07\t20.80\t0.442553\t18.9"
   ]
  },
  {
   "cell_type": "code",
   "execution_count": 239,
   "metadata": {},
   "outputs": [
    {
     "name": "stdin",
     "output_type": "stream",
     "text": [
      "Enter Original Gravity:  1.047\n",
      "Enter Final Gravity:  1.014\n",
      "Enter ABV:  4.27\n",
      "Enter SRM:  10.07\n",
      "Enter IBU:  20.80\n",
      "On a scale of 1-100, how hoppy is this beer? :  18.9\n"
     ]
    }
   ],
   "source": [
    "test_df = get_stats()"
   ]
  },
  {
   "cell_type": "code",
   "execution_count": 106,
   "metadata": {},
   "outputs": [],
   "source": [
    "from collections import defaultdict"
   ]
  },
  {
   "cell_type": "code",
   "execution_count": 240,
   "metadata": {},
   "outputs": [],
   "source": [
    "preds = [knnq.predict(test_df)[0], svcq.predict(test_df)[0], bnbq.predict(test_df)[0], logq.predict(test_df)[0]] #forestC.predict(test_df)[0]]\n",
    "clean_pred = defaultdict(int)\n",
    "for pred in preds:\n",
    "    if pred == 1:\n",
    "        clean_pred['IPA'] +=1\n",
    "    if pred == 0:\n",
    "        clean_pred['NOT IPA'] += 1\n",
    "res_dic = dict(clean_pred)"
   ]
  },
  {
   "cell_type": "code",
   "execution_count": 244,
   "metadata": {},
   "outputs": [
    {
     "data": {
      "text/plain": [
       "({'IPA': 3, 'NOT IPA': 1}, [1, 0, 1, 1])"
      ]
     },
     "execution_count": 244,
     "metadata": {},
     "output_type": "execute_result"
    }
   ],
   "source": [
    "res_dic, preds"
   ]
  },
  {
   "cell_type": "code",
   "execution_count": 243,
   "metadata": {},
   "outputs": [
    {
     "name": "stdout",
     "output_type": "stream",
     "text": [
      "IPA\n"
     ]
    }
   ],
   "source": [
    "for key, value in res_dic.items():\n",
    "    if value == len(preds)/2:\n",
    "        print(\"TIE\")\n",
    "        break\n",
    "    elif value > len(preds)/2:\n",
    "        print(key)\n",
    "    else:\n",
    "        continue"
   ]
  },
  {
   "cell_type": "code",
   "execution_count": 242,
   "metadata": {},
   "outputs": [
    {
     "name": "stdout",
     "output_type": "stream",
     "text": [
      "NOT IPA\n"
     ]
    }
   ],
   "source": [
    "svcpred = svcq.predict(test_df)[0]\n",
    "if svcpred == 0:\n",
    "    print('NOT IPA')\n",
    "elif svcpred == 1:\n",
    "    print('IPA')"
   ]
  },
  {
   "cell_type": "code",
   "execution_count": 221,
   "metadata": {},
   "outputs": [
    {
     "data": {
      "text/html": [
       "<div>\n",
       "<style scoped>\n",
       "    .dataframe tbody tr th:only-of-type {\n",
       "        vertical-align: middle;\n",
       "    }\n",
       "\n",
       "    .dataframe tbody tr th {\n",
       "        vertical-align: top;\n",
       "    }\n",
       "\n",
       "    .dataframe thead th {\n",
       "        text-align: right;\n",
       "    }\n",
       "</style>\n",
       "<table border=\"1\" class=\"dataframe\">\n",
       "  <thead>\n",
       "    <tr style=\"text-align: right;\">\n",
       "      <th></th>\n",
       "      <th>ipa</th>\n",
       "      <th>og</th>\n",
       "      <th>fg</th>\n",
       "      <th>abv</th>\n",
       "      <th>srm</th>\n",
       "      <th>ibu</th>\n",
       "      <th>bugu</th>\n",
       "      <th>hopcmp</th>\n",
       "    </tr>\n",
       "  </thead>\n",
       "  <tbody>\n",
       "    <tr>\n",
       "      <th>21222</th>\n",
       "      <td>0</td>\n",
       "      <td>1.054</td>\n",
       "      <td>1.013</td>\n",
       "      <td>5.29</td>\n",
       "      <td>16.03</td>\n",
       "      <td>22.07</td>\n",
       "      <td>0.408704</td>\n",
       "      <td>18.9</td>\n",
       "    </tr>\n",
       "    <tr>\n",
       "      <th>14616</th>\n",
       "      <td>1</td>\n",
       "      <td>1.059</td>\n",
       "      <td>1.011</td>\n",
       "      <td>6.19</td>\n",
       "      <td>6.73</td>\n",
       "      <td>43.00</td>\n",
       "      <td>0.728814</td>\n",
       "      <td>59.5</td>\n",
       "    </tr>\n",
       "    <tr>\n",
       "      <th>15947</th>\n",
       "      <td>0</td>\n",
       "      <td>1.040</td>\n",
       "      <td>1.009</td>\n",
       "      <td>4.04</td>\n",
       "      <td>48.83</td>\n",
       "      <td>20.17</td>\n",
       "      <td>0.504250</td>\n",
       "      <td>8.7</td>\n",
       "    </tr>\n",
       "    <tr>\n",
       "      <th>3969</th>\n",
       "      <td>0</td>\n",
       "      <td>1.050</td>\n",
       "      <td>1.013</td>\n",
       "      <td>4.82</td>\n",
       "      <td>3.30</td>\n",
       "      <td>8.18</td>\n",
       "      <td>0.163600</td>\n",
       "      <td>14.5</td>\n",
       "    </tr>\n",
       "    <tr>\n",
       "      <th>9581</th>\n",
       "      <td>0</td>\n",
       "      <td>1.055</td>\n",
       "      <td>1.013</td>\n",
       "      <td>5.52</td>\n",
       "      <td>4.04</td>\n",
       "      <td>35.92</td>\n",
       "      <td>0.653091</td>\n",
       "      <td>35.5</td>\n",
       "    </tr>\n",
       "    <tr>\n",
       "      <th>4358</th>\n",
       "      <td>0</td>\n",
       "      <td>1.052</td>\n",
       "      <td>1.013</td>\n",
       "      <td>5.07</td>\n",
       "      <td>13.53</td>\n",
       "      <td>19.06</td>\n",
       "      <td>0.366538</td>\n",
       "      <td>9.1</td>\n",
       "    </tr>\n",
       "    <tr>\n",
       "      <th>16530</th>\n",
       "      <td>0</td>\n",
       "      <td>1.052</td>\n",
       "      <td>1.010</td>\n",
       "      <td>5.50</td>\n",
       "      <td>9.21</td>\n",
       "      <td>36.87</td>\n",
       "      <td>0.709038</td>\n",
       "      <td>41.1</td>\n",
       "    </tr>\n",
       "    <tr>\n",
       "      <th>13722</th>\n",
       "      <td>0</td>\n",
       "      <td>1.053</td>\n",
       "      <td>1.008</td>\n",
       "      <td>5.96</td>\n",
       "      <td>4.81</td>\n",
       "      <td>27.66</td>\n",
       "      <td>0.521887</td>\n",
       "      <td>27.7</td>\n",
       "    </tr>\n",
       "    <tr>\n",
       "      <th>1785</th>\n",
       "      <td>1</td>\n",
       "      <td>1.086</td>\n",
       "      <td>1.020</td>\n",
       "      <td>8.62</td>\n",
       "      <td>8.89</td>\n",
       "      <td>100.24</td>\n",
       "      <td>1.165581</td>\n",
       "      <td>59.5</td>\n",
       "    </tr>\n",
       "    <tr>\n",
       "      <th>16319</th>\n",
       "      <td>0</td>\n",
       "      <td>1.047</td>\n",
       "      <td>1.014</td>\n",
       "      <td>4.27</td>\n",
       "      <td>10.07</td>\n",
       "      <td>20.80</td>\n",
       "      <td>0.442553</td>\n",
       "      <td>18.9</td>\n",
       "    </tr>\n",
       "    <tr>\n",
       "      <th>4524</th>\n",
       "      <td>0</td>\n",
       "      <td>1.047</td>\n",
       "      <td>1.009</td>\n",
       "      <td>4.91</td>\n",
       "      <td>5.12</td>\n",
       "      <td>19.04</td>\n",
       "      <td>0.405106</td>\n",
       "      <td>16.2</td>\n",
       "    </tr>\n",
       "    <tr>\n",
       "      <th>16037</th>\n",
       "      <td>0</td>\n",
       "      <td>1.055</td>\n",
       "      <td>1.019</td>\n",
       "      <td>4.79</td>\n",
       "      <td>40.55</td>\n",
       "      <td>28.92</td>\n",
       "      <td>0.525818</td>\n",
       "      <td>33.2</td>\n",
       "    </tr>\n",
       "    <tr>\n",
       "      <th>12894</th>\n",
       "      <td>1</td>\n",
       "      <td>1.065</td>\n",
       "      <td>1.012</td>\n",
       "      <td>7.02</td>\n",
       "      <td>22.47</td>\n",
       "      <td>59.24</td>\n",
       "      <td>0.911385</td>\n",
       "      <td>44.8</td>\n",
       "    </tr>\n",
       "    <tr>\n",
       "      <th>19036</th>\n",
       "      <td>0</td>\n",
       "      <td>1.053</td>\n",
       "      <td>1.009</td>\n",
       "      <td>5.76</td>\n",
       "      <td>6.25</td>\n",
       "      <td>46.04</td>\n",
       "      <td>0.868679</td>\n",
       "      <td>40.8</td>\n",
       "    </tr>\n",
       "    <tr>\n",
       "      <th>21485</th>\n",
       "      <td>0</td>\n",
       "      <td>1.054</td>\n",
       "      <td>1.009</td>\n",
       "      <td>5.84</td>\n",
       "      <td>5.88</td>\n",
       "      <td>45.61</td>\n",
       "      <td>0.844630</td>\n",
       "      <td>74.9</td>\n",
       "    </tr>\n",
       "    <tr>\n",
       "      <th>21327</th>\n",
       "      <td>1</td>\n",
       "      <td>1.059</td>\n",
       "      <td>1.011</td>\n",
       "      <td>6.23</td>\n",
       "      <td>4.12</td>\n",
       "      <td>26.09</td>\n",
       "      <td>0.442203</td>\n",
       "      <td>43.1</td>\n",
       "    </tr>\n",
       "    <tr>\n",
       "      <th>22965</th>\n",
       "      <td>0</td>\n",
       "      <td>1.070</td>\n",
       "      <td>1.019</td>\n",
       "      <td>6.58</td>\n",
       "      <td>4.12</td>\n",
       "      <td>66.41</td>\n",
       "      <td>0.948714</td>\n",
       "      <td>66.4</td>\n",
       "    </tr>\n",
       "    <tr>\n",
       "      <th>2762</th>\n",
       "      <td>0</td>\n",
       "      <td>1.053</td>\n",
       "      <td>1.015</td>\n",
       "      <td>5.02</td>\n",
       "      <td>10.90</td>\n",
       "      <td>18.91</td>\n",
       "      <td>0.356792</td>\n",
       "      <td>33.4</td>\n",
       "    </tr>\n",
       "    <tr>\n",
       "      <th>12419</th>\n",
       "      <td>0</td>\n",
       "      <td>1.050</td>\n",
       "      <td>1.009</td>\n",
       "      <td>5.39</td>\n",
       "      <td>7.91</td>\n",
       "      <td>22.42</td>\n",
       "      <td>0.448400</td>\n",
       "      <td>27.3</td>\n",
       "    </tr>\n",
       "    <tr>\n",
       "      <th>16654</th>\n",
       "      <td>1</td>\n",
       "      <td>1.063</td>\n",
       "      <td>1.015</td>\n",
       "      <td>6.38</td>\n",
       "      <td>12.97</td>\n",
       "      <td>70.85</td>\n",
       "      <td>1.124603</td>\n",
       "      <td>26.1</td>\n",
       "    </tr>\n",
       "  </tbody>\n",
       "</table>\n",
       "</div>"
      ],
      "text/plain": [
       "       ipa     og     fg   abv    srm     ibu      bugu  hopcmp\n",
       "21222    0  1.054  1.013  5.29  16.03   22.07  0.408704    18.9\n",
       "14616    1  1.059  1.011  6.19   6.73   43.00  0.728814    59.5\n",
       "15947    0  1.040  1.009  4.04  48.83   20.17  0.504250     8.7\n",
       "3969     0  1.050  1.013  4.82   3.30    8.18  0.163600    14.5\n",
       "9581     0  1.055  1.013  5.52   4.04   35.92  0.653091    35.5\n",
       "4358     0  1.052  1.013  5.07  13.53   19.06  0.366538     9.1\n",
       "16530    0  1.052  1.010  5.50   9.21   36.87  0.709038    41.1\n",
       "13722    0  1.053  1.008  5.96   4.81   27.66  0.521887    27.7\n",
       "1785     1  1.086  1.020  8.62   8.89  100.24  1.165581    59.5\n",
       "16319    0  1.047  1.014  4.27  10.07   20.80  0.442553    18.9\n",
       "4524     0  1.047  1.009  4.91   5.12   19.04  0.405106    16.2\n",
       "16037    0  1.055  1.019  4.79  40.55   28.92  0.525818    33.2\n",
       "12894    1  1.065  1.012  7.02  22.47   59.24  0.911385    44.8\n",
       "19036    0  1.053  1.009  5.76   6.25   46.04  0.868679    40.8\n",
       "21485    0  1.054  1.009  5.84   5.88   45.61  0.844630    74.9\n",
       "21327    1  1.059  1.011  6.23   4.12   26.09  0.442203    43.1\n",
       "22965    0  1.070  1.019  6.58   4.12   66.41  0.948714    66.4\n",
       "2762     0  1.053  1.015  5.02  10.90   18.91  0.356792    33.4\n",
       "12419    0  1.050  1.009  5.39   7.91   22.42  0.448400    27.3\n",
       "16654    1  1.063  1.015  6.38  12.97   70.85  1.124603    26.1"
      ]
     },
     "execution_count": 221,
     "metadata": {},
     "output_type": "execute_result"
    }
   ],
   "source": [
    "corr_df.sample(20)"
   ]
  },
  {
   "cell_type": "code",
   "execution_count": 126,
   "metadata": {},
   "outputs": [
    {
     "data": {
      "text/plain": [
       "11048    1\n",
       "87       0\n",
       "18997    1\n",
       "24449    0\n",
       "23524    0\n",
       "4048     0\n",
       "6042     0\n",
       "14338    0\n",
       "18037    0\n",
       "18400    0\n",
       "17156    0\n",
       "19321    0\n",
       "13341    0\n",
       "22511    0\n",
       "22443    0\n",
       "15302    0\n",
       "14297    0\n",
       "3845     1\n",
       "6182     1\n",
       "22727    0\n",
       "Name: ipa, dtype: int64"
      ]
     },
     "execution_count": 126,
     "metadata": {},
     "output_type": "execute_result"
    }
   ],
   "source": [
    "y_test.tail(20)"
   ]
  },
  {
   "cell_type": "code",
   "execution_count": 36,
   "metadata": {},
   "outputs": [
    {
     "data": {
      "text/plain": [
       "array([1, 1, 1, ..., 1, 0, 0])"
      ]
     },
     "execution_count": 36,
     "metadata": {},
     "output_type": "execute_result"
    }
   ],
   "source": [
    "forestC.predict(x_test_pre)"
   ]
  },
  {
   "cell_type": "code",
   "execution_count": 30,
   "metadata": {},
   "outputs": [
    {
     "data": {
      "text/plain": [
       "13050     17.6\n",
       "22207     10.0\n",
       "21249     45.8\n",
       "18906     63.4\n",
       "8360      17.5\n",
       "20784     35.5\n",
       "20443    109.7\n",
       "317       54.0\n",
       "10284     26.1\n",
       "5689       8.8\n",
       "15771      9.0\n",
       "22543     37.4\n",
       "9364       9.0\n",
       "2320      17.4\n",
       "17325     17.8\n",
       "10899      9.1\n",
       "16174      8.8\n",
       "4781      25.4\n",
       "1843      57.2\n",
       "115       18.1\n",
       "Name: hopcmp, dtype: float64"
      ]
     },
     "execution_count": 30,
     "metadata": {},
     "output_type": "execute_result"
    }
   ],
   "source": [
    "corr_df.hopcmp.sample(20)"
   ]
  },
  {
   "cell_type": "code",
   "execution_count": 58,
   "metadata": {},
   "outputs": [
    {
     "data": {
      "text/plain": [
       "395.5"
      ]
     },
     "execution_count": 58,
     "metadata": {},
     "output_type": "execute_result"
    }
   ],
   "source": [
    "corr_df.hopcmp.max()"
   ]
  },
  {
   "cell_type": "code",
   "execution_count": 62,
   "metadata": {},
   "outputs": [],
   "source": [
    "norms = []\n",
    "for index, row in corr_df.iterrows():\n",
    "    norm = (row.hopcmp - 1)/ 200\n",
    "    norms.append(norm)\n",
    "corr_df['normcmp'] = norms"
   ]
  },
  {
   "cell_type": "code",
   "execution_count": 63,
   "metadata": {},
   "outputs": [
    {
     "data": {
      "text/plain": [
       "0        0.4635\n",
       "1        0.1240\n",
       "2        0.1945\n",
       "3        0.2440\n",
       "4        0.4355\n",
       "          ...  \n",
       "24967    0.1800\n",
       "24968    0.1915\n",
       "24969    0.1915\n",
       "24970    0.0935\n",
       "24971    0.0935\n",
       "Name: normcmp, Length: 22648, dtype: float64"
      ]
     },
     "execution_count": 63,
     "metadata": {},
     "output_type": "execute_result"
    }
   ],
   "source": [
    "corr_df.normcmp"
   ]
  },
  {
   "cell_type": "code",
   "execution_count": 91,
   "metadata": {},
   "outputs": [
    {
     "data": {
      "text/plain": [
       "KNeighborsClassifier(n_neighbors=20)"
      ]
     },
     "execution_count": 91,
     "metadata": {},
     "output_type": "execute_result"
    }
   ],
   "source": [
    "knnq = KNeighborsClassifier(n_neighbors = 20)\n",
    "knnq.fit(X_train_pre, y_train)"
   ]
  },
  {
   "cell_type": "code",
   "execution_count": 92,
   "metadata": {},
   "outputs": [
    {
     "data": {
      "text/plain": [
       "0.9025610833088019"
      ]
     },
     "execution_count": 92,
     "metadata": {},
     "output_type": "execute_result"
    }
   ],
   "source": [
    "knnq.score(X_train_pre, y_train)"
   ]
  },
  {
   "cell_type": "code",
   "execution_count": 93,
   "metadata": {},
   "outputs": [
    {
     "data": {
      "text/plain": [
       "0.9013245033112582"
      ]
     },
     "execution_count": 93,
     "metadata": {},
     "output_type": "execute_result"
    }
   ],
   "source": [
    "knnq.score(x_test_pre,y_test)"
   ]
  },
  {
   "cell_type": "code",
   "execution_count": 146,
   "metadata": {},
   "outputs": [
    {
     "data": {
      "text/plain": [
       "(0.9009420076538122, 0.9028697571743929)"
      ]
     },
     "execution_count": 146,
     "metadata": {},
     "output_type": "execute_result"
    }
   ],
   "source": [
    "svcq = SVC(probability = True)\n",
    "svcq.fit(X_train_pre, y_train)\n",
    "svcq.score(X_train_pre, y_train), svcq.score(x_test_pre, y_test)"
   ]
  },
  {
   "cell_type": "code",
   "execution_count": 144,
   "metadata": {},
   "outputs": [
    {
     "data": {
      "text/plain": [
       "0.8713024282560706"
      ]
     },
     "execution_count": 144,
     "metadata": {},
     "output_type": "execute_result"
    }
   ],
   "source": [
    "logq = LogisticRegression()\n",
    "logq.fit(X_train_pre, y_train)\n",
    "logq.score(x_test_pre, y_test)"
   ]
  },
  {
   "cell_type": "code",
   "execution_count": 80,
   "metadata": {},
   "outputs": [],
   "source": [
    "import xgboost as xgb"
   ]
  },
  {
   "cell_type": "code",
   "execution_count": 86,
   "metadata": {},
   "outputs": [
    {
     "data": {
      "text/plain": [
       "0.8969094922737307"
      ]
     },
     "execution_count": 86,
     "metadata": {},
     "output_type": "execute_result"
    }
   ],
   "source": [
    "xgbq = xgb.XGBClassifier(learning_rate = .3, n_estimators = 100 ,max_depth = 4, min_child_weight = 1)\n",
    "xgbq.fit(X_train_pre, y_train)\n",
    "xgbq.score(x_test_pre, y_test)"
   ]
  },
  {
   "cell_type": "code",
   "execution_count": 152,
   "metadata": {},
   "outputs": [
    {
     "data": {
      "text/plain": [
       "(0.7962908448631145, 0.7902869757174393)"
      ]
     },
     "execution_count": 152,
     "metadata": {},
     "output_type": "execute_result"
    }
   ],
   "source": [
    "bnbq = MultinomialNB()\n",
    "bnbq.fit(abs(X_train_pre), y_train)\n",
    "bnbq.score(abs(X_train_pre), y_train), bnbq.score(abs(x_test_pre), y_test)"
   ]
  },
  {
   "cell_type": "code",
   "execution_count": 140,
   "metadata": {},
   "outputs": [
    {
     "data": {
      "text/plain": [
       "0.5761910312655648"
      ]
     },
     "execution_count": 140,
     "metadata": {},
     "output_type": "execute_result"
    }
   ],
   "source": [
    "df[df.ipa == 0].bugu.mean()"
   ]
  },
  {
   "cell_type": "code",
   "execution_count": 142,
   "metadata": {},
   "outputs": [],
   "source": [
    "from sklearn.metrics import roc_curve, roc_auc_score"
   ]
  },
  {
   "cell_type": "code",
   "execution_count": 168,
   "metadata": {},
   "outputs": [],
   "source": [
    "fpr, tpr, thresholds = roc_curve(y_test, knnq.predict_proba(x_test_pre)[:,1])\n",
    "fprlog, tprlog, thresholdslog = roc_curve(y_test, logq.predict_proba(x_test_pre)[:,1])\n",
    "fprnb, tprnb, thresholdsnb = roc_curve(y_test, bnbq.predict_proba(x_test_pre)[:,1])\n",
    "fprrf, tprrf, thresholdsrf = roc_curve(y_test, forestC.predict_proba(x_test_pre)[:,1])\n",
    "\n",
    "fprsvc, tprsvc, thresholdssvc = roc_curve(y_test, svcq.predict_proba(x_test_pre)[:,1])"
   ]
  },
  {
   "cell_type": "code",
   "execution_count": 169,
   "metadata": {},
   "outputs": [
    {
     "name": "stdout",
     "output_type": "stream",
     "text": [
      "KNN ROC AUC score =  0.9347476142947563\n",
      "Logit ROC AUC score =  0.9196965639647853\n",
      "Naive Bayes ROC AUC score =  0.766370740365336\n",
      "Random Forest ROC AUC score =  0.48635647150210903\n",
      "SVC ROC AUC score =  0.9198296256788637\n"
     ]
    },
    {
     "data": {
      "image/png": "[encoded data removed]",
      "text/plain": [
       "<Figure size 1080x720 with 1 Axes>"
      ]
     },
     "metadata": {
      "needs_background": "light"
     },
     "output_type": "display_data"
    }
   ],
   "source": [
    "plt.figure(figsize = (15,10))\n",
    "plt.plot(fpr, tpr,lw=2)\n",
    "plt.plot(fprlog, tprlog,lw=2)\n",
    "plt.plot(fprnb, tprnb,lw=2)\n",
    "plt.plot(fprrf, tprrf,lw=2)\n",
    "\n",
    "plt.plot(fprsvc, tprsvc,lw=2)\n",
    "plt.plot([0,1],[0,1],c='violet',ls='--')\n",
    "plt.xlim([-0.05,1.05])\n",
    "plt.ylim([-0.05,1.05])\n",
    "plt.xlabel('False positive rate')\n",
    "plt.ylabel('True positive rate')\n",
    "plt.title('ROC Scores', fontweight=\"bold\", fontsize=20);\n",
    "plt.legend(['KNN','Logit', 'Bernoulli NB', 'Random Forest','SVC'])\n",
    "print(\"KNN ROC AUC score = \", roc_auc_score(y_test, knnq.predict_proba(x_test_pre)[:,1]))\n",
    "print(\"Logit ROC AUC score = \", roc_auc_score(y_test, logq.predict_proba(x_test_pre)[:,1]))\n",
    "print(\"Naive Bayes ROC AUC score = \", roc_auc_score(y_test, bnbq.predict_proba(x_test_pre)[:,1]))\n",
    "print(\"Random Forest ROC AUC score = \", roc_auc_score(y_test, forestC.predict_proba(x_test_pre)[:,1]))\n",
    "print(\"SVC ROC AUC score = \", roc_auc_score(y_test, svcq.predict_proba(x_test_pre)[:,1]))"
   ]
  },
  {
   "cell_type": "code",
   "execution_count": 248,
   "metadata": {},
   "outputs": [
    {
     "data": {
      "text/plain": [
       "Index(['ipa', 'threesty', 'og', 'fg', 'abv', 'srm', 'ibu', 'bugu', 'hopcmp'], dtype='object')"
      ]
     },
     "execution_count": 248,
     "metadata": {},
     "output_type": "execute_result"
    }
   ],
   "source": [
    "corr_df.columns"
   ]
  },
  {
   "cell_type": "code",
   "execution_count": 352,
   "metadata": {},
   "outputs": [],
   "source": [
    "corr_df = corr_df.dropna()"
   ]
  },
  {
   "cell_type": "code",
   "execution_count": 388,
   "metadata": {},
   "outputs": [],
   "source": [
    "X_ = corr_df.drop(columns = ['ipa', 'threesty', 'foursty'])\n",
    "y_ = corr_df['foursty']"
   ]
  },
  {
   "cell_type": "code",
   "execution_count": 389,
   "metadata": {},
   "outputs": [],
   "source": [
    "X_train, x_test, y_train, y_test = train_test_split(X_, y_, test_size=0.2)\n",
    "X_train, x_val, y_train, y_val = train_test_split(X_train, y_train, test_size=0.25)"
   ]
  },
  {
   "cell_type": "code",
   "execution_count": 15,
   "metadata": {},
   "outputs": [],
   "source": [
    "from sklearn import preprocessing"
   ]
  },
  {
   "cell_type": "code",
   "execution_count": 390,
   "metadata": {},
   "outputs": [],
   "source": [
    "X_pre = preprocessing.scale(X)\n",
    "X_train_pre = preprocessing.scale(X_train)\n",
    "x_test_pre = preprocessing.scale(x_test)"
   ]
  },
  {
   "cell_type": "code",
   "execution_count": 391,
   "metadata": {},
   "outputs": [
    {
     "data": {
      "text/plain": [
       "RandomForestClassifier(max_depth=20, max_features='sqrt', min_samples_leaf=2,\n",
       "                       n_estimators=461)"
      ]
     },
     "execution_count": 391,
     "metadata": {},
     "output_type": "execute_result"
    }
   ],
   "source": [
    "forest3 = RandomForestClassifier(n_estimators = 461, min_samples_split= 2, min_samples_leaf=2, max_features='sqrt',\\\n",
    "                                  max_depth = 20, bootstrap = True)\n",
    "forest3.fit(X_train_pre, y_train)"
   ]
  },
  {
   "cell_type": "code",
   "execution_count": 392,
   "metadata": {},
   "outputs": [
    {
     "data": {
      "text/plain": [
       "0.9374448042390344"
      ]
     },
     "execution_count": 392,
     "metadata": {},
     "output_type": "execute_result"
    }
   ],
   "source": [
    "forest3.score(X_train_pre, y_train)"
   ]
  },
  {
   "cell_type": "code",
   "execution_count": 393,
   "metadata": {},
   "outputs": [
    {
     "data": {
      "text/plain": [
       "0.6781456953642384"
      ]
     },
     "execution_count": 393,
     "metadata": {},
     "output_type": "execute_result"
    }
   ],
   "source": [
    "forest3.score(x_test_pre, y_test)"
   ]
  },
  {
   "cell_type": "code",
   "execution_count": 267,
   "metadata": {},
   "outputs": [],
   "source": [
    "from sklearn.model_selection import RandomizedSearchCV\n",
    "# Number of trees in random forest\n",
    "n_estimators = [int(x) for x in np.linspace(start = 30, stop = 1000, num = 10)]\n",
    "# Number of features to consider at every split\n",
    "max_features = ['auto', 'sqrt']\n",
    "# Maximum number of levels in tree\n",
    "max_depth = [int(x) for x in np.linspace(10, 110, num = 11)]\n",
    "max_depth.append(None)\n",
    "# Minimum number of samples required to split a node\n",
    "min_samples_split = [2, 5, 10]\n",
    "# Minimum number of samples required at each leaf node\n",
    "min_samples_leaf = [1, 2, 4]\n",
    "# Method of selecting samples for training each tree\n",
    "bootstrap = [True, False]\n",
    "# Create the random grid\n",
    "random_grid = {'n_estimators': n_estimators,\n",
    "               'max_features': max_features,\n",
    "               'max_depth': max_depth,\n",
    "               'min_samples_split': min_samples_split,\n",
    "               'min_samples_leaf': min_samples_leaf,\n",
    "               'bootstrap': bootstrap}"
   ]
  },
  {
   "cell_type": "code",
   "execution_count": 268,
   "metadata": {},
   "outputs": [
    {
     "name": "stdout",
     "output_type": "stream",
     "text": [
      "Fitting 3 folds for each of 100 candidates, totalling 300 fits\n"
     ]
    },
    {
     "name": "stderr",
     "output_type": "stream",
     "text": [
      "[Parallel(n_jobs=-1)]: Using backend LokyBackend with 8 concurrent workers.\n",
      "[Parallel(n_jobs=-1)]: Done  25 tasks      | elapsed:   54.1s\n",
      "[Parallel(n_jobs=-1)]: Done 146 tasks      | elapsed:  4.9min\n",
      "[Parallel(n_jobs=-1)]: Done 300 out of 300 | elapsed:  9.8min finished\n"
     ]
    },
    {
     "data": {
      "text/plain": [
       "RandomizedSearchCV(cv=3,\n",
       "                   estimator=RandomForestClassifier(max_depth=100,\n",
       "                                                    n_estimators=800),\n",
       "                   n_iter=100, n_jobs=-1,\n",
       "                   param_distributions={'bootstrap': [True, False],\n",
       "                                        'max_depth': [10, 20, 30, 40, 50, 60,\n",
       "                                                      70, 80, 90, 100, 110,\n",
       "                                                      None],\n",
       "                                        'max_features': ['auto', 'sqrt'],\n",
       "                                        'min_samples_leaf': [1, 2, 4],\n",
       "                                        'min_samples_split': [2, 5, 10],\n",
       "                                        'n_estimators': [30, 137, 245, 353, 461,\n",
       "                                                         568, 676, 784, 892,\n",
       "                                                         1000]},\n",
       "                   random_state=42, verbose=2)"
      ]
     },
     "execution_count": 268,
     "metadata": {},
     "output_type": "execute_result"
    }
   ],
   "source": [
    "# Use the random grid to search for best hyperparameters\n",
    "# First create the base model to tune\n",
    "# Random search of parameters, using 3 fold cross validation, \n",
    "# search across 100 different combinations, and use all available cores\n",
    "rf_random = RandomizedSearchCV(estimator = forest3, param_distributions = random_grid, n_iter = 100, cv = 3, verbose=2, random_state=42, n_jobs = -1)\n",
    "# Fit the random search model\n",
    "rf_random.fit(X_train_pre, y_train)"
   ]
  },
  {
   "cell_type": "code",
   "execution_count": 274,
   "metadata": {},
   "outputs": [
    {
     "data": {
      "text/plain": [
       "{'n_estimators': 461,\n",
       " 'min_samples_split': 2,\n",
       " 'min_samples_leaf': 1,\n",
       " 'max_features': 'sqrt',\n",
       " 'max_depth': 20,\n",
       " 'bootstrap': True}"
      ]
     },
     "execution_count": 274,
     "metadata": {},
     "output_type": "execute_result"
    }
   ],
   "source": [
    "rf_random.best_params_"
   ]
  },
  {
   "cell_type": "code",
   "execution_count": 394,
   "metadata": {},
   "outputs": [
    {
     "data": {
      "text/plain": [
       "RandomForestClassifier(max_depth=20, max_features='sqrt', min_samples_leaf=2,\n",
       "                       n_estimators=461)"
      ]
     },
     "execution_count": 394,
     "metadata": {},
     "output_type": "execute_result"
    }
   ],
   "source": [
    "forest3op = RandomForestClassifier(n_estimators = 461, min_samples_split= 2, min_samples_leaf=2, max_features='sqrt',\\\n",
    "                                  max_depth = 20, bootstrap = True)\n",
    "forest3op.fit(X_train, y_train)"
   ]
  },
  {
   "cell_type": "code",
   "execution_count": 395,
   "metadata": {},
   "outputs": [
    {
     "data": {
      "text/plain": [
       "0.7185430463576159"
      ]
     },
     "execution_count": 395,
     "metadata": {},
     "output_type": "execute_result"
    }
   ],
   "source": [
    "forest3op.score(x_test, y_test)"
   ]
  },
  {
   "cell_type": "code",
   "execution_count": 396,
   "metadata": {},
   "outputs": [
    {
     "data": {
      "text/plain": [
       "0.6821192052980133"
      ]
     },
     "execution_count": 396,
     "metadata": {},
     "output_type": "execute_result"
    }
   ],
   "source": [
    "knn3 = KNeighborsClassifier(n_neighbors = 90)\n",
    "knn3.fit(X_train_pre, y_train)\n",
    "knn3.score(x_test_pre, y_test)"
   ]
  },
  {
   "cell_type": "code",
   "execution_count": 397,
   "metadata": {},
   "outputs": [
    {
     "data": {
      "text/plain": [
       "0.5591611479028697"
      ]
     },
     "execution_count": 397,
     "metadata": {},
     "output_type": "execute_result"
    }
   ],
   "source": [
    "mnb3 = MultinomialNB()\n",
    "mnb3.fit(X_train, y_train)\n",
    "mnb3.score(x_test, y_test)"
   ]
  },
  {
   "cell_type": "code",
   "execution_count": 398,
   "metadata": {},
   "outputs": [
    {
     "data": {
      "text/plain": [
       "0.6214128035320088"
      ]
     },
     "execution_count": 398,
     "metadata": {},
     "output_type": "execute_result"
    }
   ],
   "source": [
    "logr3 = LogisticRegression()\n",
    "logr3.fit(X_train_pre, y_train)\n",
    "logr3.score(x_test_pre, y_test)"
   ]
  },
  {
   "cell_type": "code",
   "execution_count": 561,
   "metadata": {},
   "outputs": [
    {
     "data": {
      "text/plain": [
       "0.7092715231788079"
      ]
     },
     "execution_count": 561,
     "metadata": {},
     "output_type": "execute_result"
    }
   ],
   "source": [
    "xgb3 = xgb.XGBClassifier()\n",
    "xgb3.fit(X_train, y_train)\n",
    "xgb3.score(x_test, y_test)"
   ]
  },
  {
   "cell_type": "code",
   "execution_count": 521,
   "metadata": {},
   "outputs": [
    {
     "data": {
      "text/plain": [
       "array(['Strong/Dark Ales'], dtype=object)"
      ]
     },
     "execution_count": 521,
     "metadata": {},
     "output_type": "execute_result"
    }
   ],
   "source": [
    "xgb3.predict(test_df)"
   ]
  },
  {
   "cell_type": "code",
   "execution_count": 368,
   "metadata": {},
   "outputs": [
    {
     "name": "stdout",
     "output_type": "stream",
     "text": [
      "NOT IPA\n"
     ]
    }
   ],
   "source": [
    "svcpred = svcq.predict(test_df)[0]\n",
    "if svcpred == 0:\n",
    "    print('NOT IPA')\n",
    "elif svcpred == 1:\n",
    "    print('IPA')"
   ]
  },
  {
   "cell_type": "code",
   "execution_count": 517,
   "metadata": {},
   "outputs": [],
   "source": [
    "%load_ext autoreload\n",
    "%autoreload 2"
   ]
  },
  {
   "cell_type": "code",
   "execution_count": 564,
   "metadata": {},
   "outputs": [
    {
     "data": {
      "text/html": [
       "<div>\n",
       "<style scoped>\n",
       "    .dataframe tbody tr th:only-of-type {\n",
       "        vertical-align: middle;\n",
       "    }\n",
       "\n",
       "    .dataframe tbody tr th {\n",
       "        vertical-align: top;\n",
       "    }\n",
       "\n",
       "    .dataframe thead th {\n",
       "        text-align: right;\n",
       "    }\n",
       "</style>\n",
       "<table border=\"1\" class=\"dataframe\">\n",
       "  <thead>\n",
       "    <tr style=\"text-align: right;\">\n",
       "      <th></th>\n",
       "      <th>ipa</th>\n",
       "      <th>threesty</th>\n",
       "      <th>foursty</th>\n",
       "      <th>og</th>\n",
       "      <th>fg</th>\n",
       "      <th>abv</th>\n",
       "      <th>srm</th>\n",
       "      <th>ibu</th>\n",
       "      <th>bugu</th>\n",
       "      <th>hopcmp</th>\n",
       "    </tr>\n",
       "  </thead>\n",
       "  <tbody>\n",
       "    <tr>\n",
       "      <th>5045</th>\n",
       "      <td>1</td>\n",
       "      <td>Pale Ales and Lagers</td>\n",
       "      <td>IPA/Pale Ales</td>\n",
       "      <td>1.074</td>\n",
       "      <td>1.021</td>\n",
       "      <td>6.99</td>\n",
       "      <td>7.45</td>\n",
       "      <td>51.09</td>\n",
       "      <td>0.690405</td>\n",
       "      <td>27.2</td>\n",
       "    </tr>\n",
       "    <tr>\n",
       "      <th>20304</th>\n",
       "      <td>1</td>\n",
       "      <td>Pale Ales and Lagers</td>\n",
       "      <td>IPA/Pale Ales</td>\n",
       "      <td>1.054</td>\n",
       "      <td>1.010</td>\n",
       "      <td>5.77</td>\n",
       "      <td>4.77</td>\n",
       "      <td>88.12</td>\n",
       "      <td>1.631852</td>\n",
       "      <td>90.0</td>\n",
       "    </tr>\n",
       "    <tr>\n",
       "      <th>11380</th>\n",
       "      <td>0</td>\n",
       "      <td>Pale Ales and Lagers</td>\n",
       "      <td>Lager/Cream Ale</td>\n",
       "      <td>1.056</td>\n",
       "      <td>1.017</td>\n",
       "      <td>5.17</td>\n",
       "      <td>9.52</td>\n",
       "      <td>19.85</td>\n",
       "      <td>0.354464</td>\n",
       "      <td>19.9</td>\n",
       "    </tr>\n",
       "    <tr>\n",
       "      <th>952</th>\n",
       "      <td>0</td>\n",
       "      <td>Pale Ales and Lagers</td>\n",
       "      <td>Lager/Cream Ale</td>\n",
       "      <td>1.055</td>\n",
       "      <td>1.010</td>\n",
       "      <td>5.83</td>\n",
       "      <td>6.84</td>\n",
       "      <td>21.65</td>\n",
       "      <td>0.393636</td>\n",
       "      <td>14.4</td>\n",
       "    </tr>\n",
       "    <tr>\n",
       "      <th>21882</th>\n",
       "      <td>0</td>\n",
       "      <td>Strong/Dark Ales</td>\n",
       "      <td>Strong/Dark Ales</td>\n",
       "      <td>1.056</td>\n",
       "      <td>1.010</td>\n",
       "      <td>6.09</td>\n",
       "      <td>15.08</td>\n",
       "      <td>21.63</td>\n",
       "      <td>0.386250</td>\n",
       "      <td>19.0</td>\n",
       "    </tr>\n",
       "    <tr>\n",
       "      <th>7887</th>\n",
       "      <td>0</td>\n",
       "      <td>Pale Ales and Lagers</td>\n",
       "      <td>IPA/Pale Ales</td>\n",
       "      <td>1.063</td>\n",
       "      <td>1.014</td>\n",
       "      <td>6.48</td>\n",
       "      <td>11.83</td>\n",
       "      <td>33.77</td>\n",
       "      <td>0.536032</td>\n",
       "      <td>26.8</td>\n",
       "    </tr>\n",
       "    <tr>\n",
       "      <th>8921</th>\n",
       "      <td>0</td>\n",
       "      <td>Strong/Dark Ales</td>\n",
       "      <td>Strong/Dark Ales</td>\n",
       "      <td>1.065</td>\n",
       "      <td>1.019</td>\n",
       "      <td>6.01</td>\n",
       "      <td>18.38</td>\n",
       "      <td>24.03</td>\n",
       "      <td>0.369692</td>\n",
       "      <td>29.8</td>\n",
       "    </tr>\n",
       "    <tr>\n",
       "      <th>14239</th>\n",
       "      <td>1</td>\n",
       "      <td>Pale Ales and Lagers</td>\n",
       "      <td>IPA/Pale Ales</td>\n",
       "      <td>1.039</td>\n",
       "      <td>1.011</td>\n",
       "      <td>3.70</td>\n",
       "      <td>8.42</td>\n",
       "      <td>32.84</td>\n",
       "      <td>0.842051</td>\n",
       "      <td>18.3</td>\n",
       "    </tr>\n",
       "    <tr>\n",
       "      <th>22653</th>\n",
       "      <td>0</td>\n",
       "      <td>Other (Sours, Wild, Holiday styles)</td>\n",
       "      <td>Other (Sours, Wild, Holiday styles)</td>\n",
       "      <td>1.056</td>\n",
       "      <td>1.014</td>\n",
       "      <td>5.47</td>\n",
       "      <td>4.10</td>\n",
       "      <td>19.20</td>\n",
       "      <td>0.342857</td>\n",
       "      <td>7.6</td>\n",
       "    </tr>\n",
       "    <tr>\n",
       "      <th>18315</th>\n",
       "      <td>0</td>\n",
       "      <td>Strong/Dark Ales</td>\n",
       "      <td>Strong/Dark Ales</td>\n",
       "      <td>1.089</td>\n",
       "      <td>1.025</td>\n",
       "      <td>8.51</td>\n",
       "      <td>40.00</td>\n",
       "      <td>40.04</td>\n",
       "      <td>0.449888</td>\n",
       "      <td>28.2</td>\n",
       "    </tr>\n",
       "  </tbody>\n",
       "</table>\n",
       "</div>"
      ],
      "text/plain": [
       "       ipa                             threesty  \\\n",
       "5045     1                 Pale Ales and Lagers   \n",
       "20304    1                 Pale Ales and Lagers   \n",
       "11380    0                 Pale Ales and Lagers   \n",
       "952      0                 Pale Ales and Lagers   \n",
       "21882    0                     Strong/Dark Ales   \n",
       "7887     0                 Pale Ales and Lagers   \n",
       "8921     0                     Strong/Dark Ales   \n",
       "14239    1                 Pale Ales and Lagers   \n",
       "22653    0  Other (Sours, Wild, Holiday styles)   \n",
       "18315    0                     Strong/Dark Ales   \n",
       "\n",
       "                                   foursty     og     fg   abv    srm    ibu  \\\n",
       "5045                         IPA/Pale Ales  1.074  1.021  6.99   7.45  51.09   \n",
       "20304                        IPA/Pale Ales  1.054  1.010  5.77   4.77  88.12   \n",
       "11380                      Lager/Cream Ale  1.056  1.017  5.17   9.52  19.85   \n",
       "952                        Lager/Cream Ale  1.055  1.010  5.83   6.84  21.65   \n",
       "21882                     Strong/Dark Ales  1.056  1.010  6.09  15.08  21.63   \n",
       "7887                         IPA/Pale Ales  1.063  1.014  6.48  11.83  33.77   \n",
       "8921                      Strong/Dark Ales  1.065  1.019  6.01  18.38  24.03   \n",
       "14239                        IPA/Pale Ales  1.039  1.011  3.70   8.42  32.84   \n",
       "22653  Other (Sours, Wild, Holiday styles)  1.056  1.014  5.47   4.10  19.20   \n",
       "18315                     Strong/Dark Ales  1.089  1.025  8.51  40.00  40.04   \n",
       "\n",
       "           bugu  hopcmp  \n",
       "5045   0.690405    27.2  \n",
       "20304  1.631852    90.0  \n",
       "11380  0.354464    19.9  \n",
       "952    0.393636    14.4  \n",
       "21882  0.386250    19.0  \n",
       "7887   0.536032    26.8  \n",
       "8921   0.369692    29.8  \n",
       "14239  0.842051    18.3  \n",
       "22653  0.342857     7.6  \n",
       "18315  0.449888    28.2  "
      ]
     },
     "execution_count": 564,
     "metadata": {},
     "output_type": "execute_result"
    }
   ],
   "source": [
    "corr_df.sample(10)"
   ]
  },
  {
   "cell_type": "code",
   "execution_count": 520,
   "metadata": {},
   "outputs": [
    {
     "data": {
      "text/html": [
       "<div>\n",
       "<style scoped>\n",
       "    .dataframe tbody tr th:only-of-type {\n",
       "        vertical-align: middle;\n",
       "    }\n",
       "\n",
       "    .dataframe tbody tr th {\n",
       "        vertical-align: top;\n",
       "    }\n",
       "\n",
       "    .dataframe thead th {\n",
       "        text-align: right;\n",
       "    }\n",
       "</style>\n",
       "<table border=\"1\" class=\"dataframe\">\n",
       "  <thead>\n",
       "    <tr style=\"text-align: right;\">\n",
       "      <th></th>\n",
       "      <th>og</th>\n",
       "      <th>fg</th>\n",
       "      <th>abv</th>\n",
       "      <th>srm</th>\n",
       "      <th>ibu</th>\n",
       "      <th>bugu</th>\n",
       "      <th>hopcmp</th>\n",
       "    </tr>\n",
       "  </thead>\n",
       "  <tbody>\n",
       "    <tr>\n",
       "      <th>0</th>\n",
       "      <td>1.02</td>\n",
       "      <td>1.0</td>\n",
       "      <td>5.0</td>\n",
       "      <td>3.0</td>\n",
       "      <td>2.0</td>\n",
       "      <td>0.1</td>\n",
       "      <td>2.0</td>\n",
       "    </tr>\n",
       "  </tbody>\n",
       "</table>\n",
       "</div>"
      ],
      "text/plain": [
       "     og   fg  abv  srm  ibu  bugu  hopcmp\n",
       "0  1.02  1.0  5.0  3.0  2.0   0.1     2.0"
      ]
     },
     "execution_count": 520,
     "metadata": {},
     "output_type": "execute_result"
    }
   ],
   "source": [
    "test_df"
   ]
  },
  {
   "cell_type": "code",
   "execution_count": 519,
   "metadata": {},
   "outputs": [
    {
     "name": "stdin",
     "output_type": "stream",
     "text": [
      "Enter Original Gravity:  1.02\n",
      "Enter Final Gravity:  1\n",
      "Enter ABV:  5\n",
      "Enter SRM:  3\n",
      "Enter IBU:  2\n",
      "On a scale of 1-100, how hoppy is this beer? :  2\n"
     ]
    }
   ],
   "source": [
    "test_df = get_stats()"
   ]
  },
  {
   "cell_type": "code",
   "execution_count": 556,
   "metadata": {},
   "outputs": [],
   "source": [
    "preds = [knn3.predict(test_df)[0], mnb3.predict(test_df)[0], logr3.predict(test_df)[0], forest3op.predict(test_df)[0], forest3.predict(test_df)[0], xgb3.predict(test_df)[0], xgb3.predict(test_df)[0]]\n",
    "clean_pred = defaultdict(int)\n",
    "for pred in preds:\n",
    "    if pred == 'IPA/Pale Ales':\n",
    "        clean_pred['IPA/Pale Ales'] +=1\n",
    "    elif pred == 'Strong/Dark Ales':\n",
    "        clean_pred['Strong/Dark Ales'] += 1\n",
    "    elif pred == 'Lager/Cream Ale':\n",
    "        clean_pred['Lager/Cream Ale'] += 1\n",
    "    else:\n",
    "        clean_pred['Other'] += 1\n",
    "res_dic = dict(clean_pred)"
   ]
  },
  {
   "cell_type": "code",
   "execution_count": 557,
   "metadata": {
    "jupyter": {
     "source_hidden": true
    }
   },
   "outputs": [
    {
     "data": {
      "text/plain": [
       "({'Strong/Dark Ales': 7},\n",
       " ['Strong/Dark Ales',\n",
       "  'Strong/Dark Ales',\n",
       "  'Strong/Dark Ales',\n",
       "  'Strong/Dark Ales',\n",
       "  'Strong/Dark Ales',\n",
       "  'Strong/Dark Ales',\n",
       "  'Strong/Dark Ales'])"
      ]
     },
     "execution_count": 557,
     "metadata": {},
     "output_type": "execute_result"
    }
   ],
   "source": [
    "res_dic, preds"
   ]
  },
  {
   "cell_type": "code",
   "execution_count": 505,
   "metadata": {},
   "outputs": [
    {
     "name": "stdout",
     "output_type": "stream",
     "text": [
      "Strong/Dark Ales\n"
     ]
    }
   ],
   "source": [
    "for key, value in res_dic.items():\n",
    "    if value == len(preds)/2:\n",
    "        print(\"TIE\")\n",
    "        break\n",
    "    elif value > len(preds)//2:\n",
    "        print(key)\n",
    "    else:\n",
    "        continue"
   ]
  },
  {
   "cell_type": "code",
   "execution_count": 311,
   "metadata": {},
   "outputs": [
    {
     "data": {
      "text/plain": [
       "(array(['Pale Ales and Lagers'], dtype=object),\n",
       " array(['Pale Ales and Lagers'], dtype=object))"
      ]
     },
     "execution_count": 311,
     "metadata": {},
     "output_type": "execute_result"
    }
   ],
   "source": [
    "forest3op.predict(test_df), knn3.predict(test_df), "
   ]
  },
  {
   "cell_type": "code",
   "execution_count": 492,
   "metadata": {},
   "outputs": [],
   "source": [
    "import pickle"
   ]
  },
  {
   "cell_type": "code",
   "execution_count": 506,
   "metadata": {},
   "outputs": [],
   "source": [
    "with open('knn3.pickle', 'wb') as to_write:\n",
    "    pickle.dump(knn3, to_write)"
   ]
  },
  {
   "cell_type": "code",
   "execution_count": 507,
   "metadata": {},
   "outputs": [],
   "source": [
    "with open('mnb3.pickle', 'wb') as to_write:\n",
    "    pickle.dump(mnb3, to_write)"
   ]
  },
  {
   "cell_type": "code",
   "execution_count": 508,
   "metadata": {},
   "outputs": [],
   "source": [
    "with open('logr3.pickle', 'wb') as to_write:\n",
    "    pickle.dump(logr3, to_write)"
   ]
  },
  {
   "cell_type": "code",
   "execution_count": 510,
   "metadata": {},
   "outputs": [],
   "source": [
    "with open('forest3.pickle', 'wb') as to_write:\n",
    "    pickle.dump(forest3, to_write)"
   ]
  },
  {
   "cell_type": "code",
   "execution_count": 511,
   "metadata": {},
   "outputs": [],
   "source": [
    "with open('forest3op.pickle', 'wb') as to_write:\n",
    "    pickle.dump(forest3op, to_write)"
   ]
  },
  {
   "cell_type": "code",
   "execution_count": 562,
   "metadata": {},
   "outputs": [],
   "source": [
    "with open('web_app/xgb3.pickle', 'wb') as to_write:\n",
    "    pickle.dump(xgb3, to_write)"
   ]
  },
  {
   "cell_type": "code",
   "execution_count": 525,
   "metadata": {},
   "outputs": [
    {
     "name": "stdout",
     "output_type": "stream",
     "text": [
      "Best learning_rate: 0.49\n"
     ]
    }
   ],
   "source": [
    "learning_rate = [round(x,2) for x in np.linspace(start = .01, stop = .6, num = 60)]\n",
    "n_estimators = [int(x) for x in np.linspace(start = 100, stop = 2000, num = 20)]\n",
    "max_depth = range(3,10,1)\n",
    "child_weight = range(1,6,2)\n",
    "gamma = [0,.1,.2,.3,.4,.5,.6,.7,.8,.9,1,1.1,1.2,1.3,1.4,1.5,2]\n",
    "subsample = [.6, .7, .8, .9, 1]\n",
    "col_sample = [.6, .7, .8, .9, 1]\n",
    "# Tuning the learning_rate:\n",
    "xgb_tune = xgb.XGBClassifier(n_estimators = 100, max_depth = 3, min_child_weight = 1, subsample = .8, colsample_bytree = 1,gamma = 1, n_jobs = -1)\n",
    "xgb_grid = GridSearchCV(estimator=xgb_tune, param_grid = {'learning_rate':learning_rate},cv=10, verbose = 0, n_jobs = -1)\n",
    "xgb_grid.fit(X_train,y_train)\n",
    "best_learning_rate = xgb_grid.best_params_['learning_rate']\n",
    "print(\"Best learning_rate:\", best_learning_rate)"
   ]
  },
  {
   "cell_type": "code",
   "execution_count": 527,
   "metadata": {},
   "outputs": [
    {
     "name": "stdout",
     "output_type": "stream",
     "text": [
      "Best n_estimators: 100\n"
     ]
    }
   ],
   "source": [
    "# Tuning the learning_rate:\n",
    "xgb_tune = xgb.XGBClassifier(learning_rate = best_learning_rate, n_estimators = 100,max_depth = 3, min_child_weight = 1, subsample = .8, colsample_bytree = 1,gamma = 1, n_jobs = -1)\n",
    "xgb_grid = GridSearchCV(estimator=xgb_tune, param_grid = {'n_estimators':n_estimators},cv=10, verbose = 0, n_jobs = -1)\n",
    "xgb_grid.fit(X_train,y_train)\n",
    "best_n_estimators = xgb_grid.best_params_['n_estimators']\n",
    "print(\"Best n_estimators:\", best_n_estimators)"
   ]
  },
  {
   "cell_type": "code",
   "execution_count": 529,
   "metadata": {},
   "outputs": [
    {
     "name": "stdout",
     "output_type": "stream",
     "text": [
      "Best max_depth: 5\n"
     ]
    }
   ],
   "source": [
    "xgb_tune = xgb.XGBClassifier(learning_rate = best_learning_rate, n_estimators = best_n_estimators ,max_depth = 3, min_child_weight = 1, subsample = .8, colsample_bytree = 1,gamma = 1, n_jobs = -1)\n",
    "xgb_grid = GridSearchCV(estimator=xgb_tune, param_grid = {'max_depth': max_depth},cv=10, verbose = 0, n_jobs = -1)\n",
    "xgb_grid.fit(X_train,y_train)\n",
    "best_max_depth = xgb_grid.best_params_['max_depth']\n",
    "print(\"Best max_depth:\", best_max_depth)"
   ]
  },
  {
   "cell_type": "code",
   "execution_count": 532,
   "metadata": {},
   "outputs": [
    {
     "name": "stdout",
     "output_type": "stream",
     "text": [
      "Best min_child_weight: 1\n"
     ]
    }
   ],
   "source": [
    "xgb_tune = xgb.XGBClassifier(learning_rate = best_learning_rate, n_estimators = best_n_estimators ,max_depth = best_max_depth, min_child_weight = 1, subsample = .8, colsample_bytree = 1,gamma = 1, n_jobs = -1)\n",
    "xgb_grid = GridSearchCV(estimator=xgb_tune, param_grid = {'min_child_weight': child_weight},cv=10, verbose = 0, n_jobs = -1)\n",
    "xgb_grid.fit(X_train,y_train)\n",
    "best_min_child_weight = xgb_grid.best_params_['min_child_weight']\n",
    "print(\"Best min_child_weight:\", best_min_child_weight)"
   ]
  },
  {
   "cell_type": "code",
   "execution_count": 533,
   "metadata": {},
   "outputs": [
    {
     "name": "stdout",
     "output_type": "stream",
     "text": [
      "[12:13:53] WARNING: /Users/runner/miniforge3/conda-bld/xgboost_1598185652448/work/src/learner.cc:516: \n",
      "Parameters: { best_subsample } might not be used.\n",
      "\n",
      "  This may not be accurate due to some parameters are only used in language bindings but\n",
      "  passed down to XGBoost core.  Or some parameters are not used but slip through this\n",
      "  verification. Please open an issue if you find above cases.\n",
      "\n",
      "\n",
      "Best min_child_weight: 1\n"
     ]
    }
   ],
   "source": [
    "xgb_tune = xgb.XGBClassifier(learning_rate = best_learning_rate, n_estimators = best_n_estimators ,max_depth = best_max_depth, min_child_weight = best_min_child_weight, subsample = .8, colsample_bytree = 1,gamma = 1, n_jobs = -1)\n",
    "xgb_grid = GridSearchCV(estimator=xgb_tune, param_grid = {'best_subsample': subsample},cv=10, verbose = 0, n_jobs = -1)\n",
    "xgb_grid.fit(X_train,y_train)\n",
    "best_subsample = xgb_grid.best_params_['best_subsample']\n",
    "print(\"Best min_child_weight:\", best_min_child_weight)"
   ]
  },
  {
   "cell_type": "code",
   "execution_count": 548,
   "metadata": {},
   "outputs": [
    {
     "data": {
      "text/plain": [
       "0.7075055187637969"
      ]
     },
     "execution_count": 548,
     "metadata": {},
     "output_type": "execute_result"
    }
   ],
   "source": [
    "xgb3x = xgb.XGBClassifier(learning_rate = 0.19, n_estimators = 90, max_depth = 5, subsample = 1)\n",
    "xgb3x.fit(X_train, y_train)\n",
    "xgb3x.score(x_test, y_test)"
   ]
  },
  {
   "cell_type": "code",
   "execution_count": 568,
   "metadata": {},
   "outputs": [],
   "source": [
    "no_null_notes = df.dropna(subset=['notes'])"
   ]
  },
  {
   "cell_type": "code",
   "execution_count": 569,
   "metadata": {
    "collapsed": true,
    "jupyter": {
     "outputs_hidden": true,
     "source_hidden": true
    }
   },
   "outputs": [
    {
     "data": {
      "text/html": [
       "<div>\n",
       "<style scoped>\n",
       "    .dataframe tbody tr th:only-of-type {\n",
       "        vertical-align: middle;\n",
       "    }\n",
       "\n",
       "    .dataframe tbody tr th {\n",
       "        vertical-align: top;\n",
       "    }\n",
       "\n",
       "    .dataframe thead th {\n",
       "        text-align: right;\n",
       "    }\n",
       "</style>\n",
       "<table border=\"1\" class=\"dataframe\">\n",
       "  <thead>\n",
       "    <tr style=\"text-align: right;\">\n",
       "      <th></th>\n",
       "      <th>og</th>\n",
       "      <th>fg</th>\n",
       "      <th>abv</th>\n",
       "      <th>ibu</th>\n",
       "      <th>srm</th>\n",
       "      <th>Mash pH</th>\n",
       "      <th>IBU (rager)</th>\n",
       "      <th>SRM (daniels)</th>\n",
       "      <th>SRM (ebcmorey)</th>\n",
       "      <th>SRM (mosher)</th>\n",
       "      <th>...</th>\n",
       "      <th>lager</th>\n",
       "      <th>stout</th>\n",
       "      <th>kolsch</th>\n",
       "      <th>wit</th>\n",
       "      <th>puree</th>\n",
       "      <th>lovehop</th>\n",
       "      <th>strong</th>\n",
       "      <th>dry</th>\n",
       "      <th>sweet</th>\n",
       "      <th>bugu</th>\n",
       "    </tr>\n",
       "  </thead>\n",
       "  <tbody>\n",
       "    <tr>\n",
       "      <th>count</th>\n",
       "      <td>16767.000000</td>\n",
       "      <td>16767.000000</td>\n",
       "      <td>16330.000000</td>\n",
       "      <td>16767.000000</td>\n",
       "      <td>15408.000000</td>\n",
       "      <td>1735.000000</td>\n",
       "      <td>0.0</td>\n",
       "      <td>540.000000</td>\n",
       "      <td>635.000000</td>\n",
       "      <td>184.000000</td>\n",
       "      <td>...</td>\n",
       "      <td>16767.000000</td>\n",
       "      <td>16767.000000</td>\n",
       "      <td>16767.000000</td>\n",
       "      <td>16767.000000</td>\n",
       "      <td>16767.000000</td>\n",
       "      <td>16767.000000</td>\n",
       "      <td>16767.000000</td>\n",
       "      <td>16767.000000</td>\n",
       "      <td>16767.000000</td>\n",
       "      <td>16767.000000</td>\n",
       "    </tr>\n",
       "    <tr>\n",
       "      <th>mean</th>\n",
       "      <td>1.062235</td>\n",
       "      <td>1.014446</td>\n",
       "      <td>6.255043</td>\n",
       "      <td>44.781897</td>\n",
       "      <td>13.710023</td>\n",
       "      <td>3.710144</td>\n",
       "      <td>NaN</td>\n",
       "      <td>17.472778</td>\n",
       "      <td>27.077543</td>\n",
       "      <td>13.897554</td>\n",
       "      <td>...</td>\n",
       "      <td>0.030238</td>\n",
       "      <td>0.088805</td>\n",
       "      <td>0.012704</td>\n",
       "      <td>0.017892</td>\n",
       "      <td>0.015924</td>\n",
       "      <td>0.000775</td>\n",
       "      <td>0.451721</td>\n",
       "      <td>0.008350</td>\n",
       "      <td>0.705314</td>\n",
       "      <td>0.723803</td>\n",
       "    </tr>\n",
       "    <tr>\n",
       "      <th>std</th>\n",
       "      <td>0.017652</td>\n",
       "      <td>0.005718</td>\n",
       "      <td>1.830069</td>\n",
       "      <td>37.367555</td>\n",
       "      <td>12.157208</td>\n",
       "      <td>2.593348</td>\n",
       "      <td>NaN</td>\n",
       "      <td>10.649507</td>\n",
       "      <td>23.928009</td>\n",
       "      <td>11.835156</td>\n",
       "      <td>...</td>\n",
       "      <td>0.171247</td>\n",
       "      <td>0.284471</td>\n",
       "      <td>0.111995</td>\n",
       "      <td>0.132564</td>\n",
       "      <td>0.125186</td>\n",
       "      <td>0.027835</td>\n",
       "      <td>0.497678</td>\n",
       "      <td>0.090997</td>\n",
       "      <td>0.455915</td>\n",
       "      <td>0.601657</td>\n",
       "    </tr>\n",
       "    <tr>\n",
       "      <th>min</th>\n",
       "      <td>1.000000</td>\n",
       "      <td>0.991000</td>\n",
       "      <td>0.000000</td>\n",
       "      <td>0.000000</td>\n",
       "      <td>0.000000</td>\n",
       "      <td>0.000000</td>\n",
       "      <td>NaN</td>\n",
       "      <td>8.800000</td>\n",
       "      <td>0.000000</td>\n",
       "      <td>5.300000</td>\n",
       "      <td>...</td>\n",
       "      <td>0.000000</td>\n",
       "      <td>0.000000</td>\n",
       "      <td>0.000000</td>\n",
       "      <td>0.000000</td>\n",
       "      <td>0.000000</td>\n",
       "      <td>0.000000</td>\n",
       "      <td>0.000000</td>\n",
       "      <td>0.000000</td>\n",
       "      <td>0.000000</td>\n",
       "      <td>0.000000</td>\n",
       "    </tr>\n",
       "    <tr>\n",
       "      <th>25%</th>\n",
       "      <td>1.051000</td>\n",
       "      <td>1.011000</td>\n",
       "      <td>5.120000</td>\n",
       "      <td>23.370000</td>\n",
       "      <td>5.190000</td>\n",
       "      <td>0.000000</td>\n",
       "      <td>NaN</td>\n",
       "      <td>9.740000</td>\n",
       "      <td>10.640000</td>\n",
       "      <td>6.130000</td>\n",
       "      <td>...</td>\n",
       "      <td>0.000000</td>\n",
       "      <td>0.000000</td>\n",
       "      <td>0.000000</td>\n",
       "      <td>0.000000</td>\n",
       "      <td>0.000000</td>\n",
       "      <td>0.000000</td>\n",
       "      <td>0.000000</td>\n",
       "      <td>0.000000</td>\n",
       "      <td>0.000000</td>\n",
       "      <td>0.402372</td>\n",
       "    </tr>\n",
       "    <tr>\n",
       "      <th>50%</th>\n",
       "      <td>1.059000</td>\n",
       "      <td>1.014000</td>\n",
       "      <td>5.860000</td>\n",
       "      <td>35.210000</td>\n",
       "      <td>8.610000</td>\n",
       "      <td>5.400000</td>\n",
       "      <td>NaN</td>\n",
       "      <td>11.230000</td>\n",
       "      <td>17.170000</td>\n",
       "      <td>6.965000</td>\n",
       "      <td>...</td>\n",
       "      <td>0.000000</td>\n",
       "      <td>0.000000</td>\n",
       "      <td>0.000000</td>\n",
       "      <td>0.000000</td>\n",
       "      <td>0.000000</td>\n",
       "      <td>0.000000</td>\n",
       "      <td>0.000000</td>\n",
       "      <td>0.000000</td>\n",
       "      <td>1.000000</td>\n",
       "      <td>0.609167</td>\n",
       "    </tr>\n",
       "    <tr>\n",
       "      <th>75%</th>\n",
       "      <td>1.069000</td>\n",
       "      <td>1.017000</td>\n",
       "      <td>6.980000</td>\n",
       "      <td>56.440000</td>\n",
       "      <td>17.460000</td>\n",
       "      <td>5.640000</td>\n",
       "      <td>NaN</td>\n",
       "      <td>23.795000</td>\n",
       "      <td>33.115000</td>\n",
       "      <td>15.067500</td>\n",
       "      <td>...</td>\n",
       "      <td>0.000000</td>\n",
       "      <td>0.000000</td>\n",
       "      <td>0.000000</td>\n",
       "      <td>0.000000</td>\n",
       "      <td>0.000000</td>\n",
       "      <td>0.000000</td>\n",
       "      <td>1.000000</td>\n",
       "      <td>0.000000</td>\n",
       "      <td>1.000000</td>\n",
       "      <td>0.902577</td>\n",
       "    </tr>\n",
       "    <tr>\n",
       "      <th>max</th>\n",
       "      <td>1.260000</td>\n",
       "      <td>1.208000</td>\n",
       "      <td>22.330000</td>\n",
       "      <td>702.290000</td>\n",
       "      <td>87.370000</td>\n",
       "      <td>7.520000</td>\n",
       "      <td>NaN</td>\n",
       "      <td>40.000000</td>\n",
       "      <td>98.500000</td>\n",
       "      <td>40.000000</td>\n",
       "      <td>...</td>\n",
       "      <td>1.000000</td>\n",
       "      <td>1.000000</td>\n",
       "      <td>1.000000</td>\n",
       "      <td>1.000000</td>\n",
       "      <td>1.000000</td>\n",
       "      <td>1.000000</td>\n",
       "      <td>1.000000</td>\n",
       "      <td>1.000000</td>\n",
       "      <td>1.000000</td>\n",
       "      <td>17.230666</td>\n",
       "    </tr>\n",
       "  </tbody>\n",
       "</table>\n",
       "<p>8 rows × 104 columns</p>\n",
       "</div>"
      ],
      "text/plain": [
       "                 og            fg           abv           ibu           srm  \\\n",
       "count  16767.000000  16767.000000  16330.000000  16767.000000  15408.000000   \n",
       "mean       1.062235      1.014446      6.255043     44.781897     13.710023   \n",
       "std        0.017652      0.005718      1.830069     37.367555     12.157208   \n",
       "min        1.000000      0.991000      0.000000      0.000000      0.000000   \n",
       "25%        1.051000      1.011000      5.120000     23.370000      5.190000   \n",
       "50%        1.059000      1.014000      5.860000     35.210000      8.610000   \n",
       "75%        1.069000      1.017000      6.980000     56.440000     17.460000   \n",
       "max        1.260000      1.208000     22.330000    702.290000     87.370000   \n",
       "\n",
       "           Mash pH  IBU (rager)  SRM (daniels)  SRM (ebcmorey)  SRM (mosher)  \\\n",
       "count  1735.000000          0.0     540.000000      635.000000    184.000000   \n",
       "mean      3.710144          NaN      17.472778       27.077543     13.897554   \n",
       "std       2.593348          NaN      10.649507       23.928009     11.835156   \n",
       "min       0.000000          NaN       8.800000        0.000000      5.300000   \n",
       "25%       0.000000          NaN       9.740000       10.640000      6.130000   \n",
       "50%       5.400000          NaN      11.230000       17.170000      6.965000   \n",
       "75%       5.640000          NaN      23.795000       33.115000     15.067500   \n",
       "max       7.520000          NaN      40.000000       98.500000     40.000000   \n",
       "\n",
       "       ...         lager         stout        kolsch           wit  \\\n",
       "count  ...  16767.000000  16767.000000  16767.000000  16767.000000   \n",
       "mean   ...      0.030238      0.088805      0.012704      0.017892   \n",
       "std    ...      0.171247      0.284471      0.111995      0.132564   \n",
       "min    ...      0.000000      0.000000      0.000000      0.000000   \n",
       "25%    ...      0.000000      0.000000      0.000000      0.000000   \n",
       "50%    ...      0.000000      0.000000      0.000000      0.000000   \n",
       "75%    ...      0.000000      0.000000      0.000000      0.000000   \n",
       "max    ...      1.000000      1.000000      1.000000      1.000000   \n",
       "\n",
       "              puree       lovehop        strong           dry         sweet  \\\n",
       "count  16767.000000  16767.000000  16767.000000  16767.000000  16767.000000   \n",
       "mean       0.015924      0.000775      0.451721      0.008350      0.705314   \n",
       "std        0.125186      0.027835      0.497678      0.090997      0.455915   \n",
       "min        0.000000      0.000000      0.000000      0.000000      0.000000   \n",
       "25%        0.000000      0.000000      0.000000      0.000000      0.000000   \n",
       "50%        0.000000      0.000000      0.000000      0.000000      1.000000   \n",
       "75%        0.000000      0.000000      1.000000      0.000000      1.000000   \n",
       "max        1.000000      1.000000      1.000000      1.000000      1.000000   \n",
       "\n",
       "               bugu  \n",
       "count  16767.000000  \n",
       "mean       0.723803  \n",
       "std        0.601657  \n",
       "min        0.000000  \n",
       "25%        0.402372  \n",
       "50%        0.609167  \n",
       "75%        0.902577  \n",
       "max       17.230666  \n",
       "\n",
       "[8 rows x 104 columns]"
      ]
     },
     "execution_count": 569,
     "metadata": {},
     "output_type": "execute_result"
    }
   ],
   "source": [
    "no_null_notes.describe()"
   ]
  },
  {
   "cell_type": "code",
   "execution_count": 672,
   "metadata": {},
   "outputs": [],
   "source": [
    "brq_df = no_null_notes[['foursty', 'dryh', 'lact', 'clone', 'juicy', 'dank', 'wedding', 'whisk', 'trop',\\\n",
    "              'award', 'best', 'smoke', 'roast', 'thick',\\\n",
    "              'heavy', 'stfruit', 'hazy', 'pheno', 'banana','clove', \\\n",
    "              'bitter','puree','lovehop', \\\n",
    "              'strong', 'dry', 'sweet', 'sour', 'dark', 'pine', 'sticky',\\\n",
    "                        'foam', 'hoppy','bisc','ester', 'straw', 'choco', 'coffee', \\\n",
    "                       'og', 'fg', 'abv', 'srm', 'ibu', 'bugu', 'hopcmp']].dropna()"
   ]
  },
  {
   "cell_type": "code",
   "execution_count": 673,
   "metadata": {},
   "outputs": [],
   "source": [
    "Xbq = brq_df.drop(columns=['foursty'])\n",
    "ybq = brq_df['foursty']"
   ]
  },
  {
   "cell_type": "code",
   "execution_count": null,
   "metadata": {},
   "outputs": [],
   "source": []
  },
  {
   "cell_type": "code",
   "execution_count": 674,
   "metadata": {},
   "outputs": [],
   "source": [
    "Xb_train, xb_test, yb_train, yb_test = train_test_split(Xbq, ybq, test_size=0.2)\n",
    "Xb_train, xb_val, yb_train, yb_val = train_test_split(Xb_train, yb_train, test_size=0.25)"
   ]
  },
  {
   "cell_type": "code",
   "execution_count": 15,
   "metadata": {},
   "outputs": [],
   "source": [
    "from sklearn import preprocessing"
   ]
  },
  {
   "cell_type": "code",
   "execution_count": 675,
   "metadata": {},
   "outputs": [],
   "source": [
    "Xb_pre = preprocessing.scale(Xbq)\n",
    "Xb_train_pre = preprocessing.scale(Xb_train)\n",
    "xb_test_pre = preprocessing.scale(xb_test)"
   ]
  },
  {
   "cell_type": "code",
   "execution_count": 676,
   "metadata": {},
   "outputs": [
    {
     "data": {
      "text/plain": [
       "RandomForestClassifier(max_depth=20, max_features='sqrt', min_samples_leaf=2,\n",
       "                       n_estimators=150)"
      ]
     },
     "execution_count": 676,
     "metadata": {},
     "output_type": "execute_result"
    }
   ],
   "source": [
    "forestbq = RandomForestClassifier(n_estimators = 150, min_samples_split= 2, min_samples_leaf=2, max_features='sqrt',\\\n",
    "                                  max_depth = 20, bootstrap = True)\n",
    "forestbq.fit(Xb_train, yb_train)"
   ]
  },
  {
   "cell_type": "code",
   "execution_count": 677,
   "metadata": {},
   "outputs": [
    {
     "data": {
      "text/plain": [
       "0.8436118479221928"
      ]
     },
     "execution_count": 677,
     "metadata": {},
     "output_type": "execute_result"
    }
   ],
   "source": [
    "forestbq.score(Xb_train, yb_train)"
   ]
  },
  {
   "cell_type": "code",
   "execution_count": 678,
   "metadata": {},
   "outputs": [
    {
     "data": {
      "text/plain": [
       "0.7022546419098143"
      ]
     },
     "execution_count": 678,
     "metadata": {},
     "output_type": "execute_result"
    }
   ],
   "source": [
    "forestbq.score(xb_test, yb_test)"
   ]
  },
  {
   "cell_type": "code",
   "execution_count": 679,
   "metadata": {},
   "outputs": [
    {
     "data": {
      "text/plain": [
       "0.6647877984084881"
      ]
     },
     "execution_count": 679,
     "metadata": {},
     "output_type": "execute_result"
    }
   ],
   "source": [
    "knnbq = KNeighborsClassifier(n_neighbors = 45)\n",
    "knnbq.fit(Xb_train, yb_train)\n",
    "knnbq.score(xb_test, yb_test)"
   ]
  },
  {
   "cell_type": "code",
   "execution_count": 680,
   "metadata": {},
   "outputs": [
    {
     "data": {
      "text/plain": [
       "0.5729442970822282"
      ]
     },
     "execution_count": 680,
     "metadata": {},
     "output_type": "execute_result"
    }
   ],
   "source": [
    "mnbbq = MultinomialNB()\n",
    "mnbbq.fit(Xb_train, yb_train)\n",
    "mnbbq.score(xb_test, yb_test)"
   ]
  },
  {
   "cell_type": "code",
   "execution_count": 681,
   "metadata": {},
   "outputs": [
    {
     "name": "stderr",
     "output_type": "stream",
     "text": [
      "/opt/anaconda3/envs/metis/lib/python3.8/site-packages/sklearn/linear_model/_logistic.py:762: ConvergenceWarning: lbfgs failed to converge (status=1):\n",
      "STOP: TOTAL NO. of ITERATIONS REACHED LIMIT.\n",
      "\n",
      "Increase the number of iterations (max_iter) or scale the data as shown in:\n",
      "    https://scikit-learn.org/stable/modules/preprocessing.html\n",
      "Please also refer to the documentation for alternative solver options:\n",
      "    https://scikit-learn.org/stable/modules/linear_model.html#logistic-regression\n",
      "  n_iter_i = _check_optimize_result(\n"
     ]
    },
    {
     "data": {
      "text/plain": [
       "0.6545092838196287"
      ]
     },
     "execution_count": 681,
     "metadata": {},
     "output_type": "execute_result"
    }
   ],
   "source": [
    "logrbq = LogisticRegression()\n",
    "logrbq.fit(Xb_train_pre, yb_train)\n",
    "logrbq.score(xb_test_pre, yb_test)"
   ]
  },
  {
   "cell_type": "code",
   "execution_count": 682,
   "metadata": {},
   "outputs": [
    {
     "data": {
      "text/plain": [
       "0.7025862068965517"
      ]
     },
     "execution_count": 682,
     "metadata": {},
     "output_type": "execute_result"
    }
   ],
   "source": [
    "xgbbq = xgb.XGBClassifier(n_estimators = 100)\n",
    "xgbbq.fit(Xb_train, yb_train)\n",
    "xgbbq.score(xb_test, yb_test)"
   ]
  },
  {
   "cell_type": "code",
   "execution_count": 733,
   "metadata": {},
   "outputs": [
    {
     "ename": "KeyboardInterrupt",
     "evalue": "Interrupted by user",
     "output_type": "error",
     "traceback": [
      "\u001b[0;31m---------------------------------------------------------------------------\u001b[0m",
      "\u001b[0;31mKeyboardInterrupt\u001b[0m                         Traceback (most recent call last)",
      "\u001b[0;32m<ipython-input-733-0d1fc5961644>\u001b[0m in \u001b[0;36m<module>\u001b[0;34m\u001b[0m\n\u001b[0;32m----> 1\u001b[0;31m \u001b[0mstats\u001b[0m \u001b[0;34m=\u001b[0m \u001b[0mget_stats\u001b[0m\u001b[0;34m(\u001b[0m\u001b[0;34m)\u001b[0m\u001b[0;34m\u001b[0m\u001b[0;34m\u001b[0m\u001b[0m\n\u001b[0m",
      "\u001b[0;32m~/Documents/ds/metis/repos/beer_project/get_stats.py\u001b[0m in \u001b[0;36mget_stats\u001b[0;34m()\u001b[0m\n\u001b[1;32m      3\u001b[0m \u001b[0;34m\u001b[0m\u001b[0m\n\u001b[1;32m      4\u001b[0m \u001b[0;32mdef\u001b[0m \u001b[0mget_stats\u001b[0m\u001b[0;34m(\u001b[0m\u001b[0;34m)\u001b[0m\u001b[0;34m:\u001b[0m\u001b[0;34m\u001b[0m\u001b[0;34m\u001b[0m\u001b[0m\n\u001b[0;32m----> 5\u001b[0;31m     \u001b[0mog\u001b[0m \u001b[0;34m=\u001b[0m \u001b[0mfloat\u001b[0m\u001b[0;34m(\u001b[0m\u001b[0minput\u001b[0m\u001b[0;34m(\u001b[0m\u001b[0;34m\"Enter Original Gravity: \"\u001b[0m\u001b[0;34m)\u001b[0m\u001b[0;34m)\u001b[0m\u001b[0;34m\u001b[0m\u001b[0;34m\u001b[0m\u001b[0m\n\u001b[0m\u001b[1;32m      6\u001b[0m     \u001b[0mfg\u001b[0m \u001b[0;34m=\u001b[0m \u001b[0mfloat\u001b[0m\u001b[0;34m(\u001b[0m\u001b[0minput\u001b[0m\u001b[0;34m(\u001b[0m\u001b[0;34m\"Enter Final Gravity: \"\u001b[0m\u001b[0;34m)\u001b[0m\u001b[0;34m)\u001b[0m\u001b[0;34m\u001b[0m\u001b[0;34m\u001b[0m\u001b[0m\n\u001b[1;32m      7\u001b[0m     \u001b[0mabv\u001b[0m \u001b[0;34m=\u001b[0m \u001b[0mfloat\u001b[0m\u001b[0;34m(\u001b[0m\u001b[0minput\u001b[0m\u001b[0;34m(\u001b[0m\u001b[0;34m\"Enter ABV: \"\u001b[0m\u001b[0;34m)\u001b[0m\u001b[0;34m)\u001b[0m\u001b[0;34m\u001b[0m\u001b[0;34m\u001b[0m\u001b[0m\n",
      "\u001b[0;32m/opt/anaconda3/envs/metis/lib/python3.8/site-packages/ipykernel/kernelbase.py\u001b[0m in \u001b[0;36mraw_input\u001b[0;34m(self, prompt)\u001b[0m\n\u001b[1;32m    858\u001b[0m                 \u001b[0;34m\"raw_input was called, but this frontend does not support input requests.\"\u001b[0m\u001b[0;34m\u001b[0m\u001b[0;34m\u001b[0m\u001b[0m\n\u001b[1;32m    859\u001b[0m             )\n\u001b[0;32m--> 860\u001b[0;31m         return self._input_request(str(prompt),\n\u001b[0m\u001b[1;32m    861\u001b[0m             \u001b[0mself\u001b[0m\u001b[0;34m.\u001b[0m\u001b[0m_parent_ident\u001b[0m\u001b[0;34m,\u001b[0m\u001b[0;34m\u001b[0m\u001b[0;34m\u001b[0m\u001b[0m\n\u001b[1;32m    862\u001b[0m             \u001b[0mself\u001b[0m\u001b[0;34m.\u001b[0m\u001b[0m_parent_header\u001b[0m\u001b[0;34m,\u001b[0m\u001b[0;34m\u001b[0m\u001b[0;34m\u001b[0m\u001b[0m\n",
      "\u001b[0;32m/opt/anaconda3/envs/metis/lib/python3.8/site-packages/ipykernel/kernelbase.py\u001b[0m in \u001b[0;36m_input_request\u001b[0;34m(self, prompt, ident, parent, password)\u001b[0m\n\u001b[1;32m    902\u001b[0m             \u001b[0;32mexcept\u001b[0m \u001b[0mKeyboardInterrupt\u001b[0m\u001b[0;34m:\u001b[0m\u001b[0;34m\u001b[0m\u001b[0;34m\u001b[0m\u001b[0m\n\u001b[1;32m    903\u001b[0m                 \u001b[0;31m# re-raise KeyboardInterrupt, to truncate traceback\u001b[0m\u001b[0;34m\u001b[0m\u001b[0;34m\u001b[0m\u001b[0;34m\u001b[0m\u001b[0m\n\u001b[0;32m--> 904\u001b[0;31m                 \u001b[0;32mraise\u001b[0m \u001b[0mKeyboardInterrupt\u001b[0m\u001b[0;34m(\u001b[0m\u001b[0;34m\"Interrupted by user\"\u001b[0m\u001b[0;34m)\u001b[0m \u001b[0;32mfrom\u001b[0m \u001b[0;32mNone\u001b[0m\u001b[0;34m\u001b[0m\u001b[0;34m\u001b[0m\u001b[0m\n\u001b[0m\u001b[1;32m    905\u001b[0m             \u001b[0;32mexcept\u001b[0m \u001b[0mException\u001b[0m \u001b[0;32mas\u001b[0m \u001b[0me\u001b[0m\u001b[0;34m:\u001b[0m\u001b[0;34m\u001b[0m\u001b[0;34m\u001b[0m\u001b[0m\n\u001b[1;32m    906\u001b[0m                 \u001b[0mself\u001b[0m\u001b[0;34m.\u001b[0m\u001b[0mlog\u001b[0m\u001b[0;34m.\u001b[0m\u001b[0mwarning\u001b[0m\u001b[0;34m(\u001b[0m\u001b[0;34m\"Invalid Message:\"\u001b[0m\u001b[0;34m,\u001b[0m \u001b[0mexc_info\u001b[0m\u001b[0;34m=\u001b[0m\u001b[0;32mTrue\u001b[0m\u001b[0;34m)\u001b[0m\u001b[0;34m\u001b[0m\u001b[0;34m\u001b[0m\u001b[0m\n",
      "\u001b[0;31mKeyboardInterrupt\u001b[0m: Interrupted by user"
     ]
    }
   ],
   "source": [
    "stats = get_stats()"
   ]
  },
  {
   "cell_type": "code",
   "execution_count": 655,
   "metadata": {},
   "outputs": [],
   "source": [
    "from word_search import search_desc"
   ]
  },
  {
   "cell_type": "code",
   "execution_count": 727,
   "metadata": {},
   "outputs": [
    {
     "name": "stdin",
     "output_type": "stream",
     "text": [
      "Enter beer review:   Enter beer review:  Hazy dank juicy stone fruit pine resin stone fruit mango citrus goodness for hoppy hop lovers. Lactose and hoppy bitter beer with award winning bitterness\n"
     ]
    }
   ],
   "source": [
    "review = input(\"Enter beer review: \")"
   ]
  },
  {
   "cell_type": "code",
   "execution_count": 728,
   "metadata": {},
   "outputs": [],
   "source": [
    "desc = search_desc(review)"
   ]
  },
  {
   "cell_type": "code",
   "execution_count": 714,
   "metadata": {},
   "outputs": [
    {
     "data": {
      "text/html": [
       "<div>\n",
       "<style scoped>\n",
       "    .dataframe tbody tr th:only-of-type {\n",
       "        vertical-align: middle;\n",
       "    }\n",
       "\n",
       "    .dataframe tbody tr th {\n",
       "        vertical-align: top;\n",
       "    }\n",
       "\n",
       "    .dataframe thead th {\n",
       "        text-align: right;\n",
       "    }\n",
       "</style>\n",
       "<table border=\"1\" class=\"dataframe\">\n",
       "  <thead>\n",
       "    <tr style=\"text-align: right;\">\n",
       "      <th></th>\n",
       "      <th>dryh</th>\n",
       "      <th>lact</th>\n",
       "      <th>clone</th>\n",
       "      <th>juicy</th>\n",
       "      <th>dank</th>\n",
       "      <th>wedding</th>\n",
       "      <th>whisk</th>\n",
       "      <th>trop</th>\n",
       "      <th>award</th>\n",
       "      <th>best</th>\n",
       "      <th>...</th>\n",
       "      <th>dark</th>\n",
       "      <th>pine</th>\n",
       "      <th>sticky</th>\n",
       "      <th>foam</th>\n",
       "      <th>hoppy</th>\n",
       "      <th>bisc</th>\n",
       "      <th>ester</th>\n",
       "      <th>straw</th>\n",
       "      <th>choco</th>\n",
       "      <th>coffee</th>\n",
       "    </tr>\n",
       "  </thead>\n",
       "  <tbody>\n",
       "    <tr>\n",
       "      <th>0</th>\n",
       "      <td>0</td>\n",
       "      <td>0</td>\n",
       "      <td>0</td>\n",
       "      <td>0</td>\n",
       "      <td>0</td>\n",
       "      <td>0</td>\n",
       "      <td>0</td>\n",
       "      <td>0</td>\n",
       "      <td>0</td>\n",
       "      <td>0</td>\n",
       "      <td>...</td>\n",
       "      <td>0</td>\n",
       "      <td>0</td>\n",
       "      <td>0</td>\n",
       "      <td>0</td>\n",
       "      <td>0</td>\n",
       "      <td>0</td>\n",
       "      <td>0</td>\n",
       "      <td>0</td>\n",
       "      <td>0</td>\n",
       "      <td>0</td>\n",
       "    </tr>\n",
       "  </tbody>\n",
       "</table>\n",
       "<p>1 rows × 36 columns</p>\n",
       "</div>"
      ],
      "text/plain": [
       "   dryh  lact  clone  juicy  dank  wedding  whisk  trop  award  best  ...  \\\n",
       "0     0     0      0      0     0        0      0     0      0     0  ...   \n",
       "\n",
       "   dark  pine  sticky  foam  hoppy  bisc  ester  straw  choco  coffee  \n",
       "0     0     0       0     0      0     0      0      0      0       0  \n",
       "\n",
       "[1 rows x 36 columns]"
      ]
     },
     "execution_count": 714,
     "metadata": {},
     "output_type": "execute_result"
    }
   ],
   "source": [
    "desc"
   ]
  },
  {
   "cell_type": "code",
   "execution_count": 729,
   "metadata": {},
   "outputs": [
    {
     "data": {
      "text/html": [
       "<div>\n",
       "<style scoped>\n",
       "    .dataframe tbody tr th:only-of-type {\n",
       "        vertical-align: middle;\n",
       "    }\n",
       "\n",
       "    .dataframe tbody tr th {\n",
       "        vertical-align: top;\n",
       "    }\n",
       "\n",
       "    .dataframe thead th {\n",
       "        text-align: right;\n",
       "    }\n",
       "</style>\n",
       "<table border=\"1\" class=\"dataframe\">\n",
       "  <thead>\n",
       "    <tr style=\"text-align: right;\">\n",
       "      <th></th>\n",
       "      <th>dryh</th>\n",
       "      <th>lact</th>\n",
       "      <th>clone</th>\n",
       "      <th>juicy</th>\n",
       "      <th>dank</th>\n",
       "      <th>wedding</th>\n",
       "      <th>whisk</th>\n",
       "      <th>trop</th>\n",
       "      <th>award</th>\n",
       "      <th>best</th>\n",
       "      <th>...</th>\n",
       "      <th>straw</th>\n",
       "      <th>choco</th>\n",
       "      <th>coffee</th>\n",
       "      <th>og</th>\n",
       "      <th>fg</th>\n",
       "      <th>abv</th>\n",
       "      <th>srm</th>\n",
       "      <th>ibu</th>\n",
       "      <th>bugu</th>\n",
       "      <th>hopcmp</th>\n",
       "    </tr>\n",
       "  </thead>\n",
       "  <tbody>\n",
       "    <tr>\n",
       "      <th>0</th>\n",
       "      <td>0</td>\n",
       "      <td>1</td>\n",
       "      <td>0</td>\n",
       "      <td>1</td>\n",
       "      <td>1</td>\n",
       "      <td>0</td>\n",
       "      <td>0</td>\n",
       "      <td>1</td>\n",
       "      <td>1</td>\n",
       "      <td>0</td>\n",
       "      <td>...</td>\n",
       "      <td>0</td>\n",
       "      <td>0</td>\n",
       "      <td>0</td>\n",
       "      <td>1.07</td>\n",
       "      <td>1.03</td>\n",
       "      <td>7.0</td>\n",
       "      <td>50.0</td>\n",
       "      <td>30.0</td>\n",
       "      <td>0.428571</td>\n",
       "      <td>20.0</td>\n",
       "    </tr>\n",
       "  </tbody>\n",
       "</table>\n",
       "<p>1 rows × 43 columns</p>\n",
       "</div>"
      ],
      "text/plain": [
       "   dryh  lact  clone  juicy  dank  wedding  whisk  trop  award  best  ...  \\\n",
       "0     0     1      0      1     1        0      0     1      1     0  ...   \n",
       "\n",
       "   straw  choco  coffee    og    fg  abv   srm   ibu      bugu  hopcmp  \n",
       "0      0      0       0  1.07  1.03  7.0  50.0  30.0  0.428571    20.0  \n",
       "\n",
       "[1 rows x 43 columns]"
      ]
     },
     "execution_count": 729,
     "metadata": {},
     "output_type": "execute_result"
    }
   ],
   "source": [
    "bro_ = desc.join(stats)\n",
    "bro_"
   ]
  },
  {
   "cell_type": "code",
   "execution_count": 716,
   "metadata": {},
   "outputs": [
    {
     "data": {
      "text/plain": [
       "array(['Strong/Dark Ales'], dtype=object)"
      ]
     },
     "execution_count": 716,
     "metadata": {},
     "output_type": "execute_result"
    }
   ],
   "source": [
    "xgbbq.predict(bro_)"
   ]
  },
  {
   "cell_type": "code",
   "execution_count": 730,
   "metadata": {},
   "outputs": [],
   "source": [
    "preds = [knnbq.predict(bro_)[0], mnbbq.predict(bro_)[0], logrbq.predict(bro_)[0],\\\n",
    "         forestbq.predict(bro_)[0], xgbbq.predict(bro_)[0], xgbbq.predict(bro_)[0]]\n",
    "clean_pred = defaultdict(int)\n",
    "for pred in preds:\n",
    "    if pred == 'IPA/Pale Ales':\n",
    "        clean_pred['IPA/Pale Ales'] +=1\n",
    "    elif pred == 'Strong/Dark Ales':\n",
    "        clean_pred['Strong/Dark Ales'] += 1\n",
    "    elif pred == 'Lager/Cream Ale':\n",
    "        clean_pred['Lager/Cream Ale'] += 1\n",
    "    else:\n",
    "        clean_pred['Other'] += 1\n",
    "res_dic = dict(clean_pred)"
   ]
  },
  {
   "cell_type": "code",
   "execution_count": 732,
   "metadata": {},
   "outputs": [
    {
     "data": {
      "text/plain": [
       "({'Strong/Dark Ales': 5, 'IPA/Pale Ales': 1},\n",
       " ['Strong/Dark Ales',\n",
       "  'Strong/Dark Ales',\n",
       "  'IPA/Pale Ales',\n",
       "  'Strong/Dark Ales',\n",
       "  'Strong/Dark Ales',\n",
       "  'Strong/Dark Ales'])"
      ]
     },
     "execution_count": 732,
     "metadata": {},
     "output_type": "execute_result"
    }
   ],
   "source": [
    "res_dic, preds"
   ]
  },
  {
   "cell_type": "code",
   "execution_count": 731,
   "metadata": {},
   "outputs": [
    {
     "name": "stdout",
     "output_type": "stream",
     "text": [
      "Strong/Dark Ales\n"
     ]
    }
   ],
   "source": [
    "for key, value in res_dic.items():\n",
    "    if value == len(preds)/2:\n",
    "        print(\"TIE\")\n",
    "        break\n",
    "    elif value > len(preds)//2:\n",
    "        print(key)\n",
    "    else:\n",
    "        continue"
   ]
  },
  {
   "cell_type": "code",
   "execution_count": 702,
   "metadata": {},
   "outputs": [
    {
     "name": "stdout",
     "output_type": "stream",
     "text": [
      "Feature ranking:\n",
      "1. feature 41 (0.211545)\n",
      "2. feature 39 (0.195041)\n",
      "3. feature 40 (0.165427)\n",
      "4. feature 42 (0.085557)\n",
      "5. feature 38 (0.071740)\n",
      "6. feature 26 (0.060191)\n",
      "7. feature 36 (0.059215)\n"
     ]
    },
    {
     "ename": "ValueError",
     "evalue": "shape mismatch: objects cannot be broadcast to a single shape",
     "output_type": "error",
     "traceback": [
      "\u001b[0;31m---------------------------------------------------------------------------\u001b[0m",
      "\u001b[0;31mValueError\u001b[0m                                Traceback (most recent call last)",
      "\u001b[0;32m<ipython-input-702-d433b3917b1d>\u001b[0m in \u001b[0;36m<module>\u001b[0;34m\u001b[0m\n\u001b[1;32m     13\u001b[0m \u001b[0mplt\u001b[0m\u001b[0;34m.\u001b[0m\u001b[0mfigure\u001b[0m\u001b[0;34m(\u001b[0m\u001b[0;34m)\u001b[0m\u001b[0;34m\u001b[0m\u001b[0;34m\u001b[0m\u001b[0m\n\u001b[1;32m     14\u001b[0m \u001b[0mplt\u001b[0m\u001b[0;34m.\u001b[0m\u001b[0mtitle\u001b[0m\u001b[0;34m(\u001b[0m\u001b[0;34m\"Feature importances\"\u001b[0m\u001b[0;34m)\u001b[0m\u001b[0;34m\u001b[0m\u001b[0;34m\u001b[0m\u001b[0m\n\u001b[0;32m---> 15\u001b[0;31m plt.bar(range(X.shape[1]), importances[indices],\n\u001b[0m\u001b[1;32m     16\u001b[0m         color=\"r\", yerr=std[indices], align=\"center\")\n\u001b[1;32m     17\u001b[0m \u001b[0mplt\u001b[0m\u001b[0;34m.\u001b[0m\u001b[0mxticks\u001b[0m\u001b[0;34m(\u001b[0m\u001b[0mrange\u001b[0m\u001b[0;34m(\u001b[0m\u001b[0mX\u001b[0m\u001b[0;34m.\u001b[0m\u001b[0mshape\u001b[0m\u001b[0;34m[\u001b[0m\u001b[0;36m1\u001b[0m\u001b[0;34m]\u001b[0m\u001b[0;34m)\u001b[0m\u001b[0;34m,\u001b[0m \u001b[0mindices\u001b[0m\u001b[0;34m)\u001b[0m\u001b[0;34m\u001b[0m\u001b[0;34m\u001b[0m\u001b[0m\n",
      "\u001b[0;32m/opt/anaconda3/envs/metis/lib/python3.8/site-packages/matplotlib/pyplot.py\u001b[0m in \u001b[0;36mbar\u001b[0;34m(x, height, width, bottom, align, data, **kwargs)\u001b[0m\n\u001b[1;32m   2485\u001b[0m         \u001b[0mx\u001b[0m\u001b[0;34m,\u001b[0m \u001b[0mheight\u001b[0m\u001b[0;34m,\u001b[0m \u001b[0mwidth\u001b[0m\u001b[0;34m=\u001b[0m\u001b[0;36m0.8\u001b[0m\u001b[0;34m,\u001b[0m \u001b[0mbottom\u001b[0m\u001b[0;34m=\u001b[0m\u001b[0;32mNone\u001b[0m\u001b[0;34m,\u001b[0m \u001b[0;34m*\u001b[0m\u001b[0;34m,\u001b[0m \u001b[0malign\u001b[0m\u001b[0;34m=\u001b[0m\u001b[0;34m'center'\u001b[0m\u001b[0;34m,\u001b[0m\u001b[0;34m\u001b[0m\u001b[0;34m\u001b[0m\u001b[0m\n\u001b[1;32m   2486\u001b[0m         data=None, **kwargs):\n\u001b[0;32m-> 2487\u001b[0;31m     return gca().bar(\n\u001b[0m\u001b[1;32m   2488\u001b[0m         \u001b[0mx\u001b[0m\u001b[0;34m,\u001b[0m \u001b[0mheight\u001b[0m\u001b[0;34m,\u001b[0m \u001b[0mwidth\u001b[0m\u001b[0;34m=\u001b[0m\u001b[0mwidth\u001b[0m\u001b[0;34m,\u001b[0m \u001b[0mbottom\u001b[0m\u001b[0;34m=\u001b[0m\u001b[0mbottom\u001b[0m\u001b[0;34m,\u001b[0m \u001b[0malign\u001b[0m\u001b[0;34m=\u001b[0m\u001b[0malign\u001b[0m\u001b[0;34m,\u001b[0m\u001b[0;34m\u001b[0m\u001b[0;34m\u001b[0m\u001b[0m\n\u001b[1;32m   2489\u001b[0m         **({\"data\": data} if data is not None else {}), **kwargs)\n",
      "\u001b[0;32m/opt/anaconda3/envs/metis/lib/python3.8/site-packages/matplotlib/__init__.py\u001b[0m in \u001b[0;36minner\u001b[0;34m(ax, data, *args, **kwargs)\u001b[0m\n\u001b[1;32m   1436\u001b[0m     \u001b[0;32mdef\u001b[0m \u001b[0minner\u001b[0m\u001b[0;34m(\u001b[0m\u001b[0max\u001b[0m\u001b[0;34m,\u001b[0m \u001b[0;34m*\u001b[0m\u001b[0margs\u001b[0m\u001b[0;34m,\u001b[0m \u001b[0mdata\u001b[0m\u001b[0;34m=\u001b[0m\u001b[0;32mNone\u001b[0m\u001b[0;34m,\u001b[0m \u001b[0;34m**\u001b[0m\u001b[0mkwargs\u001b[0m\u001b[0;34m)\u001b[0m\u001b[0;34m:\u001b[0m\u001b[0;34m\u001b[0m\u001b[0;34m\u001b[0m\u001b[0m\n\u001b[1;32m   1437\u001b[0m         \u001b[0;32mif\u001b[0m \u001b[0mdata\u001b[0m \u001b[0;32mis\u001b[0m \u001b[0;32mNone\u001b[0m\u001b[0;34m:\u001b[0m\u001b[0;34m\u001b[0m\u001b[0;34m\u001b[0m\u001b[0m\n\u001b[0;32m-> 1438\u001b[0;31m             \u001b[0;32mreturn\u001b[0m \u001b[0mfunc\u001b[0m\u001b[0;34m(\u001b[0m\u001b[0max\u001b[0m\u001b[0;34m,\u001b[0m \u001b[0;34m*\u001b[0m\u001b[0mmap\u001b[0m\u001b[0;34m(\u001b[0m\u001b[0msanitize_sequence\u001b[0m\u001b[0;34m,\u001b[0m \u001b[0margs\u001b[0m\u001b[0;34m)\u001b[0m\u001b[0;34m,\u001b[0m \u001b[0;34m**\u001b[0m\u001b[0mkwargs\u001b[0m\u001b[0;34m)\u001b[0m\u001b[0;34m\u001b[0m\u001b[0;34m\u001b[0m\u001b[0m\n\u001b[0m\u001b[1;32m   1439\u001b[0m \u001b[0;34m\u001b[0m\u001b[0m\n\u001b[1;32m   1440\u001b[0m         \u001b[0mbound\u001b[0m \u001b[0;34m=\u001b[0m \u001b[0mnew_sig\u001b[0m\u001b[0;34m.\u001b[0m\u001b[0mbind\u001b[0m\u001b[0;34m(\u001b[0m\u001b[0max\u001b[0m\u001b[0;34m,\u001b[0m \u001b[0;34m*\u001b[0m\u001b[0margs\u001b[0m\u001b[0;34m,\u001b[0m \u001b[0;34m**\u001b[0m\u001b[0mkwargs\u001b[0m\u001b[0;34m)\u001b[0m\u001b[0;34m\u001b[0m\u001b[0;34m\u001b[0m\u001b[0m\n",
      "\u001b[0;32m/opt/anaconda3/envs/metis/lib/python3.8/site-packages/matplotlib/axes/_axes.py\u001b[0m in \u001b[0;36mbar\u001b[0;34m(self, x, height, width, bottom, align, **kwargs)\u001b[0m\n\u001b[1;32m   2428\u001b[0m                 \u001b[0myerr\u001b[0m \u001b[0;34m=\u001b[0m \u001b[0mself\u001b[0m\u001b[0;34m.\u001b[0m\u001b[0m_convert_dx\u001b[0m\u001b[0;34m(\u001b[0m\u001b[0myerr\u001b[0m\u001b[0;34m,\u001b[0m \u001b[0my0\u001b[0m\u001b[0;34m,\u001b[0m \u001b[0my\u001b[0m\u001b[0;34m,\u001b[0m \u001b[0mself\u001b[0m\u001b[0;34m.\u001b[0m\u001b[0mconvert_yunits\u001b[0m\u001b[0;34m)\u001b[0m\u001b[0;34m\u001b[0m\u001b[0;34m\u001b[0m\u001b[0m\n\u001b[1;32m   2429\u001b[0m \u001b[0;34m\u001b[0m\u001b[0m\n\u001b[0;32m-> 2430\u001b[0;31m         x, height, width, y, linewidth = np.broadcast_arrays(\n\u001b[0m\u001b[1;32m   2431\u001b[0m             \u001b[0;31m# Make args iterable too.\u001b[0m\u001b[0;34m\u001b[0m\u001b[0;34m\u001b[0m\u001b[0;34m\u001b[0m\u001b[0m\n\u001b[1;32m   2432\u001b[0m             np.atleast_1d(x), height, width, y, linewidth)\n",
      "\u001b[0;32m<__array_function__ internals>\u001b[0m in \u001b[0;36mbroadcast_arrays\u001b[0;34m(*args, **kwargs)\u001b[0m\n",
      "\u001b[0;32m/opt/anaconda3/envs/metis/lib/python3.8/site-packages/numpy/lib/stride_tricks.py\u001b[0m in \u001b[0;36mbroadcast_arrays\u001b[0;34m(subok, *args)\u001b[0m\n\u001b[1;32m    256\u001b[0m     \u001b[0margs\u001b[0m \u001b[0;34m=\u001b[0m \u001b[0;34m[\u001b[0m\u001b[0mnp\u001b[0m\u001b[0;34m.\u001b[0m\u001b[0marray\u001b[0m\u001b[0;34m(\u001b[0m\u001b[0m_m\u001b[0m\u001b[0;34m,\u001b[0m \u001b[0mcopy\u001b[0m\u001b[0;34m=\u001b[0m\u001b[0;32mFalse\u001b[0m\u001b[0;34m,\u001b[0m \u001b[0msubok\u001b[0m\u001b[0;34m=\u001b[0m\u001b[0msubok\u001b[0m\u001b[0;34m)\u001b[0m \u001b[0;32mfor\u001b[0m \u001b[0m_m\u001b[0m \u001b[0;32min\u001b[0m \u001b[0margs\u001b[0m\u001b[0;34m]\u001b[0m\u001b[0;34m\u001b[0m\u001b[0;34m\u001b[0m\u001b[0m\n\u001b[1;32m    257\u001b[0m \u001b[0;34m\u001b[0m\u001b[0m\n\u001b[0;32m--> 258\u001b[0;31m     \u001b[0mshape\u001b[0m \u001b[0;34m=\u001b[0m \u001b[0m_broadcast_shape\u001b[0m\u001b[0;34m(\u001b[0m\u001b[0;34m*\u001b[0m\u001b[0margs\u001b[0m\u001b[0;34m)\u001b[0m\u001b[0;34m\u001b[0m\u001b[0;34m\u001b[0m\u001b[0m\n\u001b[0m\u001b[1;32m    259\u001b[0m \u001b[0;34m\u001b[0m\u001b[0m\n\u001b[1;32m    260\u001b[0m     \u001b[0;32mif\u001b[0m \u001b[0mall\u001b[0m\u001b[0;34m(\u001b[0m\u001b[0marray\u001b[0m\u001b[0;34m.\u001b[0m\u001b[0mshape\u001b[0m \u001b[0;34m==\u001b[0m \u001b[0mshape\u001b[0m \u001b[0;32mfor\u001b[0m \u001b[0marray\u001b[0m \u001b[0;32min\u001b[0m \u001b[0margs\u001b[0m\u001b[0;34m)\u001b[0m\u001b[0;34m:\u001b[0m\u001b[0;34m\u001b[0m\u001b[0;34m\u001b[0m\u001b[0m\n",
      "\u001b[0;32m/opt/anaconda3/envs/metis/lib/python3.8/site-packages/numpy/lib/stride_tricks.py\u001b[0m in \u001b[0;36m_broadcast_shape\u001b[0;34m(*args)\u001b[0m\n\u001b[1;32m    187\u001b[0m     \u001b[0;31m# use the old-iterator because np.nditer does not handle size 0 arrays\u001b[0m\u001b[0;34m\u001b[0m\u001b[0;34m\u001b[0m\u001b[0;34m\u001b[0m\u001b[0m\n\u001b[1;32m    188\u001b[0m     \u001b[0;31m# consistently\u001b[0m\u001b[0;34m\u001b[0m\u001b[0;34m\u001b[0m\u001b[0;34m\u001b[0m\u001b[0m\n\u001b[0;32m--> 189\u001b[0;31m     \u001b[0mb\u001b[0m \u001b[0;34m=\u001b[0m \u001b[0mnp\u001b[0m\u001b[0;34m.\u001b[0m\u001b[0mbroadcast\u001b[0m\u001b[0;34m(\u001b[0m\u001b[0;34m*\u001b[0m\u001b[0margs\u001b[0m\u001b[0;34m[\u001b[0m\u001b[0;34m:\u001b[0m\u001b[0;36m32\u001b[0m\u001b[0;34m]\u001b[0m\u001b[0;34m)\u001b[0m\u001b[0;34m\u001b[0m\u001b[0;34m\u001b[0m\u001b[0m\n\u001b[0m\u001b[1;32m    190\u001b[0m     \u001b[0;31m# unfortunately, it cannot handle 32 or more arguments directly\u001b[0m\u001b[0;34m\u001b[0m\u001b[0;34m\u001b[0m\u001b[0;34m\u001b[0m\u001b[0m\n\u001b[1;32m    191\u001b[0m     \u001b[0;32mfor\u001b[0m \u001b[0mpos\u001b[0m \u001b[0;32min\u001b[0m \u001b[0mrange\u001b[0m\u001b[0;34m(\u001b[0m\u001b[0;36m32\u001b[0m\u001b[0;34m,\u001b[0m \u001b[0mlen\u001b[0m\u001b[0;34m(\u001b[0m\u001b[0margs\u001b[0m\u001b[0;34m)\u001b[0m\u001b[0;34m,\u001b[0m \u001b[0;36m31\u001b[0m\u001b[0;34m)\u001b[0m\u001b[0;34m:\u001b[0m\u001b[0;34m\u001b[0m\u001b[0;34m\u001b[0m\u001b[0m\n",
      "\u001b[0;31mValueError\u001b[0m: shape mismatch: objects cannot be broadcast to a single shape"
     ]
    },
    {
     "data": {
      "image/png": "[encoded data removed]",
      "text/plain": [
       "<Figure size 432x288 with 1 Axes>"
      ]
     },
     "metadata": {
      "needs_background": "light"
     },
     "output_type": "display_data"
    }
   ],
   "source": [
    "importances = forestbq.feature_importances_\n",
    "std = np.std([tree.feature_importances_ for tree in forestbq.estimators_],\n",
    "             axis=0)\n",
    "indices = np.argsort(importances)[::-1]\n",
    "\n",
    "# Print the feature ranking\n",
    "print(\"Feature ranking:\")\n",
    "\n",
    "for f in range(X.shape[1]):\n",
    "    print(\"%d. feature %d (%f)\" % (f + 1, indices[f], importances[indices[f]]))\n",
    "\n",
    "# Plot the impurity-based feature importances of the forest\n",
    "plt.figure()\n",
    "plt.title(\"Feature importances\")\n",
    "plt.bar(range(X.shape[1]), importances[indices],\n",
    "        color=\"r\", yerr=std[indices], align=\"center\")\n",
    "plt.xticks(range(X.shape[1]), indices)\n",
    "plt.xlim([-1, X.shape[1]])\n",
    "plt.show()"
   ]
  },
  {
   "cell_type": "code",
   "execution_count": 737,
   "metadata": {},
   "outputs": [
    {
     "data": {
      "text/plain": [
       "(1.062608801858081,\n",
       " 1.0145233461476855,\n",
       " 6.231271652573681,\n",
       " 13.537673704248506,\n",
       " 44.43336416786802,\n",
       " 35.467595707192054)"
      ]
     },
     "execution_count": 737,
     "metadata": {},
     "output_type": "execute_result"
    }
   ],
   "source": [
    "df.og.mean(), df.fg.mean(), df.abv.mean(), df.srm.mean(), df.ibu.mean(), df.hopcmp.mean()"
   ]
  },
  {
   "cell_type": "code",
   "execution_count": 739,
   "metadata": {},
   "outputs": [
    {
     "ename": "ValueError",
     "evalue": "No axis named 10 for object type Series",
     "output_type": "error",
     "traceback": [
      "\u001b[0;31m---------------------------------------------------------------------------\u001b[0m",
      "\u001b[0;31mKeyError\u001b[0m                                  Traceback (most recent call last)",
      "\u001b[0;32m/opt/anaconda3/envs/metis/lib/python3.8/site-packages/pandas/core/generic.py\u001b[0m in \u001b[0;36m_get_axis_number\u001b[0;34m(cls, axis)\u001b[0m\n\u001b[1;32m    367\u001b[0m         \u001b[0;32mtry\u001b[0m\u001b[0;34m:\u001b[0m\u001b[0;34m\u001b[0m\u001b[0;34m\u001b[0m\u001b[0m\n\u001b[0;32m--> 368\u001b[0;31m             \u001b[0;32mreturn\u001b[0m \u001b[0mcls\u001b[0m\u001b[0;34m.\u001b[0m\u001b[0m_AXIS_TO_AXIS_NUMBER\u001b[0m\u001b[0;34m[\u001b[0m\u001b[0maxis\u001b[0m\u001b[0;34m]\u001b[0m\u001b[0;34m\u001b[0m\u001b[0;34m\u001b[0m\u001b[0m\n\u001b[0m\u001b[1;32m    369\u001b[0m         \u001b[0;32mexcept\u001b[0m \u001b[0mKeyError\u001b[0m\u001b[0;34m:\u001b[0m\u001b[0;34m\u001b[0m\u001b[0;34m\u001b[0m\u001b[0m\n",
      "\u001b[0;31mKeyError\u001b[0m: 10",
      "\nDuring handling of the above exception, another exception occurred:\n",
      "\u001b[0;31mValueError\u001b[0m                                Traceback (most recent call last)",
      "\u001b[0;32m<ipython-input-739-5e6746d0f957>\u001b[0m in \u001b[0;36m<module>\u001b[0;34m\u001b[0m\n\u001b[0;32m----> 1\u001b[0;31m \u001b[0mdf\u001b[0m\u001b[0;34m.\u001b[0m\u001b[0mog\u001b[0m\u001b[0;34m.\u001b[0m\u001b[0mmax\u001b[0m\u001b[0;34m(\u001b[0m\u001b[0;36m10\u001b[0m\u001b[0;34m)\u001b[0m\u001b[0;34m\u001b[0m\u001b[0;34m\u001b[0m\u001b[0m\n\u001b[0m",
      "\u001b[0;32m/opt/anaconda3/envs/metis/lib/python3.8/site-packages/pandas/core/generic.py\u001b[0m in \u001b[0;36mstat_func\u001b[0;34m(self, axis, skipna, level, numeric_only, **kwargs)\u001b[0m\n\u001b[1;32m  11463\u001b[0m         \u001b[0;32mif\u001b[0m \u001b[0mlevel\u001b[0m \u001b[0;32mis\u001b[0m \u001b[0;32mnot\u001b[0m \u001b[0;32mNone\u001b[0m\u001b[0;34m:\u001b[0m\u001b[0;34m\u001b[0m\u001b[0;34m\u001b[0m\u001b[0m\n\u001b[1;32m  11464\u001b[0m             \u001b[0;32mreturn\u001b[0m \u001b[0mself\u001b[0m\u001b[0;34m.\u001b[0m\u001b[0m_agg_by_level\u001b[0m\u001b[0;34m(\u001b[0m\u001b[0mname\u001b[0m\u001b[0;34m,\u001b[0m \u001b[0maxis\u001b[0m\u001b[0;34m=\u001b[0m\u001b[0maxis\u001b[0m\u001b[0;34m,\u001b[0m \u001b[0mlevel\u001b[0m\u001b[0;34m=\u001b[0m\u001b[0mlevel\u001b[0m\u001b[0;34m,\u001b[0m \u001b[0mskipna\u001b[0m\u001b[0;34m=\u001b[0m\u001b[0mskipna\u001b[0m\u001b[0;34m)\u001b[0m\u001b[0;34m\u001b[0m\u001b[0;34m\u001b[0m\u001b[0m\n\u001b[0;32m> 11465\u001b[0;31m         return self._reduce(\n\u001b[0m\u001b[1;32m  11466\u001b[0m             \u001b[0mfunc\u001b[0m\u001b[0;34m,\u001b[0m \u001b[0mname\u001b[0m\u001b[0;34m=\u001b[0m\u001b[0mname\u001b[0m\u001b[0;34m,\u001b[0m \u001b[0maxis\u001b[0m\u001b[0;34m=\u001b[0m\u001b[0maxis\u001b[0m\u001b[0;34m,\u001b[0m \u001b[0mskipna\u001b[0m\u001b[0;34m=\u001b[0m\u001b[0mskipna\u001b[0m\u001b[0;34m,\u001b[0m \u001b[0mnumeric_only\u001b[0m\u001b[0;34m=\u001b[0m\u001b[0mnumeric_only\u001b[0m\u001b[0;34m\u001b[0m\u001b[0;34m\u001b[0m\u001b[0m\n\u001b[1;32m  11467\u001b[0m         )\n",
      "\u001b[0;32m/opt/anaconda3/envs/metis/lib/python3.8/site-packages/pandas/core/series.py\u001b[0m in \u001b[0;36m_reduce\u001b[0;34m(self, op, name, axis, skipna, numeric_only, filter_type, **kwds)\u001b[0m\n\u001b[1;32m   4221\u001b[0m \u001b[0;34m\u001b[0m\u001b[0m\n\u001b[1;32m   4222\u001b[0m         \u001b[0;32mif\u001b[0m \u001b[0maxis\u001b[0m \u001b[0;32mis\u001b[0m \u001b[0;32mnot\u001b[0m \u001b[0;32mNone\u001b[0m\u001b[0;34m:\u001b[0m\u001b[0;34m\u001b[0m\u001b[0;34m\u001b[0m\u001b[0m\n\u001b[0;32m-> 4223\u001b[0;31m             \u001b[0mself\u001b[0m\u001b[0;34m.\u001b[0m\u001b[0m_get_axis_number\u001b[0m\u001b[0;34m(\u001b[0m\u001b[0maxis\u001b[0m\u001b[0;34m)\u001b[0m\u001b[0;34m\u001b[0m\u001b[0;34m\u001b[0m\u001b[0m\n\u001b[0m\u001b[1;32m   4224\u001b[0m \u001b[0;34m\u001b[0m\u001b[0m\n\u001b[1;32m   4225\u001b[0m         \u001b[0;32mif\u001b[0m \u001b[0misinstance\u001b[0m\u001b[0;34m(\u001b[0m\u001b[0mdelegate\u001b[0m\u001b[0;34m,\u001b[0m \u001b[0mExtensionArray\u001b[0m\u001b[0;34m)\u001b[0m\u001b[0;34m:\u001b[0m\u001b[0;34m\u001b[0m\u001b[0;34m\u001b[0m\u001b[0m\n",
      "\u001b[0;32m/opt/anaconda3/envs/metis/lib/python3.8/site-packages/pandas/core/generic.py\u001b[0m in \u001b[0;36m_get_axis_number\u001b[0;34m(cls, axis)\u001b[0m\n\u001b[1;32m    368\u001b[0m             \u001b[0;32mreturn\u001b[0m \u001b[0mcls\u001b[0m\u001b[0;34m.\u001b[0m\u001b[0m_AXIS_TO_AXIS_NUMBER\u001b[0m\u001b[0;34m[\u001b[0m\u001b[0maxis\u001b[0m\u001b[0;34m]\u001b[0m\u001b[0;34m\u001b[0m\u001b[0;34m\u001b[0m\u001b[0m\n\u001b[1;32m    369\u001b[0m         \u001b[0;32mexcept\u001b[0m \u001b[0mKeyError\u001b[0m\u001b[0;34m:\u001b[0m\u001b[0;34m\u001b[0m\u001b[0;34m\u001b[0m\u001b[0m\n\u001b[0;32m--> 370\u001b[0;31m             \u001b[0;32mraise\u001b[0m \u001b[0mValueError\u001b[0m\u001b[0;34m(\u001b[0m\u001b[0;34mf\"No axis named {axis} for object type {cls.__name__}\"\u001b[0m\u001b[0;34m)\u001b[0m\u001b[0;34m\u001b[0m\u001b[0;34m\u001b[0m\u001b[0m\n\u001b[0m\u001b[1;32m    371\u001b[0m \u001b[0;34m\u001b[0m\u001b[0m\n\u001b[1;32m    372\u001b[0m     \u001b[0;34m@\u001b[0m\u001b[0mclassmethod\u001b[0m\u001b[0;34m\u001b[0m\u001b[0;34m\u001b[0m\u001b[0m\n",
      "\u001b[0;31mValueError\u001b[0m: No axis named 10 for object type Series"
     ]
    }
   ],
   "source": []
  },
  {
   "cell_type": "code",
   "execution_count": null,
   "metadata": {},
   "outputs": [],
   "source": []
  }
 ],
 "metadata": {
  "kernelspec": {
   "display_name": "Python [conda env:metis] *",
   "language": "python",
   "name": "conda-env-metis-py"
  },
  "language_info": {
   "codemirror_mode": {
    "name": "ipython",
    "version": 3
   },
   "file_extension": ".py",
   "mimetype": "text/x-python",
   "name": "python",
   "nbconvert_exporter": "python",
   "pygments_lexer": "ipython3",
   "version": "3.8.5"
  }
 },
 "nbformat": 4,
 "nbformat_minor": 4
}
