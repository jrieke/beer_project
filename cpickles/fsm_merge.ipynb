{
 "cells": [
  {
   "cell_type": "code",
   "execution_count": 1,
   "metadata": {},
   "outputs": [],
   "source": [
    "import jar"
   ]
  },
  {
   "cell_type": "code",
   "execution_count": 2,
   "metadata": {},
   "outputs": [],
   "source": [
    "import pandas as pd\n",
    "import numpy as np"
   ]
  },
  {
   "cell_type": "code",
   "execution_count": 68,
   "metadata": {},
   "outputs": [],
   "source": [
    "pickles = ['1_16', '17_30', '31_60', '61_90', '91_107', '108_122', '123_140', '141_156', '157_160', '161_176', '176_191', '192_207', '208_222', '223_238', '238_250', \\\n",
    "          '251_266', '267_282', '283_298', '299_314', '315_330', '331_346', '347_362', '363_378', '379_394', '395_410', '411_426', '427_442', '443_458',\\\n",
    "          '459_474', '475_490', '491_506', '507_522', '523_538', '539_554', '555_570', '571_586', '587_602', '603_618', '619_634', '635_650', '651_666',\\\n",
    "          '667_682', '683_698', '699_714', '715_730', '731_746', '747_762', '763_778', '779_794', '795_810', '811_826', '827_842', '843_858', '859_874', \\\n",
    "          '875_890', '891_906', '907_922', '923_938', '939_954', '955_970', '971_986', '987_1002', '1003_1018', '1019_1034', '1035_1050', '1051_1066', \\\n",
    "          '1067_1082', '1083_1098', '1099_1114', '1115_1130', '1131_1146', '1147_1162', '1163_1178', '1179_1194', '1195_1210', '1211_1226', '1227_1242', \\\n",
    "          '1243_1258', '1259_1274', '1275_1290', '1291_1306', '1307_1322', '1323_1338', '1339_1354','1355_1370', '1371_1386', '1387_1402', '1403_1418', \\\n",
    "          '1419_1434', '1435_1450', '1451_1466', '1467_1482', '1483_1498']"
   ]
  },
  {
   "cell_type": "code",
   "execution_count": 69,
   "metadata": {},
   "outputs": [],
   "source": [
    "df = jar.jar_open(pickles)"
   ]
  },
  {
   "cell_type": "code",
   "execution_count": 70,
   "metadata": {},
   "outputs": [
    {
     "name": "stdout",
     "output_type": "stream",
     "text": [
      "<class 'pandas.core.frame.DataFrame'>\n",
      "Int64Index: 27745 entries, 0 to 299\n",
      "Data columns (total 19 columns):\n",
      " #   Column            Non-Null Count  Dtype \n",
      "---  ------            --------------  ----- \n",
      " 0   title             27674 non-null  object\n",
      " 1   style             27745 non-null  object\n",
      " 2   Original Gravity  27745 non-null  object\n",
      " 3   Final Gravity     27745 non-null  object\n",
      " 4   ABV (standard)    27004 non-null  object\n",
      " 5   IBU (tinseth)     26546 non-null  object\n",
      " 6   SRM (morey)       25383 non-null  object\n",
      " 7   Mash pH           27745 non-null  object\n",
      " 8   hops              27702 non-null  object\n",
      " 9   others            27616 non-null  object\n",
      " 10  water             27394 non-null  object\n",
      " 11  notes             27630 non-null  object\n",
      " 12  IBU (rager)       1199 non-null   object\n",
      " 13  SRM (daniels)     918 non-null    object\n",
      " 14  SRM (ebcmorey)    1108 non-null   object\n",
      " 15  SRM (mosher)      336 non-null    object\n",
      " 16  ABV (alternate)   741 non-null    object\n",
      " 17  yeast             26727 non-null  object\n",
      " 18  co2               26393 non-null  object\n",
      "dtypes: object(19)\n",
      "memory usage: 4.2+ MB\n"
     ]
    }
   ],
   "source": [
    "df.info()"
   ]
  },
  {
   "cell_type": "code",
   "execution_count": 71,
   "metadata": {},
   "outputs": [],
   "source": [
    "df['IBU (tinseth)'] = pd.to_numeric(df['IBU (tinseth)'])\n",
    "#df['Original Gravity'] = pd.to_numeric(df['Original Gravity'])\n",
    "#df['Final Gravity'] = pd.to_numeric(df['Final Gravity'])\n",
    "df['SRM (morey)'] = pd.to_numeric(df['SRM (morey)'])\n",
    "#df['Mash pH'] = pd.to_numeric(df['Mash pH'])"
   ]
  },
  {
   "cell_type": "code",
   "execution_count": 72,
   "metadata": {},
   "outputs": [],
   "source": [
    "df=df.rename(columns={'ABV (standard)':'abv'})\n",
    "df=df.rename(columns={'IBU (tinseth)':'ibu'})"
   ]
  },
  {
   "cell_type": "code",
   "execution_count": 7,
   "metadata": {},
   "outputs": [],
   "source": [
    "df.loc[df.duplicated(subset=['notes', 'title']), ['notes', 'title']] = np.nan"
   ]
  },
  {
   "cell_type": "code",
   "execution_count": 279,
   "metadata": {},
   "outputs": [
    {
     "data": {
      "text/plain": [
       "103                           m00ps Sunny D I\n",
       "306                   Stone Ruination IPA Clo\n",
       "138                          Hard Knocks Marz\n",
       "204                               Oatmeal Amb\n",
       "210                                       NaN\n",
       "76                             COMMON MAN'S A\n",
       "10                              Blue Moon Clo\n",
       "298                     Pictures of Hemorrhoi\n",
       "283                                    Batch \n",
       "69               Traquair House Style Wee Hea\n",
       "153    1 minute boil Conan Centennial Hop Jui\n",
       "33                                        NaN\n",
       "248              She's not Hefe She's my Weiz\n",
       "239                             Honey Brown A\n",
       "259       D9D Rogue Chocolate Stout ▲▲ 03.04.\n",
       "124          Amarillo, Simcoe, Hull Melon NEI\n",
       "17                           Mogs cottage cid\n",
       "78              Grey Squirrel Kentish Brown A\n",
       "180                        Cream Of Three Cro\n",
       "41                                        NaN\n",
       "Name: title, dtype: object"
      ]
     },
     "execution_count": 279,
     "metadata": {},
     "output_type": "execute_result"
    }
   ],
   "source": [
    "df.title.sample(20)"
   ]
  },
  {
   "cell_type": "code",
   "execution_count": 9,
   "metadata": {},
   "outputs": [
    {
     "name": "stdout",
     "output_type": "stream",
     "text": [
      "<class 'pandas.core.frame.DataFrame'>\n",
      "Int64Index: 27145 entries, 0 to 299\n",
      "Data columns (total 19 columns):\n",
      " #   Column            Non-Null Count  Dtype  \n",
      "---  ------            --------------  -----  \n",
      " 0   title             18192 non-null  object \n",
      " 1   style             27145 non-null  object \n",
      " 2   Original Gravity  27145 non-null  object \n",
      " 3   Final Gravity     27145 non-null  object \n",
      " 4   abv               26422 non-null  object \n",
      " 5   ibu               25971 non-null  float64\n",
      " 6   SRM (morey)       24841 non-null  float64\n",
      " 7   Mash pH           27145 non-null  object \n",
      " 8   hops              27102 non-null  object \n",
      " 9   others            27017 non-null  object \n",
      " 10  water             26796 non-null  object \n",
      " 11  notes             18164 non-null  object \n",
      " 12  IBU (rager)       1174 non-null   object \n",
      " 13  SRM (daniels)     904 non-null    object \n",
      " 14  SRM (ebcmorey)    1076 non-null   object \n",
      " 15  SRM (mosher)      324 non-null    object \n",
      " 16  ABV (alternate)   723 non-null    object \n",
      " 17  yeast             26139 non-null  object \n",
      " 18  co2               25805 non-null  object \n",
      "dtypes: float64(2), object(17)\n",
      "memory usage: 4.1+ MB\n"
     ]
    }
   ],
   "source": [
    "df.info()"
   ]
  },
  {
   "cell_type": "code",
   "execution_count": 281,
   "metadata": {},
   "outputs": [],
   "source": [
    "from wordcloud import WordCloud"
   ]
  },
  {
   "cell_type": "code",
   "execution_count": 73,
   "metadata": {},
   "outputs": [],
   "source": [
    "notes_str = str(df.hops)"
   ]
  },
  {
   "cell_type": "markdown",
   "metadata": {
    "jupyter": {
     "source_hidden": true
    }
   },
   "source": [
    "wordcloud = WordCloud().generate(notes_str)\n",
    "\n",
    "# Display the generated image:\n",
    "plt.figure(figsize = (20,10))\n",
    "plt.imshow(wordcloud, interpolation='bilinear')\n",
    "plt.axis(\"off\")\n",
    "plt.show()"
   ]
  },
  {
   "cell_type": "code",
   "execution_count": 74,
   "metadata": {},
   "outputs": [],
   "source": [
    "df.hops = df.hops.astype(str)\n",
    "df.others = df.others.astype(str)\n",
    "df.water = df.water.astype(str)\n",
    "df.notes = df.notes.astype(str)\n",
    "df.yeast = df.yeast.astype(str)"
   ]
  },
  {
   "cell_type": "code",
   "execution_count": 75,
   "metadata": {},
   "outputs": [],
   "source": [
    "df = df.rename(columns = {'style': 'bstyle', 'Original Gravity': 'og', 'Final Gravity':'fg'})"
   ]
  },
  {
   "cell_type": "code",
   "execution_count": 76,
   "metadata": {},
   "outputs": [],
   "source": [
    "df['chal'] = np.where(df.hops.str.contains('Challenger') | df.hops.str.contains('challenger'), 1,0)"
   ]
  },
  {
   "cell_type": "code",
   "execution_count": 77,
   "metadata": {},
   "outputs": [],
   "source": [
    "df['citra'] = np.where(df.hops.str.contains('Citra') | df.hops.str.contains('citra'), 1,0)"
   ]
  },
  {
   "cell_type": "code",
   "execution_count": 78,
   "metadata": {},
   "outputs": [],
   "source": [
    "df['warrior'] =  np.where(df.hops.str.contains('Warrior') | df.hops.str.contains('warrior'), 1,0)"
   ]
  },
  {
   "cell_type": "code",
   "execution_count": 79,
   "metadata": {},
   "outputs": [],
   "source": [
    "df['casc'] =  np.where(df.hops.str.contains('Cascade') | df.hops.str.contains('cascade'), 1,0)"
   ]
  },
  {
   "cell_type": "code",
   "execution_count": 80,
   "metadata": {},
   "outputs": [],
   "source": [
    "df['saaz'] =  np.where(df.hops.str.contains('Saaz') | df.hops.str.contains('saaz'), 1,0)"
   ]
  },
  {
   "cell_type": "code",
   "execution_count": 81,
   "metadata": {},
   "outputs": [],
   "source": [
    "df['azacca'] =  np.where(df.hops.str.contains('Azacca') | df.hops.str.contains('azacca'), 1,0)"
   ]
  },
  {
   "cell_type": "code",
   "execution_count": 82,
   "metadata": {},
   "outputs": [],
   "source": [
    "df['colum'] = np.where(df.hops.str.contains('Columbus') | df.hops.str.contains('columbus'), 1,0)"
   ]
  },
  {
   "cell_type": "code",
   "execution_count": 83,
   "metadata": {},
   "outputs": [],
   "source": [
    "df['mag'] = np.where(df.hops.str.contains('Magnum') | df.hops.str.contains('magnum'), 1,0)"
   ]
  },
  {
   "cell_type": "code",
   "execution_count": 84,
   "metadata": {},
   "outputs": [],
   "source": [
    "df['perle'] = np.where(df.hops.str.contains('Perle') | df.hops.str.contains('perle'), 1,0)"
   ]
  },
  {
   "cell_type": "code",
   "execution_count": 85,
   "metadata": {},
   "outputs": [],
   "source": [
    "df['simcoe'] =  np.where(df.hops.str.contains('Simcoe') | df.hops.str.contains('simcoe'), 1,0)"
   ]
  },
  {
   "cell_type": "code",
   "execution_count": 86,
   "metadata": {},
   "outputs": [],
   "source": [
    "df['amar'] =  np.where(df.hops.str.contains('Amarillo') | df.hops.str.contains('amarillo'), 1,0)\n",
    "df['cashmere'] =  np.where(df.hops.str.contains('Cashmere') | df.hops.str.contains('cashmere'), 1,0)\n",
    "df['comet'] =  np.where(df.hops.str.contains('Comet') | df.hops.str.contains('comet'), 1,0)\n",
    "df['galaxy'] =  np.where(df.hops.str.contains('Galaxy') | df.hops.str.contains('galaxy'), 1,0)"
   ]
  },
  {
   "cell_type": "code",
   "execution_count": 87,
   "metadata": {},
   "outputs": [],
   "source": [
    "df['apollo'] =  np.where(df.hops.str.contains('Apollo') | df.hops.str.contains('apollo'), 1,0)\n",
    "df['willam'] =  np.where(df.hops.str.contains('Willamette') | df.hops.str.contains('willamette'), 1,0)\n",
    "df['goldings'] =  np.where(df.hops.str.contains('Goldings') | df.hops.str.contains('goldings'), 1,0)\n",
    "df['heller'] =  np.where(df.hops.str.contains('Hellertau') | df.hops.str.contains('hellertau'), 1,0)\n",
    "df['fug'] =  np.where(df.hops.str.contains('Fuggles') | df.hops.str.contains('fuggles'), 1,0)\n",
    "df['nugg'] =  np.where(df.hops.str.contains('Nugget') | df.hops.str.contains('nugget'), 1,0)\n",
    "df['hopshot'] =  np.where(df.hops.str.contains('HopShot') | df.hops.str.contains('hopshot'), 1,0)\n",
    "df['tett'] =  np.where(df.hops.str.contains('Tettnanger') | df.hops.str.contains('tettnanger'), 1,0)\n",
    "df['mosaic'] =  np.where(df.hops.str.contains('Mosiac') | df.hops.str.contains('mosaic'), 1,0)\n",
    "df['brewerg'] =  np.where(df.hops.str.contains(\"Brewer's Gold\") | df.hops.str.contains(\"brewer's gold\"), 1,0)\n",
    "df['northb'] =  np.where(df.hops.str.contains(\"Northern Brewer\") | df.hops.str.contains(\"northern brewer\"), 1,0)\n",
    "df['cent'] =  np.where(df.hops.str.contains(\"Centennial\") | df.hops.str.contains(\"centennial\"), 1,0)\n",
    "df['chinook'] = np.where(df.hops.str.contains(\"Chinook\") | df.hops.str.contains(\"chinook\"), 1,0)\n",
    "df['crystal'] = np.where(df.hops.str.contains(\"Crystal\") | df.hops.str.contains(\"crystal\"), 1,0)\n",
    "df['magnum'] = np.where(df.hops.str.contains(\"Magnum\") | df.hops.str.contains(\"magnum\"), 1,0)\n",
    "df['chinook'] = np.where(df.hops.str.contains(\"Chinook\") | df.hops.str.contains(\"chinook\"), 1,0)\n",
    "df['ctz'] = np.where(df.hops.str.contains(\"CTZ\") | df.hops.str.contains(\"ctz\"), 1,0)\n",
    "df['styr'] = np.where(df.hops.str.contains(\"Styrian\") | df.hops.str.contains(\"styrian\"), 1,0)\n",
    "df['idaho'] = np.where(df.hops.str.contains(\"Idaho\") | df.hops.str.contains(\"idaho\"), 1,0)\n",
    "df['nelson'] = np.where(df.hops.str.contains(\"Nelson\") | df.hops.str.contains(\"nelson\"), 1,0)\n",
    "df['exper'] = np.where(df.hops.str.contains(\"Experimental\") | df.hops.str.contains(\"experimental\"), 1,0)\n",
    "df['hall'] = np.where(df.hops.str.contains(\"Hall Mitt\") | df.hops.str.contains(\"Hall mitt\") | df.hops.str.contains(\"hall mitt\"), 1,0)\n",
    "df['noble'] =  np.where(df.hops.str.contains(\"Noble\") | df.hops.str.contains(\"noble\"), 1,0)\n",
    "\n",
    "df['dryh'] =  np.where(df.hops.str.contains(\"Dry Hop\") | df.hops.str.contains(\"Dry hop\") | df.hops.str.contains(\"dry hop\"), 1,0)"
   ]
  },
  {
   "cell_type": "code",
   "execution_count": 88,
   "metadata": {},
   "outputs": [],
   "source": [
    "df['lact'] = np.where(df.others.str.contains('Lactose') | df.hops.str.contains('lactose'), 1,0)"
   ]
  },
  {
   "cell_type": "code",
   "execution_count": 89,
   "metadata": {},
   "outputs": [],
   "source": [
    "cmpx = []\n",
    "for index, row in df.iterrows():\n",
    "    cmp = len((row.hops.strip()))/10\n",
    "    cmpx.append(cmp)\n",
    "\n",
    "df['hopcmp'] = cmpx"
   ]
  },
  {
   "cell_type": "markdown",
   "metadata": {},
   "source": [
    "## Title descriptors"
   ]
  },
  {
   "cell_type": "code",
   "execution_count": 90,
   "metadata": {},
   "outputs": [],
   "source": [
    "df['clone'] = np.where(df.title.str.contains('Clone') | df.title.str.contains('clone'), 1,0)"
   ]
  },
  {
   "cell_type": "code",
   "execution_count": 91,
   "metadata": {},
   "outputs": [],
   "source": [
    "df=df.rename(columns={'SRM (morey)':'srm'})"
   ]
  },
  {
   "cell_type": "code",
   "execution_count": 92,
   "metadata": {},
   "outputs": [],
   "source": [
    "df['juicy'] =  np.where(df.notes.str.contains('Juicy') | df.notes.str.contains('juicy') | df.notes.str.contains('Juice') | df.notes.str.contains('juice'), 1,0)\n",
    "df['dank'] =  np.where(df.notes.str.contains('Dank') | df.notes.str.contains('dank')  | df.notes.str.contains('weed')  | df.notes.str.contains('marijuana')  | df.notes.str.contains('cannabis')  | df.notes.str.contains('420') | df.notes.str.contains('Resin') | df.notes.str.contains('resin'), 1,0)\n",
    "df['wedding'] =  np.where(df.notes.str.contains('Wedding') | df.notes.str.contains('wedding') | df.notes.str.contains('Marriage') | df.notes.str.contains('marriage'), 1,0)\n",
    "df['whisk'] =  np.where(df.notes.str.contains('Whisky') | df.notes.str.contains('whisky') | df.notes.str.contains('Whiskey')| df.notes.str.contains('whiskey'), 1,0)\n",
    "df['trop'] =  np.where(df.notes.str.contains('Tropical') | df.notes.str.contains('tropical') | df.notes.str.contains('mango') | df.notes.str.contains('papaya') | df.notes.str.contains('orange') | df.notes.str.contains('lemon') | df.notes.str.contains('citrus') | df.notes.str.contains('pineapple'), 1,0)\n",
    "df['award'] =  np.where(df.notes.str.contains('Award Winning') | df.notes.str.contains('Award winning') | df.notes.str.contains('award winning')| df.notes.str.contains('Champion') | df.notes.str.contains('champion'), 1,0)\n",
    "df['best'] =  np.where(df.notes.str.contains('Best') | df.notes.str.contains('best'), 1,0)\n",
    "df['smoke'] =  np.where(df.notes.str.contains('Smoke') | df.notes.str.contains('smoke') | df.notes.str.contains('Smoky') | df.notes.str.contains('smoky') | df.notes.str.contains('fire') | df.notes.str.contains('scotch') | df.notes.str.contains('peat'), 1,0)\n",
    "df['roast'] =  np.where(df.notes.str.contains('Roast') | df.notes.str.contains('roast'), 1,0)\n",
    "df['thick'] =  np.where(df.notes.str.contains('Thick') | df.notes.str.contains('thick'), 1,0)\n",
    "df['pine'] =  np.where(df.notes.str.contains('Pine') | df.notes.str.contains('pine'), 1,0)\n",
    "df['sticky'] =  np.where(df.notes.str.contains('Sticky') | df.notes.str.contains('sticky'), 1,0)\n",
    "df['foam'] =  np.where(df.notes.str.contains('Foamy') | df.notes.str.contains('foam') | df.notes.str.contains('head'), 1,0)\n",
    "df['hoppy'] =  np.where(df.notes.str.contains('Hoppy') | df.notes.str.contains('hoppy') | df.notes.str.contains('IBU'), 1,0)\n",
    "df['choco'] =  np.where(df.notes.str.contains('Choco') | df.notes.str.contains('choco'), 1,0)\n",
    "df['coffee'] =  np.where(df.notes.str.contains('Coffee') | df.notes.str.contains('coffee') | df.notes.str.contains('Espresso') | df.notes.str.contains('espresso'), 1,0)\n",
    "df['straw'] =  np.where(df.notes.str.contains('Straw') | df.notes.str.contains('straw') | df.notes.str.contains('grass'), 1,0)\n",
    "df['bisc'] =  np.where(df.notes.str.contains('Biscuit') | df.notes.str.contains('biscuit'), 1,0)\n",
    "df['dark'] =  np.where(df.srm >= 20, 1,0)"
   ]
  },
  {
   "cell_type": "code",
   "execution_count": 93,
   "metadata": {},
   "outputs": [],
   "source": [
    "df['heavy'] =  np.where(df.notes.str.contains('Heavy') | df.notes.str.contains('heavy'), 1,0)\n",
    "df['stfruit'] =  np.where(df.notes.str.contains('Stonefruit') | df.notes.str.contains('stonefruit') | df.notes.str.contains('Stone fruit') | df.notes.str.contains('stone fruit') | df.notes.str.contains('peach') | df.notes.str.contains('apricot'), 1,0)\n",
    "df['hazy'] =  np.where(df.notes.str.contains('Hazy') | df.notes.str.contains('hazy'), 1,0)\n",
    "df['pheno'] =  np.where(df.notes.str.contains('Phenolic') | df.notes.str.contains('phenolic'), 1,0)\n",
    "df['ester'] =  np.where(df.notes.str.contains('Ester') | df.notes.str.contains('ester'), 1,0)\n",
    "df['banana'] =  np.where(df.notes.str.contains('Banana') | df.notes.str.contains('banana'), 1,0)\n",
    "df['bitter'] =  np.where(df.notes.str.contains('Bitter') | df.notes.str.contains('bitter'), 1,0)\n",
    "df['clove'] =  np.where(df.notes.str.contains('Clove') | df.notes.str.contains('clove'), 1,0)\n",
    "df['sour'] =  np.where(df.notes.str.contains('Sour') | df.notes.str.contains('sour') | df.notes.str.contains('pucker')| df.notes.str.contains('acid'), 1,0)\n",
    "df['malt'] =  np.where(df.notes.str.contains('Malt') | df.notes.str.contains('malt'), 1,0)\n",
    "df['agg'] =  np.where(df.notes.str.contains('Aggressive') | df.notes.str.contains('aggressive'), 1,0)\n",
    "df['balance'] =  np.where(df.notes.str.contains('Balance') | df.notes.str.contains('balance'), 1,0)\n",
    "df['complex'] =  np.where(df.notes.str.contains('Complex') | df.notes.str.contains('complex'), 1,0)\n",
    "df['crisp'] =  np.where(df.notes.str.contains('Crisp') | df.notes.str.contains('crisp'), 1,0)\n",
    "df['smooth'] =  np.where(df.notes.str.contains('Smooth') | df.notes.str.contains('smooth'), 1,0)\n",
    "df['diac'] =  np.where(df.notes.str.contains('Diacetyl') | df.notes.str.contains('diacetyl'), 1,0)\n",
    "df['apple'] =  np.where(df.notes.str.contains('Apple') | df.notes.str.contains('apple') | df.notes.str.contains('Pear') | df.notes.str.contains('pear'), 1,0)\n",
    "df['floral'] =  np.where(df.notes.str.contains('Floral') | df.notes.str.contains('floral') | df.notes.str.contains('flower'), 1,0)\n",
    "df['fruity'] =  np.where(df.notes.str.contains('Fruity') | df.notes.str.contains('fruity'), 1,0)\n",
    "df['robust'] =  np.where(df.notes.str.contains('Robust') | df.notes.str.contains('robust'), 1,0)\n",
    "df['wood'] =  np.where(df.notes.str.contains('Wood') | df.notes.str.contains('wood') | df.notes.str.contains('Oak')| df.notes.str.contains('oak'), 1,0)\n",
    "df['vanilla'] =  np.where(df.notes.str.contains('Vanilla') | df.notes.str.contains('vanilla'), 1,0)\n",
    "df['cherry'] =  np.where(df.notes.str.contains('Cherr') | df.notes.str.contains('cherr'), 1,0)\n",
    "df['clove'] =  np.where(df.notes.str.contains('Clove') | df.notes.str.contains('clove'), 1,0)\n",
    "df['funk'] =  np.where(df.notes.str.contains('Funk') | df.notes.str.contains('funk') | df.notes.str.contains('barn') | df.notes.str.contains('blanket'), 1,0)\n",
    "df['grapef'] =  np.where(df.notes.str.contains('Grapefruit') | df.notes.str.contains('grapefruit'), 1,0)\n",
    "df['solvent'] =  np.where(df.notes.str.contains('Solvent') | df.notes.str.contains('solvent'), 1,0)"
   ]
  },
  {
   "cell_type": "code",
   "execution_count": 95,
   "metadata": {},
   "outputs": [],
   "source": [
    "df.abv = df.abv.str.replace('%', '')\n",
    "df['abv'] = pd.to_numeric(df['abv'])"
   ]
  },
  {
   "cell_type": "code",
   "execution_count": 99,
   "metadata": {},
   "outputs": [
    {
     "data": {
      "text/plain": [
       "16.033409618227765"
      ]
     },
     "execution_count": 99,
     "metadata": {},
     "output_type": "execute_result"
    }
   ],
   "source": [
    "df[df.citra == 1].ibu.mean() - df[df.citra == 0 ].ibu.mean()"
   ]
  },
  {
   "cell_type": "code",
   "execution_count": 100,
   "metadata": {},
   "outputs": [
    {
     "data": {
      "text/plain": [
       "0.178195570086654"
      ]
     },
     "execution_count": 100,
     "metadata": {},
     "output_type": "execute_result"
    }
   ],
   "source": [
    "df[df.citra == 1].abv.mean() - df[df.citra == 0 ].abv.mean()"
   ]
  },
  {
   "cell_type": "code",
   "execution_count": 101,
   "metadata": {},
   "outputs": [
    {
     "data": {
      "text/plain": [
       "0.366870921975039"
      ]
     },
     "execution_count": 101,
     "metadata": {},
     "output_type": "execute_result"
    }
   ],
   "source": [
    "df[df.nugg == 1].abv.mean() - df[df.nugg == 0 ].abv.mean()"
   ]
  },
  {
   "cell_type": "code",
   "execution_count": 102,
   "metadata": {},
   "outputs": [
    {
     "data": {
      "text/html": [
       "<div>\n",
       "<style scoped>\n",
       "    .dataframe tbody tr th:only-of-type {\n",
       "        vertical-align: middle;\n",
       "    }\n",
       "\n",
       "    .dataframe tbody tr th {\n",
       "        vertical-align: top;\n",
       "    }\n",
       "\n",
       "    .dataframe thead th {\n",
       "        text-align: right;\n",
       "    }\n",
       "</style>\n",
       "<table border=\"1\" class=\"dataframe\">\n",
       "  <thead>\n",
       "    <tr style=\"text-align: right;\">\n",
       "      <th></th>\n",
       "      <th>title</th>\n",
       "      <th>bstyle</th>\n",
       "      <th>og</th>\n",
       "      <th>fg</th>\n",
       "      <th>abv</th>\n",
       "      <th>ibu</th>\n",
       "      <th>srm</th>\n",
       "      <th>Mash pH</th>\n",
       "      <th>hops</th>\n",
       "      <th>others</th>\n",
       "      <th>...</th>\n",
       "      <th>us4</th>\n",
       "      <th>chico</th>\n",
       "      <th>yeast_dark</th>\n",
       "      <th>wy1056</th>\n",
       "      <th>wy1272</th>\n",
       "      <th>wlp080</th>\n",
       "      <th>wlp80</th>\n",
       "      <th>vermont</th>\n",
       "      <th>ylager</th>\n",
       "      <th>ykolsch</th>\n",
       "    </tr>\n",
       "  </thead>\n",
       "  <tbody>\n",
       "    <tr>\n",
       "      <th>11</th>\n",
       "      <td>Winter Maple Cream A</td>\n",
       "      <td>Cream Ale</td>\n",
       "      <td>1.075</td>\n",
       "      <td>1.019</td>\n",
       "      <td>7.34</td>\n",
       "      <td>12.82</td>\n",
       "      <td>15.48</td>\n",
       "      <td></td>\n",
       "      <td>['1 oz - Northern Brewer', ' Type: Pellet', ' ...</td>\n",
       "      <td>['1 each - Whirlfloc Tab', ' Time: 5 min', ' T...</td>\n",
       "      <td>...</td>\n",
       "      <td>0</td>\n",
       "      <td>0</td>\n",
       "      <td>0</td>\n",
       "      <td>0</td>\n",
       "      <td>0</td>\n",
       "      <td>0</td>\n",
       "      <td>0</td>\n",
       "      <td>0</td>\n",
       "      <td>0</td>\n",
       "      <td>1</td>\n",
       "    </tr>\n",
       "    <tr>\n",
       "      <th>12</th>\n",
       "      <td>Anchor Steam Clo</td>\n",
       "      <td>California Common Beer</td>\n",
       "      <td>1.054</td>\n",
       "      <td>1.017</td>\n",
       "      <td>4.90</td>\n",
       "      <td>32.77</td>\n",
       "      <td>NaN</td>\n",
       "      <td></td>\n",
       "      <td>['1 oz - Northern Brewer', ' Type: Pellet', ' ...</td>\n",
       "      <td>['1 tsp - Irish Moss', ' Time: 15 min', ' Type...</td>\n",
       "      <td>...</td>\n",
       "      <td>0</td>\n",
       "      <td>0</td>\n",
       "      <td>0</td>\n",
       "      <td>0</td>\n",
       "      <td>0</td>\n",
       "      <td>0</td>\n",
       "      <td>0</td>\n",
       "      <td>0</td>\n",
       "      <td>0</td>\n",
       "      <td>1</td>\n",
       "    </tr>\n",
       "    <tr>\n",
       "      <th>125</th>\n",
       "      <td>Kols</td>\n",
       "      <td>Kölsch</td>\n",
       "      <td>1.048</td>\n",
       "      <td>1.012</td>\n",
       "      <td>4.72</td>\n",
       "      <td>24.61</td>\n",
       "      <td>3.02</td>\n",
       "      <td></td>\n",
       "      <td>['0.9 oz - Perle', ' Type: Pellet', ' AA: 4.5'...</td>\n",
       "      <td>['0.5 tsp - Irish Moss', ' Time: 15 min', ' Ty...</td>\n",
       "      <td>...</td>\n",
       "      <td>0</td>\n",
       "      <td>0</td>\n",
       "      <td>0</td>\n",
       "      <td>0</td>\n",
       "      <td>0</td>\n",
       "      <td>0</td>\n",
       "      <td>0</td>\n",
       "      <td>0</td>\n",
       "      <td>0</td>\n",
       "      <td>1</td>\n",
       "    </tr>\n",
       "    <tr>\n",
       "      <th>126</th>\n",
       "      <td>Kols</td>\n",
       "      <td>Russian Imperial Stout</td>\n",
       "      <td>1.116</td>\n",
       "      <td>1.031</td>\n",
       "      <td>11.10</td>\n",
       "      <td>88.47</td>\n",
       "      <td>31.03</td>\n",
       "      <td></td>\n",
       "      <td>['0.9 oz - Perle', ' Type: Pellet', ' AA: 4.5'...</td>\n",
       "      <td>['6 lb - Cherries', ' Type: Flavor', ' Use: Se...</td>\n",
       "      <td>...</td>\n",
       "      <td>0</td>\n",
       "      <td>0</td>\n",
       "      <td>0</td>\n",
       "      <td>0</td>\n",
       "      <td>0</td>\n",
       "      <td>0</td>\n",
       "      <td>0</td>\n",
       "      <td>0</td>\n",
       "      <td>0</td>\n",
       "      <td>1</td>\n",
       "    </tr>\n",
       "    <tr>\n",
       "      <th>127</th>\n",
       "      <td>Kols</td>\n",
       "      <td>American IPA</td>\n",
       "      <td>1.063</td>\n",
       "      <td>1.012</td>\n",
       "      <td>6.64</td>\n",
       "      <td>NaN</td>\n",
       "      <td>4.43</td>\n",
       "      <td></td>\n",
       "      <td>['1 oz - Chinook', ' Type: Pellet', ' AA: 13',...</td>\n",
       "      <td>['6 lb - Cherries', ' Type: Flavor', ' Use: Se...</td>\n",
       "      <td>...</td>\n",
       "      <td>0</td>\n",
       "      <td>0</td>\n",
       "      <td>0</td>\n",
       "      <td>0</td>\n",
       "      <td>0</td>\n",
       "      <td>0</td>\n",
       "      <td>0</td>\n",
       "      <td>0</td>\n",
       "      <td>0</td>\n",
       "      <td>1</td>\n",
       "    </tr>\n",
       "    <tr>\n",
       "      <th>...</th>\n",
       "      <td>...</td>\n",
       "      <td>...</td>\n",
       "      <td>...</td>\n",
       "      <td>...</td>\n",
       "      <td>...</td>\n",
       "      <td>...</td>\n",
       "      <td>...</td>\n",
       "      <td>...</td>\n",
       "      <td>...</td>\n",
       "      <td>...</td>\n",
       "      <td>...</td>\n",
       "      <td>...</td>\n",
       "      <td>...</td>\n",
       "      <td>...</td>\n",
       "      <td>...</td>\n",
       "      <td>...</td>\n",
       "      <td>...</td>\n",
       "      <td>...</td>\n",
       "      <td>...</td>\n",
       "      <td>...</td>\n",
       "      <td>...</td>\n",
       "    </tr>\n",
       "    <tr>\n",
       "      <th>265</th>\n",
       "      <td>German Hefeweiz</td>\n",
       "      <td>Weissbier</td>\n",
       "      <td>1.065</td>\n",
       "      <td>1.018</td>\n",
       "      <td>6.27</td>\n",
       "      <td>16.17</td>\n",
       "      <td>3.75</td>\n",
       "      <td></td>\n",
       "      <td>['0.5 oz - Simcoe', ' Type: Pellet', ' AA: 12....</td>\n",
       "      <td>['0.25 oz - Black Pepper crushed', ' Time: 5 m...</td>\n",
       "      <td>...</td>\n",
       "      <td>0</td>\n",
       "      <td>0</td>\n",
       "      <td>0</td>\n",
       "      <td>0</td>\n",
       "      <td>0</td>\n",
       "      <td>0</td>\n",
       "      <td>0</td>\n",
       "      <td>0</td>\n",
       "      <td>0</td>\n",
       "      <td>1</td>\n",
       "    </tr>\n",
       "    <tr>\n",
       "      <th>266</th>\n",
       "      <td>German Hefeweiz</td>\n",
       "      <td>Baltic Porter</td>\n",
       "      <td>1.082</td>\n",
       "      <td>1.015</td>\n",
       "      <td>8.85</td>\n",
       "      <td>34.21</td>\n",
       "      <td>32.06</td>\n",
       "      <td></td>\n",
       "      <td>['0.5 oz - Simcoe', ' Type: Pellet', ' AA: 12....</td>\n",
       "      <td>['0.25 oz - Black Pepper crushed', ' Time: 5 m...</td>\n",
       "      <td>...</td>\n",
       "      <td>0</td>\n",
       "      <td>0</td>\n",
       "      <td>0</td>\n",
       "      <td>0</td>\n",
       "      <td>0</td>\n",
       "      <td>0</td>\n",
       "      <td>0</td>\n",
       "      <td>0</td>\n",
       "      <td>0</td>\n",
       "      <td>1</td>\n",
       "    </tr>\n",
       "    <tr>\n",
       "      <th>230</th>\n",
       "      <td>Devil went down to Gien</td>\n",
       "      <td>American Brown Ale</td>\n",
       "      <td>1.065</td>\n",
       "      <td>1.013</td>\n",
       "      <td>6.77</td>\n",
       "      <td>19.22</td>\n",
       "      <td>33.21</td>\n",
       "      <td></td>\n",
       "      <td>['0.75 oz - Cascade', ' Type: Pellet', ' AA: 7...</td>\n",
       "      <td>['2 tsp - Gingerbread Spice', ' Time: 2 min', ...</td>\n",
       "      <td>...</td>\n",
       "      <td>0</td>\n",
       "      <td>0</td>\n",
       "      <td>0</td>\n",
       "      <td>0</td>\n",
       "      <td>0</td>\n",
       "      <td>0</td>\n",
       "      <td>0</td>\n",
       "      <td>0</td>\n",
       "      <td>0</td>\n",
       "      <td>1</td>\n",
       "    </tr>\n",
       "    <tr>\n",
       "      <th>269</th>\n",
       "      <td>Carolina Kolsch Tier</td>\n",
       "      <td>Kölsch</td>\n",
       "      <td>1.056</td>\n",
       "      <td>1.013</td>\n",
       "      <td>5.67</td>\n",
       "      <td>23.57</td>\n",
       "      <td>4.20</td>\n",
       "      <td></td>\n",
       "      <td>['0.7 oz - Hallertau Hersbrucker', ' Type: Pel...</td>\n",
       "      <td>['1 tsp - Yeast Nutrient', ' Time: 15 min', ' ...</td>\n",
       "      <td>...</td>\n",
       "      <td>0</td>\n",
       "      <td>0</td>\n",
       "      <td>0</td>\n",
       "      <td>0</td>\n",
       "      <td>0</td>\n",
       "      <td>0</td>\n",
       "      <td>0</td>\n",
       "      <td>0</td>\n",
       "      <td>0</td>\n",
       "      <td>1</td>\n",
       "    </tr>\n",
       "    <tr>\n",
       "      <th>270</th>\n",
       "      <td>Carolina Kolsch Tier</td>\n",
       "      <td>Kölsch</td>\n",
       "      <td>1.047</td>\n",
       "      <td>1.011</td>\n",
       "      <td>4.76</td>\n",
       "      <td>19.73</td>\n",
       "      <td>3.16</td>\n",
       "      <td>5.44</td>\n",
       "      <td>['0.35 oz - Magnum', ' Type: Pellet', ' AA: 14...</td>\n",
       "      <td>['1 each - Whirlfloc', ' Time: 5 min', ' Type:...</td>\n",
       "      <td>...</td>\n",
       "      <td>0</td>\n",
       "      <td>0</td>\n",
       "      <td>0</td>\n",
       "      <td>0</td>\n",
       "      <td>0</td>\n",
       "      <td>0</td>\n",
       "      <td>0</td>\n",
       "      <td>0</td>\n",
       "      <td>0</td>\n",
       "      <td>1</td>\n",
       "    </tr>\n",
       "  </tbody>\n",
       "</table>\n",
       "<p>468 rows × 118 columns</p>\n",
       "</div>"
      ],
      "text/plain": [
       "                       title                  bstyle      og      fg    abv  \\\n",
       "11      Winter Maple Cream A               Cream Ale   1.075   1.019   7.34   \n",
       "12          Anchor Steam Clo  California Common Beer   1.054   1.017   4.90   \n",
       "125                     Kols                  Kölsch   1.048   1.012   4.72   \n",
       "126                     Kols  Russian Imperial Stout   1.116   1.031  11.10   \n",
       "127                     Kols            American IPA   1.063   1.012   6.64   \n",
       "..                       ...                     ...     ...     ...    ...   \n",
       "265          German Hefeweiz               Weissbier   1.065   1.018   6.27   \n",
       "266          German Hefeweiz           Baltic Porter   1.082   1.015   8.85   \n",
       "230  Devil went down to Gien      American Brown Ale   1.065   1.013   6.77   \n",
       "269    Carolina Kolsch Tier                   Kölsch   1.056   1.013   5.67   \n",
       "270    Carolina Kolsch Tier                   Kölsch   1.047   1.011   4.76   \n",
       "\n",
       "       ibu    srm Mash pH                                               hops  \\\n",
       "11   12.82  15.48          ['1 oz - Northern Brewer', ' Type: Pellet', ' ...   \n",
       "12   32.77    NaN          ['1 oz - Northern Brewer', ' Type: Pellet', ' ...   \n",
       "125  24.61   3.02          ['0.9 oz - Perle', ' Type: Pellet', ' AA: 4.5'...   \n",
       "126  88.47  31.03          ['0.9 oz - Perle', ' Type: Pellet', ' AA: 4.5'...   \n",
       "127    NaN   4.43          ['1 oz - Chinook', ' Type: Pellet', ' AA: 13',...   \n",
       "..     ...    ...     ...                                                ...   \n",
       "265  16.17   3.75          ['0.5 oz - Simcoe', ' Type: Pellet', ' AA: 12....   \n",
       "266  34.21  32.06          ['0.5 oz - Simcoe', ' Type: Pellet', ' AA: 12....   \n",
       "230  19.22  33.21          ['0.75 oz - Cascade', ' Type: Pellet', ' AA: 7...   \n",
       "269  23.57   4.20          ['0.7 oz - Hallertau Hersbrucker', ' Type: Pel...   \n",
       "270  19.73   3.16    5.44  ['0.35 oz - Magnum', ' Type: Pellet', ' AA: 14...   \n",
       "\n",
       "                                                others  ... us4 chico  \\\n",
       "11   ['1 each - Whirlfloc Tab', ' Time: 5 min', ' T...  ...   0     0   \n",
       "12   ['1 tsp - Irish Moss', ' Time: 15 min', ' Type...  ...   0     0   \n",
       "125  ['0.5 tsp - Irish Moss', ' Time: 15 min', ' Ty...  ...   0     0   \n",
       "126  ['6 lb - Cherries', ' Type: Flavor', ' Use: Se...  ...   0     0   \n",
       "127  ['6 lb - Cherries', ' Type: Flavor', ' Use: Se...  ...   0     0   \n",
       "..                                                 ...  ...  ..   ...   \n",
       "265  ['0.25 oz - Black Pepper crushed', ' Time: 5 m...  ...   0     0   \n",
       "266  ['0.25 oz - Black Pepper crushed', ' Time: 5 m...  ...   0     0   \n",
       "230  ['2 tsp - Gingerbread Spice', ' Time: 2 min', ...  ...   0     0   \n",
       "269  ['1 tsp - Yeast Nutrient', ' Time: 15 min', ' ...  ...   0     0   \n",
       "270  ['1 each - Whirlfloc', ' Time: 5 min', ' Type:...  ...   0     0   \n",
       "\n",
       "    yeast_dark wy1056 wy1272 wlp080 wlp80 vermont ylager  ykolsch  \n",
       "11           0      0      0      0     0       0      0        1  \n",
       "12           0      0      0      0     0       0      0        1  \n",
       "125          0      0      0      0     0       0      0        1  \n",
       "126          0      0      0      0     0       0      0        1  \n",
       "127          0      0      0      0     0       0      0        1  \n",
       "..         ...    ...    ...    ...   ...     ...    ...      ...  \n",
       "265          0      0      0      0     0       0      0        1  \n",
       "266          0      0      0      0     0       0      0        1  \n",
       "230          0      0      0      0     0       0      0        1  \n",
       "269          0      0      0      0     0       0      0        1  \n",
       "270          0      0      0      0     0       0      0        1  \n",
       "\n",
       "[468 rows x 118 columns]"
      ]
     },
     "execution_count": 102,
     "metadata": {},
     "output_type": "execute_result"
    }
   ],
   "source": [
    "df['wylon'] = np.where(df.yeast.str.contains('1318'), 1,0)\n",
    "df['kveik'] = np.where(df.yeast.str.contains('Kveik') | df.yeast.str.contains('kveik') , 1,0)\n",
    "df['omega'] = np.where(df.yeast.str.contains('Omega') | df.yeast.str.contains('omega') , 1,0)\n",
    "df['us5'] = np.where(df.yeast.str.contains('US-05') | df.yeast.str.contains('-05') , 1,0)\n",
    "df['us4'] = np.where(df.yeast.str.contains('US-04') | df.yeast.str.contains('-04') , 1,0)\n",
    "df['chico'] = np.where(df.yeast.str.contains('Chico') | df.yeast.str.contains('chico')  | df.yeast.str.contains('A07') , 1,0)\n",
    "df['yeast_dark'] = np.where(df.yeast.str.contains('Darkness') | df.yeast.str.contains('A10'), 1,0)\n",
    "df['wy1056'] = np.where(df.yeast.str.contains('1056'), 1,0)\n",
    "df['wy1272'] = np.where(df.yeast.str.contains('1272'), 1,0)\n",
    "df['wlp080'] = np.where(df.yeast.str.contains('WLP080') | df.yeast.str.contains('WLP 080'), 1,0)\n",
    "df['wlp80'] = np.where(df.yeast.str.contains('WLP80') | df.yeast.str.contains('WLP 80') , 1,0)\n",
    "df['vermont'] = np.where(df.yeast.str.contains('Vermont'), 1,0)\n",
    "df['ylager'] = np.where(df.yeast.str.contains('Lager') | df.yeast.str.contains('lager'), 1,0)\n",
    "df['ykolsch'] = np.where(df.yeast.str.contains('Kölsch') | df.yeast.str.contains('kölsch') | df.yeast.str.contains('Kolsch') | df.yeast.str.contains('kolsch'), 1,0)\n",
    "\n",
    "df[df.ykolsch == 1]"
   ]
  },
  {
   "cell_type": "markdown",
   "metadata": {},
   "source": [
    "## Note descriptors"
   ]
  },
  {
   "cell_type": "code",
   "execution_count": 103,
   "metadata": {},
   "outputs": [],
   "source": [
    "df['ipa'] = np.where(df.bstyle.str.contains('IPA'), 1,0)"
   ]
  },
  {
   "cell_type": "code",
   "execution_count": 104,
   "metadata": {},
   "outputs": [],
   "source": [
    "df['saison'] = np.where(df.bstyle.str.contains('Saison'), 1, 0)\n",
    "df['lager'] = np.where(df.bstyle.str.contains('Lager'), 1, 0)\n",
    "df['stout'] = np.where(df.bstyle.str.contains('Stout'), 1, 0)\n",
    "df['kolsch'] = np.where(df.bstyle.str.contains('Kölsch'), 1, 0)\n",
    "df['wit'] = np.where(df.bstyle.str.contains('Witbier'), 1, 0)"
   ]
  },
  {
   "cell_type": "code",
   "execution_count": 105,
   "metadata": {},
   "outputs": [],
   "source": [
    "df['puree'] = np.where(df.others.str.contains('Puree') | df.others.str.contains('puree'), 1, 0)"
   ]
  },
  {
   "cell_type": "code",
   "execution_count": 106,
   "metadata": {},
   "outputs": [],
   "source": [
    "df['lovehop'] = np.where(df.notes.str.contains('love hops') | df.notes.str.contains('hop lover') | df.notes.str.contains('loves hops'), 1, 0)"
   ]
  },
  {
   "cell_type": "code",
   "execution_count": 107,
   "metadata": {},
   "outputs": [
    {
     "data": {
      "text/html": [
       "<div>\n",
       "<style scoped>\n",
       "    .dataframe tbody tr th:only-of-type {\n",
       "        vertical-align: middle;\n",
       "    }\n",
       "\n",
       "    .dataframe tbody tr th {\n",
       "        vertical-align: top;\n",
       "    }\n",
       "\n",
       "    .dataframe thead th {\n",
       "        text-align: right;\n",
       "    }\n",
       "</style>\n",
       "<table border=\"1\" class=\"dataframe\">\n",
       "  <thead>\n",
       "    <tr style=\"text-align: right;\">\n",
       "      <th></th>\n",
       "      <th>bstyle</th>\n",
       "    </tr>\n",
       "  </thead>\n",
       "  <tbody>\n",
       "    <tr>\n",
       "      <th>American IPA</th>\n",
       "      <td>4318</td>\n",
       "    </tr>\n",
       "    <tr>\n",
       "      <th>American Pale Ale</th>\n",
       "      <td>2497</td>\n",
       "    </tr>\n",
       "    <tr>\n",
       "      <th>Saison</th>\n",
       "      <td>875</td>\n",
       "    </tr>\n",
       "    <tr>\n",
       "      <th>Imperial IPA</th>\n",
       "      <td>812</td>\n",
       "    </tr>\n",
       "    <tr>\n",
       "      <th>American Amber Ale</th>\n",
       "      <td>776</td>\n",
       "    </tr>\n",
       "    <tr>\n",
       "      <th>Blonde Ale</th>\n",
       "      <td>569</td>\n",
       "    </tr>\n",
       "    <tr>\n",
       "      <th>Witbier</th>\n",
       "      <td>510</td>\n",
       "    </tr>\n",
       "    <tr>\n",
       "      <th>American Stout</th>\n",
       "      <td>480</td>\n",
       "    </tr>\n",
       "    <tr>\n",
       "      <th>Russian Imperial Stout</th>\n",
       "      <td>478</td>\n",
       "    </tr>\n",
       "    <tr>\n",
       "      <th>Weizen/Weissbier</th>\n",
       "      <td>461</td>\n",
       "    </tr>\n",
       "    <tr>\n",
       "      <th>American Brown Ale</th>\n",
       "      <td>458</td>\n",
       "    </tr>\n",
       "    <tr>\n",
       "      <th>Robust Porter</th>\n",
       "      <td>438</td>\n",
       "    </tr>\n",
       "    <tr>\n",
       "      <th>Irish Red Ale</th>\n",
       "      <td>394</td>\n",
       "    </tr>\n",
       "    <tr>\n",
       "      <th>Sweet Stout</th>\n",
       "      <td>380</td>\n",
       "    </tr>\n",
       "    <tr>\n",
       "      <th>Oatmeal Stout</th>\n",
       "      <td>365</td>\n",
       "    </tr>\n",
       "    <tr>\n",
       "      <th>California Common Beer</th>\n",
       "      <td>355</td>\n",
       "    </tr>\n",
       "    <tr>\n",
       "      <th>Cream Ale</th>\n",
       "      <td>337</td>\n",
       "    </tr>\n",
       "    <tr>\n",
       "      <th>Kölsch</th>\n",
       "      <td>333</td>\n",
       "    </tr>\n",
       "    <tr>\n",
       "      <th>No Profile Selected</th>\n",
       "      <td>317</td>\n",
       "    </tr>\n",
       "    <tr>\n",
       "      <th>American Wheat or Rye Beer</th>\n",
       "      <td>308</td>\n",
       "    </tr>\n",
       "    <tr>\n",
       "      <th>Extra Special/Strong Bitter (ESB)</th>\n",
       "      <td>302</td>\n",
       "    </tr>\n",
       "    <tr>\n",
       "      <th>English IPA</th>\n",
       "      <td>293</td>\n",
       "    </tr>\n",
       "    <tr>\n",
       "      <th>Specialty Beer</th>\n",
       "      <td>282</td>\n",
       "    </tr>\n",
       "    <tr>\n",
       "      <th>Imperial Stout</th>\n",
       "      <td>260</td>\n",
       "    </tr>\n",
       "    <tr>\n",
       "      <th>Fruit Beer</th>\n",
       "      <td>247</td>\n",
       "    </tr>\n",
       "    <tr>\n",
       "      <th>Belgian Tripel</th>\n",
       "      <td>240</td>\n",
       "    </tr>\n",
       "    <tr>\n",
       "      <th>Double IPA</th>\n",
       "      <td>240</td>\n",
       "    </tr>\n",
       "    <tr>\n",
       "      <th>American Light Lager</th>\n",
       "      <td>233</td>\n",
       "    </tr>\n",
       "    <tr>\n",
       "      <th>Specialty IPA: New England IPA</th>\n",
       "      <td>217</td>\n",
       "    </tr>\n",
       "    <tr>\n",
       "      <th>Belgian Blond Ale</th>\n",
       "      <td>213</td>\n",
       "    </tr>\n",
       "  </tbody>\n",
       "</table>\n",
       "</div>"
      ],
      "text/plain": [
       "                                   bstyle\n",
       "American IPA                         4318\n",
       "American Pale Ale                    2497\n",
       "Saison                                875\n",
       "Imperial IPA                          812\n",
       "American Amber Ale                    776\n",
       "Blonde Ale                            569\n",
       "Witbier                               510\n",
       "American Stout                        480\n",
       "Russian Imperial Stout                478\n",
       "Weizen/Weissbier                      461\n",
       "American Brown Ale                    458\n",
       "Robust Porter                         438\n",
       "Irish Red Ale                         394\n",
       "Sweet Stout                           380\n",
       "Oatmeal Stout                         365\n",
       "California Common Beer                355\n",
       "Cream Ale                             337\n",
       "Kölsch                                333\n",
       "No Profile Selected                   317\n",
       "American Wheat or Rye Beer            308\n",
       "Extra Special/Strong Bitter (ESB)     302\n",
       "English IPA                           293\n",
       "Specialty Beer                        282\n",
       "Imperial Stout                        260\n",
       "Fruit Beer                            247\n",
       "Belgian Tripel                        240\n",
       "Double IPA                            240\n",
       "American Light Lager                  233\n",
       "Specialty IPA: New England IPA        217\n",
       "Belgian Blond Ale                     213"
      ]
     },
     "execution_count": 107,
     "metadata": {},
     "output_type": "execute_result"
    }
   ],
   "source": [
    "df.bstyle.value_counts().to_frame().head(30)"
   ]
  },
  {
   "cell_type": "code",
   "execution_count": 108,
   "metadata": {},
   "outputs": [],
   "source": [
    "df = df.reset_index().drop('index', axis=1, errors='ignore')\n",
    "df.columns = [str(c) for c in df.columns]  # update columns to strings in case they are numbers\n",
    "\n",
    "df.loc[:, 'og'] = pd.Series(pd.to_numeric(df['og'], errors='coerce'), name='og', index=df['og'].index)\n",
    "df.loc[:, 'fg'] = pd.Series(pd.to_numeric(df['fg'], errors='coerce'), name='fg', index=df['fg'].index)\n",
    "df.loc[:, 'Mash pH'] = pd.Series(pd.to_numeric(df['Mash pH'], errors='coerce'), name='Mash pH', index=df['Mash pH'].index)\n",
    "#df.loc[:, 'co2'] = pd.Series(pd.to_numeric(df['co2'], errors='coerce'), name='co2', index=df['co2'].index)"
   ]
  },
  {
   "cell_type": "code",
   "execution_count": 109,
   "metadata": {},
   "outputs": [],
   "source": [
    "df.loc[:, 'IBU (rager)'] = pd.Series(pd.to_numeric(df['IBU (rager)'], errors='coerce'), name='IBU (rager)', index=df['IBU (rager)'].index)\n",
    "df.loc[:, 'SRM (daniels)'] = pd.Series(pd.to_numeric(df['SRM (daniels)'], errors='coerce'), name='SRM (daniels)', index=df['SRM (daniels)'].index)\n",
    "df.loc[:, 'SRM (ebcmorey)'] = pd.Series(pd.to_numeric(df['SRM (ebcmorey)'], errors='coerce'), name='SRM (ebcmorey)', index=df['SRM (ebcmorey)'].index)\n",
    "df.loc[:, 'SRM (mosher)'] = pd.Series(pd.to_numeric(df['SRM (mosher)'], errors='coerce'), name='SRM (mosher)', index=df['SRM (mosher)'].index)"
   ]
  },
  {
   "cell_type": "code",
   "execution_count": 110,
   "metadata": {},
   "outputs": [],
   "source": [
    "df['strong'] = np.where(df.abv >= 6, 1, 0)\n",
    "df['dry'] = np.where(df.fg <= 1.002, 1, 0)\n",
    "df['sweet'] = np.where(df.fg >= 1.012, 1, 0)"
   ]
  },
  {
   "cell_type": "code",
   "execution_count": 111,
   "metadata": {},
   "outputs": [],
   "source": [
    "bugus = []\n",
    "for index, row in df.iterrows():\n",
    "    grav = (row.og -.999999999)*1000\n",
    "    bugu = row.ibu / grav\n",
    "    bugus.append(bugu)\n",
    "df['bugu'] = bugus"
   ]
  },
  {
   "cell_type": "code",
   "execution_count": 112,
   "metadata": {},
   "outputs": [],
   "source": [
    "#df = df.drop(columns = 'co2')"
   ]
  },
  {
   "cell_type": "code",
   "execution_count": 113,
   "metadata": {},
   "outputs": [],
   "source": [
    "styles = []\n",
    "for index, row in df.iterrows():\n",
    "    if 'IPA' in row.bstyle or 'Pale Ale' in row.bstyle or 'Bitter' in row.bstyle or 'Mild' in row.bstyle:\n",
    "        styles.append('Pale Ale (IPA, PA)')\n",
    "        #df['simsty'] = 'Pale Ale (IPA, PA, Blonde)'\n",
    "    elif 'Stout' in row.bstyle or 'Porter' in row.bstyle or 'Winter' in row.bstyle or 'Spiced' in row.bstyle:\n",
    "        styles.append('Stout/Porter')\n",
    "        #df['simsty'] = 'Stout/Porter'\n",
    "    elif 'Saison' in row.bstyle or 'Wit' in row.bstyle or 'Farmhouse' in row.bstyle or 'Wheat' in row.bstyle or 'Grisette' in row.bstyle or 'Weizen' in row.bstyle or 'Weizen/Weissbier' in row.bstyle or 'Wei' in row.bstyle or 'Dunkelw' in row.bstyle: \n",
    "        styles.append('Farmhouse/Wheat/Saison/Belgian/Strong/Barleywine Style')\n",
    "        #df['simsty'] = 'Farmhouse/Wheat/Saison'\n",
    "    elif 'California Common' in row.bstyle or 'Lager' in row.bstyle or 'Kölsch' in row.bstyle or 'Cream Ale' in row.bstyle or 'Pilsener' in row.bstyle or 'Pils' in row.bstyle or 'Munich' in row.bstyle or 'Blond' in row.bstyle or 'Oktob' in row.bstyle or 'bock' in row.bstyle or 'Märzen' in row.bstyle: \n",
    "        styles.append('Lager/Cream Ale')\n",
    "    elif 'Amber' in row.bstyle or 'Brown Ale' in row.bstyle or 'Red Ale' in row.bstyle or 'Burton Ale' in row.bstyle or 'English Brown' in row.bstyle: \n",
    "        styles.append('Brown/Red Ale')\n",
    "    elif 'Oud' in row.bstyle or 'Old' in row.bstyle or 'Barleywine' in row.bstyle or 'Scotch' in row.bstyle or 'Spice' in row.bstyle or 'Scot' in row.bstyle or 'Strong Ale' in row.bstyle: \n",
    "        styles.append('Farmhouse/Wheat/Saison/Belgian/Strong/Barleywine Style')\n",
    "    elif 'Dubbel' in row.bstyle or 'Tripel' in row.bstyle or 'Abbey' in row.bstyle or 'Trappist' in row.bstyle or 'Belgian' in row.bstyle or 'Bière de Garde' in row.bstyle: \n",
    "        styles.append('Farmhouse/Wheat/Saison/Belgian/Strong/Barleywine Style')\n",
    "    elif 'Bret' in row.bstyle or 'Sour' in row.bstyle or 'Wild' in row.bstyle or 'Fruit' in row.bstyle or 'Gose' in row.bstyle or 'Lambic' in row.bstyle or 'Brut' in row.bstyle or 'Gueuze' in row.bstyle or 'Flanders' in row.bstyle or 'Berlin' in row.bstyle: \n",
    "        styles.append('Bret/Sour/Wild/Fruited')\n",
    "    else:\n",
    "        styles.append('Other')\n",
    "        #df['simsty'] = 'Other'\n",
    "\n",
    "df['simsty'] = styles"
   ]
  },
  {
   "cell_type": "code",
   "execution_count": 114,
   "metadata": {},
   "outputs": [
    {
     "name": "stderr",
     "output_type": "stream",
     "text": [
      "/opt/anaconda3/envs/metis/lib/python3.8/site-packages/seaborn/_decorators.py:36: FutureWarning: Pass the following variable as a keyword arg: x. From version 0.12, the only valid positional argument will be `data`, and passing other arguments without an explicit keyword will result in an error or misinterpretation.\n",
      "  warnings.warn(\n"
     ]
    },
    {
     "data": {
      "image/png": "[encoded data removed]",
      "text/plain": [
       "<Figure size 1080x720 with 1 Axes>"
      ]
     },
     "metadata": {},
     "output_type": "display_data"
    }
   ],
   "source": [
    "import matplotlib.pyplot as plt\n",
    "import seaborn as sns\n",
    "plt.figure(figsize = (15,10))\n",
    "sns.countplot('simsty', data=df)\n",
    "plt.xticks(rotation = 45)\n",
    "plt.savefig('7styles.jpeg');"
   ]
  },
  {
   "cell_type": "code",
   "execution_count": 115,
   "metadata": {},
   "outputs": [],
   "source": [
    "simpler_style = []\n",
    "for index, row in df.iterrows():\n",
    "    if row.simsty == 'Stout/Porter' or row.simsty == 'Brown/Red Ale' or row.simsty == 'Farmhouse/Wheat/Saison/Belgian/Strong/Barleywine Style':\n",
    "        simpler_style.append(\"Strong/Dark Ales\")\n",
    "    elif row.simsty == 'Pale Ale (IPA, PA)' or row.simsty == 'Lager/Cream Ale':\n",
    "        simpler_style.append('Pale Ales and Lagers')\n",
    "    else: \n",
    "        simpler_style.append(\"Other (Sours, Wild, Holiday styles)\")\n",
    "df['threesty'] = simpler_style"
   ]
  },
  {
   "cell_type": "code",
   "execution_count": 116,
   "metadata": {},
   "outputs": [],
   "source": [
    "simpler_style2 = []\n",
    "for index, row in df.iterrows():\n",
    "    if row.simsty == 'Stout/Porter' or row.simsty == 'Brown/Red Ale' or row.simsty == 'Farmhouse/Wheat/Saison/Belgian/Strong/Barleywine Style':\n",
    "        simpler_style2.append(\"Strong/Dark Ales\")\n",
    "    elif row.simsty == 'Pale Ale (IPA, PA)':\n",
    "        simpler_style2.append('IPA/Pale Ales')\n",
    "    elif row.simsty == 'Lager/Cream Ale':\n",
    "        simpler_style2.append('Lager/Cream Ale')\n",
    "    else: \n",
    "        simpler_style2.append(\"Other (Sours, Wild, Holiday styles)\")\n",
    "df['foursty'] = simpler_style2"
   ]
  },
  {
   "cell_type": "code",
   "execution_count": 117,
   "metadata": {},
   "outputs": [
    {
     "name": "stderr",
     "output_type": "stream",
     "text": [
      "/opt/anaconda3/envs/metis/lib/python3.8/site-packages/seaborn/_decorators.py:36: FutureWarning: Pass the following variable as a keyword arg: x. From version 0.12, the only valid positional argument will be `data`, and passing other arguments without an explicit keyword will result in an error or misinterpretation.\n",
      "  warnings.warn(\n"
     ]
    },
    {
     "data": {
      "image/png": "[encoded data removed]",
      "text/plain": [
       "<Figure size 720x576 with 1 Axes>"
      ]
     },
     "metadata": {},
     "output_type": "display_data"
    }
   ],
   "source": [
    "plt.figure(figsize=(10,8))\n",
    "plt.title('Class Sizes', size = 30)\n",
    "plt.style.use('seaborn')\n",
    "sns.countplot('threesty', data = df)\n",
    "plt.savefig('threesty_size.jpeg', bbox_inches='tight', \n",
    "               transparent= False,\n",
    "               pad_inches=0)"
   ]
  },
  {
   "cell_type": "code",
   "execution_count": 118,
   "metadata": {},
   "outputs": [],
   "source": [
    "df = df[df.bugu < 20]"
   ]
  },
  {
   "cell_type": "code",
   "execution_count": 119,
   "metadata": {},
   "outputs": [],
   "source": [
    "df = df.drop_duplicates()"
   ]
  },
  {
   "cell_type": "code",
   "execution_count": 120,
   "metadata": {},
   "outputs": [],
   "source": [
    "df.to_csv('clean_beer.csv')"
   ]
  },
  {
   "cell_type": "code",
   "execution_count": 51,
   "metadata": {},
   "outputs": [
    {
     "data": {
      "text/plain": [
       "Index(['title', 'bstyle', 'og', 'fg', 'abv', 'ibu', 'srm', 'Mash pH', 'hops',\n",
       "       'others', 'water', 'notes', 'IBU (rager)', 'SRM (daniels)',\n",
       "       'SRM (ebcmorey)', 'SRM (mosher)', 'ABV (alternate)', 'yeast', 'chal',\n",
       "       'citra', 'warrior', 'casc', 'saaz', 'azacca', 'colum', 'mag', 'perle',\n",
       "       'simcoe', 'amar', 'willam', 'goldings', 'heller', 'fug', 'nugg',\n",
       "       'hopshot', 'tett', 'mosaic', 'brewerg', 'northb', 'cent', 'chinook',\n",
       "       'dryh', 'lact', 'clone', 'juicy', 'dank', 'wedding', 'whisk', 'trop',\n",
       "       'award', 'best', 'smoke', 'roast', 'thick', 'heavy', 'stfruit', 'hazy',\n",
       "       'pheno', 'banana', 'bitter', 'wylon', 'kveik', 'ipa', 'saison', 'lager',\n",
       "       'stout', 'kolsch', 'wit', 'puree', 'lovehop'],\n",
       "      dtype='object')"
      ]
     },
     "execution_count": 51,
     "metadata": {},
     "output_type": "execute_result"
    }
   ],
   "source": [
    "df.columns"
   ]
  },
  {
   "cell_type": "code",
   "execution_count": 157,
   "metadata": {},
   "outputs": [],
   "source": [
    "import numpy as np\n",
    "import pandas as pd\n",
    "import matplotlib.pyplot as plt\n",
    "import seaborn as sns\n",
    "from sklearn.neighbors import KNeighborsClassifier\n",
    "from sklearn.linear_model import LogisticRegression\n",
    "from sklearn.model_selection import train_test_split\n",
    "from sklearn.metrics import precision_score, recall_score, precision_recall_curve,f1_score, fbeta_score"
   ]
  },
  {
   "cell_type": "code",
   "execution_count": 167,
   "metadata": {},
   "outputs": [],
   "source": [
    "sub_df = df[['ipa', 'lager', 'stout','award','abv','og', 'fg', 'ibu', 'srm', 'chal', 'citra', 'warrior', 'casc', 'saaz', 'colum', 'mag', 'perle', 'simcoe', 'nugg', 'heller', 'fug' ]].dropna()"
   ]
  },
  {
   "cell_type": "code",
   "execution_count": 154,
   "metadata": {},
   "outputs": [
    {
     "data": {
      "text/html": [
       "<div>\n",
       "<style scoped>\n",
       "    .dataframe tbody tr th:only-of-type {\n",
       "        vertical-align: middle;\n",
       "    }\n",
       "\n",
       "    .dataframe tbody tr th {\n",
       "        vertical-align: top;\n",
       "    }\n",
       "\n",
       "    .dataframe thead th {\n",
       "        text-align: right;\n",
       "    }\n",
       "</style>\n",
       "<table border=\"1\" class=\"dataframe\">\n",
       "  <thead>\n",
       "    <tr style=\"text-align: right;\">\n",
       "      <th></th>\n",
       "      <th>ipa</th>\n",
       "      <th>award</th>\n",
       "      <th>abv</th>\n",
       "      <th>og</th>\n",
       "      <th>fg</th>\n",
       "      <th>ibu</th>\n",
       "      <th>srm</th>\n",
       "      <th>chal</th>\n",
       "      <th>citra</th>\n",
       "      <th>warrior</th>\n",
       "      <th>casc</th>\n",
       "      <th>saaz</th>\n",
       "      <th>colum</th>\n",
       "      <th>mag</th>\n",
       "      <th>perle</th>\n",
       "      <th>simcoe</th>\n",
       "      <th>nugg</th>\n",
       "      <th>heller</th>\n",
       "      <th>fug</th>\n",
       "    </tr>\n",
       "  </thead>\n",
       "  <tbody>\n",
       "    <tr>\n",
       "      <th>count</th>\n",
       "      <td>22779.000000</td>\n",
       "      <td>22779.000000</td>\n",
       "      <td>22779.000000</td>\n",
       "      <td>22779.000000</td>\n",
       "      <td>22779.000000</td>\n",
       "      <td>22779.000000</td>\n",
       "      <td>22779.000000</td>\n",
       "      <td>22779.000000</td>\n",
       "      <td>22779.000000</td>\n",
       "      <td>22779.000000</td>\n",
       "      <td>22779.000000</td>\n",
       "      <td>22779.000000</td>\n",
       "      <td>22779.000000</td>\n",
       "      <td>22779.000000</td>\n",
       "      <td>22779.000000</td>\n",
       "      <td>22779.000000</td>\n",
       "      <td>22779.000000</td>\n",
       "      <td>22779.000000</td>\n",
       "      <td>22779.000000</td>\n",
       "    </tr>\n",
       "    <tr>\n",
       "      <th>mean</th>\n",
       "      <td>0.229729</td>\n",
       "      <td>0.026208</td>\n",
       "      <td>6.214647</td>\n",
       "      <td>1.062406</td>\n",
       "      <td>1.014509</td>\n",
       "      <td>44.196294</td>\n",
       "      <td>13.504613</td>\n",
       "      <td>0.022609</td>\n",
       "      <td>0.145836</td>\n",
       "      <td>0.038632</td>\n",
       "      <td>0.200799</td>\n",
       "      <td>0.090171</td>\n",
       "      <td>0.093902</td>\n",
       "      <td>0.099873</td>\n",
       "      <td>0.038193</td>\n",
       "      <td>0.097326</td>\n",
       "      <td>0.033188</td>\n",
       "      <td>0.000439</td>\n",
       "      <td>0.071206</td>\n",
       "    </tr>\n",
       "    <tr>\n",
       "      <th>std</th>\n",
       "      <td>0.420668</td>\n",
       "      <td>0.159758</td>\n",
       "      <td>1.855649</td>\n",
       "      <td>0.100015</td>\n",
       "      <td>0.020409</td>\n",
       "      <td>42.661496</td>\n",
       "      <td>12.051557</td>\n",
       "      <td>0.148655</td>\n",
       "      <td>0.352950</td>\n",
       "      <td>0.192721</td>\n",
       "      <td>0.400607</td>\n",
       "      <td>0.286433</td>\n",
       "      <td>0.291699</td>\n",
       "      <td>0.299837</td>\n",
       "      <td>0.191666</td>\n",
       "      <td>0.296408</td>\n",
       "      <td>0.179132</td>\n",
       "      <td>0.020948</td>\n",
       "      <td>0.257174</td>\n",
       "    </tr>\n",
       "    <tr>\n",
       "      <th>min</th>\n",
       "      <td>0.000000</td>\n",
       "      <td>0.000000</td>\n",
       "      <td>0.000000</td>\n",
       "      <td>1.000000</td>\n",
       "      <td>0.991000</td>\n",
       "      <td>0.000000</td>\n",
       "      <td>0.000000</td>\n",
       "      <td>0.000000</td>\n",
       "      <td>0.000000</td>\n",
       "      <td>0.000000</td>\n",
       "      <td>0.000000</td>\n",
       "      <td>0.000000</td>\n",
       "      <td>0.000000</td>\n",
       "      <td>0.000000</td>\n",
       "      <td>0.000000</td>\n",
       "      <td>0.000000</td>\n",
       "      <td>0.000000</td>\n",
       "      <td>0.000000</td>\n",
       "      <td>0.000000</td>\n",
       "    </tr>\n",
       "    <tr>\n",
       "      <th>25%</th>\n",
       "      <td>0.000000</td>\n",
       "      <td>0.000000</td>\n",
       "      <td>5.090000</td>\n",
       "      <td>1.051000</td>\n",
       "      <td>1.011000</td>\n",
       "      <td>22.830000</td>\n",
       "      <td>5.140000</td>\n",
       "      <td>0.000000</td>\n",
       "      <td>0.000000</td>\n",
       "      <td>0.000000</td>\n",
       "      <td>0.000000</td>\n",
       "      <td>0.000000</td>\n",
       "      <td>0.000000</td>\n",
       "      <td>0.000000</td>\n",
       "      <td>0.000000</td>\n",
       "      <td>0.000000</td>\n",
       "      <td>0.000000</td>\n",
       "      <td>0.000000</td>\n",
       "      <td>0.000000</td>\n",
       "    </tr>\n",
       "    <tr>\n",
       "      <th>50%</th>\n",
       "      <td>0.000000</td>\n",
       "      <td>0.000000</td>\n",
       "      <td>5.830000</td>\n",
       "      <td>1.058000</td>\n",
       "      <td>1.014000</td>\n",
       "      <td>34.540000</td>\n",
       "      <td>8.520000</td>\n",
       "      <td>0.000000</td>\n",
       "      <td>0.000000</td>\n",
       "      <td>0.000000</td>\n",
       "      <td>0.000000</td>\n",
       "      <td>0.000000</td>\n",
       "      <td>0.000000</td>\n",
       "      <td>0.000000</td>\n",
       "      <td>0.000000</td>\n",
       "      <td>0.000000</td>\n",
       "      <td>0.000000</td>\n",
       "      <td>0.000000</td>\n",
       "      <td>0.000000</td>\n",
       "    </tr>\n",
       "    <tr>\n",
       "      <th>75%</th>\n",
       "      <td>0.000000</td>\n",
       "      <td>0.000000</td>\n",
       "      <td>6.930000</td>\n",
       "      <td>1.069000</td>\n",
       "      <td>1.017000</td>\n",
       "      <td>55.830000</td>\n",
       "      <td>17.090000</td>\n",
       "      <td>0.000000</td>\n",
       "      <td>0.000000</td>\n",
       "      <td>0.000000</td>\n",
       "      <td>0.000000</td>\n",
       "      <td>0.000000</td>\n",
       "      <td>0.000000</td>\n",
       "      <td>0.000000</td>\n",
       "      <td>0.000000</td>\n",
       "      <td>0.000000</td>\n",
       "      <td>0.000000</td>\n",
       "      <td>0.000000</td>\n",
       "      <td>0.000000</td>\n",
       "    </tr>\n",
       "    <tr>\n",
       "      <th>max</th>\n",
       "      <td>1.000000</td>\n",
       "      <td>1.000000</td>\n",
       "      <td>23.980000</td>\n",
       "      <td>15.897000</td>\n",
       "      <td>3.974000</td>\n",
       "      <td>2673.830000</td>\n",
       "      <td>108.650000</td>\n",
       "      <td>1.000000</td>\n",
       "      <td>1.000000</td>\n",
       "      <td>1.000000</td>\n",
       "      <td>1.000000</td>\n",
       "      <td>1.000000</td>\n",
       "      <td>1.000000</td>\n",
       "      <td>1.000000</td>\n",
       "      <td>1.000000</td>\n",
       "      <td>1.000000</td>\n",
       "      <td>1.000000</td>\n",
       "      <td>1.000000</td>\n",
       "      <td>1.000000</td>\n",
       "    </tr>\n",
       "  </tbody>\n",
       "</table>\n",
       "</div>"
      ],
      "text/plain": [
       "                ipa         award           abv            og            fg  \\\n",
       "count  22779.000000  22779.000000  22779.000000  22779.000000  22779.000000   \n",
       "mean       0.229729      0.026208      6.214647      1.062406      1.014509   \n",
       "std        0.420668      0.159758      1.855649      0.100015      0.020409   \n",
       "min        0.000000      0.000000      0.000000      1.000000      0.991000   \n",
       "25%        0.000000      0.000000      5.090000      1.051000      1.011000   \n",
       "50%        0.000000      0.000000      5.830000      1.058000      1.014000   \n",
       "75%        0.000000      0.000000      6.930000      1.069000      1.017000   \n",
       "max        1.000000      1.000000     23.980000     15.897000      3.974000   \n",
       "\n",
       "                ibu           srm          chal         citra       warrior  \\\n",
       "count  22779.000000  22779.000000  22779.000000  22779.000000  22779.000000   \n",
       "mean      44.196294     13.504613      0.022609      0.145836      0.038632   \n",
       "std       42.661496     12.051557      0.148655      0.352950      0.192721   \n",
       "min        0.000000      0.000000      0.000000      0.000000      0.000000   \n",
       "25%       22.830000      5.140000      0.000000      0.000000      0.000000   \n",
       "50%       34.540000      8.520000      0.000000      0.000000      0.000000   \n",
       "75%       55.830000     17.090000      0.000000      0.000000      0.000000   \n",
       "max     2673.830000    108.650000      1.000000      1.000000      1.000000   \n",
       "\n",
       "               casc          saaz         colum           mag         perle  \\\n",
       "count  22779.000000  22779.000000  22779.000000  22779.000000  22779.000000   \n",
       "mean       0.200799      0.090171      0.093902      0.099873      0.038193   \n",
       "std        0.400607      0.286433      0.291699      0.299837      0.191666   \n",
       "min        0.000000      0.000000      0.000000      0.000000      0.000000   \n",
       "25%        0.000000      0.000000      0.000000      0.000000      0.000000   \n",
       "50%        0.000000      0.000000      0.000000      0.000000      0.000000   \n",
       "75%        0.000000      0.000000      0.000000      0.000000      0.000000   \n",
       "max        1.000000      1.000000      1.000000      1.000000      1.000000   \n",
       "\n",
       "             simcoe          nugg        heller           fug  \n",
       "count  22779.000000  22779.000000  22779.000000  22779.000000  \n",
       "mean       0.097326      0.033188      0.000439      0.071206  \n",
       "std        0.296408      0.179132      0.020948      0.257174  \n",
       "min        0.000000      0.000000      0.000000      0.000000  \n",
       "25%        0.000000      0.000000      0.000000      0.000000  \n",
       "50%        0.000000      0.000000      0.000000      0.000000  \n",
       "75%        0.000000      0.000000      0.000000      0.000000  \n",
       "max        1.000000      1.000000      1.000000      1.000000  "
      ]
     },
     "execution_count": 154,
     "metadata": {},
     "output_type": "execute_result"
    }
   ],
   "source": [
    "sub_df.describe()"
   ]
  },
  {
   "cell_type": "code",
   "execution_count": 216,
   "metadata": {},
   "outputs": [],
   "source": [
    "X = sub_df.drop(columns =['ipa', 'award', 'lager', 'stout', 'srm'])\n",
    "y= sub_df['stout']"
   ]
  },
  {
   "cell_type": "code",
   "execution_count": 217,
   "metadata": {},
   "outputs": [],
   "source": [
    "X_train, x_test, y_train, y_test = train_test_split(X, y, test_size=0.2)\n",
    "X_train, x_val, y_train, y_val = train_test_split(X_train, y_train, test_size=0.25)"
   ]
  },
  {
   "cell_type": "code",
   "execution_count": 218,
   "metadata": {},
   "outputs": [],
   "source": [
    "from sklearn import preprocessing"
   ]
  },
  {
   "cell_type": "code",
   "execution_count": 219,
   "metadata": {},
   "outputs": [],
   "source": [
    "X_train_pre = preprocessing.scale(X_train)\n",
    "x_test_pre = preprocessing.scale(x_test)"
   ]
  },
  {
   "cell_type": "code",
   "execution_count": 220,
   "metadata": {},
   "outputs": [
    {
     "data": {
      "text/plain": [
       "KNeighborsClassifier(n_neighbors=1)"
      ]
     },
     "execution_count": 220,
     "metadata": {},
     "output_type": "execute_result"
    }
   ],
   "source": [
    "knn = KNeighborsClassifier(n_neighbors=1)\n",
    "knn.fit(X_train_pre, y_train)"
   ]
  },
  {
   "cell_type": "code",
   "execution_count": 221,
   "metadata": {},
   "outputs": [
    {
     "data": {
      "text/plain": [
       "1.0"
      ]
     },
     "execution_count": 221,
     "metadata": {},
     "output_type": "execute_result"
    }
   ],
   "source": [
    "knn.score(X_train_pre, y_train)"
   ]
  },
  {
   "cell_type": "code",
   "execution_count": 222,
   "metadata": {},
   "outputs": [
    {
     "data": {
      "text/plain": [
       "0.8874012291483757"
      ]
     },
     "execution_count": 222,
     "metadata": {},
     "output_type": "execute_result"
    }
   ],
   "source": [
    "knn.score(x_test_pre,y_test)"
   ]
  },
  {
   "cell_type": "code",
   "execution_count": 223,
   "metadata": {},
   "outputs": [
    {
     "data": {
      "text/plain": [
       "array([0, 0, 0, ..., 0, 0, 0])"
      ]
     },
     "execution_count": 223,
     "metadata": {},
     "output_type": "execute_result"
    }
   ],
   "source": [
    "knn.predict(x_test_pre)"
   ]
  },
  {
   "cell_type": "code",
   "execution_count": 224,
   "metadata": {},
   "outputs": [
    {
     "data": {
      "text/plain": [
       "0.9172459208311993"
      ]
     },
     "execution_count": 224,
     "metadata": {},
     "output_type": "execute_result"
    }
   ],
   "source": [
    "logit = LogisticRegression()\n",
    "logit.fit(X_train_pre,y_train)\n",
    "logit.score(X_train_pre,y_train)"
   ]
  },
  {
   "cell_type": "code",
   "execution_count": 225,
   "metadata": {},
   "outputs": [
    {
     "data": {
      "text/plain": [
       "(0.9192273924495171,\n",
       " array([[-0.16111741,  0.07259047,  0.76406619,  0.03460299,  0.02326953,\n",
       "         -0.3585538 , -0.00340869, -0.32184323, -0.27512218,  0.00103709,\n",
       "          0.09024009, -0.02236427, -0.26263168,  0.15871169, -0.11653457,\n",
       "          0.11270046]]))"
      ]
     },
     "execution_count": 225,
     "metadata": {},
     "output_type": "execute_result"
    }
   ],
   "source": [
    "logit.score(x_test_pre,y_test), logit.coef_"
   ]
  },
  {
   "cell_type": "code",
   "execution_count": 226,
   "metadata": {},
   "outputs": [],
   "source": [
    "from sklearn.naive_bayes import BernoulliNB, MultinomialNB, GaussianNB\n",
    "from sklearn.metrics import roc_curve, roc_auc_score"
   ]
  },
  {
   "cell_type": "code",
   "execution_count": 227,
   "metadata": {},
   "outputs": [
    {
     "data": {
      "text/plain": [
       "(0.9132947976878613, 0.9146180860403863)"
      ]
     },
     "execution_count": 227,
     "metadata": {},
     "output_type": "execute_result"
    }
   ],
   "source": [
    "bnb = BernoulliNB()\n",
    "bnb.fit(X_train_pre,y_train)\n",
    "bnb.score(X_train_pre,y_train), bnb.score(x_test_pre,y_test)"
   ]
  },
  {
   "cell_type": "code",
   "execution_count": 228,
   "metadata": {},
   "outputs": [],
   "source": [
    "from sklearn.ensemble import RandomForestClassifier\n",
    "from sklearn.tree import DecisionTreeClassifier"
   ]
  },
  {
   "cell_type": "code",
   "execution_count": 229,
   "metadata": {},
   "outputs": [
    {
     "data": {
      "text/plain": [
       "DecisionTreeClassifier()"
      ]
     },
     "execution_count": 229,
     "metadata": {},
     "output_type": "execute_result"
    }
   ],
   "source": [
    "dtc = DecisionTreeClassifier()\n",
    "dtc.fit(X_train_pre, y_train)"
   ]
  },
  {
   "cell_type": "code",
   "execution_count": 230,
   "metadata": {},
   "outputs": [
    {
     "data": {
      "text/plain": [
       "0.8775241439859526"
      ]
     },
     "execution_count": 230,
     "metadata": {},
     "output_type": "execute_result"
    }
   ],
   "source": [
    "dtc.score(x_test_pre, y_test)"
   ]
  },
  {
   "cell_type": "code",
   "execution_count": 231,
   "metadata": {},
   "outputs": [
    {
     "data": {
      "text/plain": [
       "RandomForestClassifier()"
      ]
     },
     "execution_count": 231,
     "metadata": {},
     "output_type": "execute_result"
    }
   ],
   "source": [
    "forest = RandomForestClassifier()\n",
    "forest.fit(X_train_pre, y_train)"
   ]
  },
  {
   "cell_type": "code",
   "execution_count": 232,
   "metadata": {},
   "outputs": [
    {
     "data": {
      "text/plain": [
       "0.9999268310529011"
      ]
     },
     "execution_count": 232,
     "metadata": {},
     "output_type": "execute_result"
    }
   ],
   "source": [
    "forest.score(X_train_pre, y_train)"
   ]
  },
  {
   "cell_type": "code",
   "execution_count": 233,
   "metadata": {},
   "outputs": [
    {
     "data": {
      "text/plain": [
       "0.9253731343283582"
      ]
     },
     "execution_count": 233,
     "metadata": {},
     "output_type": "execute_result"
    }
   ],
   "source": [
    "forest.score(x_test_pre, y_test)"
   ]
  },
  {
   "cell_type": "code",
   "execution_count": 234,
   "metadata": {},
   "outputs": [],
   "source": [
    "from sklearn.svm import SVC"
   ]
  },
  {
   "cell_type": "code",
   "execution_count": 235,
   "metadata": {},
   "outputs": [
    {
     "data": {
      "text/plain": [
       "SVC(probability=True)"
      ]
     },
     "execution_count": 235,
     "metadata": {},
     "output_type": "execute_result"
    }
   ],
   "source": [
    "svc = SVC(probability = True)\n",
    "svc.fit(X_train_pre, y_train)"
   ]
  },
  {
   "cell_type": "code",
   "execution_count": 236,
   "metadata": {},
   "outputs": [
    {
     "data": {
      "text/plain": [
       "0.9229587357330992"
      ]
     },
     "execution_count": 236,
     "metadata": {},
     "output_type": "execute_result"
    }
   ],
   "source": [
    "svc.score(x_test_pre, y_test)"
   ]
  },
  {
   "cell_type": "code",
   "execution_count": 239,
   "metadata": {},
   "outputs": [],
   "source": [
    "fpr, tpr, thresholds = roc_curve(y_test, knn.predict_proba(x_test_pre)[:,1])\n",
    "fprlog, tprlog, thresholdslog = roc_curve(y_test, logit.predict_proba(x_test_pre)[:,1])\n",
    "fprnb, tprnb, thresholdsnb = roc_curve(y_test, bnb.predict_proba(x_test_pre)[:,1])\n",
    "\n",
    "fprrf, tprrf, thresholdsrf = roc_curve(y_test, forest.predict_proba(x_test_pre)[:,1])\n",
    "fprdtc, tprdtc, thresholdsdtc = roc_curve(y_test, dtc.predict_proba(x_test_pre)[:,1])\n",
    "fprsvc, tprsvc, thresholdssvc = roc_curve(y_test, svc.predict_proba(x_test_pre)[:,1])"
   ]
  },
  {
   "cell_type": "code",
   "execution_count": 240,
   "metadata": {},
   "outputs": [
    {
     "name": "stdout",
     "output_type": "stream",
     "text": [
      "KNN ROC AUC score =  0.6211269186704922\n",
      "Logit ROC AUC score =  0.7930731414195108\n",
      "Naive Bayes ROC AUC score =  0.7546244539898772\n",
      "Random Forest ROC AUC score =  0.8163101436547269\n",
      "Decision Tree ROC AUC score =  0.618295094740804\n",
      "SVC ROC AUC score =  0.6793848368490387\n"
     ]
    },
    {
     "data": {
      "image/png": "[encoded data removed]",
      "text/plain": [
       "<Figure size 1080x720 with 1 Axes>"
      ]
     },
     "metadata": {
      "needs_background": "light"
     },
     "output_type": "display_data"
    }
   ],
   "source": [
    "plt.figure(figsize = (15,10))\n",
    "plt.plot(fpr, tpr,lw=2)\n",
    "plt.plot(fprlog, tprlog,lw=2)\n",
    "plt.plot(fprnb, tprnb,lw=2)\n",
    "#plt.plot(fprgnb, tprgnb,lw=2)\n",
    "plt.plot(fprrf, tprrf,lw=2)\n",
    "plt.plot(fprdtc, tprdtc,lw=2)\n",
    "plt.plot(fprsvc, tprsvc,lw=2)\n",
    "plt.plot([0,1],[0,1],c='violet',ls='--')\n",
    "plt.xlim([-0.05,1.05])\n",
    "plt.ylim([-0.05,1.05])\n",
    "plt.xlabel('False positive rate')\n",
    "plt.ylabel('True positive rate')\n",
    "plt.title('ROC Scores', fontweight=\"bold\", fontsize=20);\n",
    "plt.legend(['KNN','Logit', 'Bernoulli NB', 'Random Forest', 'DTC', 'SVC'])\n",
    "print(\"KNN ROC AUC score = \", roc_auc_score(y_test, knn.predict_proba(x_test_pre)[:,1]))\n",
    "print(\"Logit ROC AUC score = \", roc_auc_score(y_test, logit.predict_proba(x_test_pre)[:,1]))\n",
    "print(\"Naive Bayes ROC AUC score = \", roc_auc_score(y_test, bnb.predict_proba(x_test_pre)[:,1]))\n",
    "#print(\"Naive Bayes ROC AUC score = \", roc_auc_score(y_test, gnb.predict_proba(x_test_pre)[:,1]))\n",
    "print(\"Random Forest ROC AUC score = \", roc_auc_score(y_test, forest.predict_proba(x_test_pre)[:,1]))\n",
    "print(\"Decision Tree ROC AUC score = \", roc_auc_score(y_test, dtc.predict_proba(x_test_pre)[:,1]))\n",
    "print(\"SVC ROC AUC score = \", roc_auc_score(y_test, svc.predict_proba(x_test_pre)[:,1]))"
   ]
  },
  {
   "cell_type": "code",
   "execution_count": 191,
   "metadata": {},
   "outputs": [],
   "source": [
    "from sklearn.metrics import precision_score, recall_score, precision_recall_curve,f1_score, f1_score, accuracy_score"
   ]
  },
  {
   "cell_type": "code",
   "execution_count": 192,
   "metadata": {},
   "outputs": [],
   "source": [
    "from sklearn.metrics import confusion_matrix"
   ]
  },
  {
   "cell_type": "code",
   "execution_count": 80,
   "metadata": {},
   "outputs": [
    {
     "name": "stdout",
     "output_type": "stream",
     "text": [
      "Precision Score:  0.6825842696629213\n",
      "Recall Score:  0.6877358490566038\n",
      "Accuracy :  0.8521297726771132\n"
     ]
    },
    {
     "data": {
      "image/png": "[encoded data removed]",
      "text/plain": [
       "<Figure size 900x600 with 2 Axes>"
      ]
     },
     "metadata": {
      "needs_background": "light"
     },
     "output_type": "display_data"
    }
   ],
   "source": [
    "# Print confusion matrix for kNN\n",
    "knn_confusion = confusion_matrix(y_test, knn.predict(x_test_pre))\n",
    "plt.figure(dpi=150)\n",
    "sns.heatmap(knn_confusion, cmap=plt.cm.GnBu, annot=True, square=True,\n",
    "           xticklabels=['Not IPA', 'IPA'],\n",
    "           yticklabels=['Not IPA', 'IPA'], fmt = 'g')\n",
    "\n",
    "plt.xlabel('Predicted')\n",
    "plt.ylabel('Actual')\n",
    "plt.title('kNN confusion matrix')\n",
    "print(\"Precision Score: \", precision_score(y_test,knn.predict(x_test_pre)))\n",
    "print(\"Recall Score: \", recall_score(y_test,knn.predict(x_test_pre)))\n",
    "print(\"Accuracy : \", accuracy_score(y_test, knn.predict(x_test_pre)));"
   ]
  },
  {
   "cell_type": "code",
   "execution_count": 81,
   "metadata": {},
   "outputs": [
    {
     "name": "stdout",
     "output_type": "stream",
     "text": [
      "Precision Score:  1.0\n",
      "Recall Score:  1.0\n",
      "Accuracy :  1.0\n"
     ]
    },
    {
     "data": {
      "image/png": "[encoded data removed]",
      "text/plain": [
       "<Figure size 900x600 with 2 Axes>"
      ]
     },
     "metadata": {
      "needs_background": "light"
     },
     "output_type": "display_data"
    }
   ],
   "source": [
    "# Print confusion matrix for Random Forest TRAIN\n",
    "rf_confusion = confusion_matrix(y_train, forest.predict(X_train_pre))\n",
    "plt.figure(dpi=150)\n",
    "sns.heatmap(rf_confusion, cmap=plt.cm.GnBu, annot=True, square=True,\n",
    "           xticklabels=['Not IPA', 'IPA'],\n",
    "           yticklabels=['Not IPA', 'IPA'], fmt = 'g')\n",
    "\n",
    "plt.xlabel('Predicted')\n",
    "plt.ylabel('Actual')\n",
    "plt.title('Random Forest confusion matrix TRAIN')\n",
    "print(\"Precision Score: \", precision_score(y_train,forest.predict(X_train_pre)))\n",
    "print(\"Recall Score: \", recall_score(y_train,forest.predict(X_train_pre)))\n",
    "print(\"Accuracy : \", accuracy_score(y_train, forest.predict(X_train_pre)));"
   ]
  },
  {
   "cell_type": "code",
   "execution_count": 82,
   "metadata": {},
   "outputs": [
    {
     "name": "stdout",
     "output_type": "stream",
     "text": [
      "Precision Score:  0.8601997146932953\n",
      "Recall Score:  0.5688679245283019\n",
      "Accuracy :  0.8775104833370116\n"
     ]
    },
    {
     "data": {
      "image/png": "[encoded data removed]",
      "text/plain": [
       "<Figure size 900x600 with 2 Axes>"
      ]
     },
     "metadata": {
      "needs_background": "light"
     },
     "output_type": "display_data"
    }
   ],
   "source": [
    "# Print confusion matrix for Random Forest\n",
    "rf_confusion = confusion_matrix(y_test, forest.predict(x_test_pre))\n",
    "plt.figure(dpi=150)\n",
    "sns.heatmap(rf_confusion, cmap=plt.cm.GnBu, annot=True, square=True,\n",
    "           xticklabels=['Not IPA', 'IPA'],\n",
    "           yticklabels=['Not IPA', 'IPA'], fmt = 'g')\n",
    "\n",
    "plt.xlabel('Predicted')\n",
    "plt.ylabel('Actual')\n",
    "plt.title('Random Forest confusion matrix TEST')\n",
    "print(\"Precision Score: \", precision_score(y_test,forest.predict(x_test_pre)))\n",
    "print(\"Recall Score: \", recall_score(y_test,forest.predict(x_test_pre)))\n",
    "print(\"Accuracy : \", accuracy_score(y_test, forest.predict(x_test_pre)));"
   ]
  },
  {
   "cell_type": "code",
   "execution_count": 83,
   "metadata": {},
   "outputs": [
    {
     "name": "stdout",
     "output_type": "stream",
     "text": [
      "Precision Score:  0.7812210915818686\n",
      "Recall Score:  0.5476653696498055\n",
      "Accuracy :  0.8625561033036568\n"
     ]
    },
    {
     "data": {
      "image/png": "[encoded data removed]",
      "text/plain": [
       "<Figure size 900x600 with 2 Axes>"
      ]
     },
     "metadata": {
      "needs_background": "light"
     },
     "output_type": "display_data"
    }
   ],
   "source": [
    "# Print confusion matrix for logit\n",
    "log_confusion_tr = confusion_matrix(y_train, logit.predict(X_train_pre))\n",
    "plt.figure(dpi=150)\n",
    "sns.heatmap(log_confusion_tr, cmap=plt.cm.GnBu, annot=True, square=True,\n",
    "           xticklabels=['Not IPA', 'IPA'],\n",
    "           yticklabels=['Not IPA', 'IPA'], fmt = ' g')\n",
    "\n",
    "plt.xlabel('Predicted')\n",
    "plt.ylabel('Actual')\n",
    "plt.title('Logit confusion matrix TRAIN')\n",
    "print(\"Precision Score: \", precision_score(y_train,logit.predict(X_train_pre)))\n",
    "print(\"Recall Score: \", recall_score(y_train,logit.predict(X_train_pre)))\n",
    "print(\"Accuracy : \", accuracy_score(y_train, logit.predict(X_train_pre)));"
   ]
  },
  {
   "cell_type": "code",
   "execution_count": 84,
   "metadata": {},
   "outputs": [
    {
     "name": "stdout",
     "output_type": "stream",
     "text": [
      "Precision Score:  0.7750294464075382\n",
      "Recall Score:  0.620754716981132\n",
      "Accuracy :  0.8691238137276539\n"
     ]
    },
    {
     "data": {
      "image/png": "[encoded data removed]",
      "text/plain": [
       "<Figure size 900x600 with 2 Axes>"
      ]
     },
     "metadata": {
      "needs_background": "light"
     },
     "output_type": "display_data"
    }
   ],
   "source": [
    "# Print confusion matrix for logit\n",
    "log_confusion = confusion_matrix(y_test, logit.predict(x_test_pre))\n",
    "plt.figure(dpi=150)\n",
    "sns.heatmap(log_confusion, cmap=plt.cm.GnBu, annot=True, square=True,\n",
    "           xticklabels=['Not IPA', 'IPA'],\n",
    "           yticklabels=['Not IPA', 'IPA'], fmt = 'g')\n",
    "\n",
    "plt.xlabel('Predicted')\n",
    "plt.ylabel('Actual')\n",
    "plt.title('Logit confusion matrix TEST')\n",
    "print(\"Precision Score: \", precision_score(y_test,logit.predict(x_test_pre)))\n",
    "print(\"Recall Score: \", recall_score(y_test,logit.predict(x_test_pre)))\n",
    "print(\"Accuracy : \", accuracy_score(y_test, logit.predict(x_test_pre)));"
   ]
  },
  {
   "cell_type": "code",
   "execution_count": 88,
   "metadata": {},
   "outputs": [
    {
     "name": "stdout",
     "output_type": "stream",
     "text": [
      "Precision Score:  0.6497777777777778\n",
      "Recall Score:  0.689622641509434\n",
      "Accuracy :  0.8404325755903774\n"
     ]
    },
    {
     "data": {
      "image/png": "[encoded data removed]",
      "text/plain": [
       "<Figure size 900x600 with 2 Axes>"
      ]
     },
     "metadata": {
      "needs_background": "light"
     },
     "output_type": "display_data"
    }
   ],
   "source": [
    "# Print confusion matrix for Naive Bayes\n",
    "bnb_confusion = confusion_matrix(y_test, bnb.predict(x_test_pre))\n",
    "plt.figure(dpi=150)\n",
    "sns.heatmap(bnb_confusion, cmap=plt.cm.GnBu, annot=True, square=True,\n",
    "           xticklabels=['Not IPA', 'IPA'],\n",
    "           yticklabels=['Not IPA', 'IPA'])\n",
    "\n",
    "plt.xlabel('Predicted')\n",
    "plt.ylabel('Actual')\n",
    "plt.title('Naive Bayes confusion matrix')\n",
    "print(\"Precision Score: \", precision_score(y_test,bnb.predict(x_test_pre)))\n",
    "print(\"Recall Score: \", recall_score(y_test,bnb.predict(x_test_pre)))\n",
    "print(\"Accuracy : \", accuracy_score(y_test,bnb.predict(x_test_pre)));"
   ]
  },
  {
   "cell_type": "code",
   "execution_count": 89,
   "metadata": {},
   "outputs": [
    {
     "name": "stdout",
     "output_type": "stream",
     "text": [
      "Precision Score:  0.8142857142857143\n",
      "Recall Score:  0.6990566037735849\n",
      "Accuracy :  0.8922975060693004\n"
     ]
    },
    {
     "data": {
      "image/png": "[encoded data removed]",
      "text/plain": [
       "<Figure size 900x600 with 2 Axes>"
      ]
     },
     "metadata": {
      "needs_background": "light"
     },
     "output_type": "display_data"
    }
   ],
   "source": [
    "# Print confusion matrix for Naive Bayes\n",
    "svc_confusion = confusion_matrix(y_test, svc.predict(x_test_pre))\n",
    "plt.figure(dpi=150)\n",
    "sns.heatmap(svc_confusion, cmap=plt.cm.GnBu, annot=True, square=True,\n",
    "           xticklabels=['Not IPA', 'IPA'],\n",
    "           yticklabels=['Not IPA', 'IPA'])\n",
    "\n",
    "plt.xlabel('Predicted')\n",
    "plt.ylabel('Actual')\n",
    "plt.title('SVC confusion matrix')\n",
    "print(\"Precision Score: \", precision_score(y_test,svc.predict(x_test_pre)))\n",
    "print(\"Recall Score: \", recall_score(y_test,svc.predict(x_test_pre)))\n",
    "print(\"Accuracy : \", accuracy_score(y_test, svc.predict(x_test_pre)));"
   ]
  },
  {
   "cell_type": "code",
   "execution_count": 90,
   "metadata": {},
   "outputs": [],
   "source": [
    "sub_df = df[['dryh','abv','og', 'fg', 'ibu', 'srm', 'chal', 'citra', 'warrior', 'casc', 'saaz', 'colum', 'mag', 'perle', 'simcoe', 'nugg', 'heller', 'fug']].dropna()"
   ]
  },
  {
   "cell_type": "code",
   "execution_count": 91,
   "metadata": {},
   "outputs": [],
   "source": [
    "X = sub_df.drop(columns ='dryh')\n",
    "y= sub_df['dryh']"
   ]
  },
  {
   "cell_type": "code",
   "execution_count": 92,
   "metadata": {},
   "outputs": [],
   "source": [
    "X_train, x_test, y_train, y_test = train_test_split(X, y, test_size=0.2)\n",
    "X_train, x_val, y_train, y_val = train_test_split(X_train, y_train, test_size=0.25)"
   ]
  },
  {
   "cell_type": "code",
   "execution_count": 93,
   "metadata": {},
   "outputs": [],
   "source": [
    "from sklearn import preprocessing"
   ]
  },
  {
   "cell_type": "code",
   "execution_count": 94,
   "metadata": {},
   "outputs": [],
   "source": [
    "X_train_pre = preprocessing.scale(X_train)\n",
    "x_test_pre = preprocessing.scale(x_test)"
   ]
  },
  {
   "cell_type": "code",
   "execution_count": 95,
   "metadata": {},
   "outputs": [
    {
     "data": {
      "text/plain": [
       "KNeighborsClassifier(n_neighbors=1)"
      ]
     },
     "execution_count": 95,
     "metadata": {},
     "output_type": "execute_result"
    }
   ],
   "source": [
    "knn = KNeighborsClassifier(n_neighbors=1)\n",
    "knn.fit(X_train_pre, y_train)"
   ]
  },
  {
   "cell_type": "code",
   "execution_count": 96,
   "metadata": {},
   "outputs": [
    {
     "data": {
      "text/plain": [
       "0.999117062762122"
      ]
     },
     "execution_count": 96,
     "metadata": {},
     "output_type": "execute_result"
    }
   ],
   "source": [
    "knn.score(X_train_pre, y_train)"
   ]
  },
  {
   "cell_type": "code",
   "execution_count": 97,
   "metadata": {},
   "outputs": [
    {
     "data": {
      "text/plain": [
       "0.7298609578459502"
      ]
     },
     "execution_count": 97,
     "metadata": {},
     "output_type": "execute_result"
    }
   ],
   "source": [
    "knn.score(x_test_pre,y_test)"
   ]
  },
  {
   "cell_type": "code",
   "execution_count": 98,
   "metadata": {},
   "outputs": [
    {
     "data": {
      "text/plain": [
       "array([0, 0, 1, ..., 1, 1, 0])"
      ]
     },
     "execution_count": 98,
     "metadata": {},
     "output_type": "execute_result"
    }
   ],
   "source": [
    "knn.predict(x_test_pre)"
   ]
  },
  {
   "cell_type": "code",
   "execution_count": 99,
   "metadata": {},
   "outputs": [
    {
     "data": {
      "text/plain": [
       "0.7909646089323817"
      ]
     },
     "execution_count": 99,
     "metadata": {},
     "output_type": "execute_result"
    }
   ],
   "source": [
    "logit = LogisticRegression()\n",
    "logit.fit(X_train_pre,y_train)\n",
    "logit.score(X_train_pre,y_train)"
   ]
  },
  {
   "cell_type": "code",
   "execution_count": 100,
   "metadata": {},
   "outputs": [
    {
     "data": {
      "text/plain": [
       "(0.7821672919885235,\n",
       " array([[ 0.18369156, -0.053238  , -0.01379278,  0.31722115, -0.41894107,\n",
       "         -0.02622293,  0.73644693,  0.12029842,  0.301927  , -0.31682313,\n",
       "          0.29686806,  0.07394402, -0.05945921,  0.50767525,  0.00704453,\n",
       "         -0.01650294, -0.17444575]]))"
      ]
     },
     "execution_count": 100,
     "metadata": {},
     "output_type": "execute_result"
    }
   ],
   "source": [
    "logit.score(x_test_pre,y_test), logit.coef_"
   ]
  },
  {
   "cell_type": "code",
   "execution_count": 101,
   "metadata": {},
   "outputs": [],
   "source": [
    "from sklearn.naive_bayes import BernoulliNB, MultinomialNB, GaussianNB\n",
    "from sklearn.metrics import roc_curve, roc_auc_score"
   ]
  },
  {
   "cell_type": "code",
   "execution_count": 102,
   "metadata": {},
   "outputs": [
    {
     "data": {
      "text/plain": [
       "(0.7820616584504452, 0.7801809755020966)"
      ]
     },
     "execution_count": 102,
     "metadata": {},
     "output_type": "execute_result"
    }
   ],
   "source": [
    "nb = BernoulliNB()\n",
    "nb.fit(X_train_pre,y_train)\n",
    "nb.score(X_train_pre,y_train), nb.score(x_test_pre,y_test)"
   ]
  },
  {
   "cell_type": "code",
   "execution_count": 103,
   "metadata": {},
   "outputs": [],
   "source": [
    "from sklearn.ensemble import RandomForestClassifier\n",
    "from sklearn.tree import DecisionTreeClassifier"
   ]
  },
  {
   "cell_type": "code",
   "execution_count": 104,
   "metadata": {},
   "outputs": [
    {
     "data": {
      "text/plain": [
       "DecisionTreeClassifier()"
      ]
     },
     "execution_count": 104,
     "metadata": {},
     "output_type": "execute_result"
    }
   ],
   "source": [
    "dtc = DecisionTreeClassifier()\n",
    "dtc.fit(X_train_pre, y_train)"
   ]
  },
  {
   "cell_type": "code",
   "execution_count": 105,
   "metadata": {},
   "outputs": [
    {
     "data": {
      "text/plain": [
       "0.7088942838225557"
      ]
     },
     "execution_count": 105,
     "metadata": {},
     "output_type": "execute_result"
    }
   ],
   "source": [
    "dtc.score(x_test_pre, y_test)"
   ]
  },
  {
   "cell_type": "code",
   "execution_count": 106,
   "metadata": {},
   "outputs": [
    {
     "data": {
      "text/plain": [
       "RandomForestClassifier()"
      ]
     },
     "execution_count": 106,
     "metadata": {},
     "output_type": "execute_result"
    }
   ],
   "source": [
    "forest = RandomForestClassifier()\n",
    "forest.fit(X_train_pre, y_train)"
   ]
  },
  {
   "cell_type": "code",
   "execution_count": 107,
   "metadata": {},
   "outputs": [
    {
     "data": {
      "text/plain": [
       "0.999117062762122"
      ]
     },
     "execution_count": 107,
     "metadata": {},
     "output_type": "execute_result"
    }
   ],
   "source": [
    "forest.score(X_train_pre, y_train)"
   ]
  },
  {
   "cell_type": "code",
   "execution_count": 108,
   "metadata": {},
   "outputs": [
    {
     "data": {
      "text/plain": [
       "0.78922975060693"
      ]
     },
     "execution_count": 108,
     "metadata": {},
     "output_type": "execute_result"
    }
   ],
   "source": [
    "forest.score(x_test_pre, y_test)"
   ]
  },
  {
   "cell_type": "code",
   "execution_count": 109,
   "metadata": {},
   "outputs": [],
   "source": [
    "from sklearn.svm import SVC"
   ]
  },
  {
   "cell_type": "code",
   "execution_count": 110,
   "metadata": {},
   "outputs": [
    {
     "data": {
      "text/plain": [
       "SVC(probability=True)"
      ]
     },
     "execution_count": 110,
     "metadata": {},
     "output_type": "execute_result"
    }
   ],
   "source": [
    "svc = SVC(probability = True)\n",
    "svc.fit(X_train_pre, y_train)"
   ]
  },
  {
   "cell_type": "code",
   "execution_count": 111,
   "metadata": {},
   "outputs": [
    {
     "data": {
      "text/plain": [
       "0.7808430809975723"
      ]
     },
     "execution_count": 111,
     "metadata": {},
     "output_type": "execute_result"
    }
   ],
   "source": [
    "svc.score(x_test_pre, y_test)"
   ]
  },
  {
   "cell_type": "code",
   "execution_count": 112,
   "metadata": {},
   "outputs": [],
   "source": [
    "fpr, tpr, thresholds = roc_curve(y_test, knn.predict_proba(x_test_pre)[:,1])\n",
    "fprlog, tprlog, thresholdslog = roc_curve(y_test, logit.predict_proba(x_test_pre)[:,1])\n",
    "fprnb, tprnb, thresholdsnb = roc_curve(y_test, nb.predict_proba(x_test_pre)[:,1])\n",
    "fprrf, tprrf, thresholdsrf = roc_curve(y_test, forest.predict_proba(x_test_pre)[:,1])\n",
    "fprdtc, tprdtc, thresholdsdtc = roc_curve(y_test, dtc.predict_proba(x_test_pre)[:,1])\n",
    "fprsvc, tprsvc, thresholdssvc = roc_curve(y_test, svc.predict_proba(x_test_pre)[:,1])"
   ]
  },
  {
   "cell_type": "code",
   "execution_count": 113,
   "metadata": {},
   "outputs": [
    {
     "name": "stdout",
     "output_type": "stream",
     "text": [
      "KNN ROC AUC score =  0.7004311008468053\n",
      "Logit ROC AUC score =  0.8220908391070054\n",
      "Naive Bayes ROC AUC score =  0.8057377103266248\n",
      "Random Forest ROC AUC score =  0.835653139777851\n",
      "Decision Tree ROC AUC score =  0.680182118112834\n",
      "SVC ROC AUC score =  0.7870443198064445\n"
     ]
    },
    {
     "data": {
      "image/png": "[encoded data removed]",
      "text/plain": [
       "<Figure size 1080x720 with 1 Axes>"
      ]
     },
     "metadata": {
      "needs_background": "light"
     },
     "output_type": "display_data"
    }
   ],
   "source": [
    "plt.figure(figsize = (15,10))\n",
    "plt.plot(fpr, tpr,lw=2)\n",
    "plt.plot(fprlog, tprlog,lw=2)\n",
    "plt.plot(fprnb, tprnb,lw=2)\n",
    "plt.plot(fprrf, tprrf,lw=2)\n",
    "plt.plot(fprdtc, tprdtc,lw=2)\n",
    "plt.plot(fprsvc, tprsvc,lw=2)\n",
    "plt.plot([0,1],[0,1],c='violet',ls='--')\n",
    "plt.xlim([-0.05,1.05])\n",
    "plt.ylim([-0.05,1.05])\n",
    "plt.xlabel('False positive rate')\n",
    "plt.ylabel('True positive rate')\n",
    "plt.title('ROC Scores', fontweight=\"bold\", fontsize=20);\n",
    "plt.legend(['KNN','Logit', 'Naive Bayes', 'Random Forest', 'DTC', 'SVC'])\n",
    "print(\"KNN ROC AUC score = \", roc_auc_score(y_test, knn.predict_proba(x_test_pre)[:,1]))\n",
    "print(\"Logit ROC AUC score = \", roc_auc_score(y_test, logit.predict_proba(x_test_pre)[:,1]))\n",
    "print(\"Naive Bayes ROC AUC score = \", roc_auc_score(y_test, nb.predict_proba(x_test_pre)[:,1]))\n",
    "print(\"Random Forest ROC AUC score = \", roc_auc_score(y_test, forest.predict_proba(x_test_pre)[:,1]))\n",
    "print(\"Decision Tree ROC AUC score = \", roc_auc_score(y_test, dtc.predict_proba(x_test_pre)[:,1]))\n",
    "print(\"SVC ROC AUC score = \", roc_auc_score(y_test, svc.predict_proba(x_test_pre)[:,1]))"
   ]
  },
  {
   "cell_type": "code",
   "execution_count": 114,
   "metadata": {
    "collapsed": true,
    "jupyter": {
     "outputs_hidden": true
    }
   },
   "outputs": [
    {
     "name": "stdout",
     "output_type": "stream",
     "text": [
      "<class 'pandas.core.frame.DataFrame'>\n",
      "Int64Index: 26988 entries, 0 to 27144\n",
      "Data columns (total 70 columns):\n",
      " #   Column           Non-Null Count  Dtype  \n",
      "---  ------           --------------  -----  \n",
      " 0   title            18192 non-null  object \n",
      " 1   bstyle           26988 non-null  object \n",
      " 2   og               26100 non-null  float64\n",
      " 3   fg               26100 non-null  float64\n",
      " 4   abv              26272 non-null  float64\n",
      " 5   ibu              25822 non-null  float64\n",
      " 6   srm              24694 non-null  float64\n",
      " 7   Mash pH          2661 non-null   float64\n",
      " 8   hops             26988 non-null  object \n",
      " 9   others           26988 non-null  object \n",
      " 10  water            26988 non-null  object \n",
      " 11  notes            26988 non-null  object \n",
      " 12  IBU (rager)      1166 non-null   float64\n",
      " 13  SRM (daniels)    899 non-null    float64\n",
      " 14  SRM (ebcmorey)   1071 non-null   float64\n",
      " 15  SRM (mosher)     324 non-null    float64\n",
      " 16  ABV (alternate)  716 non-null    object \n",
      " 17  yeast            26988 non-null  object \n",
      " 18  chal             26988 non-null  int64  \n",
      " 19  citra            26988 non-null  int64  \n",
      " 20  warrior          26988 non-null  int64  \n",
      " 21  casc             26988 non-null  int64  \n",
      " 22  saaz             26988 non-null  int64  \n",
      " 23  azacca           26988 non-null  int64  \n",
      " 24  colum            26988 non-null  int64  \n",
      " 25  mag              26988 non-null  int64  \n",
      " 26  perle            26988 non-null  int64  \n",
      " 27  simcoe           26988 non-null  int64  \n",
      " 28  amar             26988 non-null  int64  \n",
      " 29  willam           26988 non-null  int64  \n",
      " 30  goldings         26988 non-null  int64  \n",
      " 31  heller           26988 non-null  int64  \n",
      " 32  fug              26988 non-null  int64  \n",
      " 33  nugg             26988 non-null  int64  \n",
      " 34  hopshot          26988 non-null  int64  \n",
      " 35  tett             26988 non-null  int64  \n",
      " 36  mosaic           26988 non-null  int64  \n",
      " 37  brewerg          26988 non-null  int64  \n",
      " 38  northb           26988 non-null  int64  \n",
      " 39  cent             26988 non-null  int64  \n",
      " 40  chinook          26988 non-null  int64  \n",
      " 41  dryh             26988 non-null  int64  \n",
      " 42  lact             26988 non-null  int64  \n",
      " 43  clone            26988 non-null  int64  \n",
      " 44  juicy            26988 non-null  int64  \n",
      " 45  dank             26988 non-null  int64  \n",
      " 46  wedding          26988 non-null  int64  \n",
      " 47  whisk            26988 non-null  int64  \n",
      " 48  trop             26988 non-null  int64  \n",
      " 49  award            26988 non-null  int64  \n",
      " 50  best             26988 non-null  int64  \n",
      " 51  smoke            26988 non-null  int64  \n",
      " 52  roast            26988 non-null  int64  \n",
      " 53  thick            26988 non-null  int64  \n",
      " 54  heavy            26988 non-null  int64  \n",
      " 55  stfruit          26988 non-null  int64  \n",
      " 56  hazy             26988 non-null  int64  \n",
      " 57  pheno            26988 non-null  int64  \n",
      " 58  banana           26988 non-null  int64  \n",
      " 59  bitter           26988 non-null  int64  \n",
      " 60  wylon            26988 non-null  int64  \n",
      " 61  kveik            26988 non-null  int64  \n",
      " 62  ipa              26988 non-null  int64  \n",
      " 63  saison           26988 non-null  int64  \n",
      " 64  lager            26988 non-null  int64  \n",
      " 65  stout            26988 non-null  int64  \n",
      " 66  kolsch           26988 non-null  int64  \n",
      " 67  wit              26988 non-null  int64  \n",
      " 68  puree            26988 non-null  int64  \n",
      " 69  lovehop          26988 non-null  int64  \n",
      "dtypes: float64(10), int64(52), object(8)\n",
      "memory usage: 14.6+ MB\n"
     ]
    }
   ],
   "source": [
    "df.info()"
   ]
  },
  {
   "cell_type": "code",
   "execution_count": 115,
   "metadata": {},
   "outputs": [],
   "source": [
    "sub_df = df[['saison','abv','og', 'fg', 'ibu', 'srm', 'chal', 'citra', 'warrior', 'casc', 'saaz', 'colum', 'mag', 'perle', 'simcoe', 'nugg', 'heller', 'fug']].dropna()"
   ]
  },
  {
   "cell_type": "code",
   "execution_count": 116,
   "metadata": {},
   "outputs": [
    {
     "data": {
      "text/html": [
       "<div>\n",
       "<style scoped>\n",
       "    .dataframe tbody tr th:only-of-type {\n",
       "        vertical-align: middle;\n",
       "    }\n",
       "\n",
       "    .dataframe tbody tr th {\n",
       "        vertical-align: top;\n",
       "    }\n",
       "\n",
       "    .dataframe thead th {\n",
       "        text-align: right;\n",
       "    }\n",
       "</style>\n",
       "<table border=\"1\" class=\"dataframe\">\n",
       "  <thead>\n",
       "    <tr style=\"text-align: right;\">\n",
       "      <th></th>\n",
       "      <th>saison</th>\n",
       "      <th>abv</th>\n",
       "      <th>og</th>\n",
       "      <th>fg</th>\n",
       "      <th>ibu</th>\n",
       "      <th>srm</th>\n",
       "      <th>chal</th>\n",
       "      <th>citra</th>\n",
       "      <th>warrior</th>\n",
       "      <th>casc</th>\n",
       "      <th>saaz</th>\n",
       "      <th>colum</th>\n",
       "      <th>mag</th>\n",
       "      <th>perle</th>\n",
       "      <th>simcoe</th>\n",
       "      <th>nugg</th>\n",
       "      <th>heller</th>\n",
       "      <th>fug</th>\n",
       "    </tr>\n",
       "  </thead>\n",
       "  <tbody>\n",
       "    <tr>\n",
       "      <th>count</th>\n",
       "      <td>22653.000000</td>\n",
       "      <td>22653.000000</td>\n",
       "      <td>22653.000000</td>\n",
       "      <td>22653.000000</td>\n",
       "      <td>22653.000000</td>\n",
       "      <td>22653.000000</td>\n",
       "      <td>22653.000000</td>\n",
       "      <td>22653.000000</td>\n",
       "      <td>22653.000000</td>\n",
       "      <td>22653.000000</td>\n",
       "      <td>22653.000000</td>\n",
       "      <td>22653.000000</td>\n",
       "      <td>22653.000000</td>\n",
       "      <td>22653.000000</td>\n",
       "      <td>22653.000000</td>\n",
       "      <td>22653.000000</td>\n",
       "      <td>22653.000000</td>\n",
       "      <td>22653.000000</td>\n",
       "    </tr>\n",
       "    <tr>\n",
       "      <th>mean</th>\n",
       "      <td>0.030018</td>\n",
       "      <td>6.214707</td>\n",
       "      <td>1.062412</td>\n",
       "      <td>1.014510</td>\n",
       "      <td>44.200426</td>\n",
       "      <td>13.514917</td>\n",
       "      <td>0.022425</td>\n",
       "      <td>0.145941</td>\n",
       "      <td>0.038759</td>\n",
       "      <td>0.201033</td>\n",
       "      <td>0.090143</td>\n",
       "      <td>0.094027</td>\n",
       "      <td>0.099854</td>\n",
       "      <td>0.038229</td>\n",
       "      <td>0.097426</td>\n",
       "      <td>0.033285</td>\n",
       "      <td>0.000441</td>\n",
       "      <td>0.071337</td>\n",
       "    </tr>\n",
       "    <tr>\n",
       "      <th>std</th>\n",
       "      <td>0.170641</td>\n",
       "      <td>1.854985</td>\n",
       "      <td>0.100281</td>\n",
       "      <td>0.020461</td>\n",
       "      <td>42.707804</td>\n",
       "      <td>12.061076</td>\n",
       "      <td>0.148065</td>\n",
       "      <td>0.353055</td>\n",
       "      <td>0.193024</td>\n",
       "      <td>0.400781</td>\n",
       "      <td>0.286392</td>\n",
       "      <td>0.291873</td>\n",
       "      <td>0.299812</td>\n",
       "      <td>0.191753</td>\n",
       "      <td>0.296544</td>\n",
       "      <td>0.179383</td>\n",
       "      <td>0.021006</td>\n",
       "      <td>0.257393</td>\n",
       "    </tr>\n",
       "    <tr>\n",
       "      <th>min</th>\n",
       "      <td>0.000000</td>\n",
       "      <td>0.000000</td>\n",
       "      <td>1.000000</td>\n",
       "      <td>0.991000</td>\n",
       "      <td>0.000000</td>\n",
       "      <td>0.000000</td>\n",
       "      <td>0.000000</td>\n",
       "      <td>0.000000</td>\n",
       "      <td>0.000000</td>\n",
       "      <td>0.000000</td>\n",
       "      <td>0.000000</td>\n",
       "      <td>0.000000</td>\n",
       "      <td>0.000000</td>\n",
       "      <td>0.000000</td>\n",
       "      <td>0.000000</td>\n",
       "      <td>0.000000</td>\n",
       "      <td>0.000000</td>\n",
       "      <td>0.000000</td>\n",
       "    </tr>\n",
       "    <tr>\n",
       "      <th>25%</th>\n",
       "      <td>0.000000</td>\n",
       "      <td>5.090000</td>\n",
       "      <td>1.051000</td>\n",
       "      <td>1.011000</td>\n",
       "      <td>22.830000</td>\n",
       "      <td>5.140000</td>\n",
       "      <td>0.000000</td>\n",
       "      <td>0.000000</td>\n",
       "      <td>0.000000</td>\n",
       "      <td>0.000000</td>\n",
       "      <td>0.000000</td>\n",
       "      <td>0.000000</td>\n",
       "      <td>0.000000</td>\n",
       "      <td>0.000000</td>\n",
       "      <td>0.000000</td>\n",
       "      <td>0.000000</td>\n",
       "      <td>0.000000</td>\n",
       "      <td>0.000000</td>\n",
       "    </tr>\n",
       "    <tr>\n",
       "      <th>50%</th>\n",
       "      <td>0.000000</td>\n",
       "      <td>5.830000</td>\n",
       "      <td>1.058000</td>\n",
       "      <td>1.014000</td>\n",
       "      <td>34.540000</td>\n",
       "      <td>8.520000</td>\n",
       "      <td>0.000000</td>\n",
       "      <td>0.000000</td>\n",
       "      <td>0.000000</td>\n",
       "      <td>0.000000</td>\n",
       "      <td>0.000000</td>\n",
       "      <td>0.000000</td>\n",
       "      <td>0.000000</td>\n",
       "      <td>0.000000</td>\n",
       "      <td>0.000000</td>\n",
       "      <td>0.000000</td>\n",
       "      <td>0.000000</td>\n",
       "      <td>0.000000</td>\n",
       "    </tr>\n",
       "    <tr>\n",
       "      <th>75%</th>\n",
       "      <td>0.000000</td>\n",
       "      <td>6.930000</td>\n",
       "      <td>1.069000</td>\n",
       "      <td>1.017000</td>\n",
       "      <td>55.830000</td>\n",
       "      <td>17.110000</td>\n",
       "      <td>0.000000</td>\n",
       "      <td>0.000000</td>\n",
       "      <td>0.000000</td>\n",
       "      <td>0.000000</td>\n",
       "      <td>0.000000</td>\n",
       "      <td>0.000000</td>\n",
       "      <td>0.000000</td>\n",
       "      <td>0.000000</td>\n",
       "      <td>0.000000</td>\n",
       "      <td>0.000000</td>\n",
       "      <td>0.000000</td>\n",
       "      <td>0.000000</td>\n",
       "    </tr>\n",
       "    <tr>\n",
       "      <th>max</th>\n",
       "      <td>1.000000</td>\n",
       "      <td>23.980000</td>\n",
       "      <td>15.897000</td>\n",
       "      <td>3.974000</td>\n",
       "      <td>2673.830000</td>\n",
       "      <td>108.650000</td>\n",
       "      <td>1.000000</td>\n",
       "      <td>1.000000</td>\n",
       "      <td>1.000000</td>\n",
       "      <td>1.000000</td>\n",
       "      <td>1.000000</td>\n",
       "      <td>1.000000</td>\n",
       "      <td>1.000000</td>\n",
       "      <td>1.000000</td>\n",
       "      <td>1.000000</td>\n",
       "      <td>1.000000</td>\n",
       "      <td>1.000000</td>\n",
       "      <td>1.000000</td>\n",
       "    </tr>\n",
       "  </tbody>\n",
       "</table>\n",
       "</div>"
      ],
      "text/plain": [
       "             saison           abv            og            fg           ibu  \\\n",
       "count  22653.000000  22653.000000  22653.000000  22653.000000  22653.000000   \n",
       "mean       0.030018      6.214707      1.062412      1.014510     44.200426   \n",
       "std        0.170641      1.854985      0.100281      0.020461     42.707804   \n",
       "min        0.000000      0.000000      1.000000      0.991000      0.000000   \n",
       "25%        0.000000      5.090000      1.051000      1.011000     22.830000   \n",
       "50%        0.000000      5.830000      1.058000      1.014000     34.540000   \n",
       "75%        0.000000      6.930000      1.069000      1.017000     55.830000   \n",
       "max        1.000000     23.980000     15.897000      3.974000   2673.830000   \n",
       "\n",
       "                srm          chal         citra       warrior          casc  \\\n",
       "count  22653.000000  22653.000000  22653.000000  22653.000000  22653.000000   \n",
       "mean      13.514917      0.022425      0.145941      0.038759      0.201033   \n",
       "std       12.061076      0.148065      0.353055      0.193024      0.400781   \n",
       "min        0.000000      0.000000      0.000000      0.000000      0.000000   \n",
       "25%        5.140000      0.000000      0.000000      0.000000      0.000000   \n",
       "50%        8.520000      0.000000      0.000000      0.000000      0.000000   \n",
       "75%       17.110000      0.000000      0.000000      0.000000      0.000000   \n",
       "max      108.650000      1.000000      1.000000      1.000000      1.000000   \n",
       "\n",
       "               saaz         colum           mag         perle        simcoe  \\\n",
       "count  22653.000000  22653.000000  22653.000000  22653.000000  22653.000000   \n",
       "mean       0.090143      0.094027      0.099854      0.038229      0.097426   \n",
       "std        0.286392      0.291873      0.299812      0.191753      0.296544   \n",
       "min        0.000000      0.000000      0.000000      0.000000      0.000000   \n",
       "25%        0.000000      0.000000      0.000000      0.000000      0.000000   \n",
       "50%        0.000000      0.000000      0.000000      0.000000      0.000000   \n",
       "75%        0.000000      0.000000      0.000000      0.000000      0.000000   \n",
       "max        1.000000      1.000000      1.000000      1.000000      1.000000   \n",
       "\n",
       "               nugg        heller           fug  \n",
       "count  22653.000000  22653.000000  22653.000000  \n",
       "mean       0.033285      0.000441      0.071337  \n",
       "std        0.179383      0.021006      0.257393  \n",
       "min        0.000000      0.000000      0.000000  \n",
       "25%        0.000000      0.000000      0.000000  \n",
       "50%        0.000000      0.000000      0.000000  \n",
       "75%        0.000000      0.000000      0.000000  \n",
       "max        1.000000      1.000000      1.000000  "
      ]
     },
     "execution_count": 116,
     "metadata": {},
     "output_type": "execute_result"
    }
   ],
   "source": [
    "sub_df.describe()"
   ]
  },
  {
   "cell_type": "code",
   "execution_count": 117,
   "metadata": {},
   "outputs": [],
   "source": [
    "X = sub_df.drop(columns ='saison')\n",
    "y= sub_df['saison']"
   ]
  },
  {
   "cell_type": "code",
   "execution_count": 118,
   "metadata": {},
   "outputs": [],
   "source": [
    "X_train, x_test, y_train, y_test = train_test_split(X, y, test_size=0.2)\n",
    "X_train, x_val, y_train, y_val = train_test_split(X_train, y_train, test_size=0.25)"
   ]
  },
  {
   "cell_type": "code",
   "execution_count": 119,
   "metadata": {},
   "outputs": [],
   "source": [
    "X_train_pre = preprocessing.scale(X_train)\n",
    "x_test_pre = preprocessing.scale(x_test)"
   ]
  },
  {
   "cell_type": "code",
   "execution_count": 120,
   "metadata": {},
   "outputs": [
    {
     "data": {
      "text/plain": [
       "KNeighborsClassifier(n_neighbors=1)"
      ]
     },
     "execution_count": 120,
     "metadata": {},
     "output_type": "execute_result"
    }
   ],
   "source": [
    "knn = KNeighborsClassifier(n_neighbors=1)\n",
    "knn.fit(X_train_pre, y_train)"
   ]
  },
  {
   "cell_type": "code",
   "execution_count": 121,
   "metadata": {},
   "outputs": [
    {
     "data": {
      "text/plain": [
       "1.0"
      ]
     },
     "execution_count": 121,
     "metadata": {},
     "output_type": "execute_result"
    }
   ],
   "source": [
    "knn.score(X_train_pre, y_train)"
   ]
  },
  {
   "cell_type": "code",
   "execution_count": 122,
   "metadata": {},
   "outputs": [
    {
     "data": {
      "text/plain": [
       "0.9201059368792761"
      ]
     },
     "execution_count": 122,
     "metadata": {},
     "output_type": "execute_result"
    }
   ],
   "source": [
    "knn.score(x_test_pre,y_test)"
   ]
  },
  {
   "cell_type": "code",
   "execution_count": 123,
   "metadata": {},
   "outputs": [
    {
     "data": {
      "text/plain": [
       "array([0, 0, 0, ..., 0, 0, 0])"
      ]
     },
     "execution_count": 123,
     "metadata": {},
     "output_type": "execute_result"
    }
   ],
   "source": [
    "knn.predict(x_test_pre)"
   ]
  },
  {
   "cell_type": "code",
   "execution_count": 124,
   "metadata": {},
   "outputs": [
    {
     "data": {
      "text/plain": [
       "0.9708630711500258"
      ]
     },
     "execution_count": 124,
     "metadata": {},
     "output_type": "execute_result"
    }
   ],
   "source": [
    "logit = LogisticRegression()\n",
    "logit.fit(X_train_pre,y_train)\n",
    "logit.score(X_train_pre,y_train)"
   ]
  },
  {
   "cell_type": "code",
   "execution_count": 125,
   "metadata": {},
   "outputs": [
    {
     "data": {
      "text/plain": [
       "(0.9304789229750607,\n",
       " array([[ 0.40190145, -0.3928317 , -2.30772578, -0.41431419, -1.02099156,\n",
       "         -0.07285632, -0.18215594,  0.02049836, -0.33838061,  0.15959657,\n",
       "         -0.05424772,  0.00743268, -0.05980404, -0.26279634, -0.00532156,\n",
       "         -0.08579589, -0.06552499]]))"
      ]
     },
     "execution_count": 125,
     "metadata": {},
     "output_type": "execute_result"
    }
   ],
   "source": [
    "logit.score(x_test_pre,y_test), logit.coef_"
   ]
  },
  {
   "cell_type": "code",
   "execution_count": 126,
   "metadata": {},
   "outputs": [
    {
     "data": {
      "text/plain": [
       "(0.9713045397689648, 0.965349812403443)"
      ]
     },
     "execution_count": 126,
     "metadata": {},
     "output_type": "execute_result"
    }
   ],
   "source": [
    "nb = BernoulliNB()\n",
    "nb.fit(X_train_pre,y_train)\n",
    "nb.score(X_train_pre,y_train), nb.score(x_test_pre,y_test)"
   ]
  },
  {
   "cell_type": "code",
   "execution_count": 127,
   "metadata": {},
   "outputs": [],
   "source": [
    "from sklearn.ensemble import RandomForestClassifier\n",
    "from sklearn.tree import DecisionTreeClassifier"
   ]
  },
  {
   "cell_type": "code",
   "execution_count": 128,
   "metadata": {},
   "outputs": [
    {
     "data": {
      "text/plain": [
       "DecisionTreeClassifier()"
      ]
     },
     "execution_count": 128,
     "metadata": {},
     "output_type": "execute_result"
    }
   ],
   "source": [
    "dtc = DecisionTreeClassifier()\n",
    "dtc.fit(X_train_pre, y_train)"
   ]
  },
  {
   "cell_type": "code",
   "execution_count": 129,
   "metadata": {},
   "outputs": [
    {
     "data": {
      "text/plain": [
       "0.9099536526153167"
      ]
     },
     "execution_count": 129,
     "metadata": {},
     "output_type": "execute_result"
    }
   ],
   "source": [
    "dtc.score(x_test_pre, y_test)"
   ]
  },
  {
   "cell_type": "code",
   "execution_count": 130,
   "metadata": {},
   "outputs": [
    {
     "data": {
      "text/plain": [
       "RandomForestClassifier()"
      ]
     },
     "execution_count": 130,
     "metadata": {},
     "output_type": "execute_result"
    }
   ],
   "source": [
    "forest = RandomForestClassifier()\n",
    "forest.fit(X_train_pre, y_train)"
   ]
  },
  {
   "cell_type": "code",
   "execution_count": 131,
   "metadata": {},
   "outputs": [
    {
     "data": {
      "text/plain": [
       "1.0"
      ]
     },
     "execution_count": 131,
     "metadata": {},
     "output_type": "execute_result"
    }
   ],
   "source": [
    "forest.score(X_train_pre, y_train)"
   ]
  },
  {
   "cell_type": "code",
   "execution_count": 132,
   "metadata": {},
   "outputs": [
    {
     "data": {
      "text/plain": [
       "0.9618185830942397"
      ]
     },
     "execution_count": 132,
     "metadata": {},
     "output_type": "execute_result"
    }
   ],
   "source": [
    "forest.score(x_test_pre, y_test)"
   ]
  },
  {
   "cell_type": "code",
   "execution_count": 133,
   "metadata": {},
   "outputs": [],
   "source": [
    "from sklearn.svm import SVC"
   ]
  },
  {
   "cell_type": "code",
   "execution_count": 134,
   "metadata": {},
   "outputs": [
    {
     "data": {
      "text/plain": [
       "SVC(probability=True)"
      ]
     },
     "execution_count": 134,
     "metadata": {},
     "output_type": "execute_result"
    }
   ],
   "source": [
    "svc = SVC(probability = True)\n",
    "svc.fit(X_train_pre, y_train)"
   ]
  },
  {
   "cell_type": "code",
   "execution_count": 135,
   "metadata": {},
   "outputs": [
    {
     "data": {
      "text/plain": [
       "0.965349812403443"
      ]
     },
     "execution_count": 135,
     "metadata": {},
     "output_type": "execute_result"
    }
   ],
   "source": [
    "svc.score(x_test_pre, y_test)"
   ]
  },
  {
   "cell_type": "code",
   "execution_count": 136,
   "metadata": {},
   "outputs": [],
   "source": [
    "fpr, tpr, thresholds = roc_curve(y_test, knn.predict_proba(x_test_pre)[:,1])\n",
    "fprlog, tprlog, thresholdslog = roc_curve(y_test, logit.predict_proba(x_test_pre)[:,1])\n",
    "fprnb, tprnb, thresholdsnb = roc_curve(y_test, nb.predict_proba(x_test_pre)[:,1])\n",
    "fprrf, tprrf, thresholdsrf = roc_curve(y_test, forest.predict_proba(x_test_pre)[:,1])\n",
    "fprdtc, tprdtc, thresholdsdtc = roc_curve(y_test, dtc.predict_proba(x_test_pre)[:,1])\n",
    "fprsvc, tprsvc, thresholdssvc = roc_curve(y_test, svc.predict_proba(x_test_pre)[:,1])"
   ]
  },
  {
   "cell_type": "code",
   "execution_count": 137,
   "metadata": {},
   "outputs": [
    {
     "name": "stdout",
     "output_type": "stream",
     "text": [
      "KNN ROC AUC score =  0.6300861488995482\n",
      "Logit ROC AUC score =  0.734227150009174\n",
      "Naive Bayes ROC AUC score =  0.7447431114373002\n",
      "Random Forest ROC AUC score =  0.8041889101494355\n",
      "Decision Tree ROC AUC score =  0.6125461980026736\n",
      "SVC ROC AUC score =  0.6652439574905565\n"
     ]
    },
    {
     "data": {
      "image/png": "[encoded data removed]",
      "text/plain": [
       "<Figure size 1080x720 with 1 Axes>"
      ]
     },
     "metadata": {
      "needs_background": "light"
     },
     "output_type": "display_data"
    }
   ],
   "source": [
    "plt.figure(figsize = (15,10))\n",
    "plt.plot(fpr, tpr,lw=2)\n",
    "plt.plot(fprlog, tprlog,lw=2)\n",
    "plt.plot(fprnb, tprnb,lw=2)\n",
    "plt.plot(fprrf, tprrf,lw=2)\n",
    "plt.plot(fprdtc, tprdtc,lw=2)\n",
    "plt.plot(fprsvc, tprsvc,lw=2)\n",
    "plt.plot([0,1],[0,1],c='violet',ls='--')\n",
    "plt.xlim([-0.05,1.05])\n",
    "plt.ylim([-0.05,1.05])\n",
    "plt.xlabel('False positive rate')\n",
    "plt.ylabel('True positive rate')\n",
    "plt.title('ROC Scores', fontweight=\"bold\", fontsize=20);\n",
    "plt.legend(['KNN','Logit', 'Naive Bayes', 'Random Forest', 'DTC', 'SVC'])\n",
    "print(\"KNN ROC AUC score = \", roc_auc_score(y_test, knn.predict_proba(x_test_pre)[:,1]))\n",
    "print(\"Logit ROC AUC score = \", roc_auc_score(y_test, logit.predict_proba(x_test_pre)[:,1]))\n",
    "print(\"Naive Bayes ROC AUC score = \", roc_auc_score(y_test, nb.predict_proba(x_test_pre)[:,1]))\n",
    "print(\"Random Forest ROC AUC score = \", roc_auc_score(y_test, forest.predict_proba(x_test_pre)[:,1]))\n",
    "print(\"Decision Tree ROC AUC score = \", roc_auc_score(y_test, dtc.predict_proba(x_test_pre)[:,1]))\n",
    "print(\"SVC ROC AUC score = \", roc_auc_score(y_test, svc.predict_proba(x_test_pre)[:,1]))"
   ]
  },
  {
   "cell_type": "code",
   "execution_count": 138,
   "metadata": {},
   "outputs": [],
   "source": [
    "df.to_csv('26k.csv')"
   ]
  },
  {
   "cell_type": "code",
   "execution_count": 139,
   "metadata": {},
   "outputs": [
    {
     "data": {
      "text/plain": [
       "Index(['title', 'bstyle', 'og', 'fg', 'abv', 'ibu', 'srm', 'Mash pH', 'hops',\n",
       "       'others', 'water', 'notes', 'IBU (rager)', 'SRM (daniels)',\n",
       "       'SRM (ebcmorey)', 'SRM (mosher)', 'ABV (alternate)', 'yeast', 'chal',\n",
       "       'citra', 'warrior', 'casc', 'saaz', 'azacca', 'colum', 'mag', 'perle',\n",
       "       'simcoe', 'amar', 'willam', 'goldings', 'heller', 'fug', 'nugg',\n",
       "       'hopshot', 'tett', 'mosaic', 'brewerg', 'northb', 'cent', 'chinook',\n",
       "       'dryh', 'lact', 'clone', 'juicy', 'dank', 'wedding', 'whisk', 'trop',\n",
       "       'award', 'best', 'smoke', 'roast', 'thick', 'heavy', 'stfruit', 'hazy',\n",
       "       'pheno', 'banana', 'bitter', 'wylon', 'kveik', 'ipa', 'saison', 'lager',\n",
       "       'stout', 'kolsch', 'wit', 'puree', 'lovehop'],\n",
       "      dtype='object')"
      ]
     },
     "execution_count": 139,
     "metadata": {},
     "output_type": "execute_result"
    }
   ],
   "source": [
    "df.columns"
   ]
  },
  {
   "cell_type": "code",
   "execution_count": 140,
   "metadata": {},
   "outputs": [],
   "source": [
    "sub_df = df[['ipa', 'saison', 'lager', 'stout', 'kolsch', 'wit','award', 'dryh', 'lact', 'clone', 'juicy', 'dank', 'wedding', 'whisk', 'trop',\\\n",
    "             'award', 'best', 'smoke', 'roast', 'thick', 'heavy', 'stfruit', 'hazy',\\\n",
    "             'pheno', 'banana', 'bitter', 'wylon', 'kveik', 'puree', 'lovehop']].dropna()"
   ]
  },
  {
   "cell_type": "code",
   "execution_count": 141,
   "metadata": {},
   "outputs": [
    {
     "data": {
      "text/html": [
       "<div>\n",
       "<style scoped>\n",
       "    .dataframe tbody tr th:only-of-type {\n",
       "        vertical-align: middle;\n",
       "    }\n",
       "\n",
       "    .dataframe tbody tr th {\n",
       "        vertical-align: top;\n",
       "    }\n",
       "\n",
       "    .dataframe thead th {\n",
       "        text-align: right;\n",
       "    }\n",
       "</style>\n",
       "<table border=\"1\" class=\"dataframe\">\n",
       "  <thead>\n",
       "    <tr style=\"text-align: right;\">\n",
       "      <th></th>\n",
       "      <th>ipa</th>\n",
       "      <th>saison</th>\n",
       "      <th>lager</th>\n",
       "      <th>stout</th>\n",
       "      <th>kolsch</th>\n",
       "      <th>wit</th>\n",
       "      <th>award</th>\n",
       "      <th>dryh</th>\n",
       "      <th>lact</th>\n",
       "      <th>clone</th>\n",
       "      <th>...</th>\n",
       "      <th>heavy</th>\n",
       "      <th>stfruit</th>\n",
       "      <th>hazy</th>\n",
       "      <th>pheno</th>\n",
       "      <th>banana</th>\n",
       "      <th>bitter</th>\n",
       "      <th>wylon</th>\n",
       "      <th>kveik</th>\n",
       "      <th>puree</th>\n",
       "      <th>lovehop</th>\n",
       "    </tr>\n",
       "  </thead>\n",
       "  <tbody>\n",
       "    <tr>\n",
       "      <th>count</th>\n",
       "      <td>26988.000000</td>\n",
       "      <td>26988.000000</td>\n",
       "      <td>26988.000000</td>\n",
       "      <td>26988.000000</td>\n",
       "      <td>26988.000000</td>\n",
       "      <td>26988.000000</td>\n",
       "      <td>26988.000000</td>\n",
       "      <td>26988.000000</td>\n",
       "      <td>26988.000000</td>\n",
       "      <td>26988.000000</td>\n",
       "      <td>...</td>\n",
       "      <td>26988.000000</td>\n",
       "      <td>26988.000000</td>\n",
       "      <td>26988.000000</td>\n",
       "      <td>26988.000000</td>\n",
       "      <td>26988.000000</td>\n",
       "      <td>26988.000000</td>\n",
       "      <td>26988.000000</td>\n",
       "      <td>26988.000000</td>\n",
       "      <td>26988.000000</td>\n",
       "      <td>26988.000000</td>\n",
       "    </tr>\n",
       "    <tr>\n",
       "      <th>mean</th>\n",
       "      <td>0.231473</td>\n",
       "      <td>0.031533</td>\n",
       "      <td>0.035053</td>\n",
       "      <td>0.086631</td>\n",
       "      <td>0.012042</td>\n",
       "      <td>0.018341</td>\n",
       "      <td>0.026123</td>\n",
       "      <td>0.335705</td>\n",
       "      <td>0.012858</td>\n",
       "      <td>0.008004</td>\n",
       "      <td>...</td>\n",
       "      <td>0.005039</td>\n",
       "      <td>0.001371</td>\n",
       "      <td>0.002964</td>\n",
       "      <td>0.001075</td>\n",
       "      <td>0.004409</td>\n",
       "      <td>0.041352</td>\n",
       "      <td>0.020565</td>\n",
       "      <td>0.008782</td>\n",
       "      <td>0.014933</td>\n",
       "      <td>0.000482</td>\n",
       "    </tr>\n",
       "    <tr>\n",
       "      <th>std</th>\n",
       "      <td>0.421782</td>\n",
       "      <td>0.174755</td>\n",
       "      <td>0.183916</td>\n",
       "      <td>0.281299</td>\n",
       "      <td>0.109077</td>\n",
       "      <td>0.134185</td>\n",
       "      <td>0.159503</td>\n",
       "      <td>0.472245</td>\n",
       "      <td>0.112662</td>\n",
       "      <td>0.089106</td>\n",
       "      <td>...</td>\n",
       "      <td>0.070810</td>\n",
       "      <td>0.037002</td>\n",
       "      <td>0.054365</td>\n",
       "      <td>0.032763</td>\n",
       "      <td>0.066258</td>\n",
       "      <td>0.199106</td>\n",
       "      <td>0.141924</td>\n",
       "      <td>0.093300</td>\n",
       "      <td>0.121285</td>\n",
       "      <td>0.021943</td>\n",
       "    </tr>\n",
       "    <tr>\n",
       "      <th>min</th>\n",
       "      <td>0.000000</td>\n",
       "      <td>0.000000</td>\n",
       "      <td>0.000000</td>\n",
       "      <td>0.000000</td>\n",
       "      <td>0.000000</td>\n",
       "      <td>0.000000</td>\n",
       "      <td>0.000000</td>\n",
       "      <td>0.000000</td>\n",
       "      <td>0.000000</td>\n",
       "      <td>0.000000</td>\n",
       "      <td>...</td>\n",
       "      <td>0.000000</td>\n",
       "      <td>0.000000</td>\n",
       "      <td>0.000000</td>\n",
       "      <td>0.000000</td>\n",
       "      <td>0.000000</td>\n",
       "      <td>0.000000</td>\n",
       "      <td>0.000000</td>\n",
       "      <td>0.000000</td>\n",
       "      <td>0.000000</td>\n",
       "      <td>0.000000</td>\n",
       "    </tr>\n",
       "    <tr>\n",
       "      <th>25%</th>\n",
       "      <td>0.000000</td>\n",
       "      <td>0.000000</td>\n",
       "      <td>0.000000</td>\n",
       "      <td>0.000000</td>\n",
       "      <td>0.000000</td>\n",
       "      <td>0.000000</td>\n",
       "      <td>0.000000</td>\n",
       "      <td>0.000000</td>\n",
       "      <td>0.000000</td>\n",
       "      <td>0.000000</td>\n",
       "      <td>...</td>\n",
       "      <td>0.000000</td>\n",
       "      <td>0.000000</td>\n",
       "      <td>0.000000</td>\n",
       "      <td>0.000000</td>\n",
       "      <td>0.000000</td>\n",
       "      <td>0.000000</td>\n",
       "      <td>0.000000</td>\n",
       "      <td>0.000000</td>\n",
       "      <td>0.000000</td>\n",
       "      <td>0.000000</td>\n",
       "    </tr>\n",
       "    <tr>\n",
       "      <th>50%</th>\n",
       "      <td>0.000000</td>\n",
       "      <td>0.000000</td>\n",
       "      <td>0.000000</td>\n",
       "      <td>0.000000</td>\n",
       "      <td>0.000000</td>\n",
       "      <td>0.000000</td>\n",
       "      <td>0.000000</td>\n",
       "      <td>0.000000</td>\n",
       "      <td>0.000000</td>\n",
       "      <td>0.000000</td>\n",
       "      <td>...</td>\n",
       "      <td>0.000000</td>\n",
       "      <td>0.000000</td>\n",
       "      <td>0.000000</td>\n",
       "      <td>0.000000</td>\n",
       "      <td>0.000000</td>\n",
       "      <td>0.000000</td>\n",
       "      <td>0.000000</td>\n",
       "      <td>0.000000</td>\n",
       "      <td>0.000000</td>\n",
       "      <td>0.000000</td>\n",
       "    </tr>\n",
       "    <tr>\n",
       "      <th>75%</th>\n",
       "      <td>0.000000</td>\n",
       "      <td>0.000000</td>\n",
       "      <td>0.000000</td>\n",
       "      <td>0.000000</td>\n",
       "      <td>0.000000</td>\n",
       "      <td>0.000000</td>\n",
       "      <td>0.000000</td>\n",
       "      <td>1.000000</td>\n",
       "      <td>0.000000</td>\n",
       "      <td>0.000000</td>\n",
       "      <td>...</td>\n",
       "      <td>0.000000</td>\n",
       "      <td>0.000000</td>\n",
       "      <td>0.000000</td>\n",
       "      <td>0.000000</td>\n",
       "      <td>0.000000</td>\n",
       "      <td>0.000000</td>\n",
       "      <td>0.000000</td>\n",
       "      <td>0.000000</td>\n",
       "      <td>0.000000</td>\n",
       "      <td>0.000000</td>\n",
       "    </tr>\n",
       "    <tr>\n",
       "      <th>max</th>\n",
       "      <td>1.000000</td>\n",
       "      <td>1.000000</td>\n",
       "      <td>1.000000</td>\n",
       "      <td>1.000000</td>\n",
       "      <td>1.000000</td>\n",
       "      <td>1.000000</td>\n",
       "      <td>1.000000</td>\n",
       "      <td>1.000000</td>\n",
       "      <td>1.000000</td>\n",
       "      <td>1.000000</td>\n",
       "      <td>...</td>\n",
       "      <td>1.000000</td>\n",
       "      <td>1.000000</td>\n",
       "      <td>1.000000</td>\n",
       "      <td>1.000000</td>\n",
       "      <td>1.000000</td>\n",
       "      <td>1.000000</td>\n",
       "      <td>1.000000</td>\n",
       "      <td>1.000000</td>\n",
       "      <td>1.000000</td>\n",
       "      <td>1.000000</td>\n",
       "    </tr>\n",
       "  </tbody>\n",
       "</table>\n",
       "<p>8 rows × 30 columns</p>\n",
       "</div>"
      ],
      "text/plain": [
       "                ipa        saison         lager         stout        kolsch  \\\n",
       "count  26988.000000  26988.000000  26988.000000  26988.000000  26988.000000   \n",
       "mean       0.231473      0.031533      0.035053      0.086631      0.012042   \n",
       "std        0.421782      0.174755      0.183916      0.281299      0.109077   \n",
       "min        0.000000      0.000000      0.000000      0.000000      0.000000   \n",
       "25%        0.000000      0.000000      0.000000      0.000000      0.000000   \n",
       "50%        0.000000      0.000000      0.000000      0.000000      0.000000   \n",
       "75%        0.000000      0.000000      0.000000      0.000000      0.000000   \n",
       "max        1.000000      1.000000      1.000000      1.000000      1.000000   \n",
       "\n",
       "                wit         award          dryh          lact         clone  \\\n",
       "count  26988.000000  26988.000000  26988.000000  26988.000000  26988.000000   \n",
       "mean       0.018341      0.026123      0.335705      0.012858      0.008004   \n",
       "std        0.134185      0.159503      0.472245      0.112662      0.089106   \n",
       "min        0.000000      0.000000      0.000000      0.000000      0.000000   \n",
       "25%        0.000000      0.000000      0.000000      0.000000      0.000000   \n",
       "50%        0.000000      0.000000      0.000000      0.000000      0.000000   \n",
       "75%        0.000000      0.000000      1.000000      0.000000      0.000000   \n",
       "max        1.000000      1.000000      1.000000      1.000000      1.000000   \n",
       "\n",
       "       ...         heavy       stfruit          hazy         pheno  \\\n",
       "count  ...  26988.000000  26988.000000  26988.000000  26988.000000   \n",
       "mean   ...      0.005039      0.001371      0.002964      0.001075   \n",
       "std    ...      0.070810      0.037002      0.054365      0.032763   \n",
       "min    ...      0.000000      0.000000      0.000000      0.000000   \n",
       "25%    ...      0.000000      0.000000      0.000000      0.000000   \n",
       "50%    ...      0.000000      0.000000      0.000000      0.000000   \n",
       "75%    ...      0.000000      0.000000      0.000000      0.000000   \n",
       "max    ...      1.000000      1.000000      1.000000      1.000000   \n",
       "\n",
       "             banana        bitter         wylon         kveik         puree  \\\n",
       "count  26988.000000  26988.000000  26988.000000  26988.000000  26988.000000   \n",
       "mean       0.004409      0.041352      0.020565      0.008782      0.014933   \n",
       "std        0.066258      0.199106      0.141924      0.093300      0.121285   \n",
       "min        0.000000      0.000000      0.000000      0.000000      0.000000   \n",
       "25%        0.000000      0.000000      0.000000      0.000000      0.000000   \n",
       "50%        0.000000      0.000000      0.000000      0.000000      0.000000   \n",
       "75%        0.000000      0.000000      0.000000      0.000000      0.000000   \n",
       "max        1.000000      1.000000      1.000000      1.000000      1.000000   \n",
       "\n",
       "            lovehop  \n",
       "count  26988.000000  \n",
       "mean       0.000482  \n",
       "std        0.021943  \n",
       "min        0.000000  \n",
       "25%        0.000000  \n",
       "50%        0.000000  \n",
       "75%        0.000000  \n",
       "max        1.000000  \n",
       "\n",
       "[8 rows x 30 columns]"
      ]
     },
     "execution_count": 141,
     "metadata": {},
     "output_type": "execute_result"
    }
   ],
   "source": [
    "sub_df.describe()"
   ]
  },
  {
   "cell_type": "code",
   "execution_count": 142,
   "metadata": {},
   "outputs": [],
   "source": [
    "X = sub_df.drop(columns =['ipa', 'saison', 'lager', 'stout', 'kolsch', 'wit'])\n",
    "y= sub_df[['ipa','saison']]"
   ]
  },
  {
   "cell_type": "code",
   "execution_count": 143,
   "metadata": {},
   "outputs": [],
   "source": [
    "X_train, x_test, y_train, y_test = train_test_split(X, y, test_size=0.2)\n",
    "X_train, x_val, y_train, y_val = train_test_split(X_train, y_train, test_size=0.25)"
   ]
  },
  {
   "cell_type": "code",
   "execution_count": 144,
   "metadata": {},
   "outputs": [],
   "source": [
    "from sklearn import preprocessing"
   ]
  },
  {
   "cell_type": "code",
   "execution_count": 145,
   "metadata": {},
   "outputs": [],
   "source": [
    "X_train_pre = preprocessing.scale(X_train)\n",
    "x_test_pre = preprocessing.scale(x_test)"
   ]
  },
  {
   "cell_type": "code",
   "execution_count": 146,
   "metadata": {},
   "outputs": [
    {
     "data": {
      "text/plain": [
       "KNeighborsClassifier()"
      ]
     },
     "execution_count": 146,
     "metadata": {},
     "output_type": "execute_result"
    }
   ],
   "source": [
    "knn = KNeighborsClassifier()\n",
    "knn.fit(X_train_pre, y_train)"
   ]
  },
  {
   "cell_type": "code",
   "execution_count": 147,
   "metadata": {},
   "outputs": [
    {
     "data": {
      "text/plain": [
       "0.7414772727272727"
      ]
     },
     "execution_count": 147,
     "metadata": {},
     "output_type": "execute_result"
    }
   ],
   "source": [
    "knn.score(X_train_pre, y_train)"
   ]
  },
  {
   "cell_type": "code",
   "execution_count": 148,
   "metadata": {},
   "outputs": [
    {
     "data": {
      "text/plain": [
       "0.7378658762504632"
      ]
     },
     "execution_count": 148,
     "metadata": {},
     "output_type": "execute_result"
    }
   ],
   "source": [
    "knn.score(x_test_pre,y_test)"
   ]
  },
  {
   "cell_type": "code",
   "execution_count": 149,
   "metadata": {},
   "outputs": [
    {
     "data": {
      "text/plain": [
       "array([[0, 0],\n",
       "       [0, 0],\n",
       "       [0, 0],\n",
       "       ...,\n",
       "       [0, 0],\n",
       "       [0, 0],\n",
       "       [0, 0]])"
      ]
     },
     "execution_count": 149,
     "metadata": {},
     "output_type": "execute_result"
    }
   ],
   "source": [
    "knn.predict(x_test_pre)"
   ]
  },
  {
   "cell_type": "code",
   "execution_count": 150,
   "metadata": {
    "collapsed": true,
    "jupyter": {
     "outputs_hidden": true
    }
   },
   "outputs": [
    {
     "ename": "ValueError",
     "evalue": "y should be a 1d array, got an array of shape (16192, 2) instead.",
     "output_type": "error",
     "traceback": [
      "\u001b[0;31m---------------------------------------------------------------------------\u001b[0m",
      "\u001b[0;31mValueError\u001b[0m                                Traceback (most recent call last)",
      "\u001b[0;32m<ipython-input-150-a7cce69e1f42>\u001b[0m in \u001b[0;36m<module>\u001b[0;34m\u001b[0m\n\u001b[1;32m      1\u001b[0m \u001b[0mlogit\u001b[0m \u001b[0;34m=\u001b[0m \u001b[0mLogisticRegression\u001b[0m\u001b[0;34m(\u001b[0m\u001b[0;34m)\u001b[0m\u001b[0;34m\u001b[0m\u001b[0;34m\u001b[0m\u001b[0m\n\u001b[0;32m----> 2\u001b[0;31m \u001b[0mlogit\u001b[0m\u001b[0;34m.\u001b[0m\u001b[0mfit\u001b[0m\u001b[0;34m(\u001b[0m\u001b[0mX_train_pre\u001b[0m\u001b[0;34m,\u001b[0m\u001b[0my_train\u001b[0m\u001b[0;34m)\u001b[0m\u001b[0;34m\u001b[0m\u001b[0;34m\u001b[0m\u001b[0m\n\u001b[0m\u001b[1;32m      3\u001b[0m \u001b[0mlogit\u001b[0m\u001b[0;34m.\u001b[0m\u001b[0mscore\u001b[0m\u001b[0;34m(\u001b[0m\u001b[0mX_train_pre\u001b[0m\u001b[0;34m,\u001b[0m\u001b[0my_train\u001b[0m\u001b[0;34m)\u001b[0m\u001b[0;34m\u001b[0m\u001b[0;34m\u001b[0m\u001b[0m\n",
      "\u001b[0;32m/opt/anaconda3/envs/metis/lib/python3.8/site-packages/sklearn/linear_model/_logistic.py\u001b[0m in \u001b[0;36mfit\u001b[0;34m(self, X, y, sample_weight)\u001b[0m\n\u001b[1;32m   1340\u001b[0m             \u001b[0m_dtype\u001b[0m \u001b[0;34m=\u001b[0m \u001b[0;34m[\u001b[0m\u001b[0mnp\u001b[0m\u001b[0;34m.\u001b[0m\u001b[0mfloat64\u001b[0m\u001b[0;34m,\u001b[0m \u001b[0mnp\u001b[0m\u001b[0;34m.\u001b[0m\u001b[0mfloat32\u001b[0m\u001b[0;34m]\u001b[0m\u001b[0;34m\u001b[0m\u001b[0;34m\u001b[0m\u001b[0m\n\u001b[1;32m   1341\u001b[0m \u001b[0;34m\u001b[0m\u001b[0m\n\u001b[0;32m-> 1342\u001b[0;31m         X, y = self._validate_data(X, y, accept_sparse='csr', dtype=_dtype,\n\u001b[0m\u001b[1;32m   1343\u001b[0m                                    \u001b[0morder\u001b[0m\u001b[0;34m=\u001b[0m\u001b[0;34m\"C\"\u001b[0m\u001b[0;34m,\u001b[0m\u001b[0;34m\u001b[0m\u001b[0;34m\u001b[0m\u001b[0m\n\u001b[1;32m   1344\u001b[0m                                    accept_large_sparse=solver != 'liblinear')\n",
      "\u001b[0;32m/opt/anaconda3/envs/metis/lib/python3.8/site-packages/sklearn/base.py\u001b[0m in \u001b[0;36m_validate_data\u001b[0;34m(self, X, y, reset, validate_separately, **check_params)\u001b[0m\n\u001b[1;32m    430\u001b[0m                 \u001b[0my\u001b[0m \u001b[0;34m=\u001b[0m \u001b[0mcheck_array\u001b[0m\u001b[0;34m(\u001b[0m\u001b[0my\u001b[0m\u001b[0;34m,\u001b[0m \u001b[0;34m**\u001b[0m\u001b[0mcheck_y_params\u001b[0m\u001b[0;34m)\u001b[0m\u001b[0;34m\u001b[0m\u001b[0;34m\u001b[0m\u001b[0m\n\u001b[1;32m    431\u001b[0m             \u001b[0;32melse\u001b[0m\u001b[0;34m:\u001b[0m\u001b[0;34m\u001b[0m\u001b[0;34m\u001b[0m\u001b[0m\n\u001b[0;32m--> 432\u001b[0;31m                 \u001b[0mX\u001b[0m\u001b[0;34m,\u001b[0m \u001b[0my\u001b[0m \u001b[0;34m=\u001b[0m \u001b[0mcheck_X_y\u001b[0m\u001b[0;34m(\u001b[0m\u001b[0mX\u001b[0m\u001b[0;34m,\u001b[0m \u001b[0my\u001b[0m\u001b[0;34m,\u001b[0m \u001b[0;34m**\u001b[0m\u001b[0mcheck_params\u001b[0m\u001b[0;34m)\u001b[0m\u001b[0;34m\u001b[0m\u001b[0;34m\u001b[0m\u001b[0m\n\u001b[0m\u001b[1;32m    433\u001b[0m             \u001b[0mout\u001b[0m \u001b[0;34m=\u001b[0m \u001b[0mX\u001b[0m\u001b[0;34m,\u001b[0m \u001b[0my\u001b[0m\u001b[0;34m\u001b[0m\u001b[0;34m\u001b[0m\u001b[0m\n\u001b[1;32m    434\u001b[0m \u001b[0;34m\u001b[0m\u001b[0m\n",
      "\u001b[0;32m/opt/anaconda3/envs/metis/lib/python3.8/site-packages/sklearn/utils/validation.py\u001b[0m in \u001b[0;36minner_f\u001b[0;34m(*args, **kwargs)\u001b[0m\n\u001b[1;32m     70\u001b[0m                           FutureWarning)\n\u001b[1;32m     71\u001b[0m         \u001b[0mkwargs\u001b[0m\u001b[0;34m.\u001b[0m\u001b[0mupdate\u001b[0m\u001b[0;34m(\u001b[0m\u001b[0;34m{\u001b[0m\u001b[0mk\u001b[0m\u001b[0;34m:\u001b[0m \u001b[0marg\u001b[0m \u001b[0;32mfor\u001b[0m \u001b[0mk\u001b[0m\u001b[0;34m,\u001b[0m \u001b[0marg\u001b[0m \u001b[0;32min\u001b[0m \u001b[0mzip\u001b[0m\u001b[0;34m(\u001b[0m\u001b[0msig\u001b[0m\u001b[0;34m.\u001b[0m\u001b[0mparameters\u001b[0m\u001b[0;34m,\u001b[0m \u001b[0margs\u001b[0m\u001b[0;34m)\u001b[0m\u001b[0;34m}\u001b[0m\u001b[0;34m)\u001b[0m\u001b[0;34m\u001b[0m\u001b[0;34m\u001b[0m\u001b[0m\n\u001b[0;32m---> 72\u001b[0;31m         \u001b[0;32mreturn\u001b[0m \u001b[0mf\u001b[0m\u001b[0;34m(\u001b[0m\u001b[0;34m**\u001b[0m\u001b[0mkwargs\u001b[0m\u001b[0;34m)\u001b[0m\u001b[0;34m\u001b[0m\u001b[0;34m\u001b[0m\u001b[0m\n\u001b[0m\u001b[1;32m     73\u001b[0m     \u001b[0;32mreturn\u001b[0m \u001b[0minner_f\u001b[0m\u001b[0;34m\u001b[0m\u001b[0;34m\u001b[0m\u001b[0m\n\u001b[1;32m     74\u001b[0m \u001b[0;34m\u001b[0m\u001b[0m\n",
      "\u001b[0;32m/opt/anaconda3/envs/metis/lib/python3.8/site-packages/sklearn/utils/validation.py\u001b[0m in \u001b[0;36mcheck_X_y\u001b[0;34m(X, y, accept_sparse, accept_large_sparse, dtype, order, copy, force_all_finite, ensure_2d, allow_nd, multi_output, ensure_min_samples, ensure_min_features, y_numeric, estimator)\u001b[0m\n\u001b[1;32m    805\u001b[0m                         ensure_2d=False, dtype=None)\n\u001b[1;32m    806\u001b[0m     \u001b[0;32melse\u001b[0m\u001b[0;34m:\u001b[0m\u001b[0;34m\u001b[0m\u001b[0;34m\u001b[0m\u001b[0m\n\u001b[0;32m--> 807\u001b[0;31m         \u001b[0my\u001b[0m \u001b[0;34m=\u001b[0m \u001b[0mcolumn_or_1d\u001b[0m\u001b[0;34m(\u001b[0m\u001b[0my\u001b[0m\u001b[0;34m,\u001b[0m \u001b[0mwarn\u001b[0m\u001b[0;34m=\u001b[0m\u001b[0;32mTrue\u001b[0m\u001b[0;34m)\u001b[0m\u001b[0;34m\u001b[0m\u001b[0;34m\u001b[0m\u001b[0m\n\u001b[0m\u001b[1;32m    808\u001b[0m         \u001b[0m_assert_all_finite\u001b[0m\u001b[0;34m(\u001b[0m\u001b[0my\u001b[0m\u001b[0;34m)\u001b[0m\u001b[0;34m\u001b[0m\u001b[0;34m\u001b[0m\u001b[0m\n\u001b[1;32m    809\u001b[0m     \u001b[0;32mif\u001b[0m \u001b[0my_numeric\u001b[0m \u001b[0;32mand\u001b[0m \u001b[0my\u001b[0m\u001b[0;34m.\u001b[0m\u001b[0mdtype\u001b[0m\u001b[0;34m.\u001b[0m\u001b[0mkind\u001b[0m \u001b[0;34m==\u001b[0m \u001b[0;34m'O'\u001b[0m\u001b[0;34m:\u001b[0m\u001b[0;34m\u001b[0m\u001b[0;34m\u001b[0m\u001b[0m\n",
      "\u001b[0;32m/opt/anaconda3/envs/metis/lib/python3.8/site-packages/sklearn/utils/validation.py\u001b[0m in \u001b[0;36minner_f\u001b[0;34m(*args, **kwargs)\u001b[0m\n\u001b[1;32m     70\u001b[0m                           FutureWarning)\n\u001b[1;32m     71\u001b[0m         \u001b[0mkwargs\u001b[0m\u001b[0;34m.\u001b[0m\u001b[0mupdate\u001b[0m\u001b[0;34m(\u001b[0m\u001b[0;34m{\u001b[0m\u001b[0mk\u001b[0m\u001b[0;34m:\u001b[0m \u001b[0marg\u001b[0m \u001b[0;32mfor\u001b[0m \u001b[0mk\u001b[0m\u001b[0;34m,\u001b[0m \u001b[0marg\u001b[0m \u001b[0;32min\u001b[0m \u001b[0mzip\u001b[0m\u001b[0;34m(\u001b[0m\u001b[0msig\u001b[0m\u001b[0;34m.\u001b[0m\u001b[0mparameters\u001b[0m\u001b[0;34m,\u001b[0m \u001b[0margs\u001b[0m\u001b[0;34m)\u001b[0m\u001b[0;34m}\u001b[0m\u001b[0;34m)\u001b[0m\u001b[0;34m\u001b[0m\u001b[0;34m\u001b[0m\u001b[0m\n\u001b[0;32m---> 72\u001b[0;31m         \u001b[0;32mreturn\u001b[0m \u001b[0mf\u001b[0m\u001b[0;34m(\u001b[0m\u001b[0;34m**\u001b[0m\u001b[0mkwargs\u001b[0m\u001b[0;34m)\u001b[0m\u001b[0;34m\u001b[0m\u001b[0;34m\u001b[0m\u001b[0m\n\u001b[0m\u001b[1;32m     73\u001b[0m     \u001b[0;32mreturn\u001b[0m \u001b[0minner_f\u001b[0m\u001b[0;34m\u001b[0m\u001b[0;34m\u001b[0m\u001b[0m\n\u001b[1;32m     74\u001b[0m \u001b[0;34m\u001b[0m\u001b[0m\n",
      "\u001b[0;32m/opt/anaconda3/envs/metis/lib/python3.8/site-packages/sklearn/utils/validation.py\u001b[0m in \u001b[0;36mcolumn_or_1d\u001b[0;34m(y, warn)\u001b[0m\n\u001b[1;32m    843\u001b[0m         \u001b[0;32mreturn\u001b[0m \u001b[0mnp\u001b[0m\u001b[0;34m.\u001b[0m\u001b[0mravel\u001b[0m\u001b[0;34m(\u001b[0m\u001b[0my\u001b[0m\u001b[0;34m)\u001b[0m\u001b[0;34m\u001b[0m\u001b[0;34m\u001b[0m\u001b[0m\n\u001b[1;32m    844\u001b[0m \u001b[0;34m\u001b[0m\u001b[0m\n\u001b[0;32m--> 845\u001b[0;31m     raise ValueError(\n\u001b[0m\u001b[1;32m    846\u001b[0m         \u001b[0;34m\"y should be a 1d array, \"\u001b[0m\u001b[0;34m\u001b[0m\u001b[0;34m\u001b[0m\u001b[0m\n\u001b[1;32m    847\u001b[0m         \"got an array of shape {} instead.\".format(shape))\n",
      "\u001b[0;31mValueError\u001b[0m: y should be a 1d array, got an array of shape (16192, 2) instead."
     ]
    }
   ],
   "source": [
    "logit = LogisticRegression()\n",
    "logit.fit(X_train_pre,y_train)\n",
    "logit.score(X_train_pre,y_train)"
   ]
  },
  {
   "cell_type": "code",
   "execution_count": null,
   "metadata": {},
   "outputs": [],
   "source": [
    "logit.score(x_test_pre,y_test), logit.coef_"
   ]
  },
  {
   "cell_type": "code",
   "execution_count": null,
   "metadata": {},
   "outputs": [],
   "source": [
    "from sklearn.naive_bayes import BernoulliNB, MultinomialNB, GaussianNB\n",
    "from sklearn.metrics import roc_curve, roc_auc_score"
   ]
  },
  {
   "cell_type": "code",
   "execution_count": null,
   "metadata": {},
   "outputs": [],
   "source": [
    "nb = BernoulliNB()\n",
    "nb.fit(X_train_pre,y_train)\n",
    "nb.score(X_train_pre,y_train), nb.score(x_test_pre,y_test)"
   ]
  },
  {
   "cell_type": "code",
   "execution_count": null,
   "metadata": {},
   "outputs": [],
   "source": [
    "from sklearn.ensemble import RandomForestClassifier\n",
    "from sklearn.tree import DecisionTreeClassifier"
   ]
  },
  {
   "cell_type": "code",
   "execution_count": null,
   "metadata": {},
   "outputs": [],
   "source": [
    "dtc = DecisionTreeClassifier()\n",
    "dtc.fit(X_train_pre, y_train)"
   ]
  },
  {
   "cell_type": "code",
   "execution_count": null,
   "metadata": {},
   "outputs": [],
   "source": [
    "dtc.score(x_test_pre, y_test)"
   ]
  },
  {
   "cell_type": "code",
   "execution_count": null,
   "metadata": {},
   "outputs": [],
   "source": [
    "forest = RandomForestClassifier()\n",
    "forest.fit(X_train_pre, y_train)"
   ]
  },
  {
   "cell_type": "code",
   "execution_count": null,
   "metadata": {},
   "outputs": [],
   "source": [
    "forest.score(X_train_pre, y_train)"
   ]
  },
  {
   "cell_type": "code",
   "execution_count": null,
   "metadata": {},
   "outputs": [],
   "source": [
    "forest.score(x_test_pre, y_test)"
   ]
  },
  {
   "cell_type": "code",
   "execution_count": null,
   "metadata": {},
   "outputs": [],
   "source": [
    "from sklearn.svm import SVC"
   ]
  },
  {
   "cell_type": "code",
   "execution_count": null,
   "metadata": {},
   "outputs": [],
   "source": [
    "svc = SVC(probability = True)\n",
    "svc.fit(X_train_pre, y_train)"
   ]
  },
  {
   "cell_type": "code",
   "execution_count": null,
   "metadata": {},
   "outputs": [],
   "source": [
    "svc.score(x_test_pre, y_test)"
   ]
  },
  {
   "cell_type": "code",
   "execution_count": null,
   "metadata": {},
   "outputs": [],
   "source": [
    "fpr, tpr, thresholds = roc_curve(y_test, knn.predict_proba(x_test_pre)[:,1])\n",
    "fprlog, tprlog, thresholdslog = roc_curve(y_test, logit.predict_proba(x_test_pre)[:,1])\n",
    "fprnb, tprnb, thresholdsnb = roc_curve(y_test, nb.predict_proba(x_test_pre)[:,1])\n",
    "fprrf, tprrf, thresholdsrf = roc_curve(y_test, forest.predict_proba(x_test_pre)[:,1])\n",
    "fprdtc, tprdtc, thresholdsdtc = roc_curve(y_test, dtc.predict_proba(x_test_pre)[:,1])\n",
    "fprsvc, tprsvc, thresholdssvc = roc_curve(y_test, svc.predict_proba(x_test_pre)[:,1])"
   ]
  },
  {
   "cell_type": "code",
   "execution_count": null,
   "metadata": {},
   "outputs": [],
   "source": [
    "plt.figure(figsize = (15,10))\n",
    "plt.plot(fpr, tpr,lw=2)\n",
    "plt.plot(fprlog, tprlog,lw=2)\n",
    "plt.plot(fprnb, tprnb,lw=2)\n",
    "plt.plot(fprrf, tprrf,lw=2)\n",
    "plt.plot(fprdtc, tprdtc,lw=2)\n",
    "plt.plot(fprsvc, tprsvc,lw=2)\n",
    "plt.plot([0,1],[0,1],c='violet',ls='--')\n",
    "plt.xlim([-0.05,1.05])\n",
    "plt.ylim([-0.05,1.05])\n",
    "plt.xlabel('False positive rate')\n",
    "plt.ylabel('True positive rate')\n",
    "plt.title('ROC Scores', fontweight=\"bold\", fontsize=20);\n",
    "plt.legend(['KNN','Logit', 'Naive Bayes', 'Random Forest', 'DTC', 'SVC'])\n",
    "print(\"KNN ROC AUC score = \", roc_auc_score(y_test, knn.predict_proba(x_test_pre)[:,1]))\n",
    "print(\"Logit ROC AUC score = \", roc_auc_score(y_test, logit.predict_proba(x_test_pre)[:,1]))\n",
    "print(\"Naive Bayes ROC AUC score = \", roc_auc_score(y_test, nb.predict_proba(x_test_pre)[:,1]))\n",
    "print(\"Random Forest ROC AUC score = \", roc_auc_score(y_test, forest.predict_proba(x_test_pre)[:,1]))\n",
    "print(\"Decision Tree ROC AUC score = \", roc_auc_score(y_test, dtc.predict_proba(x_test_pre)[:,1]))\n",
    "print(\"SVC ROC AUC score = \", roc_auc_score(y_test, svc.predict_proba(x_test_pre)[:,1]))"
   ]
  },
  {
   "cell_type": "code",
   "execution_count": null,
   "metadata": {},
   "outputs": [],
   "source": [
    "from sklearn.metrics import precision_score, recall_score, precision_recall_curve,f1_score, f1_score, accuracy_score"
   ]
  },
  {
   "cell_type": "code",
   "execution_count": null,
   "metadata": {},
   "outputs": [],
   "source": [
    "from sklearn.metrics import confusion_matrix"
   ]
  },
  {
   "cell_type": "code",
   "execution_count": null,
   "metadata": {},
   "outputs": [],
   "source": [
    "# Print confusion matrix for kNN\n",
    "knn_confusion = confusion_matrix(y_test, knn.predict(x_test_pre))\n",
    "plt.figure(dpi=150)\n",
    "sns.heatmap(knn_confusion, cmap=plt.cm.GnBu, annot=True, square=True,\n",
    "           xticklabels=['Not IPA', 'IPA'],\n",
    "           yticklabels=['Not IPA', 'IPA'])\n",
    "\n",
    "plt.xlabel('Predicted')\n",
    "plt.ylabel('Actual')\n",
    "plt.title('kNN confusion matrix')\n",
    "print(\"Precision Score: \", precision_score(y_test,knn.predict(x_test_pre)))\n",
    "print(\"Recall Score: \", recall_score(y_test,knn.predict(x_test_pre)))\n",
    "print(\"Accuracy : \", accuracy_score(y_test, knn.predict(x_test_pre)));"
   ]
  },
  {
   "cell_type": "code",
   "execution_count": null,
   "metadata": {},
   "outputs": [],
   "source": [
    "# Print confusion matrix for Random Forest\n",
    "rf_confusion = confusion_matrix(y_test, forest.predict(x_test_pre))\n",
    "plt.figure(dpi=150)\n",
    "sns.heatmap(rf_confusion, cmap=plt.cm.GnBu, annot=True, square=True,\n",
    "           xticklabels=['Not IPA', 'IPA'],\n",
    "           yticklabels=['Not IPA', 'IPA'])\n",
    "\n",
    "plt.xlabel('Predicted')\n",
    "plt.ylabel('Actual')\n",
    "plt.title('Random Forest confusion matrix')\n",
    "print(\"Precision Score: \", precision_score(y_test,forest.predict(x_test_pre)))\n",
    "print(\"Recall Score: \", recall_score(y_test,forest.predict(x_test_pre)))\n",
    "print(\"Accuracy : \", accuracy_score(y_test, forest.predict(x_test_pre)));"
   ]
  },
  {
   "cell_type": "code",
   "execution_count": null,
   "metadata": {},
   "outputs": [],
   "source": [
    "# Print confusion matrix for logit\n",
    "log_confusion = confusion_matrix(y_test, logit.predict(x_test_pre))\n",
    "plt.figure(dpi=150)\n",
    "sns.heatmap(log_confusion, cmap=plt.cm.GnBu, annot=True, square=True,\n",
    "           xticklabels=['Not IPA', 'IPA'],\n",
    "           yticklabels=['Not IPA', 'IPA'])\n",
    "\n",
    "plt.xlabel('Predicted')\n",
    "plt.ylabel('Actual')\n",
    "plt.title('Logit confusion matrix')\n",
    "print(\"Precision Score: \", precision_score(y_test,logit.predict(x_test_pre)))\n",
    "print(\"Recall Score: \", recall_score(y_test,logit.predict(x_test_pre)))\n",
    "print(\"Accuracy : \", accuracy_score(y_test, logit.predict(x_test_pre)));"
   ]
  },
  {
   "cell_type": "code",
   "execution_count": null,
   "metadata": {},
   "outputs": [],
   "source": [
    "# Print confusion matrix for Naive Bayes\n",
    "nb_confusion = confusion_matrix(y_test, nb.predict(x_test_pre))\n",
    "plt.figure(dpi=150)\n",
    "sns.heatmap(nb_confusion, cmap=plt.cm.GnBu, annot=True, square=True,\n",
    "           xticklabels=['Not IPA', 'IPA'],\n",
    "           yticklabels=['Not IPA', 'IPA'])\n",
    "\n",
    "plt.xlabel('Predicted')\n",
    "plt.ylabel('Actual')\n",
    "plt.title('Naive Bayes confusion matrix')\n",
    "print(\"Precision Score: \", precision_score(y_test,nb.predict(x_test_pre)))\n",
    "print(\"Recall Score: \", recall_score(y_test,nb.predict(x_test_pre)))\n",
    "print(\"Accuracy : \", accuracy_score(y_test, nb.predict(x_test_pre)));"
   ]
  },
  {
   "cell_type": "code",
   "execution_count": null,
   "metadata": {},
   "outputs": [],
   "source": [
    "# Print confusion matrix for Naive Bayes\n",
    "svc_confusion = confusion_matrix(y_test, svc.predict(x_test_pre))\n",
    "plt.figure(dpi=150)\n",
    "sns.heatmap(svc_confusion, cmap=plt.cm.GnBu, annot=True, square=True,\n",
    "           xticklabels=['Not IPA', 'IPA'],\n",
    "           yticklabels=['Not IPA', 'IPA'])\n",
    "\n",
    "plt.xlabel('Predicted')\n",
    "plt.ylabel('Actual')\n",
    "plt.title('SVC confusion matrix')\n",
    "print(\"Precision Score: \", precision_score(y_test,svc.predict(x_test_pre)))\n",
    "print(\"Recall Score: \", recall_score(y_test,svc.predict(x_test_pre)))\n",
    "print(\"Accuracy : \", accuracy_score(y_test, svc.predict(x_test_pre)));"
   ]
  },
  {
   "cell_type": "code",
   "execution_count": null,
   "metadata": {},
   "outputs": [],
   "source": [
    "import dtale"
   ]
  },
  {
   "cell_type": "code",
   "execution_count": null,
   "metadata": {},
   "outputs": [],
   "source": [
    "notes = df.notes"
   ]
  },
  {
   "cell_type": "code",
   "execution_count": null,
   "metadata": {},
   "outputs": [],
   "source": [
    "dtale.show(notes, ignore_duplicate = True)"
   ]
  },
  {
   "cell_type": "code",
   "execution_count": null,
   "metadata": {},
   "outputs": [],
   "source": [
    "dtale.show(df)"
   ]
  },
  {
   "cell_type": "code",
   "execution_count": null,
   "metadata": {},
   "outputs": [],
   "source": [
    "dtale.show(yeast)"
   ]
  },
  {
   "cell_type": "code",
   "execution_count": null,
   "metadata": {},
   "outputs": [],
   "source": []
  },
  {
   "cell_type": "code",
   "execution_count": null,
   "metadata": {},
   "outputs": [],
   "source": []
  },
  {
   "cell_type": "code",
   "execution_count": null,
   "metadata": {},
   "outputs": [],
   "source": []
  },
  {
   "cell_type": "code",
   "execution_count": null,
   "metadata": {},
   "outputs": [],
   "source": []
  }
 ],
 "metadata": {
  "kernelspec": {
   "display_name": "Python [conda env:metis] *",
   "language": "python",
   "name": "conda-env-metis-py"
  },
  "language_info": {
   "codemirror_mode": {
    "name": "ipython",
    "version": 3
   },
   "file_extension": ".py",
   "mimetype": "text/x-python",
   "name": "python",
   "nbconvert_exporter": "python",
   "pygments_lexer": "ipython3",
   "version": "3.8.5"
  }
 },
 "nbformat": 4,
 "nbformat_minor": 4
}
